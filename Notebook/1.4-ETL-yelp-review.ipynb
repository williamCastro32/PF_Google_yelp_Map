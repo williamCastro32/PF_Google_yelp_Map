{
 "cells": [
  {
   "cell_type": "markdown",
   "metadata": {},
   "source": [
    "# __ETL__ _(Extract, Transform, Load)_"
   ]
  },
  {
   "cell_type": "markdown",
   "metadata": {},
   "source": [
    "## Introducción\n",
    "\n",
    "Este notebook se enfoca en el proceso de **ETL** utilizando datos extraídos de las plataformas Yelp y Google Maps. Este proceso implica una _extracccion,transformación y carga_ de los datos con el objetivo de prepararlos para análisis posteriores. Este paso es crucial en cualquier proyecto de ciencia de datos para garantizar la calidad y utilidad de los datos."
   ]
  },
  {
   "cell_type": "markdown",
   "metadata": {},
   "source": [
    "## Configuraciones Globales e Importaciones\n",
    "\n",
    "En esta sección, se instalan e importan todas las librerías y/o módulos necesarios para el proceso ETL (Extract, Transform, Load) y se establecen configuraciones globales de ser requerido. Se utilizan las siguientes librerías y herramientas:"
   ]
  },
  {
   "cell_type": "code",
   "execution_count": 1,
   "metadata": {},
   "outputs": [],
   "source": [
    "import warnings\n",
    "warnings.filterwarnings(\"ignore\") # Se utiliza para gestionar las advertencias y mantener el código limpio."
   ]
  },
  {
   "cell_type": "code",
   "execution_count": 2,
   "metadata": {},
   "outputs": [],
   "source": [
    "import os # Proporciona funciones para interactuar con el sistema operativo.\n",
    "import requests # Se utiliza para realizar solicitudes HTTP.\n",
    "import pandas as pd # Una librería de análisis de datos.\n",
    "import seaborn as sns #S e utiliza para la visualización de datos.\n",
    "import pyspark.pandas as ps # Proporciona una interfaz para trabajar con datos en Spark utilizando el formato de DataFrame de pandas.\n",
    "import json # Se utiliza para trabajar con datos en formato JSON.\n",
    "from pyspark.sql import SparkSession # Se utiliza para crear una instancia de SparkSession, que es la entrada principal para trabajar con Spark SQL.\n",
    "from pyspark.sql import functions as F #  Proporciona funciones para trabajar con datos en Spark DataFrame.\n",
    "from pyspark.sql.functions import array_contains # Esta función se utiliza para filtrar los datos basados en la presencia de un valor en un array.\n",
    "from pyspark.sql.functions import sum, col # Se utiliza para acceder a una columna en un DataFrame de Spark.\n",
    "from pyspark.sql.functions import split, substring, concat_ws\n",
    "from pyspark.sql.functions import expr"
   ]
  },
  {
   "cell_type": "code",
   "execution_count": 4,
   "metadata": {},
   "outputs": [],
   "source": [
    "# Crear una sesión de Spark\n",
    "spark = SparkSession.builder\\\n",
    "        .master(\"local\")\\\n",
    "        .appName(\"ETL-review\")\\\n",
    "        .config('spark.ui.port', '4050')\\\n",
    "        .getOrCreate()"
   ]
  },
  {
   "cell_type": "markdown",
   "metadata": {},
   "source": [
    "# YELP\n",
    "\n",
    "**Dataset:** REVIEW.JSON\n",
    "\n",
    "DECLARACIÓN DE LA RUTA DE LOS DATA SET"
   ]
  },
  {
   "cell_type": "code",
   "execution_count": 5,
   "metadata": {},
   "outputs": [],
   "source": [
    "#Se lee el archivo review de yelp\n",
    "\n",
    "df = spark.read.json(\"C:/Users/Usuario/Desktop/Proyecto Final/Yelp/review.json\")"
   ]
  },
  {
   "cell_type": "code",
   "execution_count": 6,
   "metadata": {},
   "outputs": [
    {
     "name": "stdout",
     "output_type": "stream",
     "text": [
      "+--------------------+----+-------------------+-----+--------------------+-----+--------------------+------+--------------------+\n",
      "|         business_id|cool|               date|funny|           review_id|stars|                text|useful|             user_id|\n",
      "+--------------------+----+-------------------+-----+--------------------+-----+--------------------+------+--------------------+\n",
      "|XQfwVwDr-v0ZS3_Cb...|   0|2018-07-07 22:09:11|    0|KU_O5udG6zpxOg-Vc...|  3.0|If you decide to ...|     0|mh_-eMZ6K5RLWhZyI...|\n",
      "|7ATYjTIgM3jUlt4UM...|   1|2012-01-03 15:28:18|    0|BiTunyQ73aT9WBnpR...|  5.0|I've taken a lot ...|     1|OyoGAe7OKpv6SyGZT...|\n",
      "|YjUWPpI6HXG530lwP...|   0|2014-02-05 20:30:30|    0|saUsX_uimxRlCVr67...|  3.0|Family diner. Had...|     0|8g_iMtfSiwikVnbP2...|\n",
      "|kxX2SOes4o-D3ZQBk...|   1|2015-01-04 00:01:03|    0|AqPFMleE6RsU23_au...|  5.0|Wow!  Yummy, diff...|     1|_7bHUi9Uuf5__HHc_...|\n",
      "|e4Vwtrqf-wpJfwesg...|   1|2017-01-14 20:54:15|    0|Sx8TMOWLNuJBWer-0...|  4.0|Cute interior and...|     1|bcjbaE6dDog4jkNY9...|\n",
      "|04UD14gamNjLY0IDY...|   1|2015-09-23 23:10:31|    2|JrIxlS1TzJ-iCu79u...|  1.0|I am a long term ...|     1|eUta8W_HdHMXPzLBB...|\n",
      "|gmjsEdUsKpj9Xxu6p...|   0|2015-01-03 23:21:18|    2|6AxgBCNX_PNTOxmbR...|  5.0|Loved this tour! ...|     0|r3zeYsv1XFBRA4dJp...|\n",
      "|LHSTtnW3YHCeUkRDG...|   0|2015-08-07 02:29:16|    0|_ZeMknuYdlQcUqng_...|  5.0|Amazingly amazing...|     2|yfFzsLmaWF2d4Sr0U...|\n",
      "|B5XSoSG3SfvQGtKEG...|   0|2016-03-30 22:46:33|    1|ZKvDG2sBvHVdF5oBN...|  3.0|This easter inste...|     1|wSTuiTk-sKNdcFypr...|\n",
      "|gebiRewfieSdtt17P...|   0|2016-07-25 07:31:06|    0|pUycOfUwM8vqX7KjR...|  3.0|Had a party of 6 ...|     0|59MxRhNVhU9MYndMk...|\n",
      "|uMvVYRgGNXf5boolA...|   0|2015-06-21 14:48:06|    0|rGQRf8UafX7OTlMNN...|  5.0|My experience wit...|     2|1WHRWwQmZOZDAhp2Q...|\n",
      "|EQ-TZ2eeD_E0BHuvo...|   0|2015-08-19 14:31:45|    0|l3Wk_mvAog6XANIuG...|  4.0|Locals recommende...|     0|ZbqSHbgCjzVAqaa7N...|\n",
      "|lj-E32x9_FA7GmUrB...|   0|2014-06-27 22:44:01|    0|XW_LfMv0fV21l9c6x...|  4.0|Love going here f...|     0|9OAtfnWag-ajVxRbU...|\n",
      "|RZtGWDLCAtuipwaZ-...|   0|2009-10-14 19:57:14|    0|8JFGBuHMoiNDyfcxu...|  4.0|Good food--loved ...|     0|smOvOajNG0lS4Pq7d...|\n",
      "|otQS34_MymijPTdNB...|   0|2011-10-27 17:12:05|    2|UBp0zWyH60Hmw6Fsa...|  4.0|The bun makes the...|     0|4Uh27DgGzsp6PqrH9...|\n",
      "|BVndHaLihEYbr76Z0...|   0|2014-10-11 16:22:06|    0|OAhBYw8IQ6wlfw1ow...|  5.0|Great place for b...|     0|1C2lxzUo1Hyye4RFI...|\n",
      "|YtSqYv1Q_pOltsVPS...|   0|2013-06-24 11:21:25|    0|oyaMhzBSwfGgemSGu...|  5.0|Tremendous servic...|     0|Dd1jQj7S-BFGqRbAp...|\n",
      "|rBdG_23USc7DletfZ...|   0|2014-08-10 19:41:43|    0|LnGZB0fjfgeVDVz5I...|  4.0|The hubby and I h...|     1|j2wlzrntrbKwyOcOi...|\n",
      "|CLEWowfkj-wKYJlQD...|   1|2016-03-07 00:02:18|    0|u2vzZaOqJ2feRshaa...|  5.0|I go to blow bar ...|     2|NDZvyYHTUWWu-kqgQ...|\n",
      "|eFvzHawVJofxSnD7T...|   0|2014-11-12 15:30:27|    0|Xs8Z8lmKkosqW5mw_...|  5.0|My absolute favor...|     0|IQsF3Rc6IgCzjVV9D...|\n",
      "+--------------------+----+-------------------+-----+--------------------+-----+--------------------+------+--------------------+\n",
      "only showing top 20 rows\n",
      "\n"
     ]
    }
   ],
   "source": [
    "#Muestra eñ dataframe\n",
    "df.show()"
   ]
  },
  {
   "cell_type": "code",
   "execution_count": 7,
   "metadata": {},
   "outputs": [],
   "source": [
    "# Convierte la columna 'date' al formato datetime \n",
    "df = df.withColumn('date', df['date'].cast('timestamp'))"
   ]
  },
  {
   "cell_type": "code",
   "execution_count": 8,
   "metadata": {},
   "outputs": [],
   "source": [
    "# Ordena el DataFrame por 'date' \n",
    "df = df.orderBy('date')"
   ]
  },
  {
   "cell_type": "code",
   "execution_count": 9,
   "metadata": {},
   "outputs": [],
   "source": [
    "# Cambia el nombre de la columna 'stars' por 'rating' \n",
    "df = df.withColumnRenamed('stars', 'rating')"
   ]
  },
  {
   "cell_type": "code",
   "execution_count": 10,
   "metadata": {},
   "outputs": [],
   "source": [
    "# Cambia el nombre de la columna 'text' por 'review' \n",
    "df = df.withColumnRenamed('text', 'review')"
   ]
  },
  {
   "cell_type": "code",
   "execution_count": 11,
   "metadata": {},
   "outputs": [],
   "source": [
    "# Reordena las columnas \n",
    "df = df.select('review_id', 'date', 'user_id', 'business_id', 'review', 'rating', 'cool', 'useful', 'funny')"
   ]
  },
  {
   "cell_type": "code",
   "execution_count": 12,
   "metadata": {},
   "outputs": [
    {
     "name": "stdout",
     "output_type": "stream",
     "text": [
      "+--------------------+-------------------+--------------------+--------------------+--------------------+------+----+------+-----+\n",
      "|           review_id|               date|             user_id|         business_id|              review|rating|cool|useful|funny|\n",
      "+--------------------+-------------------+--------------------+--------------------+--------------------+------+----+------+-----+\n",
      "|IykJMMZgbNcUndwf1...|2005-02-16 03:23:22|3zBJUlWtPNoZ0uN83...|2bXm0SynOfxDzfrdr...|It's not chicago ...|   4.0|   0|     0|    0|\n",
      "|-O5ng1XLox6uEr4uI...|2005-02-16 03:29:39|3zBJUlWtPNoZ0uN83...|3g6XqkBikTTbZmTuk...|Great service.  T...|   4.0|   0|     1|    0|\n",
      "|g80vzN72iU03Wh0fS...|2005-02-16 04:06:26|3zBJUlWtPNoZ0uN83...|PP3BBaVxZLcJU54uP...|These guys really...|   5.0|   0|     0|    0|\n",
      "|7Dcrt0Oz0hikA8obG...|2005-03-01 16:57:17|XCsZ3hWa_6oP1WkWv...|U3grYFIeu6RgAAQgd...|Words cannot desc...|   5.0|   0|     0|    0|\n",
      "|WC9q5vhQlQkLK05kE...|2005-03-01 16:59:37|XCsZ3hWa_6oP1WkWv...|Aes-0Q_guDeYewMap...|Food is decent bu...|   2.0|   0|     0|    0|\n",
      "|Q0GJ06L78nkVyNfHr...|2005-03-01 17:25:13|XCsZ3hWa_6oP1WkWv...|CziOtnFSklimJnBgk...|This place gets a...|   3.0|   0|     0|    0|\n",
      "|TYslH-CAecjJxLNs9...|2005-03-01 17:47:15|XCsZ3hWa_6oP1WkWv...|29YqJwOGEuAWqlHZx...|Lovely little res...|   5.0|   0|     0|    0|\n",
      "|b5IWJOAwIKwyOsOGb...|2005-03-01 17:59:26|XCsZ3hWa_6oP1WkWv...|6RBZfirnzE4NahJTn...|This little hole ...|   4.0|   0|     0|    0|\n",
      "|hX0XEpQ0Ai1UgHEQj...|2005-03-01 19:33:35|XCsZ3hWa_6oP1WkWv...|jssubXBNkiSJIhbKu...|This is the origi...|   4.0|   0|     0|    0|\n",
      "|sg2Mc_sanqnZ__lXK...|2005-03-01 19:35:44|XCsZ3hWa_6oP1WkWv...|bSfDI69RkUrodsA1Q...|Oh the Sh*tty Kit...|   5.0|   0|     0|    0|\n",
      "|-wsNpVhc3D-wDmBXR...|2005-03-02 04:53:42|3MYdpmHeNwC6FquRW...|ZPwFVWoiqFOTbnhfS...|Un-safeway.  Meet...|   2.0|   0|     1|    2|\n",
      "|zAt_9VNW7TzeUaDM-...|2005-03-02 22:13:59|B6FbaEEn5Uh4kEqv4...|rtykgAe3cXao_Puzg...|i love the breadb...|   4.0|   0|     0|    0|\n",
      "|jeIAHWWllaXPK-qUj...|2005-03-04 02:06:36|3MYdpmHeNwC6FquRW...|dMGWB4TEfEhgInQef...|Chefs awesome, se...|   5.0|   1|     1|    0|\n",
      "|FfzcGEJ1pYUx8jy0B...|2005-03-04 02:16:43|3MYdpmHeNwC6FquRW...|ajfmcCilbPMKb_Vxs...|A hippie coffee s...|   3.0|   0|     0|    0|\n",
      "|bPC_RuvUUlit5dBbw...|2005-03-04 02:27:33|3MYdpmHeNwC6FquRW...|R3k8rXhJZqsrGDQd-...|Overpriced with s...|   2.0|   0|     1|    2|\n",
      "|h6C67_anU_4EqWqey...|2005-03-04 02:40:25|3MYdpmHeNwC6FquRW...|9zlIJ7Q5W4AENjpGg...|Rated 5 stars for...|   5.0|   1|     0|    0|\n",
      "|mblALCE8KmqBRMjVv...|2005-03-08 04:03:50|3MYdpmHeNwC6FquRW...|8fWtmzdexsuVnxuZx...|Recently changed ...|   3.0|   0|     0|    0|\n",
      "|Lpd82eN3JYDcnLBMY...|2005-03-08 04:35:15|3MYdpmHeNwC6FquRW...|70HV0S-FL7oaiSIN5...|Food is great (ge...|   2.0|   0|     0|    0|\n",
      "|XMhz09Lx8IQz_9Hph...|2005-03-08 05:05:58|58yhbFfNHjULDZx0F...|e5gOtAH36l70fexYy...|One of the top Me...|   5.0|   0|     0|    0|\n",
      "|dCS6vtuFAvwHdEkXs...|2005-03-08 05:10:34|58yhbFfNHjULDZx0F...|J5a2ebSvwIStqCDZE...|For Greek food fa...|   5.0|   0|     0|    0|\n",
      "+--------------------+-------------------+--------------------+--------------------+--------------------+------+----+------+-----+\n",
      "only showing top 20 rows\n",
      "\n"
     ]
    }
   ],
   "source": [
    "df.show()"
   ]
  },
  {
   "cell_type": "code",
   "execution_count": 13,
   "metadata": {},
   "outputs": [
    {
     "name": "stdout",
     "output_type": "stream",
     "text": [
      "root\n",
      " |-- review_id: string (nullable = true)\n",
      " |-- date: timestamp (nullable = true)\n",
      " |-- user_id: string (nullable = true)\n",
      " |-- business_id: string (nullable = true)\n",
      " |-- review: string (nullable = true)\n",
      " |-- rating: double (nullable = true)\n",
      " |-- cool: long (nullable = true)\n",
      " |-- useful: long (nullable = true)\n",
      " |-- funny: long (nullable = true)\n",
      "\n"
     ]
    }
   ],
   "source": [
    "df.printSchema()"
   ]
  },
  {
   "cell_type": "markdown",
   "metadata": {},
   "source": [
    "## Carga de nuestro archivo"
   ]
  },
  {
   "cell_type": "code",
   "execution_count": null,
   "metadata": {},
   "outputs": [],
   "source": [
    "ruta_nuevo_json = \"C:/Users/Usuario/Desktop/Proyecto Final/PF_Google_yelp_Map/Notebook/review_limpio.json\"\n",
    "df.coalesce(1).write.json(ruta_nuevo_json)"
   ]
  }
 ],
 "metadata": {
  "kernelspec": {
   "display_name": "Python 3",
   "language": "python",
   "name": "python3"
  },
  "language_info": {
   "codemirror_mode": {
    "name": "ipython",
    "version": 3
   },
   "file_extension": ".py",
   "mimetype": "text/x-python",
   "name": "python",
   "nbconvert_exporter": "python",
   "pygments_lexer": "ipython3",
   "version": "3.12.0"
  }
 },
 "nbformat": 4,
 "nbformat_minor": 2
}
