{
 "cells": [
  {
   "cell_type": "markdown",
   "metadata": {},
   "source": [
    "# __ETL__ _(Extract, Transform, Load)_"
   ]
  },
  {
   "cell_type": "markdown",
   "metadata": {},
   "source": [
    "## Introducción\n",
    "\n",
    "Este notebook se enfoca en el proceso de **ETL** utilizando datos extraídos de las plataformas Yelp y Google Maps. Este proceso implica una _extracccion,transformación y carga_ de los datos con el objetivo de prepararlos para análisis posteriores. Este paso es crucial en cualquier proyecto de ciencia de datos para garantizar la calidad y utilidad de los datos."
   ]
  },
  {
   "cell_type": "markdown",
   "metadata": {},
   "source": [
    "## Configuraciones Globales e Importaciones\n",
    "\n",
    "En esta sección, se instalan e importan todas las librerías y/o módulos necesarios para el proceso ETL (Extract, Transform, Load) y se establecen configuraciones globales de ser requerido. Se utilizan las siguientes librerías y herramientas:"
   ]
  },
  {
   "cell_type": "code",
   "execution_count": 1,
   "metadata": {},
   "outputs": [],
   "source": [
    "import warnings\n",
    "warnings.filterwarnings(\"ignore\") # Se utiliza para gestionar las advertencias y mantener el código limpio."
   ]
  },
  {
   "cell_type": "code",
   "execution_count": 2,
   "metadata": {},
   "outputs": [],
   "source": [
    "import os # Proporciona funciones para interactuar con el sistema operativo.\n",
    "import pandas as pd # Una librería de análisis de datos.\n",
    "import json # Se utiliza para trabajar con datos en formato JSON."
   ]
  },
  {
   "cell_type": "markdown",
   "metadata": {},
   "source": [
    "# YELP\n",
    "\n",
    "**Dataset:** USER.PARQUET\n",
    "\n",
    "DECLARACIÓN DE LA RUTA DE LOS DATA SET"
   ]
  },
  {
   "cell_type": "code",
   "execution_count": 3,
   "metadata": {},
   "outputs": [
    {
     "name": "stdout",
     "output_type": "stream",
     "text": [
      "<class 'pandas.core.frame.DataFrame'>\n",
      "RangeIndex: 2105597 entries, 0 to 2105596\n",
      "Data columns (total 22 columns):\n",
      " #   Column              Dtype  \n",
      "---  ------              -----  \n",
      " 0   user_id             object \n",
      " 1   name                object \n",
      " 2   review_count        int64  \n",
      " 3   yelping_since       object \n",
      " 4   useful              int64  \n",
      " 5   funny               int64  \n",
      " 6   cool                int64  \n",
      " 7   elite               object \n",
      " 8   friends             object \n",
      " 9   fans                int64  \n",
      " 10  average_stars       float64\n",
      " 11  compliment_hot      int64  \n",
      " 12  compliment_more     int64  \n",
      " 13  compliment_profile  int64  \n",
      " 14  compliment_cute     int64  \n",
      " 15  compliment_list     int64  \n",
      " 16  compliment_note     int64  \n",
      " 17  compliment_plain    int64  \n",
      " 18  compliment_cool     int64  \n",
      " 19  compliment_funny    int64  \n",
      " 20  compliment_writer   int64  \n",
      " 21  compliment_photos   int64  \n",
      "dtypes: float64(1), int64(16), object(5)\n",
      "memory usage: 353.4+ MB\n",
      "None\n"
     ]
    },
    {
     "data": {
      "text/html": [
       "<div>\n",
       "<style scoped>\n",
       "    .dataframe tbody tr th:only-of-type {\n",
       "        vertical-align: middle;\n",
       "    }\n",
       "\n",
       "    .dataframe tbody tr th {\n",
       "        vertical-align: top;\n",
       "    }\n",
       "\n",
       "    .dataframe thead th {\n",
       "        text-align: right;\n",
       "    }\n",
       "</style>\n",
       "<table border=\"1\" class=\"dataframe\">\n",
       "  <thead>\n",
       "    <tr style=\"text-align: right;\">\n",
       "      <th></th>\n",
       "      <th>user_id</th>\n",
       "      <th>name</th>\n",
       "      <th>review_count</th>\n",
       "      <th>yelping_since</th>\n",
       "      <th>useful</th>\n",
       "      <th>funny</th>\n",
       "      <th>cool</th>\n",
       "      <th>elite</th>\n",
       "      <th>friends</th>\n",
       "      <th>fans</th>\n",
       "      <th>...</th>\n",
       "      <th>compliment_more</th>\n",
       "      <th>compliment_profile</th>\n",
       "      <th>compliment_cute</th>\n",
       "      <th>compliment_list</th>\n",
       "      <th>compliment_note</th>\n",
       "      <th>compliment_plain</th>\n",
       "      <th>compliment_cool</th>\n",
       "      <th>compliment_funny</th>\n",
       "      <th>compliment_writer</th>\n",
       "      <th>compliment_photos</th>\n",
       "    </tr>\n",
       "  </thead>\n",
       "  <tbody>\n",
       "    <tr>\n",
       "      <th>0</th>\n",
       "      <td>qVc8ODYU5SZjKXVBgXdI7w</td>\n",
       "      <td>Walker</td>\n",
       "      <td>585</td>\n",
       "      <td>2007-01-25 16:47:26</td>\n",
       "      <td>7217</td>\n",
       "      <td>1259</td>\n",
       "      <td>5994</td>\n",
       "      <td>2007</td>\n",
       "      <td>NSCy54eWehBJyZdG2iE84w, pe42u7DcCH2QmI81NX-8qA...</td>\n",
       "      <td>267</td>\n",
       "      <td>...</td>\n",
       "      <td>65</td>\n",
       "      <td>55</td>\n",
       "      <td>56</td>\n",
       "      <td>18</td>\n",
       "      <td>232</td>\n",
       "      <td>844</td>\n",
       "      <td>467</td>\n",
       "      <td>467</td>\n",
       "      <td>239</td>\n",
       "      <td>180</td>\n",
       "    </tr>\n",
       "    <tr>\n",
       "      <th>1</th>\n",
       "      <td>j14WgRoU_-2ZE1aw1dXrJg</td>\n",
       "      <td>Daniel</td>\n",
       "      <td>4333</td>\n",
       "      <td>2009-01-25 04:35:42</td>\n",
       "      <td>43091</td>\n",
       "      <td>13066</td>\n",
       "      <td>27281</td>\n",
       "      <td>2009,2010,2011,2012,2013,2014,2015,2016,2017,2...</td>\n",
       "      <td>ueRPE0CX75ePGMqOFVj6IQ, 52oH4DrRvzzl8wh5UXyU0A...</td>\n",
       "      <td>3138</td>\n",
       "      <td>...</td>\n",
       "      <td>264</td>\n",
       "      <td>184</td>\n",
       "      <td>157</td>\n",
       "      <td>251</td>\n",
       "      <td>1847</td>\n",
       "      <td>7054</td>\n",
       "      <td>3131</td>\n",
       "      <td>3131</td>\n",
       "      <td>1521</td>\n",
       "      <td>1946</td>\n",
       "    </tr>\n",
       "    <tr>\n",
       "      <th>2</th>\n",
       "      <td>2WnXYQFK0hXEoTxPtV2zvg</td>\n",
       "      <td>Steph</td>\n",
       "      <td>665</td>\n",
       "      <td>2008-07-25 10:41:00</td>\n",
       "      <td>2086</td>\n",
       "      <td>1010</td>\n",
       "      <td>1003</td>\n",
       "      <td>2009,2010,2011,2012,2013</td>\n",
       "      <td>LuO3Bn4f3rlhyHIaNfTlnA, j9B4XdHUhDfTKVecyWQgyA...</td>\n",
       "      <td>52</td>\n",
       "      <td>...</td>\n",
       "      <td>13</td>\n",
       "      <td>10</td>\n",
       "      <td>17</td>\n",
       "      <td>3</td>\n",
       "      <td>66</td>\n",
       "      <td>96</td>\n",
       "      <td>119</td>\n",
       "      <td>119</td>\n",
       "      <td>35</td>\n",
       "      <td>18</td>\n",
       "    </tr>\n",
       "    <tr>\n",
       "      <th>3</th>\n",
       "      <td>SZDeASXq7o05mMNLshsdIA</td>\n",
       "      <td>Gwen</td>\n",
       "      <td>224</td>\n",
       "      <td>2005-11-29 04:38:33</td>\n",
       "      <td>512</td>\n",
       "      <td>330</td>\n",
       "      <td>299</td>\n",
       "      <td>2009,2010,2011</td>\n",
       "      <td>enx1vVPnfdNUdPho6PH_wg, 4wOcvMLtU6a9Lslggq74Vg...</td>\n",
       "      <td>28</td>\n",
       "      <td>...</td>\n",
       "      <td>4</td>\n",
       "      <td>1</td>\n",
       "      <td>6</td>\n",
       "      <td>2</td>\n",
       "      <td>12</td>\n",
       "      <td>16</td>\n",
       "      <td>26</td>\n",
       "      <td>26</td>\n",
       "      <td>10</td>\n",
       "      <td>9</td>\n",
       "    </tr>\n",
       "    <tr>\n",
       "      <th>4</th>\n",
       "      <td>hA5lMy-EnncsH4JoR-hFGQ</td>\n",
       "      <td>Karen</td>\n",
       "      <td>79</td>\n",
       "      <td>2007-01-05 19:40:59</td>\n",
       "      <td>29</td>\n",
       "      <td>15</td>\n",
       "      <td>7</td>\n",
       "      <td></td>\n",
       "      <td>PBK4q9KEEBHhFvSXCUirIw, 3FWPpM7KU1gXeOM_ZbYMbA...</td>\n",
       "      <td>1</td>\n",
       "      <td>...</td>\n",
       "      <td>1</td>\n",
       "      <td>0</td>\n",
       "      <td>0</td>\n",
       "      <td>0</td>\n",
       "      <td>1</td>\n",
       "      <td>1</td>\n",
       "      <td>0</td>\n",
       "      <td>0</td>\n",
       "      <td>0</td>\n",
       "      <td>0</td>\n",
       "    </tr>\n",
       "  </tbody>\n",
       "</table>\n",
       "<p>5 rows × 22 columns</p>\n",
       "</div>"
      ],
      "text/plain": [
       "                  user_id    name  review_count        yelping_since  useful  \\\n",
       "0  qVc8ODYU5SZjKXVBgXdI7w  Walker           585  2007-01-25 16:47:26    7217   \n",
       "1  j14WgRoU_-2ZE1aw1dXrJg  Daniel          4333  2009-01-25 04:35:42   43091   \n",
       "2  2WnXYQFK0hXEoTxPtV2zvg   Steph           665  2008-07-25 10:41:00    2086   \n",
       "3  SZDeASXq7o05mMNLshsdIA    Gwen           224  2005-11-29 04:38:33     512   \n",
       "4  hA5lMy-EnncsH4JoR-hFGQ   Karen            79  2007-01-05 19:40:59      29   \n",
       "\n",
       "   funny   cool                                              elite  \\\n",
       "0   1259   5994                                               2007   \n",
       "1  13066  27281  2009,2010,2011,2012,2013,2014,2015,2016,2017,2...   \n",
       "2   1010   1003                           2009,2010,2011,2012,2013   \n",
       "3    330    299                                     2009,2010,2011   \n",
       "4     15      7                                                      \n",
       "\n",
       "                                             friends  fans  ...  \\\n",
       "0  NSCy54eWehBJyZdG2iE84w, pe42u7DcCH2QmI81NX-8qA...   267  ...   \n",
       "1  ueRPE0CX75ePGMqOFVj6IQ, 52oH4DrRvzzl8wh5UXyU0A...  3138  ...   \n",
       "2  LuO3Bn4f3rlhyHIaNfTlnA, j9B4XdHUhDfTKVecyWQgyA...    52  ...   \n",
       "3  enx1vVPnfdNUdPho6PH_wg, 4wOcvMLtU6a9Lslggq74Vg...    28  ...   \n",
       "4  PBK4q9KEEBHhFvSXCUirIw, 3FWPpM7KU1gXeOM_ZbYMbA...     1  ...   \n",
       "\n",
       "   compliment_more  compliment_profile  compliment_cute  compliment_list  \\\n",
       "0               65                  55               56               18   \n",
       "1              264                 184              157              251   \n",
       "2               13                  10               17                3   \n",
       "3                4                   1                6                2   \n",
       "4                1                   0                0                0   \n",
       "\n",
       "   compliment_note  compliment_plain  compliment_cool  compliment_funny  \\\n",
       "0              232               844              467               467   \n",
       "1             1847              7054             3131              3131   \n",
       "2               66                96              119               119   \n",
       "3               12                16               26                26   \n",
       "4                1                 1                0                 0   \n",
       "\n",
       "   compliment_writer  compliment_photos  \n",
       "0                239                180  \n",
       "1               1521               1946  \n",
       "2                 35                 18  \n",
       "3                 10                  9  \n",
       "4                  0                  0  \n",
       "\n",
       "[5 rows x 22 columns]"
      ]
     },
     "execution_count": 3,
     "metadata": {},
     "output_type": "execute_result"
    }
   ],
   "source": [
    "data_path = 'C:/Users/Usuario/Desktop/Proyecto Final/Yelp/user.parquet'\n",
    "yelp_users = pd.read_parquet(data_path)\n",
    "print(yelp_users.info())\n",
    "yelp_users.head()"
   ]
  },
  {
   "cell_type": "code",
   "execution_count": 4,
   "metadata": {},
   "outputs": [
    {
     "data": {
      "text/plain": [
       "117700"
      ]
     },
     "execution_count": 4,
     "metadata": {},
     "output_type": "execute_result"
    }
   ],
   "source": [
    "#Buscamos duplicados\n",
    "yelp_users.duplicated().sum()"
   ]
  },
  {
   "cell_type": "code",
   "execution_count": 5,
   "metadata": {},
   "outputs": [],
   "source": [
    "# Elimina duplicados\n",
    "yelp_users.drop_duplicates(inplace=True)"
   ]
  },
  {
   "cell_type": "code",
   "execution_count": 6,
   "metadata": {},
   "outputs": [],
   "source": [
    "# Convierte 'yelping_since' a datetime\n",
    "yelp_users['yelping_since'] = pd.to_datetime(yelp_users['yelping_since'])"
   ]
  },
  {
   "cell_type": "code",
   "execution_count": 7,
   "metadata": {},
   "outputs": [],
   "source": [
    "# Ordena por 'yelping_since'\n",
    "yelp_users = yelp_users.sort_values('yelping_since')\n",
    "yelp_users.reset_index(drop=True, inplace=True)"
   ]
  },
  {
   "cell_type": "code",
   "execution_count": 8,
   "metadata": {},
   "outputs": [
    {
     "data": {
      "text/html": [
       "<div>\n",
       "<style scoped>\n",
       "    .dataframe tbody tr th:only-of-type {\n",
       "        vertical-align: middle;\n",
       "    }\n",
       "\n",
       "    .dataframe tbody tr th {\n",
       "        vertical-align: top;\n",
       "    }\n",
       "\n",
       "    .dataframe thead th {\n",
       "        text-align: right;\n",
       "    }\n",
       "</style>\n",
       "<table border=\"1\" class=\"dataframe\">\n",
       "  <thead>\n",
       "    <tr style=\"text-align: right;\">\n",
       "      <th></th>\n",
       "      <th>user_id</th>\n",
       "      <th>name</th>\n",
       "      <th>review_count</th>\n",
       "      <th>yelping_since</th>\n",
       "      <th>useful</th>\n",
       "      <th>funny</th>\n",
       "      <th>cool</th>\n",
       "      <th>elite</th>\n",
       "      <th>friends</th>\n",
       "      <th>fans</th>\n",
       "      <th>...</th>\n",
       "      <th>compliment_more</th>\n",
       "      <th>compliment_profile</th>\n",
       "      <th>compliment_cute</th>\n",
       "      <th>compliment_list</th>\n",
       "      <th>compliment_note</th>\n",
       "      <th>compliment_plain</th>\n",
       "      <th>compliment_cool</th>\n",
       "      <th>compliment_funny</th>\n",
       "      <th>compliment_writer</th>\n",
       "      <th>compliment_photos</th>\n",
       "    </tr>\n",
       "  </thead>\n",
       "  <tbody>\n",
       "    <tr>\n",
       "      <th>0</th>\n",
       "      <td>fFGPBtsutYpn3A155Sf75Q</td>\n",
       "      <td>Brandon</td>\n",
       "      <td>194</td>\n",
       "      <td>2004-10-12 08:46:11</td>\n",
       "      <td>250</td>\n",
       "      <td>103</td>\n",
       "      <td>121</td>\n",
       "      <td>2006,2007</td>\n",
       "      <td>u-BjshHIamkWw4lBOsyscw, vGtIy5jDIqNS4oT0w-mkfw...</td>\n",
       "      <td>26</td>\n",
       "      <td>...</td>\n",
       "      <td>1</td>\n",
       "      <td>3</td>\n",
       "      <td>11</td>\n",
       "      <td>0</td>\n",
       "      <td>6</td>\n",
       "      <td>11</td>\n",
       "      <td>21</td>\n",
       "      <td>21</td>\n",
       "      <td>1</td>\n",
       "      <td>3</td>\n",
       "    </tr>\n",
       "    <tr>\n",
       "      <th>1</th>\n",
       "      <td>nkN_do3fJ9xekchVC-v68A</td>\n",
       "      <td>Jeremy</td>\n",
       "      <td>1366</td>\n",
       "      <td>2004-10-12 08:46:43</td>\n",
       "      <td>18524</td>\n",
       "      <td>10049</td>\n",
       "      <td>15141</td>\n",
       "      <td>2006,2007,2008,2009,2010,2011,2012,2013,2014,2...</td>\n",
       "      <td>5HJvYcAM6FLat695V_JF1A, m_y6jQ5AeVpXfTSc9c_LEQ...</td>\n",
       "      <td>2107</td>\n",
       "      <td>...</td>\n",
       "      <td>178</td>\n",
       "      <td>152</td>\n",
       "      <td>249</td>\n",
       "      <td>45</td>\n",
       "      <td>890</td>\n",
       "      <td>1254</td>\n",
       "      <td>2150</td>\n",
       "      <td>2150</td>\n",
       "      <td>473</td>\n",
       "      <td>581</td>\n",
       "    </tr>\n",
       "    <tr>\n",
       "      <th>2</th>\n",
       "      <td>wqoXYLWmpkEH0YvTmHBsJQ</td>\n",
       "      <td>Michael</td>\n",
       "      <td>398</td>\n",
       "      <td>2004-10-12 08:51:07</td>\n",
       "      <td>1393</td>\n",
       "      <td>734</td>\n",
       "      <td>662</td>\n",
       "      <td>2006,2007,2008,2009,2010,2011,2012,2013,2014,2015</td>\n",
       "      <td>g-mL-8J1_9iuDLUhyTzvmg, mjdYqMhqlNi3qz9d2NWgLQ...</td>\n",
       "      <td>156</td>\n",
       "      <td>...</td>\n",
       "      <td>22</td>\n",
       "      <td>13</td>\n",
       "      <td>24</td>\n",
       "      <td>4</td>\n",
       "      <td>90</td>\n",
       "      <td>98</td>\n",
       "      <td>168</td>\n",
       "      <td>168</td>\n",
       "      <td>27</td>\n",
       "      <td>33</td>\n",
       "    </tr>\n",
       "    <tr>\n",
       "      <th>3</th>\n",
       "      <td>co_jK_x-CvK2Z3ZrJLz1SQ</td>\n",
       "      <td>j</td>\n",
       "      <td>12</td>\n",
       "      <td>2004-10-12 09:36:53</td>\n",
       "      <td>21</td>\n",
       "      <td>3</td>\n",
       "      <td>4</td>\n",
       "      <td></td>\n",
       "      <td>KSoGqlg42blFfukIMfZd_w, OxAPD1OFV9qgS6EmbbHhtw...</td>\n",
       "      <td>0</td>\n",
       "      <td>...</td>\n",
       "      <td>0</td>\n",
       "      <td>0</td>\n",
       "      <td>0</td>\n",
       "      <td>0</td>\n",
       "      <td>1</td>\n",
       "      <td>0</td>\n",
       "      <td>0</td>\n",
       "      <td>0</td>\n",
       "      <td>0</td>\n",
       "      <td>0</td>\n",
       "    </tr>\n",
       "    <tr>\n",
       "      <th>4</th>\n",
       "      <td>23J4vG9_xxxdnmi8CBX7Ng</td>\n",
       "      <td>Joan</td>\n",
       "      <td>1674</td>\n",
       "      <td>2004-10-12 12:29:35</td>\n",
       "      <td>21509</td>\n",
       "      <td>15514</td>\n",
       "      <td>19972</td>\n",
       "      <td>2006,2007,2008,2009,2010,2011,2012,2013,2014,2...</td>\n",
       "      <td>PNa2-EjHe_ApIgZXD6kxBg, _BHTC7nyCBoZcfiiD5cOXg...</td>\n",
       "      <td>1425</td>\n",
       "      <td>...</td>\n",
       "      <td>292</td>\n",
       "      <td>290</td>\n",
       "      <td>342</td>\n",
       "      <td>98</td>\n",
       "      <td>1480</td>\n",
       "      <td>4961</td>\n",
       "      <td>5126</td>\n",
       "      <td>5126</td>\n",
       "      <td>1904</td>\n",
       "      <td>3291</td>\n",
       "    </tr>\n",
       "  </tbody>\n",
       "</table>\n",
       "<p>5 rows × 22 columns</p>\n",
       "</div>"
      ],
      "text/plain": [
       "                  user_id     name  review_count       yelping_since  useful  \\\n",
       "0  fFGPBtsutYpn3A155Sf75Q  Brandon           194 2004-10-12 08:46:11     250   \n",
       "1  nkN_do3fJ9xekchVC-v68A   Jeremy          1366 2004-10-12 08:46:43   18524   \n",
       "2  wqoXYLWmpkEH0YvTmHBsJQ  Michael           398 2004-10-12 08:51:07    1393   \n",
       "3  co_jK_x-CvK2Z3ZrJLz1SQ        j            12 2004-10-12 09:36:53      21   \n",
       "4  23J4vG9_xxxdnmi8CBX7Ng     Joan          1674 2004-10-12 12:29:35   21509   \n",
       "\n",
       "   funny   cool                                              elite  \\\n",
       "0    103    121                                          2006,2007   \n",
       "1  10049  15141  2006,2007,2008,2009,2010,2011,2012,2013,2014,2...   \n",
       "2    734    662  2006,2007,2008,2009,2010,2011,2012,2013,2014,2015   \n",
       "3      3      4                                                      \n",
       "4  15514  19972  2006,2007,2008,2009,2010,2011,2012,2013,2014,2...   \n",
       "\n",
       "                                             friends  fans  ...  \\\n",
       "0  u-BjshHIamkWw4lBOsyscw, vGtIy5jDIqNS4oT0w-mkfw...    26  ...   \n",
       "1  5HJvYcAM6FLat695V_JF1A, m_y6jQ5AeVpXfTSc9c_LEQ...  2107  ...   \n",
       "2  g-mL-8J1_9iuDLUhyTzvmg, mjdYqMhqlNi3qz9d2NWgLQ...   156  ...   \n",
       "3  KSoGqlg42blFfukIMfZd_w, OxAPD1OFV9qgS6EmbbHhtw...     0  ...   \n",
       "4  PNa2-EjHe_ApIgZXD6kxBg, _BHTC7nyCBoZcfiiD5cOXg...  1425  ...   \n",
       "\n",
       "   compliment_more  compliment_profile  compliment_cute  compliment_list  \\\n",
       "0                1                   3               11                0   \n",
       "1              178                 152              249               45   \n",
       "2               22                  13               24                4   \n",
       "3                0                   0                0                0   \n",
       "4              292                 290              342               98   \n",
       "\n",
       "   compliment_note  compliment_plain  compliment_cool  compliment_funny  \\\n",
       "0                6                11               21                21   \n",
       "1              890              1254             2150              2150   \n",
       "2               90                98              168               168   \n",
       "3                1                 0                0                 0   \n",
       "4             1480              4961             5126              5126   \n",
       "\n",
       "   compliment_writer  compliment_photos  \n",
       "0                  1                  3  \n",
       "1                473                581  \n",
       "2                 27                 33  \n",
       "3                  0                  0  \n",
       "4               1904               3291  \n",
       "\n",
       "[5 rows x 22 columns]"
      ]
     },
     "execution_count": 8,
     "metadata": {},
     "output_type": "execute_result"
    }
   ],
   "source": [
    "#Muestras las primeras filas del dataframe\n",
    "yelp_users.head()"
   ]
  },
  {
   "cell_type": "code",
   "execution_count": 9,
   "metadata": {},
   "outputs": [
    {
     "data": {
      "text/plain": [
       "0                                            2006,2007\n",
       "1    2006,2007,2008,2009,2010,2011,2012,2013,2014,2...\n",
       "2    2006,2007,2008,2009,2010,2011,2012,2013,2014,2015\n",
       "3                                                     \n",
       "4    2006,2007,2008,2009,2010,2011,2012,2013,2014,2...\n",
       "Name: elite, dtype: object"
      ]
     },
     "execution_count": 9,
     "metadata": {},
     "output_type": "execute_result"
    }
   ],
   "source": [
    "#muestra las primeras filas de \"elite\"\n",
    "yelp_users.elite.head()"
   ]
  },
  {
   "cell_type": "code",
   "execution_count": 10,
   "metadata": {},
   "outputs": [],
   "source": [
    "# Normaliza 'elite'\n",
    "elite = yelp_users['elite'].str.split(',', expand=True).stack().reset_index(level=-1, drop=True)\n",
    "elite = elite.to_frame('elite_year')\n",
    "elite['user_id'] = yelp_users['user_id']"
   ]
  },
  {
   "cell_type": "code",
   "execution_count": 11,
   "metadata": {},
   "outputs": [],
   "source": [
    "# Reemplaza los strings en blanco por NaN\n",
    "elite['elite_year'] = elite['elite_year'].replace('', pd.NA)"
   ]
  },
  {
   "cell_type": "code",
   "execution_count": 12,
   "metadata": {},
   "outputs": [],
   "source": [
    "# Elimina los NaN\n",
    "elite = elite.dropna(subset=['elite_year'])"
   ]
  },
  {
   "cell_type": "code",
   "execution_count": 13,
   "metadata": {},
   "outputs": [],
   "source": [
    "# Ordena el DataFrame por 'elite_year'\n",
    "elite = elite.sort_values(['elite_year'])"
   ]
  },
  {
   "cell_type": "code",
   "execution_count": 14,
   "metadata": {},
   "outputs": [
    {
     "data": {
      "text/plain": [
       "array(['20', '2006', '2007', '2008', '2009', '2010', '2011', '2012',\n",
       "       '2013', '2014', '2015', '2016', '2017', '2018', '2019', '2021'],\n",
       "      dtype=object)"
      ]
     },
     "execution_count": 14,
     "metadata": {},
     "output_type": "execute_result"
    }
   ],
   "source": [
    "#Muestra los uncios de elite\n",
    "elite.elite_year.unique()"
   ]
  },
  {
   "cell_type": "code",
   "execution_count": 15,
   "metadata": {},
   "outputs": [
    {
     "data": {
      "text/plain": [
       "elite_year\n",
       "20      79858\n",
       "2021    44542\n",
       "2019    44044\n",
       "2018    41009\n",
       "2017    36015\n",
       "2016    29636\n",
       "2015    24175\n",
       "2014    18571\n",
       "2013    16193\n",
       "2012    15222\n",
       "2011    10997\n",
       "2010     8772\n",
       "2009     5479\n",
       "2008     3185\n",
       "2007     2023\n",
       "2006      775\n",
       "Name: count, dtype: int64"
      ]
     },
     "execution_count": 15,
     "metadata": {},
     "output_type": "execute_result"
    }
   ],
   "source": [
    "#Hace conteos por años en \"elite\"\n",
    "elite.elite_year.value_counts()"
   ]
  },
  {
   "cell_type": "code",
   "execution_count": 16,
   "metadata": {},
   "outputs": [
    {
     "data": {
      "text/html": [
       "<div>\n",
       "<style scoped>\n",
       "    .dataframe tbody tr th:only-of-type {\n",
       "        vertical-align: middle;\n",
       "    }\n",
       "\n",
       "    .dataframe tbody tr th {\n",
       "        vertical-align: top;\n",
       "    }\n",
       "\n",
       "    .dataframe thead th {\n",
       "        text-align: right;\n",
       "    }\n",
       "</style>\n",
       "<table border=\"1\" class=\"dataframe\">\n",
       "  <thead>\n",
       "    <tr style=\"text-align: right;\">\n",
       "      <th></th>\n",
       "      <th>elite_year</th>\n",
       "      <th>user_id</th>\n",
       "    </tr>\n",
       "  </thead>\n",
       "  <tbody>\n",
       "    <tr>\n",
       "      <th>0</th>\n",
       "      <td>2006</td>\n",
       "      <td>fFGPBtsutYpn3A155Sf75Q</td>\n",
       "    </tr>\n",
       "    <tr>\n",
       "      <th>1</th>\n",
       "      <td>2006</td>\n",
       "      <td>t9mXmz8cPrCXqTz6tOlveQ</td>\n",
       "    </tr>\n",
       "    <tr>\n",
       "      <th>2</th>\n",
       "      <td>2006</td>\n",
       "      <td>S3gNrUh7N9oWoackKlHGMQ</td>\n",
       "    </tr>\n",
       "    <tr>\n",
       "      <th>3</th>\n",
       "      <td>2006</td>\n",
       "      <td>H4JNrBAoyCk_ZMZWbAf8OA</td>\n",
       "    </tr>\n",
       "    <tr>\n",
       "      <th>4</th>\n",
       "      <td>2006</td>\n",
       "      <td>3XxsH5vS3yJDnYLxSnRu3A</td>\n",
       "    </tr>\n",
       "    <tr>\n",
       "      <th>...</th>\n",
       "      <td>...</td>\n",
       "      <td>...</td>\n",
       "    </tr>\n",
       "    <tr>\n",
       "      <th>300633</th>\n",
       "      <td>2021</td>\n",
       "      <td>MdGnY6eLxy82nEZhCc6rnQ</td>\n",
       "    </tr>\n",
       "    <tr>\n",
       "      <th>300634</th>\n",
       "      <td>2021</td>\n",
       "      <td>grY9VXMDbjzrKiFmKdXPVg</td>\n",
       "    </tr>\n",
       "    <tr>\n",
       "      <th>300635</th>\n",
       "      <td>2021</td>\n",
       "      <td>qMhIZuS7OC3v-IN7kU4m2w</td>\n",
       "    </tr>\n",
       "    <tr>\n",
       "      <th>300636</th>\n",
       "      <td>2021</td>\n",
       "      <td>6o3CiQzYpLse_kJx2qYfSw</td>\n",
       "    </tr>\n",
       "    <tr>\n",
       "      <th>300637</th>\n",
       "      <td>2021</td>\n",
       "      <td>pzES0LlieWmJhPC1b-lv7Q</td>\n",
       "    </tr>\n",
       "  </tbody>\n",
       "</table>\n",
       "<p>300638 rows × 2 columns</p>\n",
       "</div>"
      ],
      "text/plain": [
       "       elite_year                 user_id\n",
       "0            2006  fFGPBtsutYpn3A155Sf75Q\n",
       "1            2006  t9mXmz8cPrCXqTz6tOlveQ\n",
       "2            2006  S3gNrUh7N9oWoackKlHGMQ\n",
       "3            2006  H4JNrBAoyCk_ZMZWbAf8OA\n",
       "4            2006  3XxsH5vS3yJDnYLxSnRu3A\n",
       "...           ...                     ...\n",
       "300633       2021  MdGnY6eLxy82nEZhCc6rnQ\n",
       "300634       2021  grY9VXMDbjzrKiFmKdXPVg\n",
       "300635       2021  qMhIZuS7OC3v-IN7kU4m2w\n",
       "300636       2021  6o3CiQzYpLse_kJx2qYfSw\n",
       "300637       2021  pzES0LlieWmJhPC1b-lv7Q\n",
       "\n",
       "[300638 rows x 2 columns]"
      ]
     },
     "execution_count": 16,
     "metadata": {},
     "output_type": "execute_result"
    }
   ],
   "source": [
    "# Filtrar el DataFrame elite para excluir las filas donde el valor de 'elite_year' es '20'\n",
    "elite = elite[elite['elite_year'] != '20']\n",
    "\n",
    "# Restablecer el índice del DataFrame resultante y eliminar el índice anterior\n",
    "elite.reset_index(drop=True, inplace=True)\n",
    "\n",
    "# Mostrar el DataFrame elite resultante\n",
    "elite"
   ]
  },
  {
   "cell_type": "code",
   "execution_count": 17,
   "metadata": {},
   "outputs": [
    {
     "name": "stdout",
     "output_type": "stream",
     "text": [
      "<class 'pandas.core.frame.DataFrame'>\n",
      "RangeIndex: 300638 entries, 0 to 300637\n",
      "Data columns (total 2 columns):\n",
      " #   Column      Non-Null Count   Dtype \n",
      "---  ------      --------------   ----- \n",
      " 0   elite_year  300638 non-null  object\n",
      " 1   user_id     300638 non-null  object\n",
      "dtypes: object(2)\n",
      "memory usage: 4.6+ MB\n"
     ]
    }
   ],
   "source": [
    "#Muestra la info de \"elite\"\n",
    "elite.info()"
   ]
  },
  {
   "cell_type": "code",
   "execution_count": 18,
   "metadata": {},
   "outputs": [
    {
     "data": {
      "text/plain": [
       "Index(['user_id', 'name', 'review_count', 'yelping_since', 'useful', 'funny',\n",
       "       'cool', 'friends', 'fans', 'average_stars', 'compliment_hot',\n",
       "       'compliment_more', 'compliment_profile', 'compliment_cute',\n",
       "       'compliment_list', 'compliment_note', 'compliment_plain',\n",
       "       'compliment_cool', 'compliment_funny', 'compliment_writer',\n",
       "       'compliment_photos'],\n",
       "      dtype='object')"
      ]
     },
     "execution_count": 18,
     "metadata": {},
     "output_type": "execute_result"
    }
   ],
   "source": [
    "#elimina la columna elite\n",
    "yelp_users = yelp_users.drop(columns='elite')\n",
    "\n",
    "yelp_users.columns"
   ]
  },
  {
   "cell_type": "code",
   "execution_count": 19,
   "metadata": {},
   "outputs": [
    {
     "data": {
      "text/plain": [
       "1"
      ]
     },
     "execution_count": 19,
     "metadata": {},
     "output_type": "execute_result"
    }
   ],
   "source": [
    "# Dividir la cadena en la posición 1987896 de la columna 'friends' por comas\n",
    "sample_friends = yelp_users.friends[1987896].split(',')\n",
    "\n",
    "# Calcular la longitud de la lista resultante\n",
    "len(sample_friends)"
   ]
  },
  {
   "cell_type": "code",
   "execution_count": 20,
   "metadata": {},
   "outputs": [
    {
     "data": {
      "text/plain": [
       "user_id               0\n",
       "name                  0\n",
       "review_count          0\n",
       "yelping_since         0\n",
       "useful                0\n",
       "funny                 0\n",
       "cool                  0\n",
       "friends               0\n",
       "fans                  0\n",
       "average_stars         0\n",
       "compliment_hot        0\n",
       "compliment_more       0\n",
       "compliment_profile    0\n",
       "compliment_cute       0\n",
       "compliment_list       0\n",
       "compliment_note       0\n",
       "compliment_plain      0\n",
       "compliment_cool       0\n",
       "compliment_funny      0\n",
       "compliment_writer     0\n",
       "compliment_photos     0\n",
       "dtype: int64"
      ]
     },
     "execution_count": 20,
     "metadata": {},
     "output_type": "execute_result"
    }
   ],
   "source": [
    "# Verificar valores nulos en el DataFrame 'business_yelp' y contarlos por columna\n",
    "yelp_users.isnull().sum()"
   ]
  },
  {
   "cell_type": "code",
   "execution_count": 21,
   "metadata": {},
   "outputs": [
    {
     "data": {
      "text/plain": [
       "0           245\n",
       "1          6849\n",
       "2          2454\n",
       "3             7\n",
       "4          3926\n",
       "           ... \n",
       "1987892       1\n",
       "1987893       1\n",
       "1987894       1\n",
       "1987895       1\n",
       "1987896       1\n",
       "Name: friends, Length: 1987897, dtype: int64"
      ]
     },
     "execution_count": 21,
     "metadata": {},
     "output_type": "execute_result"
    }
   ],
   "source": [
    "# Aplicar una función lambda a cada valor en la columna 'friends' del DataFrame 'yelp_users'\n",
    "# La función divide cada cadena por comas y calcula la longitud de la lista resultante\n",
    "# Reemplazar los valores originales en la columna 'friends' con las longitudes de las listas resultantes\n",
    "yelp_users['friends'] = yelp_users['friends'].apply(lambda x: len(x.split(',')))\n",
    "\n",
    "# Mostrar la columna 'friends' actualizada en el DataFrame 'yelp_users'\n",
    "yelp_users['friends']"
   ]
  },
  {
   "cell_type": "code",
   "execution_count": 22,
   "metadata": {},
   "outputs": [
    {
     "name": "stdout",
     "output_type": "stream",
     "text": [
      "<class 'pandas.core.frame.DataFrame'>\n",
      "RangeIndex: 1987897 entries, 0 to 1987896\n",
      "Data columns (total 21 columns):\n",
      " #   Column              Dtype         \n",
      "---  ------              -----         \n",
      " 0   user_id             object        \n",
      " 1   name                object        \n",
      " 2   review_count        int64         \n",
      " 3   yelping_since       datetime64[ns]\n",
      " 4   useful              int64         \n",
      " 5   funny               int64         \n",
      " 6   cool                int64         \n",
      " 7   friends             int64         \n",
      " 8   fans                int64         \n",
      " 9   average_stars       float64       \n",
      " 10  compliment_hot      int64         \n",
      " 11  compliment_more     int64         \n",
      " 12  compliment_profile  int64         \n",
      " 13  compliment_cute     int64         \n",
      " 14  compliment_list     int64         \n",
      " 15  compliment_note     int64         \n",
      " 16  compliment_plain    int64         \n",
      " 17  compliment_cool     int64         \n",
      " 18  compliment_funny    int64         \n",
      " 19  compliment_writer   int64         \n",
      " 20  compliment_photos   int64         \n",
      "dtypes: datetime64[ns](1), float64(1), int64(17), object(2)\n",
      "memory usage: 318.5+ MB\n"
     ]
    }
   ],
   "source": [
    "yelp_users.info()"
   ]
  },
  {
   "cell_type": "markdown",
   "metadata": {},
   "source": [
    "## Carga de nuestro archivo"
   ]
  },
  {
   "cell_type": "code",
   "execution_count": 23,
   "metadata": {},
   "outputs": [],
   "source": [
    "ruta_nuevo_json = \"C:/Users/Usuario/Desktop/Proyecto Final/PF_Google_yelp_Map/Notebook/User_limpio.json\"\n",
    "yelp_users.to_json(ruta_nuevo_json, orient='records', lines=True)"
   ]
  }
 ],
 "metadata": {
  "kernelspec": {
   "display_name": "Python 3",
   "language": "python",
   "name": "python3"
  },
  "language_info": {
   "codemirror_mode": {
    "name": "ipython",
    "version": 3
   },
   "file_extension": ".py",
   "mimetype": "text/x-python",
   "name": "python",
   "nbconvert_exporter": "python",
   "pygments_lexer": "ipython3",
   "version": "3.12.0"
  }
 },
 "nbformat": 4,
 "nbformat_minor": 2
}
