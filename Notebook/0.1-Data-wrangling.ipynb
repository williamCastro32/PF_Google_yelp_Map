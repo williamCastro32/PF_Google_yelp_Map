{
 "cells": [
  {
   "cell_type": "markdown",
   "metadata": {},
   "source": [
    "# __ANALISIS PRELIMINAR: DATA WRANGLING__"
   ]
  },
  {
   "cell_type": "markdown",
   "metadata": {},
   "source": [
    "## Introducción"
   ]
  },
  {
   "cell_type": "markdown",
   "metadata": {},
   "source": [
    "Este notebook se enfoca en el proceso de Data Wrangling utilizando datos extraídos de las plataformas Yelp y Google Maps. El Data Wrangling implica una exploración inicial, limpieza y transformación de los datos con el objetivo de prepararlos para análisis posteriores. Este paso es crucial en cualquier proyecto de ciencia de datos para garantizar la calidad y utilidad de los datos."
   ]
  },
  {
   "cell_type": "markdown",
   "metadata": {},
   "source": [
    "## Configuraciones Globales e Importaciones\n",
    "\n",
    "En esta sección, se instalan e importan todas las librerías y/o módulos necesarios para el proceso ETL (Extract, Transform, Load) y se establecen configuraciones globales de ser requerido. Se utilizan las siguientes librerías y herramientas:"
   ]
  },
  {
   "cell_type": "code",
   "execution_count": 1,
   "metadata": {},
   "outputs": [],
   "source": [
    "import warnings\n",
    "warnings.filterwarnings(\"ignore\") # Se utiliza para gestionar las advertencias y mantener el código limpio.\n",
    "     "
   ]
  },
  {
   "cell_type": "code",
   "execution_count": 2,
   "metadata": {},
   "outputs": [],
   "source": [
    "import os # Proporciona funciones para interactuar con el sistema operativo.\n",
    "import requests # Se utiliza para realizar solicitudes HTTP.\n",
    "import pandas as pd # Una librería de análisis de datos.\n",
    "import seaborn as sns #S e utiliza para la visualización de datos.\n",
    "import pyspark.pandas as ps # Proporciona una interfaz para trabajar con datos en Spark utilizando el formato de DataFrame de pandas.\n",
    "import json # Se utiliza para trabajar con datos en formato JSON.\n",
    "\n",
    "\n",
    "from matplotlib import pyplot as plt # Una librería para la visualización de datos en Python.\n",
    "from pyspark.sql import SparkSession # Se utiliza para crear una instancia de SparkSession, que es la entrada principal para trabajar con Spark SQL.\n",
    "from pyspark.sql import functions as F #  Proporciona funciones para trabajar con datos en Spark DataFrame.\n",
    "from pyspark.sql.functions import array_contains # Esta función se utiliza para filtrar los datos basados en la presencia de un valor en un array.\n",
    "from pyspark.sql.functions import col # Se utiliza para acceder a una columna en un DataFrame de Spark."
   ]
  },
  {
   "cell_type": "code",
   "execution_count": 3,
   "metadata": {},
   "outputs": [],
   "source": [
    "# Crear una sesión de Spark\n",
    "spark = SparkSession.builder\\\n",
    "        .master(\"local\")\\\n",
    "        .appName(\"EDA-Preliminar\")\\\n",
    "        .config('spark.ui.port', '4050')\\\n",
    "        .getOrCreate()"
   ]
  },
  {
   "cell_type": "markdown",
   "metadata": {},
   "source": [
    "# __GOOGLE MAPS__"
   ]
  },
  {
   "cell_type": "markdown",
   "metadata": {},
   "source": [
    "### Dataset: metadata-sitios"
   ]
  },
  {
   "cell_type": "markdown",
   "metadata": {},
   "source": [
    "__DECLARACIÓN DE LA RUTA DE LOS DATA SET__"
   ]
  },
  {
   "cell_type": "code",
   "execution_count": 6,
   "metadata": {},
   "outputs": [],
   "source": [
    "# Ruta local donde se encuentran los archivos JSON\n",
    "ruta_local = \"C:/Users/Usuario/Desktop/Proyecto Final/metadata-sitios\"\n",
    "\n",
    "# Lista para almacenar los DataFrames de metadatos\n",
    "metadata_df = []\n",
    "\n",
    "# Iteración sobre los archivos JSON del 1 al 11\n",
    "for i in range(1, 12):\n",
    "    # Lectura del archivo JSON utilizando Spark\n",
    "    archivo = spark.read.json(f\"{ruta_local}/{i}.json\")\n",
    "    \n",
    "    # Conversión de la columna \"MISC\" a tipo de datos \"string\"\n",
    "    archivo = archivo.withColumn(\"MISC\", col(\"MISC\").cast(\"string\"))\n",
    "    \n",
    "    # Agregar el DataFrame a la lista de metadatos\n",
    "    metadata_df.append(archivo)\n",
    "\n",
    "# DataFrame final para almacenar los datos combinados\n",
    "df_final = metadata_df[0]\n",
    "\n",
    "# Unión de los DataFrames de metadatos utilizando unionByName\n",
    "for dataframe in metadata_df[1:]:\n",
    "    df_final = df_final.unionByName(dataframe)\n",
    "\n",
    "# Sobrescribir metadata_df con el DataFrame final combinado\n",
    "metadata_df = df_final\n"
   ]
  },
  {
   "cell_type": "code",
   "execution_count": 7,
   "metadata": {},
   "outputs": [
    {
     "name": "stdout",
     "output_type": "stream",
     "text": [
      "+--------------------+--------------------+----------+--------------------+--------------------+--------------------+--------------------+------------------+-------------------+--------------------+--------------+-----+--------------------+--------------------+--------------------+\n",
      "|                MISC|             address|avg_rating|            category|         description|             gmap_id|               hours|          latitude|          longitude|                name|num_of_reviews|price|    relative_results|               state|                 url|\n",
      "+--------------------+--------------------+----------+--------------------+--------------------+--------------------+--------------------+------------------+-------------------+--------------------+--------------+-----+--------------------+--------------------+--------------------+\n",
      "|{[Wheelchair acce...|Porter Pharmacy, ...|       4.9|          [Pharmacy]|                NULL|0x88f16e41928ff68...|[[Friday, 8AM–6PM...|           32.3883|           -83.3571|     Porter Pharmacy|            16| NULL|[0x88f16e41929435...|   Open ⋅ Closes 6PM|https://www.googl...|\n",
      "|                NULL|City Textile, 300...|       4.5|  [Textile exporter]|                NULL|0x80c2c98c0e3c16f...|                NULL|        34.0188913|       -118.2152898|        City Textile|             6| NULL|[0x80c2c624136ea8...|            Open now|https://www.googl...|\n",
      "|{[Wheelchair acce...|San Soo Dang, 761...|       4.4| [Korean restaurant]|                NULL|0x80c2c778e3b73d3...|[[Thursday, 6:30A...|        34.0580917|       -118.2921295|        San Soo Dang|            18| NULL|[0x80c2c78249aba6...|   Open ⋅ Closes 6PM|https://www.googl...|\n",
      "|{null, null, null...|Nova Fabrics, 220...|       3.3|      [Fabric store]|                NULL|0x80c2c89923b27a4...|[[Thursday, 9AM–5...|        34.0236689|       -118.2329297|        Nova Fabrics|             6| NULL|[0x80c2c881147725...|   Open ⋅ Closes 5PM|https://www.googl...|\n",
      "|{null, null, null...|Nobel Textile Co,...|       4.3|      [Fabric store]|                NULL|0x80c2c632f933b07...|[[Thursday, 9AM–5...|        34.0366942|       -118.2494208|    Nobel Textile Co|             7| NULL|[0x80c2c62c496083...|   Open ⋅ Closes 5PM|https://www.googl...|\n",
      "|{[Wheelchair acce...|Matrix Internatio...|       3.5|      [Fabric store]|                NULL|0x80c2cf163db6bc8...|[[Thursday, 8:30A...|        34.0155047|       -118.1818394|Matrix Internatio...|             6| NULL|[0x80c2cf042a5d95...|Open ⋅ Closes 5:30PM|https://www.googl...|\n",
      "|{[Wheelchair acce...|Vons Chicken, 127...|       4.5|        [Restaurant]|                NULL|0x80dd2b4c8555edb...|[[Thursday, 11AM–...|        33.9164023|-118.01085499999999|        Vons Chicken|            18| NULL|                NULL|Open ⋅ Closes 9:30PM|https://www.googl...|\n",
      "|{[Wheelchair acce...|Polished Nail Sal...|       4.0|[Nail salon, Waxi...|                NULL|0x87ec238afdd8837...|[[Thursday, 9AM–8...|41.614197999999995|        -93.8472695|Polished Nail Sal...|            86| NULL|[0x87ec2481df68e1...|   Open ⋅ Closes 8PM|https://www.googl...|\n",
      "|{null, null, null...|Sweet Rewards Glu...|       4.7|[Bakery, Health f...|                NULL|0x87ec235c54d25b3...|[[Thursday, 10AM–...|         41.616079|         -93.865487|Sweet Rewards Glu...|            21| NULL|[0x87ee9748692955...|  Permanently closed|https://www.googl...|\n",
      "|                NULL|                NULL|       5.0|[Greeting card sh...|                NULL|0x87ee85ac3cb23b4...|[[Thursday, 7AM–8...|         41.846035|        -93.7561175|           PeepNotes|             1| NULL|[0x87ee915d9604ea...|   Open ⋅ Closes 8PM|https://www.googl...|\n",
      "|{[Wheelchair acce...|Lush Family Denta...|       5.0|[Dentist, Cosmeti...|                NULL|0x87ec2394c2cd9d2...|[[Thursday, 7AM–4...|        41.5852916|        -93.8551126|  Lush Family Dental|           178| NULL|[0x87ec2482098b66...|   Open ⋅ Closes 4PM|https://www.googl...|\n",
      "|{[Wheelchair acce...|515 Auto Shades, ...|       5.0|[Auto glass shop,...|                NULL|0x87ee95d1e474531...|[[Thursday, 9AM–6...|         41.606082|        -93.4986302|     515 Auto Shades|            28| NULL|                NULL|   Open ⋅ Closes 6PM|https://www.googl...|\n",
      "|{[Wheelchair acce...|Lena’s Beauty Nai...|       4.2|      [Beauty salon]|                NULL|0x87ec2481df6626b...|[[Thursday, 9AM–7...|        41.6163101|         -93.858345|Lena’s Beauty Nai...|           128| NULL|[0x87ec20ce836cac...|   Open ⋅ Closes 7PM|https://www.googl...|\n",
      "|{[Wheelchair acce...|Black Tie Ski Ren...|       5.0|[Ski rental servi...|                NULL|0x80960c29f2e3bf2...|[[Thursday, 8AM–5...|37.638754399999996|-118.96605509999999|Black Tie Ski Ren...|            34| NULL|[0x80960dcd6ba767...|   Open ⋅ Closes 5PM|https://www.googl...|\n",
      "|{[Wheelchair acce...|NTK OUTDOOR, 2315...|       5.0|  [Corporate office]|                NULL|0x88d9beb4fe0532c...|[[Thursday, 9AM–6...|        25.7952041|        -80.3660381|         NTK OUTDOOR|            35| NULL|[0x88d9bfd49a624c...|   Open ⋅ Closes 6PM|https://www.googl...|\n",
      "|                NULL|Angel-A Massage, ...|       4.3|[Massage spa, Chi...|                NULL|0x809adef58ae560b...|[[Thursday, 9:30A...|        38.6626297|       -121.3086388|     Angel-A Massage|             6| NULL|[0x809adee9ac6f1b...|Open ⋅ Closes 9:30PM|https://www.googl...|\n",
      "|{[Wheelchair acce...|Dunn-Edwards Pain...|       4.7|[Paint store, Pai...|Chain selling int...|0x809b1ff6d3a60c4...|[[Thursday, 6:30A...|        38.7434619|       -121.2587612| Dunn-Edwards Paints|            26| NULL|[0x809b201630f908...|   Open ⋅ Closes 5PM|https://www.googl...|\n",
      "|                NULL|Elite Massage, 81...|       5.0| [Massage therapist]|                NULL|0x809ae0a7ce91433...|                NULL|        38.6649155|       -121.2601916|       Elite Massage|             1| NULL|[0x809ade27605def...|                NULL|https://www.googl...|\n",
      "|{[Wheelchair acce...|PODS Sacramento H...|       4.0|  [Corporate office]|                NULL|0x809ad95924805cf...|                NULL|         38.658994|       -121.4129579| PODS Sacramento Hub|             8| NULL|[0x809ad8fc85a035...|            Open now|https://www.googl...|\n",
      "|{[Wheelchair acce...|Happy Spa & Massa...|       2.7|[Massage therapis...|                NULL|0x809b217a6cbe4fa...|[[Thursday, 9:30A...|        38.7855482|       -121.2868859|Happy Spa & Massa...|             8| NULL|[0x809b20410d8df0...|  Open ⋅ Closes 10PM|https://www.googl...|\n",
      "+--------------------+--------------------+----------+--------------------+--------------------+--------------------+--------------------+------------------+-------------------+--------------------+--------------+-----+--------------------+--------------------+--------------------+\n",
      "only showing top 20 rows\n",
      "\n"
     ]
    }
   ],
   "source": [
    "# Mostrar el DataFrame\n",
    "metadata_df.show()"
   ]
  },
  {
   "cell_type": "code",
   "execution_count": 8,
   "metadata": {},
   "outputs": [
    {
     "name": "stdout",
     "output_type": "stream",
     "text": [
      "+--------------------+--------------------+----------+--------------------+--------------------+--------------------+--------------------+------------------+------------------+--------------------+--------------+-----+--------------------+--------------------+--------------------+\n",
      "|                MISC|             address|avg_rating|            category|         description|             gmap_id|               hours|          latitude|         longitude|                name|num_of_reviews|price|    relative_results|               state|                 url|\n",
      "+--------------------+--------------------+----------+--------------------+--------------------+--------------------+--------------------+------------------+------------------+--------------------+--------------+-----+--------------------+--------------------+--------------------+\n",
      "|{[Wheelchair acce...|Mao fast food, 84...|       4.3|[Colombian restau...|Hot dogs & burger...|0x88d9b89020a9342...|[[Wednesday, 5PM–...|         25.732878|-80.33228919999999|       Mao fast food|           216|    $|[0x88d9b6aa2926b3...|  Temporarily closed|https://www.googl...|\n",
      "|{null, null, [Goo...|Kpikua fast food,...|       4.8|[Fast food restau...|                NULL|0x89c25511a390d71...|[[Wednesday, 9AM–...|        40.7531621|       -74.1708474|    Kpikua fast food|             8| NULL|[0x89c255c2612971...|  Permanently closed|https://www.googl...|\n",
      "|{[Wheelchair acce...|Los mompis fast f...|       4.4|        [Restaurant]|                NULL|0x88d9a5968cde081...|[[Tuesday, 11:45A...|25.940965199999997|       -80.3250103|Los mompis fast food|            48| NULL|[0x88d9a4fcc86096...|Closed ⋅ Opens 11...|https://www.googl...|\n",
      "+--------------------+--------------------+----------+--------------------+--------------------+--------------------+--------------------+------------------+------------------+--------------------+--------------+-----+--------------------+--------------------+--------------------+\n",
      "\n"
     ]
    }
   ],
   "source": [
    "# Filtrado de Datos por Categoría \"Fast Food\"\n",
    "fastfood = metadata_df.filter(F.col('name').like('%fast food%'))\n",
    "\n",
    "# Mostrar el DataFrame resultante\n",
    "fastfood.show()\n"
   ]
  },
  {
   "cell_type": "markdown",
   "metadata": {},
   "source": [
    "En nuestro filtrado de comidas rapida solo nos muestra 3 resultados en todo nuestro dataset"
   ]
  },
  {
   "cell_type": "code",
   "execution_count": 9,
   "metadata": {},
   "outputs": [
    {
     "name": "stdout",
     "output_type": "stream",
     "text": [
      "+--------------------+--------------------+----------+--------------------+--------------------+--------------------+--------------------+------------------+-------------------+--------------------+--------------+-----+--------------------+--------------------+--------------------+\n",
      "|                MISC|             address|avg_rating|            category|         description|             gmap_id|               hours|          latitude|          longitude|                name|num_of_reviews|price|    relative_results|               state|                 url|\n",
      "+--------------------+--------------------+----------+--------------------+--------------------+--------------------+--------------------+------------------+-------------------+--------------------+--------------+-----+--------------------+--------------------+--------------------+\n",
      "|                NULL|CUNY new york, Co...|       4.5|            [School]|                NULL|0x89c2f66ee150245...|                NULL|40.820329199999996| -73.94939529999999|       CUNY new york|             2| NULL|[0x89c258c3d1890e...|                NULL|https://www.googl...|\n",
      "|                NULL|CUNY new york, Co...|       4.5|            [School]|                NULL|0x89c2f66ee150245...|                NULL|40.820329199999996| -73.94939529999999|       CUNY new york|             2| NULL|[0x89c258c3d1890e...|                NULL|https://www.googl...|\n",
      "|                NULL|My talking angela...|       2.9|[Television station]|                NULL|0x89c2f5feac01e29...|[[Tuesday, Open 2...|        40.7917433|        -73.9304708|My talking angela...|             8| NULL|                NULL|       Open 24 hours|https://www.googl...|\n",
      "|{null, null, [Goo...|The new yorker, S...|       5.0|              [Park]|                NULL|0x8848077179fb5bf...|                NULL|39.612736399999996|         -82.205742|      The new yorker|             1| NULL|                NULL|                NULL|https://www.googl...|\n",
      "|{null, null, [Goo...|McPutins Chicken,...|       4.6|[Fried chicken ta...|                NULL|0x89c259e633c5b55...|[[Sunday, 3–11:30...|40.763162699999995|         -73.984732|    McPutins Chicken|             8|    $|                NULL|  Closed ⋅ Opens 3PM|https://www.googl...|\n",
      "|                NULL|kate spade new yo...|       3.7|             [Store]|Namesake retailer...|0x876c7e970222c73...|[[Friday, 10AM–6P...|        39.7186412|       -104.9537644| kate spade new york|             6| NULL|[0x876b8469a7f485...|  Permanently closed|https://www.googl...|\n",
      "|                NULL|osho sadhana medi...|       5.0| [Meditation center]|                NULL|0x89c25f5ec8de8a4...|                NULL|        40.7819406|        -73.9178757|osho sadhana medi...|             2| NULL|[0x89c2599324bb45...|                NULL|https://www.googl...|\n",
      "|                NULL|kate spade new yo...|       3.9|             [Store]|Namesake retailer...|0x80c2c3711394077...|[[Thursday, 10AM–...|        34.1459906|       -118.1514658| kate spade new york|             8| NULL|[0x80c2c371366344...|  Permanently closed|https://www.googl...|\n",
      "|                NULL|Fotografia y vide...|       4.9|[Photographer, We...|                NULL|0x89c24510cc8f106...|[[Wednesday, 8AM–...|         40.613468|         -73.996647|Fotografia y vide...|            24| NULL|[0x89c25fe447bff8...|   Open ⋅ Closes 7PM|https://www.googl...|\n",
      "|{null, null, null...|kate spade new yo...|       3.4|[Fashion accessor...|Namesake retailer...|0x54950a056f058c1...|[[Friday, 10AM–8P...|        45.5181738|-122.67744289999999| kate spade new york|            14| NULL|[0x54950a056f101e...|  Permanently closed|https://www.googl...|\n",
      "|                NULL|kate spade new yo...|       3.7|[Fashion accessor...|Namesake retailer...|0x80c2a4d1bd342d5...|[[Friday, 10AM–9P...|         34.014064|-118.49340029999999| kate spade new york|             8| NULL|[0x80c2a4d1e8877c...|  Permanently closed|https://www.googl...|\n",
      "|                NULL|Floor new york, 5...|       5.0|        [Hair salon]|                NULL|0x89c25938f3fd3de...|[[Monday, 12–8PM]...|        40.7265434|        -73.9550435|      Floor new york|             8| NULL|                NULL|   Open ⋅ Closes 8PM|https://www.googl...|\n",
      "|                NULL|kate spade new yo...|       4.8|             [Store]|Namesake retailer...|0x88626ebae4f4357...|[[Thursday, 10AM–...|        34.7166839| -86.67321489999999| kate spade new york|             8| NULL|[0x88626ebb1a9a41...|  Permanently closed|https://www.googl...|\n",
      "|{[Wheelchair acce...|the city universi...|       5.0|            [School]|                NULL|0x89c2592b143cb2d...|                NULL|        40.7451388|        -73.9377244|the city universi...|             3| NULL|[0x89c258d4de29d7...|                NULL|https://www.googl...|\n",
      "|                NULL|kate spade new yo...|       4.3|[Fashion accessor...|Namesake retailer...|0x89b7b64bbf97a3f...|[[Sunday, 12–6PM]...|        38.9050924|        -77.0600175| kate spade new york|            18| NULL|[0x89b7b64ba6eeca...|  Permanently closed|https://www.googl...|\n",
      "|{[Wheelchair acce...|sent new york, 10...|       4.6|[Office supply st...|                NULL|0x89c25c03b1435c1...|[[Saturday, Close...|        40.7049713|        -73.9283926|       sent new york|            42| NULL|[0x89c25bf8118985...|Closed ⋅ Opens 11...|https://www.googl...|\n",
      "|                NULL|kate spade new yo...|       4.8|             [Store]|Namesake retailer...|0x80c29e6bc599fc6...|[[Sunday, 11AM–6P...|        34.1531175|       -118.6456475| kate spade new york|             5| NULL|[0x80c29e6a31dd5c...|  Permanently closed|https://www.googl...|\n",
      "|                NULL|kate spade new yo...|       4.3|             [Store]|Namesake retailer...|0x89c2588b202c55e...|                NULL|         40.775572| -73.97981399999999| kate spade new york|             8| NULL|[0x89c25961ba25af...|                NULL|https://www.googl...|\n",
      "|                NULL|david n. siegel: ...|       5.0|        [Consultant]|                NULL|0x89c27ac8e75aaaa...|                NULL|         40.611348|         -73.644403|david n. siegel: ...|             1| NULL|[0x89c27ac9907b8e...|                NULL|https://www.googl...|\n",
      "|{[Wheelchair acce...|John's Boxing Gym...|       4.6|        [Boxing gym]|                NULL|0x89c2f414d037613...|[[Sunday, Closed]...|40.846945999999996|        -73.9132723|   John's Boxing Gym|            38| NULL|[0x89c2f49653f6ca...|Closed ⋅ Opens 10...|https://www.googl...|\n",
      "+--------------------+--------------------+----------+--------------------+--------------------+--------------------+--------------------+------------------+-------------------+--------------------+--------------+-----+--------------------+--------------------+--------------------+\n",
      "only showing top 20 rows\n",
      "\n"
     ]
    }
   ],
   "source": [
    "# Filtrado de Datos por Categoría \"New York\"\n",
    "ubi_ny = metadata_df.filter(F.col('address').like('%new york%'))\n",
    "\n",
    "# Mostrar el DataFrame resultante\n",
    "ubi_ny.show()"
   ]
  },
  {
   "cell_type": "markdown",
   "metadata": {},
   "source": [
    "En este filtrado nos muestra todo lo que hay en new york en nuestro dataset"
   ]
  },
  {
   "cell_type": "code",
   "execution_count": 10,
   "metadata": {},
   "outputs": [
    {
     "name": "stdout",
     "output_type": "stream",
     "text": [
      "+--------------------+---------------------+----------+--------------------+--------------------+--------------------+--------------------+------------------+------------------+--------------------+--------------+-----+--------------------+--------------------+--------------------+\n",
      "|                MISC|              address|avg_rating|            category|         description|             gmap_id|               hours|          latitude|         longitude|                name|num_of_reviews|price|    relative_results|               state|                 url|\n",
      "+--------------------+---------------------+----------+--------------------+--------------------+--------------------+--------------------+------------------+------------------+--------------------+--------------+-----+--------------------+--------------------+--------------------+\n",
      "|{null, null, [Goo...| Raffaello Kosher ...|       3.4|        [Restaurant]|This casual joint...|0x89c258ffaeaba94...|                NULL|        40.7568723|       -73.9804268|Raffaello Kosher ...|             8| NULL|[0x89c2f41bdce4dc...|                NULL|https://www.googl...|\n",
      "|{[Wheelchair acce...| Sgambati's New Yo...|       3.4|[Pizza restaurant...|                NULL|0x8802e40e3b00b01...|[[Thursday, 9:30A...|         44.465098|-87.94651689999999|Sgambati's New Yo...|            18| NULL|[0x8802e457c55113...|  Permanently closed|https://www.googl...|\n",
      "|{null, null, null...| Cafe Kristall, 70...|       5.0|  [Cafe, Restaurant]|Austrian cuisine ...|0x89c2598eb0b9083...|                NULL|        40.7224661|        -74.000283|       Cafe Kristall|             1|   $$|[0x89c25a18157c4c...|                NULL|https://www.googl...|\n",
      "|{null, null, null...| dinkies, 118 Baxt...|       5.0|[Bakery, Dessert ...|Inventive bakery ...|0x89c25a275e5088d...|[[Thursday, 11AM–...|        40.7179739|       -73.9992591|             dinkies|             3|    $|[0x89c25ba1f81f03...|  Permanently closed|https://www.googl...|\n",
      "|{null, null, null...| Caliente Cab Co, ...|       3.6|[Restaurant, Mexi...|Potent drinks & a...|0x89c259063d62f49...|[[Wednesday, 12PM...|         40.745304|        -73.978768|     Caliente Cab Co|            36|   $$|[0x89c259937544d0...|  Permanently closed|https://www.googl...|\n",
      "|{null, null, null...|〒11362 New York, ...|       4.0|        [Restaurant]|                NULL|0x89c289efdb82221...|[[Wednesday, 11:3...|        40.7700593|       -73.7355224|          李小龍台吃|            27| NULL|[0x89c289efe0d5d5...|Closed ⋅ Opens 11...|https://www.googl...|\n",
      "|{null, null, [Goo...| Harlem Crust Pizz...|       4.4|        [Restaurant]|                NULL|0x89c2f7d56c5ca3d...|[[Wednesday, 11AM...|        40.8200195|-73.94058749999999|  Harlem Crust Pizza|             7| NULL|                NULL|Closes soon ⋅ 10P...|https://www.googl...|\n",
      "|{null, null, [Goo...| Dough, 101 Ludlow...|       5.0|[Pizza restaurant...|                NULL|0x89c25943dffb2b2...|[[Wednesday, 11AM...|        40.7192145|-73.98899449999999|               Dough|             4| NULL|                NULL|  Temporarily closed|https://www.googl...|\n",
      "|{[Wheelchair acce...| FREEHOLD In The P...|       4.2|[Restaurant, Bar,...|Upscale Italian k...|0x89c259f744b20de...|[[Wednesday, 12PM...|40.736449799999995|       -73.9899257|FREEHOLD In The Park|            78| NULL|[0x89c259a27be431...|  Open ⋅ Closes 12AM|https://www.googl...|\n",
      "|{[Wheelchair acce...| Sushiro Seasonal ...|       3.8|        [Restaurant]|Modern, minimalis...|0x89c259a72beb76f...|[[Wednesday, 10:3...|40.740842099999995|-73.98545519999999|Sushiro Seasonal ...|            17| NULL|[0x89c258e5c8ff24...|  Permanently closed|https://www.googl...|\n",
      "|{[Wheelchair acce...| Fireball Restaura...|       4.3|        [Restaurant]|                NULL|0x89c2f7680217127...|[[Tuesday, 11AM–2...|        40.8385165|       -73.9411485| Fireball Restaurant|            68|   $$|[0x89c2f69da49e10...|Closes soon ⋅ 2AM...|https://www.googl...|\n",
      "|{null, null, [Goo...| Raffaello Kosher ...|       3.4|        [Restaurant]|This casual joint...|0x89c258ffaeaba94...|                NULL|        40.7568723|       -73.9804268|Raffaello Kosher ...|             8| NULL|[0x89c2f41bdce4dc...|                NULL|https://www.googl...|\n",
      "|{[Wheelchair acce...| Sgambati's New Yo...|       3.4|[Pizza restaurant...|                NULL|0x8802e40e3b00b01...|[[Thursday, 9:30A...|         44.465098|-87.94651689999999|Sgambati's New Yo...|            18| NULL|[0x8802e457c55113...|  Permanently closed|https://www.googl...|\n",
      "|{null, null, null...| Cafe Kristall, 70...|       5.0|  [Cafe, Restaurant]|Austrian cuisine ...|0x89c2598eb0b9083...|                NULL|        40.7224661|        -74.000283|       Cafe Kristall|             1|   $$|[0x89c25a18157c4c...|                NULL|https://www.googl...|\n",
      "|{null, null, null...| dinkies, 118 Baxt...|       5.0|[Bakery, Dessert ...|Inventive bakery ...|0x89c25a275e5088d...|[[Thursday, 11AM–...|        40.7179739|       -73.9992591|             dinkies|             3|    $|[0x89c25ba1f81f03...|  Permanently closed|https://www.googl...|\n",
      "|{null, null, null...| Caliente Cab Co, ...|       3.6|[Restaurant, Mexi...|Potent drinks & a...|0x89c259063d62f49...|[[Wednesday, 12PM...|         40.745304|        -73.978768|     Caliente Cab Co|            36|   $$|[0x89c259937544d0...|  Permanently closed|https://www.googl...|\n",
      "|{null, null, null...|〒11362 New York, ...|       4.0|        [Restaurant]|                NULL|0x89c289efdb82221...|[[Wednesday, 11:3...|        40.7700593|       -73.7355224|          李小龍台吃|            27| NULL|[0x89c289efe0d5d5...|Closed ⋅ Opens 11...|https://www.googl...|\n",
      "|{null, null, [Goo...| Harlem Crust Pizz...|       4.4|        [Restaurant]|                NULL|0x89c2f7d56c5ca3d...|[[Wednesday, 11AM...|        40.8200195|-73.94058749999999|  Harlem Crust Pizza|             7| NULL|                NULL|Closes soon ⋅ 10P...|https://www.googl...|\n",
      "|{null, null, [Goo...| Dough, 101 Ludlow...|       5.0|[Pizza restaurant...|                NULL|0x89c25943dffb2b2...|[[Wednesday, 11AM...|        40.7192145|-73.98899449999999|               Dough|             4| NULL|                NULL|  Temporarily closed|https://www.googl...|\n",
      "|{[Wheelchair acce...| FREEHOLD In The P...|       4.2|[Restaurant, Bar,...|Upscale Italian k...|0x89c259f744b20de...|[[Wednesday, 12PM...|40.736449799999995|       -73.9899257|FREEHOLD In The Park|            78| NULL|[0x89c259a27be431...|  Open ⋅ Closes 12AM|https://www.googl...|\n",
      "+--------------------+---------------------+----------+--------------------+--------------------+--------------------+--------------------+------------------+------------------+--------------------+--------------+-----+--------------------+--------------------+--------------------+\n",
      "only showing top 20 rows\n",
      "\n"
     ]
    }
   ],
   "source": [
    "# Filtrado de Datos por Categoría \"Restaurant\" que esten dentro de \"New York\"\n",
    "restaurantes_ny = metadata_df.filter(\n",
    "    (array_contains(F.col('category'), 'Restaurant')) &  # Asegura que sea un restaurante\n",
    "    (F.col('address').like('%New York%'))          # Asegura que el estado sea New York\n",
    ")\n",
    "\n",
    "# Mostrar el DataFrame resultante\n",
    "restaurantes_ny.show()"
   ]
  },
  {
   "cell_type": "code",
   "execution_count": 101,
   "metadata": {},
   "outputs": [
    {
     "name": "stdout",
     "output_type": "stream",
     "text": [
      "+--------------------+--------------------+----------+--------------------+--------------------+--------------------+--------------------+----------+------------------+--------------------+--------------+-----+--------------------+------------------+--------------------+\n",
      "|                MISC|             address|avg_rating|            category|         description|             gmap_id|               hours|  latitude|         longitude|                name|num_of_reviews|price|    relative_results|             state|                 url|\n",
      "+--------------------+--------------------+----------+--------------------+--------------------+--------------------+--------------------+----------+------------------+--------------------+--------------+-----+--------------------+------------------+--------------------+\n",
      "|{[Wheelchair acce...|Sgambati's New Yo...|       3.4|[Pizza restaurant...|                NULL|0x8802e40e3b00b01...|[[Thursday, 9:30A...| 44.465098|-87.94651689999999|Sgambati's New Yo...|            18| NULL|[0x8802e457c55113...|Permanently closed|https://www.googl...|\n",
      "|{[Wheelchair acce...|Sgambati's New Yo...|       3.4|[Pizza restaurant...|                NULL|0x8802e40e3b00b01...|[[Thursday, 9:30A...| 44.465098|-87.94651689999999|Sgambati's New Yo...|            18| NULL|[0x8802e457c55113...|Permanently closed|https://www.googl...|\n",
      "|{[Wheelchair-acce...|Sgambati's New Yo...|       4.2|[Pizza restaurant...|Brick-front pizza...|0x8802fee355be516...|[[Monday, 11AM–9P...|44.4318372|       -88.1245254|Sgambati's New Yo...|           608|   ₩₩|[0x8802fc6cde1101...| Open ⋅ Closes 9PM|https://www.googl...|\n",
      "+--------------------+--------------------+----------+--------------------+--------------------+--------------------+--------------------+----------+------------------+--------------------+--------------+-----+--------------------+------------------+--------------------+\n",
      "\n"
     ]
    }
   ],
   "source": [
    "# Filtrar los datos para incluir solo el restaurante \"Sgambati's New Yo\"\n",
    "resultado_sgambati = metadata_df.filter(F.col('name').like(\"%Sgambati's New Yo%\"))\n",
    "\n",
    "# Mostrar el DataFrame resultante\n",
    "resultado_sgambati.show()\n"
   ]
  },
  {
   "cell_type": "markdown",
   "metadata": {},
   "source": [
    "Se elegio como cliente **Sgambati's New York** y se busco las cantidades de negocios que tenia en este dataframe, dando como **resultados 3 locales, lo cual dos estan permanente cerrados** "
   ]
  },
  {
   "cell_type": "markdown",
   "metadata": {},
   "source": [
    "Procederemos a un analisis más profundo de nuestro dataFrame"
   ]
  },
  {
   "cell_type": "code",
   "execution_count": 11,
   "metadata": {},
   "outputs": [
    {
     "name": "stdout",
     "output_type": "stream",
     "text": [
      "root\n",
      " |-- MISC: string (nullable = true)\n",
      " |-- address: string (nullable = true)\n",
      " |-- avg_rating: double (nullable = true)\n",
      " |-- category: array (nullable = true)\n",
      " |    |-- element: string (containsNull = true)\n",
      " |-- description: string (nullable = true)\n",
      " |-- gmap_id: string (nullable = true)\n",
      " |-- hours: array (nullable = true)\n",
      " |    |-- element: array (containsNull = true)\n",
      " |    |    |-- element: string (containsNull = true)\n",
      " |-- latitude: double (nullable = true)\n",
      " |-- longitude: double (nullable = true)\n",
      " |-- name: string (nullable = true)\n",
      " |-- num_of_reviews: long (nullable = true)\n",
      " |-- price: string (nullable = true)\n",
      " |-- relative_results: array (nullable = true)\n",
      " |    |-- element: string (containsNull = true)\n",
      " |-- state: string (nullable = true)\n",
      " |-- url: string (nullable = true)\n",
      "\n"
     ]
    }
   ],
   "source": [
    "# Estructura del esquema del DataFrame \n",
    "metadata_df.printSchema()"
   ]
  },
  {
   "cell_type": "markdown",
   "metadata": {},
   "source": [
    "- __MISC:__ Cadena de caracteres que puede contener información adicional no estructurada.\n",
    "- __address:__ Dirección del lugar.\n",
    "- __avg_rating:__ Calificación promedio del lugar, representada como un número decimal.\n",
    "- __category:__ Array de cadenas que indica la categoría o categorías a las que pertenece el lugar.\n",
    "- __description:__ Descripción del lugar.\n",
    "- __gmap_id:__ Identificador único asociado al lugar en Google Maps.\n",
    "- __hours:__ Array de arrays de cadenas que representan los horarios de apertura y cierre del lugar para diferentes días de la semana.\n",
    "- __latitude:__ Coordenada de latitud del lugar.\n",
    "- __longitude:__ Coordenada de longitud del lugar.\n",
    "- __name:__ Nombre del lugar.\n",
    "- __num_of_reviews:__ Número total de revisiones realizadas sobre el lugar.\n",
    "- __price:__ Indicador del rango de precios del lugar.\n",
    "- __relative_results:__ Array de cadenas que puede contener información adicional sobre resultados relacionados.\n",
    "- __state:__ Estado o ubicación geográfica del lugar.\n",
    "- __url:__ URL asociada al lugar."
   ]
  },
  {
   "cell_type": "code",
   "execution_count": 12,
   "metadata": {},
   "outputs": [
    {
     "data": {
      "text/plain": [
       "3025011"
      ]
     },
     "execution_count": 12,
     "metadata": {},
     "output_type": "execute_result"
    }
   ],
   "source": [
    "# Conteo de Filas en el DataFrame\n",
    "metadata_df.count()"
   ]
  },
  {
   "cell_type": "code",
   "execution_count": 13,
   "metadata": {},
   "outputs": [
    {
     "data": {
      "text/html": [
       "<div>\n",
       "<style scoped>\n",
       "    .dataframe tbody tr th:only-of-type {\n",
       "        vertical-align: middle;\n",
       "    }\n",
       "\n",
       "    .dataframe tbody tr th {\n",
       "        vertical-align: top;\n",
       "    }\n",
       "\n",
       "    .dataframe thead th {\n",
       "        text-align: right;\n",
       "    }\n",
       "</style>\n",
       "<table border=\"1\" class=\"dataframe\">\n",
       "  <thead>\n",
       "    <tr style=\"text-align: right;\">\n",
       "      <th></th>\n",
       "      <th>MISC</th>\n",
       "      <th>address</th>\n",
       "      <th>avg_rating</th>\n",
       "      <th>category</th>\n",
       "      <th>description</th>\n",
       "      <th>gmap_id</th>\n",
       "      <th>hours</th>\n",
       "      <th>latitude</th>\n",
       "      <th>longitude</th>\n",
       "      <th>name</th>\n",
       "      <th>num_of_reviews</th>\n",
       "      <th>price</th>\n",
       "      <th>relative_results</th>\n",
       "      <th>state</th>\n",
       "      <th>url</th>\n",
       "    </tr>\n",
       "  </thead>\n",
       "  <tbody>\n",
       "    <tr>\n",
       "      <th>0</th>\n",
       "      <td>{[Wheelchair accessible entrance], null, null,...</td>\n",
       "      <td>Porter Pharmacy, 129 N Second St, Cochran, GA ...</td>\n",
       "      <td>4.9</td>\n",
       "      <td>[Pharmacy]</td>\n",
       "      <td>None</td>\n",
       "      <td>0x88f16e41928ff687:0x883dad4fd048e8f8</td>\n",
       "      <td>[[Friday, 8AM–6PM], [Saturday, 8AM–12PM], [Sun...</td>\n",
       "      <td>32.388300</td>\n",
       "      <td>-83.357100</td>\n",
       "      <td>Porter Pharmacy</td>\n",
       "      <td>16</td>\n",
       "      <td>None</td>\n",
       "      <td>[0x88f16e41929435cf:0x5b2532a2885e9ef6, 0x88f1...</td>\n",
       "      <td>Open ⋅ Closes 6PM</td>\n",
       "      <td>https://www.google.com/maps/place//data=!4m2!3...</td>\n",
       "    </tr>\n",
       "    <tr>\n",
       "      <th>1</th>\n",
       "      <td>None</td>\n",
       "      <td>City Textile, 3001 E Pico Blvd, Los Angeles, C...</td>\n",
       "      <td>4.5</td>\n",
       "      <td>[Textile exporter]</td>\n",
       "      <td>None</td>\n",
       "      <td>0x80c2c98c0e3c16fd:0x29ec8a728764fdf9</td>\n",
       "      <td>None</td>\n",
       "      <td>34.018891</td>\n",
       "      <td>-118.215290</td>\n",
       "      <td>City Textile</td>\n",
       "      <td>6</td>\n",
       "      <td>None</td>\n",
       "      <td>[0x80c2c624136ea88b:0xb0315367ed448771, 0x80c2...</td>\n",
       "      <td>Open now</td>\n",
       "      <td>https://www.google.com/maps/place//data=!4m2!3...</td>\n",
       "    </tr>\n",
       "    <tr>\n",
       "      <th>2</th>\n",
       "      <td>{[Wheelchair accessible entrance], null, [Good...</td>\n",
       "      <td>San Soo Dang, 761 S Vermont Ave, Los Angeles, ...</td>\n",
       "      <td>4.4</td>\n",
       "      <td>[Korean restaurant]</td>\n",
       "      <td>None</td>\n",
       "      <td>0x80c2c778e3b73d33:0xbdc58662a4a97d49</td>\n",
       "      <td>[[Thursday, 6:30AM–6PM], [Friday, 6:30AM–6PM],...</td>\n",
       "      <td>34.058092</td>\n",
       "      <td>-118.292130</td>\n",
       "      <td>San Soo Dang</td>\n",
       "      <td>18</td>\n",
       "      <td>None</td>\n",
       "      <td>[0x80c2c78249aba68f:0x35bf16ce61be751d, 0x80c2...</td>\n",
       "      <td>Open ⋅ Closes 6PM</td>\n",
       "      <td>https://www.google.com/maps/place//data=!4m2!3...</td>\n",
       "    </tr>\n",
       "    <tr>\n",
       "      <th>3</th>\n",
       "      <td>{null, null, null, null, null, null, null, nul...</td>\n",
       "      <td>Nova Fabrics, 2200 E 11th St, Los Angeles, CA ...</td>\n",
       "      <td>3.3</td>\n",
       "      <td>[Fabric store]</td>\n",
       "      <td>None</td>\n",
       "      <td>0x80c2c89923b27a41:0x32041559418d447</td>\n",
       "      <td>[[Thursday, 9AM–5PM], [Friday, 9AM–5PM], [Satu...</td>\n",
       "      <td>34.023669</td>\n",
       "      <td>-118.232930</td>\n",
       "      <td>Nova Fabrics</td>\n",
       "      <td>6</td>\n",
       "      <td>None</td>\n",
       "      <td>[0x80c2c8811477253f:0x23a8a492df1918f7, 0x80c2...</td>\n",
       "      <td>Open ⋅ Closes 5PM</td>\n",
       "      <td>https://www.google.com/maps/place//data=!4m2!3...</td>\n",
       "    </tr>\n",
       "    <tr>\n",
       "      <th>4</th>\n",
       "      <td>{null, null, null, null, null, null, null, nul...</td>\n",
       "      <td>Nobel Textile Co, 719 E 9th St, Los Angeles, C...</td>\n",
       "      <td>4.3</td>\n",
       "      <td>[Fabric store]</td>\n",
       "      <td>None</td>\n",
       "      <td>0x80c2c632f933b073:0xc31785961fe826a6</td>\n",
       "      <td>[[Thursday, 9AM–5PM], [Friday, 9AM–5PM], [Satu...</td>\n",
       "      <td>34.036694</td>\n",
       "      <td>-118.249421</td>\n",
       "      <td>Nobel Textile Co</td>\n",
       "      <td>7</td>\n",
       "      <td>None</td>\n",
       "      <td>[0x80c2c62c496083d1:0xdefa11317fe870a1, 0x80c2...</td>\n",
       "      <td>Open ⋅ Closes 5PM</td>\n",
       "      <td>https://www.google.com/maps/place//data=!4m2!3...</td>\n",
       "    </tr>\n",
       "  </tbody>\n",
       "</table>\n",
       "</div>"
      ],
      "text/plain": [
       "                                                                                                                                                                                                                                      MISC                                                 address  avg_rating             category description                                gmap_id                                                                                                                                                         hours   latitude   longitude              name  num_of_reviews price                                                                                                                                                                                     relative_results              state                                                                                                               url\n",
       "0  {[Wheelchair accessible entrance], null, null, null, null, null, null, null, [Mask required, Staff required to disinfect surfaces between visits], null, null, null, [Quick visit], null, null, [In-store shopping, Same-day delivery]}     Porter Pharmacy, 129 N Second St, Cochran, GA 31014         4.9           [Pharmacy]        None  0x88f16e41928ff687:0x883dad4fd048e8f8                [[Friday, 8AM–6PM], [Saturday, 8AM–12PM], [Sunday, Closed], [Monday, 8AM–6PM], [Tuesday, 8AM–6PM], [Wednesday, 8AM–12PM], [Thursday, 8AM–6PM]]  32.388300  -83.357100   Porter Pharmacy              16  None                                                                                [0x88f16e41929435cf:0x5b2532a2885e9ef6, 0x88f16c32716531c1:0x5f19bdaa5044e4fa, 0x88f16e6e3f4a21df:0xcf495da9bb4d89ea]  Open ⋅ Closes 6PM  https://www.google.com/maps/place//data=!4m2!3m1!1s0x88f16e41928ff687:0x883dad4fd048e8f8?authuser=-1&hl=en&gl=us\n",
       "1                                                                                                                                                                                                                                     None   City Textile, 3001 E Pico Blvd, Los Angeles, CA 90023         4.5   [Textile exporter]        None  0x80c2c98c0e3c16fd:0x29ec8a728764fdf9                                                                                                                                                          None  34.018891 -118.215290      City Textile               6  None                                                                                                                       [0x80c2c624136ea88b:0xb0315367ed448771, 0x80c2c97cb7c52f17:0xb66ee68c1c366f2d]           Open now  https://www.google.com/maps/place//data=!4m2!3m1!1s0x80c2c98c0e3c16fd:0x29ec8a728764fdf9?authuser=-1&hl=en&gl=us\n",
       "2                                                            {[Wheelchair accessible entrance], null, [Good for kids], [Casual], null, null, null, null, null, null, [Comfort food], null, null, null, null, [Takeout, Dine-in, Delivery]}  San Soo Dang, 761 S Vermont Ave, Los Angeles, CA 90005         4.4  [Korean restaurant]        None  0x80c2c778e3b73d33:0xbdc58662a4a97d49  [[Thursday, 6:30AM–6PM], [Friday, 6:30AM–6PM], [Saturday, 6:30AM–6PM], [Sunday, 7AM–12PM], [Monday, Closed], [Tuesday, 6:30AM–6PM], [Wednesday, 6:30AM–6PM]]  34.058092 -118.292130      San Soo Dang              18  None  [0x80c2c78249aba68f:0x35bf16ce61be751d, 0x80c2c79998f75fff:0xd7ca5c67e96fb778, 0x80c2b899146d7507:0xf4162c12c9cf65f8, 0x80c2c77f2d419951:0x26285631b21e324c, 0x80c2b8add9016015:0x15836f81a963b35f]  Open ⋅ Closes 6PM  https://www.google.com/maps/place//data=!4m2!3m1!1s0x80c2c778e3b73d33:0xbdc58662a4a97d49?authuser=-1&hl=en&gl=us\n",
       "3                                                                                           {null, null, null, null, null, null, null, null, null, null, null, [Checks, Debit cards, Credit cards], null, null, null, [In-store shopping]}     Nova Fabrics, 2200 E 11th St, Los Angeles, CA 90021         3.3       [Fabric store]        None   0x80c2c89923b27a41:0x32041559418d447                   [[Thursday, 9AM–5PM], [Friday, 9AM–5PM], [Saturday, Closed], [Sunday, Closed], [Monday, 9AM–5PM], [Tuesday, 9AM–5PM], [Wednesday, 9AM–5PM]]  34.023669 -118.232930      Nova Fabrics               6  None  [0x80c2c8811477253f:0x23a8a492df1918f7, 0x80c2c6333ea5aaa7:0x38c93218b0d5751b, 0x80c2c633235effa1:0x384bf96fe70cbbc7, 0x80c2c6295991d031:0x8516999f61103f87, 0x80c2c63331db7ec5:0x507f59d850d36691]  Open ⋅ Closes 5PM   https://www.google.com/maps/place//data=!4m2!3m1!1s0x80c2c89923b27a41:0x32041559418d447?authuser=-1&hl=en&gl=us\n",
       "4                                                                                                                            {null, null, null, null, null, null, null, null, null, null, null, null, null, null, null, [In-store pickup]}   Nobel Textile Co, 719 E 9th St, Los Angeles, CA 90021         4.3       [Fabric store]        None  0x80c2c632f933b073:0xc31785961fe826a6                   [[Thursday, 9AM–5PM], [Friday, 9AM–5PM], [Saturday, Closed], [Sunday, Closed], [Monday, 9AM–5PM], [Tuesday, 9AM–5PM], [Wednesday, 9AM–5PM]]  34.036694 -118.249421  Nobel Textile Co               7  None                                           [0x80c2c62c496083d1:0xdefa11317fe870a1, 0x80c2c6333ea5aaa7:0x38c93218b0d5751b, 0x80c2c632158d209d:0xe23b0235cc969407, 0x80c2c881faa0ca0f:0xe0806e3c88dbd1]  Open ⋅ Closes 5PM  https://www.google.com/maps/place//data=!4m2!3m1!1s0x80c2c632f933b073:0xc31785961fe826a6?authuser=-1&hl=en&gl=us"
      ]
     },
     "execution_count": 13,
     "metadata": {},
     "output_type": "execute_result"
    }
   ],
   "source": [
    "# Conversión de DataFrame de Spark a DataFrame de Pandas\n",
    "metadata_psdf = metadata_df.to_pandas()\n",
    "\n",
    "# Mostrar las primeras filas del DataFrame de Pandas\n",
    "metadata_psdf.head()\n",
    "     "
   ]
  },
  {
   "cell_type": "code",
   "execution_count": 14,
   "metadata": {},
   "outputs": [
    {
     "data": {
      "text/plain": [
       "26582"
      ]
     },
     "execution_count": 14,
     "metadata": {},
     "output_type": "execute_result"
    }
   ],
   "source": [
    "# Conteo de Filas Duplicadas en el DataFrame de Pandas\n",
    "filas_duplicadas = metadata_psdf.duplicated().sum()"
   ]
  },
  {
   "cell_type": "code",
   "execution_count": 15,
   "metadata": {},
   "outputs": [
    {
     "data": {
      "text/plain": [
       "'Porter Pharmacy, 129 N Second St, Cochran, GA 31014'"
      ]
     },
     "execution_count": 15,
     "metadata": {},
     "output_type": "execute_result"
    }
   ],
   "source": [
    "# Acceso al Valor de la Columna \"address\" en la Primera Fila del DataFrame de Pandas\n",
    "metadata_psdf.address[0]"
   ]
  },
  {
   "cell_type": "code",
   "execution_count": 16,
   "metadata": {},
   "outputs": [
    {
     "data": {
      "text/plain": [
       "['0x88f16e41929435cf:0x5b2532a2885e9ef6',\n",
       " '0x88f16c32716531c1:0x5f19bdaa5044e4fa',\n",
       " '0x88f16e6e3f4a21df:0xcf495da9bb4d89ea']"
      ]
     },
     "execution_count": 16,
     "metadata": {},
     "output_type": "execute_result"
    }
   ],
   "source": [
    "# Acceso al Valor de la Columna \"relative_results\" en la Primera Fila del DataFrame de Pandas\n",
    "metadata_psdf.relative_results[0]"
   ]
  },
  {
   "cell_type": "code",
   "execution_count": 17,
   "metadata": {},
   "outputs": [
    {
     "data": {
      "text/plain": [
       "'Open ⋅ Closes 6PM'"
      ]
     },
     "execution_count": 17,
     "metadata": {},
     "output_type": "execute_result"
    }
   ],
   "source": [
    "# Acceso al Valor de la Columna \"state\" en la Primera Fila del DataFrame de Pandas\n",
    "metadata_psdf.state[0]"
   ]
  },
  {
   "cell_type": "code",
   "execution_count": 18,
   "metadata": {},
   "outputs": [
    {
     "data": {
      "text/plain": [
       "'https://www.google.com/maps/place//data=!4m2!3m1!1s0x88f16e41928ff687:0x883dad4fd048e8f8?authuser=-1&hl=en&gl=us'"
      ]
     },
     "execution_count": 18,
     "metadata": {},
     "output_type": "execute_result"
    }
   ],
   "source": [
    "# Acceso al Valor de la Columna \"url\" en la Primera Fila del DataFrame de Pandas\n",
    "metadata_psdf.url[0]"
   ]
  },
  {
   "cell_type": "code",
   "execution_count": 19,
   "metadata": {},
   "outputs": [
    {
     "data": {
      "text/plain": [
       "4471"
      ]
     },
     "execution_count": 19,
     "metadata": {},
     "output_type": "execute_result"
    }
   ],
   "source": [
    "# Conteo de Valores Únicos después de Explode en la Columna \"category\" del DataFrame de Pandas\n",
    "metadata_psdf.category.explode().nunique()"
   ]
  },
  {
   "cell_type": "code",
   "execution_count": 20,
   "metadata": {},
   "outputs": [
    {
     "data": {
      "text/html": [
       "<div>\n",
       "<style scoped>\n",
       "    .dataframe tbody tr th:only-of-type {\n",
       "        vertical-align: middle;\n",
       "    }\n",
       "\n",
       "    .dataframe tbody tr th {\n",
       "        vertical-align: top;\n",
       "    }\n",
       "\n",
       "    .dataframe thead th {\n",
       "        text-align: right;\n",
       "    }\n",
       "</style>\n",
       "<table border=\"1\" class=\"dataframe\">\n",
       "  <thead>\n",
       "    <tr style=\"text-align: right;\">\n",
       "      <th></th>\n",
       "      <th>count</th>\n",
       "      <th>%</th>\n",
       "    </tr>\n",
       "  </thead>\n",
       "  <tbody>\n",
       "    <tr>\n",
       "      <th>Restaurant</th>\n",
       "      <td>97257</td>\n",
       "      <td>3.22</td>\n",
       "    </tr>\n",
       "    <tr>\n",
       "      <th>Auto repair shop</th>\n",
       "      <td>77854</td>\n",
       "      <td>2.57</td>\n",
       "    </tr>\n",
       "    <tr>\n",
       "      <th>Gas station</th>\n",
       "      <td>70143</td>\n",
       "      <td>2.32</td>\n",
       "    </tr>\n",
       "    <tr>\n",
       "      <th>Service establishment</th>\n",
       "      <td>66476</td>\n",
       "      <td>2.20</td>\n",
       "    </tr>\n",
       "    <tr>\n",
       "      <th>Beauty salon</th>\n",
       "      <td>65717</td>\n",
       "      <td>2.17</td>\n",
       "    </tr>\n",
       "    <tr>\n",
       "      <th>Convenience store</th>\n",
       "      <td>62165</td>\n",
       "      <td>2.06</td>\n",
       "    </tr>\n",
       "    <tr>\n",
       "      <th>Church</th>\n",
       "      <td>53069</td>\n",
       "      <td>1.75</td>\n",
       "    </tr>\n",
       "    <tr>\n",
       "      <th>Hair salon</th>\n",
       "      <td>51765</td>\n",
       "      <td>1.71</td>\n",
       "    </tr>\n",
       "    <tr>\n",
       "      <th>Nail salon</th>\n",
       "      <td>44597</td>\n",
       "      <td>1.47</td>\n",
       "    </tr>\n",
       "    <tr>\n",
       "      <th>ATM</th>\n",
       "      <td>42452</td>\n",
       "      <td>1.40</td>\n",
       "    </tr>\n",
       "  </tbody>\n",
       "</table>\n",
       "</div>"
      ],
      "text/plain": [
       "                       count     %\n",
       "Restaurant             97257  3.22\n",
       "Auto repair shop       77854  2.57\n",
       "Gas station            70143  2.32\n",
       "Service establishment  66476  2.20\n",
       "Beauty salon           65717  2.17\n",
       "Convenience store      62165  2.06\n",
       "Church                 53069  1.75\n",
       "Hair salon             51765  1.71\n",
       "Nail salon             44597  1.47\n",
       "ATM                    42452  1.40"
      ]
     },
     "execution_count": 20,
     "metadata": {},
     "output_type": "execute_result"
    }
   ],
   "source": [
    "# Conteo y Porcentaje de Categorías en la Columna \"category\" del DataFrame de Pandas\n",
    "metadata_categories = metadata_psdf.category.explode().value_counts().to_frame(name='count')\n",
    "metadata_categories['%'] = (metadata_categories['count']/len(metadata_psdf) * 100).round(2)\n",
    "\n",
    "# Mostrar las 10 Categorías Principales junto con sus Conteos y Porcentajes\n",
    "metadata_categories.head(10)"
   ]
  },
  {
   "cell_type": "markdown",
   "metadata": {},
   "source": [
    "Esto proporciona una visión general de las categorías más comunes en los datos, junto con su frecuencia relativa en forma de porcentaje."
   ]
  },
  {
   "cell_type": "markdown",
   "metadata": {},
   "source": [
    "# __REVIEWS-ESTADOS__"
   ]
  },
  {
   "cell_type": "markdown",
   "metadata": {},
   "source": [
    "### Dataset: REVIEWS-NEW_YORK"
   ]
  },
  {
   "cell_type": "markdown",
   "metadata": {},
   "source": [
    "Leer con pyspark"
   ]
  },
  {
   "cell_type": "code",
   "execution_count": 21,
   "metadata": {},
   "outputs": [],
   "source": [
    "# Ruta del directorio que contiene los archivos de reseñas de Nueva York\n",
    "ruta_reviews_ny = r\"C:/Users/Usuario/Desktop/Proyecto Final/review-New_York\"\n",
    "\n",
    "# Lista para almacenar los DataFrames de reseñas de Nueva York\n",
    "rw_newyork_df = []\n",
    "\n",
    "# Inicialización de variables\n",
    "i = 1\n",
    "bandera = True\n",
    "\n",
    "# Bucle para leer los archivos JSON de reseñas de Nueva York\n",
    "while bandera:\n",
    "    try:\n",
    "        # Lectura del archivo JSON utilizando Spark y agregándolo a la lista\n",
    "        archivo = spark.read.json(f\"{ruta_reviews_ny}/{i}.json\")\n",
    "        rw_newyork_df.append(archivo)\n",
    "        i += 1\n",
    "    except:\n",
    "        # Finalización del bucle si no hay más archivos\n",
    "        bandera = False\n",
    "# DataFrame final para almacenar las reseñas de Nueva York combinadas\n",
    "df_final_reviews_ny = rw_newyork_df[0]\n",
    "# Unión de los DataFrames de reseñas de Nueva York\n",
    "for dataframe in rw_newyork_df[1:]:\n",
    "    df_final_reviews_ny = df_final_reviews_ny.unionByName(dataframe)\n",
    "# Sobrescribir rw_newyork_df con el DataFrame final combinado\n",
    "rw_newyork_df = df_final_reviews_ny\n"
   ]
  },
  {
   "cell_type": "code",
   "execution_count": 22,
   "metadata": {},
   "outputs": [
    {
     "name": "stdout",
     "output_type": "stream",
     "text": [
      "+--------------------+--------------------+--------------------+------+--------------------+--------------------+-------------+--------------------+\n",
      "|             gmap_id|                name|                pics|rating|                resp|                text|         time|             user_id|\n",
      "+--------------------+--------------------+--------------------+------+--------------------+--------------------+-------------+--------------------+\n",
      "|0x89c25fc9494dce4...|      Alvin Martinez|[{[https://lh5.go...|     5|                NULL|I'm late to posti...|1603494795361|11372210469230823...|\n",
      "|0x89c25fc9494dce4...|     Johnnie Jackson|                NULL|     1|{We pride ourselv...|Very dissatisfied...|1620157037403|10729344149210932...|\n",
      "|0x89c25fc9494dce4...|        Manie Blazer|                NULL|     5|                NULL|Excellent very we...|1597431662039|10037858580181940...|\n",
      "|0x89c25fc9494dce4...|      Fashion Fiinds|                NULL|     5|{Thanks for the a...|Basing my review ...|1543773862044|11499816115301982...|\n",
      "|0x89c25fc9494dce4...|      Andres Rieloff|                NULL|     1|                NULL|Bad! Disorganized...|1597279097718|11717818572842229...|\n",
      "|0x89c25fc9494dce4...|   claribel placeres|                NULL|     1|                NULL|Worse customer ev...|1456098569126|11055512483166433...|\n",
      "|0x89c25fc9494dce4...|        Manie Blazer|                NULL|     5|                NULL|Excellent very we...|1597431662039|10037858580181940...|\n",
      "|0x89c25fc9494dce4...|   claribel placeres|                NULL|     1|                NULL|Worse customer ev...|1456098569126|11055512483166433...|\n",
      "|0x89c25fc9494dce4...|       Mireya Robles|                NULL|     5|{We love our T-Mo...|(Translated by Go...|1614117783581|11027085689719977...|\n",
      "|0x89c25fc9494dce4...|Jose Abimelec “ME...|                NULL|     5|                NULL|(Translated by Go...|1603310536331|11018246194682118...|\n",
      "|0x89c25fc9494dce4...|       Thomas Schmid|                NULL|     4|                NULL|(Translated by Go...|1469775211732|11009832941668217...|\n",
      "|0x89c25fc9494dce4...|           Ramon Coj|                NULL|     4|                NULL|(Translated by Go...|1529458074142|10958366381447636...|\n",
      "|0x89c25fc9494dce4...|       Sol Brillante|                NULL|     5|                NULL|(Translated by Go...|1489859075479|10536279556931633...|\n",
      "|0x89c25fc9494dce4...|      Jose l. Orduna|                NULL|     1|                NULL|(Translated by Go...|1530211344356|11675595500793973...|\n",
      "|0x89c25fc9494dce4...|         Juanjose A.|                NULL|     1|                NULL|(Translated by Go...|1460605543817|11407485266563370...|\n",
      "|0x89c25fc9494dce4...|     Oscar Fernandez|                NULL|     1|                NULL|(Translated by Go...|1489106271091|10549910428286469...|\n",
      "|0x89c25fc9494dce4...|      Renato Vanegas|[{[https://lh5.go...|     5|{(Translated by G...|(Translated by Go...|1543452106697|10650755205352997...|\n",
      "|0x89c25fc9494dce4...|    Tatiana Martinez|                NULL|     1|{We are sad to he...|(Translated by Go...|1553625245873|10776215246482482...|\n",
      "|0x89c25fc9494dce4...|    Rafael Bacuilima|                NULL|     5|                NULL|                NULL|1592264617160|10492724686594474...|\n",
      "|0x89c25fc9494dce4...|      Hamzeh Emriesh|                NULL|     5|                NULL|                NULL|1611798876088|11610275551580018...|\n",
      "+--------------------+--------------------+--------------------+------+--------------------+--------------------+-------------+--------------------+\n",
      "only showing top 20 rows\n",
      "\n"
     ]
    }
   ],
   "source": [
    "# Mostrar el DataFrame\n",
    "rw_newyork_df.show()"
   ]
  },
  {
   "cell_type": "code",
   "execution_count": 23,
   "metadata": {},
   "outputs": [
    {
     "data": {
      "text/plain": [
       "2700000"
      ]
     },
     "execution_count": 23,
     "metadata": {},
     "output_type": "execute_result"
    }
   ],
   "source": [
    "# Conteo de Filas en el DataFrame\n",
    "rw_newyork_df.count()"
   ]
  },
  {
   "cell_type": "code",
   "execution_count": 24,
   "metadata": {},
   "outputs": [
    {
     "name": "stdout",
     "output_type": "stream",
     "text": [
      "root\n",
      " |-- gmap_id: string (nullable = true)\n",
      " |-- name: string (nullable = true)\n",
      " |-- pics: array (nullable = true)\n",
      " |    |-- element: struct (containsNull = true)\n",
      " |    |    |-- url: array (nullable = true)\n",
      " |    |    |    |-- element: string (containsNull = true)\n",
      " |-- rating: long (nullable = true)\n",
      " |-- resp: struct (nullable = true)\n",
      " |    |-- text: string (nullable = true)\n",
      " |    |-- time: long (nullable = true)\n",
      " |-- text: string (nullable = true)\n",
      " |-- time: long (nullable = true)\n",
      " |-- user_id: string (nullable = true)\n",
      "\n"
     ]
    }
   ],
   "source": [
    "# Estructura del esquema del DataFrame \n",
    "rw_newyork_df.printSchema()"
   ]
  },
  {
   "cell_type": "code",
   "execution_count": 25,
   "metadata": {},
   "outputs": [],
   "source": [
    "# Conversión de un timestamp a un formato de tiempo legible\n",
    "time = F.from_unixtime('1633197305')"
   ]
  },
  {
   "cell_type": "code",
   "execution_count": 26,
   "metadata": {},
   "outputs": [
    {
     "name": "stdout",
     "output_type": "stream",
     "text": [
      "+--------------------+\n",
      "|                time|\n",
      "+--------------------+\n",
      "|+52782-09-23 09:5...|\n",
      "|+53310-09-25 10:3...|\n",
      "|+52590-08-05 06:1...|\n",
      "|+50890-03-30 21:4...|\n",
      "|+52585-10-04 11:1...|\n",
      "|+48111-12-05 13:4...|\n",
      "|+52590-08-05 06:1...|\n",
      "|+48111-12-05 13:4...|\n",
      "|+53119-05-11 15:5...|\n",
      "|+52776-11-20 18:5...|\n",
      "|+48545-04-28 01:0...|\n",
      "|+50436-08-05 22:0...|\n",
      "|+49181-10-03 04:1...|\n",
      "|+50460-06-19 07:4...|\n",
      "|+48254-09-30 15:1...|\n",
      "|+49157-11-25 03:5...|\n",
      "|+50880-01-18 21:1...|\n",
      "|+51202-06-04 13:1...|\n",
      "|+52426-11-09 11:5...|\n",
      "|+53045-11-15 11:0...|\n",
      "+--------------------+\n",
      "only showing top 20 rows\n",
      "\n"
     ]
    }
   ],
   "source": [
    "# Conversión de la columna 'time' de tipo timestamp a un formato de tiempo legible\n",
    "rw_newyork_df = rw_newyork_df.withColumn('time', F.from_unixtime('time'))\n",
    "# Mostrar la columna 'time' después de la conversión\n",
    "rw_newyork_df.select(\"time\").show()"
   ]
  },
  {
   "cell_type": "code",
   "execution_count": 27,
   "metadata": {},
   "outputs": [
    {
     "name": "stdout",
     "output_type": "stream",
     "text": [
      "+--------------------+\n",
      "|                time|\n",
      "+--------------------+\n",
      "|+52782-09-23 09:5...|\n",
      "|+53310-09-25 10:3...|\n",
      "|+52590-08-05 06:1...|\n",
      "|+50890-03-30 21:4...|\n",
      "|+52585-10-04 11:1...|\n",
      "|+48111-12-05 13:4...|\n",
      "|+52590-08-05 06:1...|\n",
      "|+48111-12-05 13:4...|\n",
      "|+53119-05-11 15:5...|\n",
      "|+52776-11-20 18:5...|\n",
      "|+48545-04-28 01:0...|\n",
      "|+50436-08-05 22:0...|\n",
      "|+49181-10-03 04:1...|\n",
      "|+50460-06-19 07:4...|\n",
      "|+48254-09-30 15:1...|\n",
      "|+49157-11-25 03:5...|\n",
      "|+50880-01-18 21:1...|\n",
      "|+51202-06-04 13:1...|\n",
      "|+52426-11-09 11:5...|\n",
      "|+53045-11-15 11:0...|\n",
      "+--------------------+\n",
      "only showing top 20 rows\n",
      "\n"
     ]
    }
   ],
   "source": [
    "# Conversión de la columna 'time' de tipo timestamp a un formato de tiempo legible con un formato específico\n",
    "rw_newyork_df_ = rw_newyork_df.withColumn('time', F.from_unixtime('time', 'yyyy-MM-dd HH:mm:ss'))\n",
    "# Mostrar la columna 'time' después de la conversión\n",
    "rw_newyork_df.select(\"time\").show()"
   ]
  },
  {
   "cell_type": "code",
   "execution_count": 28,
   "metadata": {},
   "outputs": [
    {
     "name": "stdout",
     "output_type": "stream",
     "text": [
      "+--------------------+\n",
      "|                time|\n",
      "+--------------------+\n",
      "|+52782-09-23 09:5...|\n",
      "|+53310-09-25 10:3...|\n",
      "|+52590-08-05 06:1...|\n",
      "|+50890-03-30 21:4...|\n",
      "|+52585-10-04 11:1...|\n",
      "|+48111-12-05 13:4...|\n",
      "|+52590-08-05 06:1...|\n",
      "|+48111-12-05 13:4...|\n",
      "|+53119-05-11 15:5...|\n",
      "|+52776-11-20 18:5...|\n",
      "|+48545-04-28 01:0...|\n",
      "|+50436-08-05 22:0...|\n",
      "|+49181-10-03 04:1...|\n",
      "|+50460-06-19 07:4...|\n",
      "|+48254-09-30 15:1...|\n",
      "|+49157-11-25 03:5...|\n",
      "|+50880-01-18 21:1...|\n",
      "|+51202-06-04 13:1...|\n",
      "|+52426-11-09 11:5...|\n",
      "|+53045-11-15 11:0...|\n",
      "+--------------------+\n",
      "only showing top 20 rows\n",
      "\n"
     ]
    }
   ],
   "source": [
    "# Convierte la columna 'time' a formato de fecha y hora\n",
    "rw_newyork_df = rw_newyork_df.withColumn('time', F.from_unixtime(F.unix_timestamp('time')))\n",
    "\n",
    "# Muestra los resultados\n",
    "rw_newyork_df.select(\"time\").show()"
   ]
  },
  {
   "cell_type": "markdown",
   "metadata": {},
   "source": [
    "LEER CON PANDAS"
   ]
  },
  {
   "cell_type": "code",
   "execution_count": 33,
   "metadata": {},
   "outputs": [
    {
     "name": "stdout",
     "output_type": "stream",
     "text": [
      "<class 'pandas.core.frame.DataFrame'>\n",
      "Index: 150000 entries, 0 to 149999\n",
      "Data columns (total 8 columns):\n",
      " #   Column   Non-Null Count   Dtype   \n",
      "---  ------   --------------   -----   \n",
      " 0   user_id  150000 non-null  category\n",
      " 1   name     150000 non-null  object  \n",
      " 2   time     150000 non-null  int64   \n",
      " 3   rating   150000 non-null  int64   \n",
      " 4   text     87324 non-null   object  \n",
      " 5   pics     4596 non-null    object  \n",
      " 6   resp     16838 non-null   object  \n",
      " 7   gmap_id  150000 non-null  object  \n",
      "dtypes: category(1), int64(2), object(5)\n",
      "memory usage: 14.6+ MB\n",
      "None\n"
     ]
    },
    {
     "data": {
      "text/html": [
       "<div>\n",
       "<style scoped>\n",
       "    .dataframe tbody tr th:only-of-type {\n",
       "        vertical-align: middle;\n",
       "    }\n",
       "\n",
       "    .dataframe tbody tr th {\n",
       "        vertical-align: top;\n",
       "    }\n",
       "\n",
       "    .dataframe thead th {\n",
       "        text-align: right;\n",
       "    }\n",
       "</style>\n",
       "<table border=\"1\" class=\"dataframe\">\n",
       "  <thead>\n",
       "    <tr style=\"text-align: right;\">\n",
       "      <th></th>\n",
       "      <th>user_id</th>\n",
       "      <th>name</th>\n",
       "      <th>time</th>\n",
       "      <th>rating</th>\n",
       "      <th>text</th>\n",
       "      <th>pics</th>\n",
       "      <th>resp</th>\n",
       "      <th>gmap_id</th>\n",
       "    </tr>\n",
       "  </thead>\n",
       "  <tbody>\n",
       "    <tr>\n",
       "      <th>0</th>\n",
       "      <td>113722104692308235141</td>\n",
       "      <td>Alvin Martinez</td>\n",
       "      <td>1603494795361</td>\n",
       "      <td>5</td>\n",
       "      <td>I'm late to posting this but this store especi...</td>\n",
       "      <td>[{'url': ['https://lh5.googleusercontent.com/p...</td>\n",
       "      <td>None</td>\n",
       "      <td>0x89c25fc9494dce47:0x6d63c807b59a55</td>\n",
       "    </tr>\n",
       "    <tr>\n",
       "      <th>1</th>\n",
       "      <td>107293441492109320298</td>\n",
       "      <td>Johnnie Jackson</td>\n",
       "      <td>1620157037403</td>\n",
       "      <td>1</td>\n",
       "      <td>Very dissatisfied I did not get my phone the p...</td>\n",
       "      <td>None</td>\n",
       "      <td>{'time': 1620268360920, 'text': 'We pride ours...</td>\n",
       "      <td>0x89c25fc9494dce47:0x6d63c807b59a55</td>\n",
       "    </tr>\n",
       "    <tr>\n",
       "      <th>2</th>\n",
       "      <td>100378585801819400296</td>\n",
       "      <td>Manie Blazer</td>\n",
       "      <td>1597431662039</td>\n",
       "      <td>5</td>\n",
       "      <td>Excellent very well done with professional car...</td>\n",
       "      <td>None</td>\n",
       "      <td>None</td>\n",
       "      <td>0x89c25fc9494dce47:0x6d63c807b59a55</td>\n",
       "    </tr>\n",
       "    <tr>\n",
       "      <th>3</th>\n",
       "      <td>114998161153019826512</td>\n",
       "      <td>Fashion Fiinds</td>\n",
       "      <td>1543773862044</td>\n",
       "      <td>5</td>\n",
       "      <td>Basing my review strictly on the service I rec...</td>\n",
       "      <td>None</td>\n",
       "      <td>{'time': 1543855317372, 'text': 'Thanks for th...</td>\n",
       "      <td>0x89c25fc9494dce47:0x6d63c807b59a55</td>\n",
       "    </tr>\n",
       "    <tr>\n",
       "      <th>4</th>\n",
       "      <td>117178185728422297915</td>\n",
       "      <td>Andres Rieloff</td>\n",
       "      <td>1597279097718</td>\n",
       "      <td>1</td>\n",
       "      <td>Bad! Disorganized. I'm being totally honest. I...</td>\n",
       "      <td>None</td>\n",
       "      <td>None</td>\n",
       "      <td>0x89c25fc9494dce47:0x6d63c807b59a55</td>\n",
       "    </tr>\n",
       "  </tbody>\n",
       "</table>\n",
       "</div>"
      ],
      "text/plain": [
       "                 user_id             name           time  rating  \\\n",
       "0  113722104692308235141   Alvin Martinez  1603494795361       5   \n",
       "1  107293441492109320298  Johnnie Jackson  1620157037403       1   \n",
       "2  100378585801819400296     Manie Blazer  1597431662039       5   \n",
       "3  114998161153019826512   Fashion Fiinds  1543773862044       5   \n",
       "4  117178185728422297915   Andres Rieloff  1597279097718       1   \n",
       "\n",
       "                                                text  \\\n",
       "0  I'm late to posting this but this store especi...   \n",
       "1  Very dissatisfied I did not get my phone the p...   \n",
       "2  Excellent very well done with professional car...   \n",
       "3  Basing my review strictly on the service I rec...   \n",
       "4  Bad! Disorganized. I'm being totally honest. I...   \n",
       "\n",
       "                                                pics  \\\n",
       "0  [{'url': ['https://lh5.googleusercontent.com/p...   \n",
       "1                                               None   \n",
       "2                                               None   \n",
       "3                                               None   \n",
       "4                                               None   \n",
       "\n",
       "                                                resp  \\\n",
       "0                                               None   \n",
       "1  {'time': 1620268360920, 'text': 'We pride ours...   \n",
       "2                                               None   \n",
       "3  {'time': 1543855317372, 'text': 'Thanks for th...   \n",
       "4                                               None   \n",
       "\n",
       "                               gmap_id  \n",
       "0  0x89c25fc9494dce47:0x6d63c807b59a55  \n",
       "1  0x89c25fc9494dce47:0x6d63c807b59a55  \n",
       "2  0x89c25fc9494dce47:0x6d63c807b59a55  \n",
       "3  0x89c25fc9494dce47:0x6d63c807b59a55  \n",
       "4  0x89c25fc9494dce47:0x6d63c807b59a55  "
      ]
     },
     "execution_count": 33,
     "metadata": {},
     "output_type": "execute_result"
    }
   ],
   "source": [
    "# Ruta al archivo JSON de reseñas de Nueva York\n",
    "data_path = \"C:/Users/Usuario/Desktop/Proyecto Final/review-New_York/1.json\"\n",
    "# Lectura del archivo JSON utilizando Pandas\n",
    "# Se especifica 'lines=True' para cargar un archivo JSON con múltiples objetos JSON separados por líneas\n",
    "# El parámetro 'dtype' se utiliza para especificar el tipo de datos de la columna 'user_id' como 'category' para optimizar el uso de memoria\n",
    "rw_NewYork_1 = pd.read_json(data_path, lines=True, dtype={'user_id': 'category'})\n",
    "\n",
    "# Mostrar información sobre el DataFrame cargado\n",
    "print(rw_NewYork_1.info())\n",
    "# Mostrar las primeras filas del DataFrame\n",
    "rw_NewYork_1.head()"
   ]
  },
  {
   "cell_type": "markdown",
   "metadata": {},
   "source": [
    "### Información del DataFrame:\n",
    "- __Tipo de Objeto:__ DataFrame de Pandas\n",
    "- __Índice:__ 150,000 entradas indexadas desde 0 hasta 149,999\n",
    "- __Columnas de Datos:__ Hay un total de 8 columnas de datos en el DataFrame.\n",
    "- __Uso de Memoria:__ El DataFrame ocupa aproximadamente 14.6 MB de memoria.\n",
    "\n",
    "### Columnas:\n",
    "- __user_id:__ Columna cuyo tipo de datos es 'category' y tiene 150,000 valores no nulos.\n",
    "- __name:__ Columna de tipo 'object' (cadena de caracteres) con 150,000 valores no nulos.\n",
    "- __time:__ Columna de tipo 'int64' (entero) con 150,000 valores no nulos.\n",
    "- __rating:__ Columna de tipo 'int64' (entero) con 150,000 valores no nulos.\n",
    "- __text:__ Columna de tipo 'object' (cadena de caracteres) con 87,324 valores no nulos.\n",
    "- __pics:__ Columna de tipo 'object' (cadena de caracteres) con 4,596 valores no nulos.\n",
    "- __resp:__ Columna de tipo 'object' (cadena de caracteres) con 16,838 valores no nulos.\n",
    "- __gmap_id:__ Columna de tipo 'object' (cadena de caracteres) con 150,000 valores no nulos.\n",
    "\n",
    "### Resumen:\n",
    "El DataFrame contiene información sobre 150,000 reseñas.\n",
    "La mayoría de las columnas tienen valores faltantes, **_especialmente las columnas 'text', 'pics' y 'resp'_.**\n",
    "Las columnas 'user_id' y 'time' han sido optimizadas para ocupar menos memoria utilizando el tipo de datos 'category'.\n",
    "El uso de memoria total del DataFrame es de aproximadamente 14.6 MB."
   ]
  },
  {
   "cell_type": "code",
   "execution_count": 34,
   "metadata": {},
   "outputs": [
    {
     "data": {
      "text/plain": [
       "111479"
      ]
     },
     "execution_count": 34,
     "metadata": {},
     "output_type": "execute_result"
    }
   ],
   "source": [
    "# número de valores únicos en la columna \"user_id\" del DataFrame\n",
    "rw_NewYork_1.user_id.nunique()"
   ]
  },
  {
   "cell_type": "code",
   "execution_count": 35,
   "metadata": {},
   "outputs": [
    {
     "data": {
      "text/html": [
       "<div>\n",
       "<style scoped>\n",
       "    .dataframe tbody tr th:only-of-type {\n",
       "        vertical-align: middle;\n",
       "    }\n",
       "\n",
       "    .dataframe tbody tr th {\n",
       "        vertical-align: top;\n",
       "    }\n",
       "\n",
       "    .dataframe thead th {\n",
       "        text-align: right;\n",
       "    }\n",
       "</style>\n",
       "<table border=\"1\" class=\"dataframe\">\n",
       "  <thead>\n",
       "    <tr style=\"text-align: right;\">\n",
       "      <th></th>\n",
       "      <th>user_id</th>\n",
       "      <th>rating</th>\n",
       "    </tr>\n",
       "  </thead>\n",
       "  <tbody>\n",
       "    <tr>\n",
       "      <th>51489</th>\n",
       "      <td>108963548051893895437</td>\n",
       "      <td>36</td>\n",
       "    </tr>\n",
       "    <tr>\n",
       "      <th>7238</th>\n",
       "      <td>101398793615263113244</td>\n",
       "      <td>33</td>\n",
       "    </tr>\n",
       "    <tr>\n",
       "      <th>68446</th>\n",
       "      <td>111654318848895716760</td>\n",
       "      <td>28</td>\n",
       "    </tr>\n",
       "    <tr>\n",
       "      <th>5372</th>\n",
       "      <td>101030940136685845419</td>\n",
       "      <td>23</td>\n",
       "    </tr>\n",
       "    <tr>\n",
       "      <th>16910</th>\n",
       "      <td>103237729589375373179</td>\n",
       "      <td>21</td>\n",
       "    </tr>\n",
       "    <tr>\n",
       "      <th>47703</th>\n",
       "      <td>108438741615903010377</td>\n",
       "      <td>21</td>\n",
       "    </tr>\n",
       "    <tr>\n",
       "      <th>24920</th>\n",
       "      <td>104731006993930939215</td>\n",
       "      <td>19</td>\n",
       "    </tr>\n",
       "    <tr>\n",
       "      <th>101594</th>\n",
       "      <td>116884758993374723673</td>\n",
       "      <td>18</td>\n",
       "    </tr>\n",
       "    <tr>\n",
       "      <th>51278</th>\n",
       "      <td>108940377826151998362</td>\n",
       "      <td>18</td>\n",
       "    </tr>\n",
       "    <tr>\n",
       "      <th>25395</th>\n",
       "      <td>104819208193648646391</td>\n",
       "      <td>17</td>\n",
       "    </tr>\n",
       "  </tbody>\n",
       "</table>\n",
       "</div>"
      ],
      "text/plain": [
       "                      user_id  rating\n",
       "51489   108963548051893895437      36\n",
       "7238    101398793615263113244      33\n",
       "68446   111654318848895716760      28\n",
       "5372    101030940136685845419      23\n",
       "16910   103237729589375373179      21\n",
       "47703   108438741615903010377      21\n",
       "24920   104731006993930939215      19\n",
       "101594  116884758993374723673      18\n",
       "51278   108940377826151998362      18\n",
       "25395   104819208193648646391      17"
      ]
     },
     "execution_count": 35,
     "metadata": {},
     "output_type": "execute_result"
    }
   ],
   "source": [
    "# Agrupación de las calificaciones por usuario y conteo de las mismas\n",
    "user_ratings = rw_NewYork_1.groupby('user_id')['rating'].count()\n",
    "# Reinicio del índice para convertir la serie resultante en un DataFrame\n",
    "user_ratings_df = user_ratings.reset_index()\n",
    "# Clasificación de los usuarios por la cantidad de calificaciones, de mayor a menor\n",
    "top_rated_users = user_ratings_df.sort_values(by='rating', ascending=False).head(10)\n",
    "top_rated_users"
   ]
  },
  {
   "cell_type": "code",
   "execution_count": 36,
   "metadata": {},
   "outputs": [
    {
     "data": {
      "text/plain": [
       "0   2020-10-23 23:13:15.361\n",
       "1   2021-05-04 19:37:17.403\n",
       "2   2020-08-14 19:01:02.039\n",
       "3   2018-12-02 18:04:22.044\n",
       "4   2020-08-13 00:38:17.718\n",
       "Name: time, dtype: datetime64[ns]"
      ]
     },
     "execution_count": 36,
     "metadata": {},
     "output_type": "execute_result"
    }
   ],
   "source": [
    "# Conversión de la columna 'time' a formato de fecha y hora utilizando milisegundos como unidad de tiempo\n",
    "rw_NewYork_1['time'] = pd.to_datetime(rw_NewYork_1['time'], unit='ms')\n",
    "# Mostrar las primeras filas de la columna 'time' después de la conversión\n",
    "rw_NewYork_1['time'].head()"
   ]
  },
  {
   "cell_type": "code",
   "execution_count": 37,
   "metadata": {},
   "outputs": [
    {
     "data": {
      "image/png": "[encoded data removed]",
      "text/plain": [
       "<Figure size 1200x600 with 1 Axes>"
      ]
     },
     "metadata": {},
     "output_type": "display_data"
    }
   ],
   "source": [
    "# Extracción del año de la columna 'time' y creación de una nueva columna 'year'\n",
    "rw_NewYork_1['year'] = rw_NewYork_1['time'].dt.year\n",
    "\n",
    "# Agrupación de las calificaciones por año y conteo de las mismas\n",
    "year_ratings = rw_NewYork_1.groupby('year')['rating'].count()\n",
    "\n",
    "# Reinicio del índice para convertir la serie resultante en un DataFrame\n",
    "year_ratings_rw_NewYork_1 = year_ratings.reset_index()\n",
    "\n",
    "# Configuración del tamaño de la figura para la visualización\n",
    "plt.figure(figsize=(12, 6))\n",
    "\n",
    "# Creación de un gráfico de barras utilizando seaborn\n",
    "sns.barplot(x='year', y='rating', data=year_ratings_rw_NewYork_1, palette='viridis')\n",
    "\n",
    "# Configuración del título y etiquetas de los ejes\n",
    "plt.title('Cantidad de Puntuaciones por Año')\n",
    "plt.xlabel('Año')\n",
    "plt.ylabel('Cantidad de Puntuaciones')\n",
    "\n",
    "# Mostrar el gráfico\n",
    "plt.show()"
   ]
  },
  {
   "cell_type": "code",
   "execution_count": 38,
   "metadata": {},
   "outputs": [
    {
     "data": {
      "image/png": "[encoded data removed]",
      "text/plain": [
       "<Figure size 640x480 with 1 Axes>"
      ]
     },
     "metadata": {},
     "output_type": "display_data"
    }
   ],
   "source": [
    "# Creación de un histograma de la columna 'rating'\n",
    "rw_NewYork_1['rating'].plot(kind='hist', bins=20, title='rating')\n",
    "\n",
    "# Ocultar las líneas superior y derecha del gráfico\n",
    "plt.gca().spines[['top', 'right']].set_visible(False)\n",
    "\n",
    "# Mostrar el histograma\n",
    "plt.show()\n"
   ]
  },
  {
   "cell_type": "markdown",
   "metadata": {},
   "source": [
    "### Dataset: REVIEWS-CALIFORNIA"
   ]
  },
  {
   "cell_type": "code",
   "execution_count": 39,
   "metadata": {},
   "outputs": [],
   "source": [
    "#Se leen los reviews de California\n",
    "\n",
    "ruta_reviews_cf = r\"C:/Users/Usuario/Desktop/Proyecto Final/reviews-California\"\n",
    "rW_California=[]\n",
    "\n",
    "i = 1\n",
    "bandera = True\n",
    "\n",
    "while bandera:\n",
    "    try:\n",
    "        archivo = spark.read.json(f\"{ruta_reviews_cf}/{i}.json\")\n",
    "        rW_California.append(archivo)\n",
    "        i += 1\n",
    "    except:\n",
    "        bandera = False\n",
    "\n",
    "df_final_reviews_cf = rW_California[0]\n",
    "\n",
    "for dataframe in rW_California[1:]:\n",
    "    df_final_reviews_cf = df_final_reviews_cf.unionByName(dataframe)\n",
    "    \n",
    "rW_California = df_final_reviews_cf"
   ]
  },
  {
   "cell_type": "code",
   "execution_count": 40,
   "metadata": {},
   "outputs": [
    {
     "data": {
      "text/plain": [
       "2700000"
      ]
     },
     "execution_count": 40,
     "metadata": {},
     "output_type": "execute_result"
    }
   ],
   "source": [
    "# Conteo de Filas en el DataFrame\n",
    "rW_California.count()"
   ]
  },
  {
   "cell_type": "code",
   "execution_count": 41,
   "metadata": {},
   "outputs": [
    {
     "name": "stdout",
     "output_type": "stream",
     "text": [
      "root\n",
      " |-- gmap_id: string (nullable = true)\n",
      " |-- name: string (nullable = true)\n",
      " |-- pics: array (nullable = true)\n",
      " |    |-- element: struct (containsNull = true)\n",
      " |    |    |-- url: array (nullable = true)\n",
      " |    |    |    |-- element: string (containsNull = true)\n",
      " |-- rating: long (nullable = true)\n",
      " |-- resp: struct (nullable = true)\n",
      " |    |-- text: string (nullable = true)\n",
      " |    |-- time: long (nullable = true)\n",
      " |-- text: string (nullable = true)\n",
      " |-- time: long (nullable = true)\n",
      " |-- user_id: string (nullable = true)\n",
      "\n"
     ]
    }
   ],
   "source": [
    "#Estructura del esquema del dataframe\n",
    "rW_California.printSchema()"
   ]
  },
  {
   "cell_type": "code",
   "execution_count": 42,
   "metadata": {},
   "outputs": [
    {
     "name": "stdout",
     "output_type": "stream",
     "text": [
      "+--------------------+\n",
      "|                time|\n",
      "+--------------------+\n",
      "|2021-01-06 02:12:...|\n",
      "|2021-02-09 02:47:...|\n",
      "|2020-03-08 02:04:...|\n",
      "|2019-03-07 02:56:...|\n",
      "|2017-05-16 02:01:...|\n",
      "|2019-01-18 05:19:...|\n",
      "|2021-03-29 00:53:...|\n",
      "|2021-06-20 12:19:...|\n",
      "|2020-09-29 18:28:...|\n",
      "|2018-06-10 03:23:...|\n",
      "|2021-07-28 19:39:...|\n",
      "|2018-09-04 22:29:...|\n",
      "|2019-01-06 04:45:...|\n",
      "|2020-08-20 12:57:...|\n",
      "|2017-04-18 13:31:...|\n",
      "|2019-11-07 18:55:...|\n",
      "|2021-01-19 00:51:...|\n",
      "|2019-06-21 11:02:...|\n",
      "|2019-10-24 21:55:...|\n",
      "|2017-03-08 00:50:...|\n",
      "+--------------------+\n",
      "only showing top 20 rows\n",
      "\n"
     ]
    }
   ],
   "source": [
    "# Transforma la columna \"time\" de milisegundos a timestamp.\n",
    "rW_California = rW_California.withColumn(\"time\", (F.col(\"time\") / 1000).cast('timestamp'))\n",
    "rW_California.select(\"time\").show()"
   ]
  },
  {
   "cell_type": "code",
   "execution_count": 43,
   "metadata": {},
   "outputs": [
    {
     "name": "stdout",
     "output_type": "stream",
     "text": [
      "Min time:  1990-12-30 21:00:00\n",
      "Max time:  2021-09-08 22:00:32.337000\n"
     ]
    }
   ],
   "source": [
    "# Buscamos max y min de time\n",
    "min_time = rW_California.agg(F.min(\"time\")).collect()[0][0]\n",
    "max_time = rW_California.agg(F.max(\"time\")).collect()[0][0]\n",
    "\n",
    "print(\"Min time: \", min_time)\n",
    "print(\"Max time: \", max_time)"
   ]
  },
  {
   "cell_type": "code",
   "execution_count": 44,
   "metadata": {},
   "outputs": [
    {
     "name": "stdout",
     "output_type": "stream",
     "text": [
      "+--------------------+--------------------+----+------+----+--------------------+-------------------+--------------------+\n",
      "|             gmap_id|                name|pics|rating|resp|                text|               time|             user_id|\n",
      "+--------------------+--------------------+----+------+----+--------------------+-------------------+--------------------+\n",
      "|0x80c2c7b49b13da5...|       helene landau|NULL|     3|NULL|                NULL|2004-04-06 21:00:00|11055645509278755...|\n",
      "|0x80c2b4d2ca3e19c...|      Paul Blumstein|NULL|     4|NULL|                NULL|2004-04-03 21:00:00|11812290008149920...|\n",
      "|0x80c2c4a081e0e7e...|          Jeff Boxer|NULL|     3|NULL|worth a trip to t...|2003-03-30 21:00:00|11616624194309271...|\n",
      "|0x80c2c556cd7bc59...|          Ron Greene|NULL|     3|NULL|                NULL|2003-05-02 21:00:00|10001700781975095...|\n",
      "|0x80c2c611c51fbab...|      Pete Kronowitt|NULL|     4|NULL|                NULL|2003-10-30 21:00:00|11281734885859901...|\n",
      "|0x80c2b94d5ec1c73...|       Arthur Litman|NULL|     4|NULL|                NULL|2003-04-30 21:00:00|10256702345497809...|\n",
      "|0x80c2b8dfcf86e66...|       helene landau|NULL|     4|NULL|                NULL|2004-04-06 21:00:00|11055645509278755...|\n",
      "|0x80c2b8dfcf86e66...|      Steven Wallace|NULL|     4|NULL|                NULL|2004-09-20 21:00:00|10142591020644683...|\n",
      "|0x80c2bead1614355...|        Terry Rooney|NULL|     4|NULL|                NULL|2003-03-25 21:00:00|11468290476583489...|\n",
      "|0x80c2a4b9fb28cee...|         Scott Green|NULL|     4|NULL|                NULL|2004-03-21 21:00:00|10512452957430888...|\n",
      "|0x80c2bebe65da5b3...|       helene landau|NULL|     4|NULL|                NULL|2004-04-06 21:00:00|11055645509278755...|\n",
      "|0x80c2b8d6672763f...|           James Low|NULL|     5|NULL|                NULL|2004-03-18 21:00:00|11511744333806880...|\n",
      "|0x80c295506acd2b9...|           James Low|NULL|     4|NULL|                NULL|2003-05-18 21:00:00|11511744333806880...|\n",
      "|0x808580e9b3a6ccf...|          Jeff Stone|NULL|     4|NULL|                NULL|2004-04-19 21:00:00|11708279829951244...|\n",
      "|0x808580e9b3a6ccf...|        Richard Suen|NULL|     4|NULL|                NULL|2004-08-24 21:00:00|11355835986923751...|\n",
      "|0x80c2bbe3e1315d0...|Catherine Geanuracos|NULL|     4|NULL|While the food wa...|1990-12-30 22:00:00|11350844948739186...|\n",
      "|0x80c29c1ea1cf3ac...|          Tina Leung|NULL|     4|NULL|                NULL|2004-04-12 21:00:00|11699980173297157...|\n",
      "|0x80c2b94c926784a...|      Albert Saphier|NULL|     4|NULL|                NULL|2002-04-22 21:00:00|10329615242908373...|\n",
      "|0x80c29947e082918...|         Jerry Cohen|NULL|     3|NULL|inexpensive fresh...|2003-03-30 21:00:00|11369681074414996...|\n",
      "|0x80c29947e082918...|     richard meister|NULL|     4|NULL|        always great|2004-04-10 21:00:00|11547351845265921...|\n",
      "+--------------------+--------------------+----+------+----+--------------------+-------------------+--------------------+\n",
      "only showing top 20 rows\n",
      "\n"
     ]
    }
   ],
   "source": [
    "# Filtramos por año menores a 2005\n",
    "rW_California.filter(F.year(rW_California.time) < 2005).show()"
   ]
  },
  {
   "cell_type": "markdown",
   "metadata": {},
   "source": [
    "# __YELP__"
   ]
  },
  {
   "cell_type": "markdown",
   "metadata": {},
   "source": [
    "__DATASET: BUSINESS__"
   ]
  },
  {
   "cell_type": "code",
   "execution_count": 45,
   "metadata": {},
   "outputs": [],
   "source": [
    "# Ruta local completa del archivo business.pkl\n",
    "ruta_local_business = r\"C:/Users/Usuario/Desktop/Proyecto Final/Yelp/business.pkl\""
   ]
  },
  {
   "cell_type": "code",
   "execution_count": 46,
   "metadata": {},
   "outputs": [],
   "source": [
    "# Cargar el archivo pickle usando pd.read_pickle\n",
    "business_yelp = pd.read_pickle(ruta_local_business)"
   ]
  },
  {
   "cell_type": "code",
   "execution_count": 47,
   "metadata": {},
   "outputs": [
    {
     "name": "stdout",
     "output_type": "stream",
     "text": [
      "<class 'pandas.core.frame.DataFrame'>\n",
      "Index: 150346 entries, 0 to 150345\n",
      "Data columns (total 28 columns):\n",
      " #   Column        Non-Null Count   Dtype \n",
      "---  ------        --------------   ----- \n",
      " 0   business_id   150346 non-null  object\n",
      " 1   name          150346 non-null  object\n",
      " 2   address       150346 non-null  object\n",
      " 3   city          150346 non-null  object\n",
      " 4   state         150343 non-null  object\n",
      " 5   postal_code   150346 non-null  object\n",
      " 6   latitude      150346 non-null  object\n",
      " 7   longitude     150346 non-null  object\n",
      " 8   stars         150346 non-null  object\n",
      " 9   review_count  150346 non-null  object\n",
      " 10  is_open       150346 non-null  object\n",
      " 11  attributes    136602 non-null  object\n",
      " 12  categories    150243 non-null  object\n",
      " 13  hours         127123 non-null  object\n",
      " 14  business_id   5 non-null       object\n",
      " 15  name          5 non-null       object\n",
      " 16  address       5 non-null       object\n",
      " 17  city          5 non-null       object\n",
      " 18  state         5 non-null       object\n",
      " 19  postal_code   5 non-null       object\n",
      " 20  latitude      5 non-null       object\n",
      " 21  longitude     5 non-null       object\n",
      " 22  stars         5 non-null       object\n",
      " 23  review_count  5 non-null       object\n",
      " 24  is_open       5 non-null       object\n",
      " 25  attributes    5 non-null       object\n",
      " 26  categories    5 non-null       object\n",
      " 27  hours         5 non-null       object\n",
      "dtypes: object(28)\n",
      "memory usage: 33.3+ MB\n"
     ]
    }
   ],
   "source": [
    "# Mostramos la info del dataframe\n",
    "business_yelp.info()"
   ]
  },
  {
   "cell_type": "markdown",
   "metadata": {},
   "source": [
    "- __Número de Filas y Columnas:__ Hay un total de 150346 filas y 28 columnas en el DataFrame.\n",
    "- __Columnas y Tipos de Datos:__ El DataFrame consta de 28 columnas, donde cada columna representa una característica o atributo de los negocios de Yelp.\n",
    "Las columnas contienen principalmente datos de tipo objeto (str).\n",
    "- __Recuento de Valores no Nulos:__ Se muestra el recuento de valores no nulos para cada columna. Esto indica cuántos valores no nulos hay presentes en cada columna del DataFrame.\n",
    "- __Uso de Memoria:__ El uso de memoria por el DataFrame se muestra al final, indicando la cantidad de memoria utilizada para almacenar los datos del DataFrame."
   ]
  },
  {
   "cell_type": "code",
   "execution_count": 48,
   "metadata": {},
   "outputs": [
    {
     "data": {
      "text/html": [
       "<div>\n",
       "<style scoped>\n",
       "    .dataframe tbody tr th:only-of-type {\n",
       "        vertical-align: middle;\n",
       "    }\n",
       "\n",
       "    .dataframe tbody tr th {\n",
       "        vertical-align: top;\n",
       "    }\n",
       "\n",
       "    .dataframe thead th {\n",
       "        text-align: right;\n",
       "    }\n",
       "</style>\n",
       "<table border=\"1\" class=\"dataframe\">\n",
       "  <thead>\n",
       "    <tr style=\"text-align: right;\">\n",
       "      <th></th>\n",
       "      <th>business_id</th>\n",
       "      <th>name</th>\n",
       "      <th>address</th>\n",
       "      <th>city</th>\n",
       "      <th>state</th>\n",
       "      <th>postal_code</th>\n",
       "      <th>latitude</th>\n",
       "      <th>longitude</th>\n",
       "      <th>stars</th>\n",
       "      <th>review_count</th>\n",
       "      <th>...</th>\n",
       "      <th>state</th>\n",
       "      <th>postal_code</th>\n",
       "      <th>latitude</th>\n",
       "      <th>longitude</th>\n",
       "      <th>stars</th>\n",
       "      <th>review_count</th>\n",
       "      <th>is_open</th>\n",
       "      <th>attributes</th>\n",
       "      <th>categories</th>\n",
       "      <th>hours</th>\n",
       "    </tr>\n",
       "  </thead>\n",
       "  <tbody>\n",
       "    <tr>\n",
       "      <th>0</th>\n",
       "      <td>Pns2l4eNsfO8kk83dixA6A</td>\n",
       "      <td>Abby Rappoport, LAC, CMQ</td>\n",
       "      <td>1616 Chapala St, Ste 2</td>\n",
       "      <td>Santa Barbara</td>\n",
       "      <td>NaN</td>\n",
       "      <td>93101</td>\n",
       "      <td>34.426679</td>\n",
       "      <td>-119.711197</td>\n",
       "      <td>5.0</td>\n",
       "      <td>7</td>\n",
       "      <td>...</td>\n",
       "      <td>NaN</td>\n",
       "      <td>NaN</td>\n",
       "      <td>NaN</td>\n",
       "      <td>NaN</td>\n",
       "      <td>NaN</td>\n",
       "      <td>NaN</td>\n",
       "      <td>NaN</td>\n",
       "      <td>NaN</td>\n",
       "      <td>NaN</td>\n",
       "      <td>NaN</td>\n",
       "    </tr>\n",
       "    <tr>\n",
       "      <th>1</th>\n",
       "      <td>mpf3x-BjTdTEA3yCZrAYPw</td>\n",
       "      <td>The UPS Store</td>\n",
       "      <td>87 Grasso Plaza Shopping Center</td>\n",
       "      <td>Affton</td>\n",
       "      <td>NaN</td>\n",
       "      <td>63123</td>\n",
       "      <td>38.551126</td>\n",
       "      <td>-90.335695</td>\n",
       "      <td>3.0</td>\n",
       "      <td>15</td>\n",
       "      <td>...</td>\n",
       "      <td>NaN</td>\n",
       "      <td>NaN</td>\n",
       "      <td>NaN</td>\n",
       "      <td>NaN</td>\n",
       "      <td>NaN</td>\n",
       "      <td>NaN</td>\n",
       "      <td>NaN</td>\n",
       "      <td>NaN</td>\n",
       "      <td>NaN</td>\n",
       "      <td>NaN</td>\n",
       "    </tr>\n",
       "    <tr>\n",
       "      <th>2</th>\n",
       "      <td>tUFrWirKiKi_TAnsVWINQQ</td>\n",
       "      <td>Target</td>\n",
       "      <td>5255 E Broadway Blvd</td>\n",
       "      <td>Tucson</td>\n",
       "      <td>NaN</td>\n",
       "      <td>85711</td>\n",
       "      <td>32.223236</td>\n",
       "      <td>-110.880452</td>\n",
       "      <td>3.5</td>\n",
       "      <td>22</td>\n",
       "      <td>...</td>\n",
       "      <td>NaN</td>\n",
       "      <td>NaN</td>\n",
       "      <td>NaN</td>\n",
       "      <td>NaN</td>\n",
       "      <td>NaN</td>\n",
       "      <td>NaN</td>\n",
       "      <td>NaN</td>\n",
       "      <td>NaN</td>\n",
       "      <td>NaN</td>\n",
       "      <td>NaN</td>\n",
       "    </tr>\n",
       "    <tr>\n",
       "      <th>3</th>\n",
       "      <td>MTSW4McQd7CbVtyjqoe9mw</td>\n",
       "      <td>St Honore Pastries</td>\n",
       "      <td>935 Race St</td>\n",
       "      <td>Philadelphia</td>\n",
       "      <td>CA</td>\n",
       "      <td>19107</td>\n",
       "      <td>39.955505</td>\n",
       "      <td>-75.155564</td>\n",
       "      <td>4.0</td>\n",
       "      <td>80</td>\n",
       "      <td>...</td>\n",
       "      <td>NaN</td>\n",
       "      <td>NaN</td>\n",
       "      <td>NaN</td>\n",
       "      <td>NaN</td>\n",
       "      <td>NaN</td>\n",
       "      <td>NaN</td>\n",
       "      <td>NaN</td>\n",
       "      <td>NaN</td>\n",
       "      <td>NaN</td>\n",
       "      <td>NaN</td>\n",
       "    </tr>\n",
       "    <tr>\n",
       "      <th>4</th>\n",
       "      <td>mWMc6_wTdE0EUBKIGXDVfA</td>\n",
       "      <td>Perkiomen Valley Brewery</td>\n",
       "      <td>101 Walnut St</td>\n",
       "      <td>Green Lane</td>\n",
       "      <td>MO</td>\n",
       "      <td>18054</td>\n",
       "      <td>40.338183</td>\n",
       "      <td>-75.471659</td>\n",
       "      <td>4.5</td>\n",
       "      <td>13</td>\n",
       "      <td>...</td>\n",
       "      <td>NaN</td>\n",
       "      <td>NaN</td>\n",
       "      <td>NaN</td>\n",
       "      <td>NaN</td>\n",
       "      <td>NaN</td>\n",
       "      <td>NaN</td>\n",
       "      <td>NaN</td>\n",
       "      <td>NaN</td>\n",
       "      <td>NaN</td>\n",
       "      <td>NaN</td>\n",
       "    </tr>\n",
       "  </tbody>\n",
       "</table>\n",
       "<p>5 rows × 28 columns</p>\n",
       "</div>"
      ],
      "text/plain": [
       "              business_id                      name  \\\n",
       "0  Pns2l4eNsfO8kk83dixA6A  Abby Rappoport, LAC, CMQ   \n",
       "1  mpf3x-BjTdTEA3yCZrAYPw             The UPS Store   \n",
       "2  tUFrWirKiKi_TAnsVWINQQ                    Target   \n",
       "3  MTSW4McQd7CbVtyjqoe9mw        St Honore Pastries   \n",
       "4  mWMc6_wTdE0EUBKIGXDVfA  Perkiomen Valley Brewery   \n",
       "\n",
       "                           address           city state postal_code  \\\n",
       "0           1616 Chapala St, Ste 2  Santa Barbara   NaN       93101   \n",
       "1  87 Grasso Plaza Shopping Center         Affton   NaN       63123   \n",
       "2             5255 E Broadway Blvd         Tucson   NaN       85711   \n",
       "3                      935 Race St   Philadelphia    CA       19107   \n",
       "4                    101 Walnut St     Green Lane    MO       18054   \n",
       "\n",
       "    latitude   longitude stars review_count  ... state postal_code latitude  \\\n",
       "0  34.426679 -119.711197   5.0            7  ...   NaN         NaN      NaN   \n",
       "1  38.551126  -90.335695   3.0           15  ...   NaN         NaN      NaN   \n",
       "2  32.223236 -110.880452   3.5           22  ...   NaN         NaN      NaN   \n",
       "3  39.955505  -75.155564   4.0           80  ...   NaN         NaN      NaN   \n",
       "4  40.338183  -75.471659   4.5           13  ...   NaN         NaN      NaN   \n",
       "\n",
       "  longitude stars review_count is_open attributes categories hours  \n",
       "0       NaN   NaN          NaN     NaN        NaN        NaN   NaN  \n",
       "1       NaN   NaN          NaN     NaN        NaN        NaN   NaN  \n",
       "2       NaN   NaN          NaN     NaN        NaN        NaN   NaN  \n",
       "3       NaN   NaN          NaN     NaN        NaN        NaN   NaN  \n",
       "4       NaN   NaN          NaN     NaN        NaN        NaN   NaN  \n",
       "\n",
       "[5 rows x 28 columns]"
      ]
     },
     "execution_count": 48,
     "metadata": {},
     "output_type": "execute_result"
    }
   ],
   "source": [
    "# Mostrar las primeras filas del DataFrame de Pandas\n",
    "business_yelp.head()"
   ]
  },
  {
   "cell_type": "code",
   "execution_count": 49,
   "metadata": {},
   "outputs": [
    {
     "data": {
      "text/plain": [
       "array([False, False, False, False, False, False, False, False, False,\n",
       "       False, False, False, False, False,  True,  True,  True,  True,\n",
       "        True,  True,  True,  True,  True,  True,  True,  True,  True,\n",
       "        True])"
      ]
     },
     "execution_count": 49,
     "metadata": {},
     "output_type": "execute_result"
    }
   ],
   "source": [
    "# Verificación de columnas duplicadas en el DataFrame business_yelp\n",
    "columns = business_yelp.columns.duplicated()\n",
    "columns"
   ]
  },
  {
   "cell_type": "code",
   "execution_count": 50,
   "metadata": {},
   "outputs": [
    {
     "data": {
      "text/html": [
       "<div>\n",
       "<style scoped>\n",
       "    .dataframe tbody tr th:only-of-type {\n",
       "        vertical-align: middle;\n",
       "    }\n",
       "\n",
       "    .dataframe tbody tr th {\n",
       "        vertical-align: top;\n",
       "    }\n",
       "\n",
       "    .dataframe thead th {\n",
       "        text-align: right;\n",
       "    }\n",
       "</style>\n",
       "<table border=\"1\" class=\"dataframe\">\n",
       "  <thead>\n",
       "    <tr style=\"text-align: right;\">\n",
       "      <th></th>\n",
       "      <th>business_id</th>\n",
       "      <th>name</th>\n",
       "      <th>address</th>\n",
       "      <th>city</th>\n",
       "      <th>state</th>\n",
       "      <th>postal_code</th>\n",
       "      <th>latitude</th>\n",
       "      <th>longitude</th>\n",
       "      <th>stars</th>\n",
       "      <th>review_count</th>\n",
       "      <th>is_open</th>\n",
       "      <th>attributes</th>\n",
       "      <th>categories</th>\n",
       "      <th>hours</th>\n",
       "    </tr>\n",
       "  </thead>\n",
       "  <tbody>\n",
       "    <tr>\n",
       "      <th>0</th>\n",
       "      <td>Pns2l4eNsfO8kk83dixA6A</td>\n",
       "      <td>Abby Rappoport, LAC, CMQ</td>\n",
       "      <td>1616 Chapala St, Ste 2</td>\n",
       "      <td>Santa Barbara</td>\n",
       "      <td>NaN</td>\n",
       "      <td>93101</td>\n",
       "      <td>34.426679</td>\n",
       "      <td>-119.711197</td>\n",
       "      <td>5.0</td>\n",
       "      <td>7</td>\n",
       "      <td>0</td>\n",
       "      <td>{'ByAppointmentOnly': 'True'}</td>\n",
       "      <td>Doctors, Traditional Chinese Medicine, Naturop...</td>\n",
       "      <td>None</td>\n",
       "    </tr>\n",
       "    <tr>\n",
       "      <th>1</th>\n",
       "      <td>mpf3x-BjTdTEA3yCZrAYPw</td>\n",
       "      <td>The UPS Store</td>\n",
       "      <td>87 Grasso Plaza Shopping Center</td>\n",
       "      <td>Affton</td>\n",
       "      <td>NaN</td>\n",
       "      <td>63123</td>\n",
       "      <td>38.551126</td>\n",
       "      <td>-90.335695</td>\n",
       "      <td>3.0</td>\n",
       "      <td>15</td>\n",
       "      <td>1</td>\n",
       "      <td>{'BusinessAcceptsCreditCards': 'True'}</td>\n",
       "      <td>Shipping Centers, Local Services, Notaries, Ma...</td>\n",
       "      <td>{'Monday': '0:0-0:0', 'Tuesday': '8:0-18:30', ...</td>\n",
       "    </tr>\n",
       "    <tr>\n",
       "      <th>2</th>\n",
       "      <td>tUFrWirKiKi_TAnsVWINQQ</td>\n",
       "      <td>Target</td>\n",
       "      <td>5255 E Broadway Blvd</td>\n",
       "      <td>Tucson</td>\n",
       "      <td>NaN</td>\n",
       "      <td>85711</td>\n",
       "      <td>32.223236</td>\n",
       "      <td>-110.880452</td>\n",
       "      <td>3.5</td>\n",
       "      <td>22</td>\n",
       "      <td>0</td>\n",
       "      <td>{'BikeParking': 'True', 'BusinessAcceptsCredit...</td>\n",
       "      <td>Department Stores, Shopping, Fashion, Home &amp; G...</td>\n",
       "      <td>{'Monday': '8:0-22:0', 'Tuesday': '8:0-22:0', ...</td>\n",
       "    </tr>\n",
       "    <tr>\n",
       "      <th>3</th>\n",
       "      <td>MTSW4McQd7CbVtyjqoe9mw</td>\n",
       "      <td>St Honore Pastries</td>\n",
       "      <td>935 Race St</td>\n",
       "      <td>Philadelphia</td>\n",
       "      <td>CA</td>\n",
       "      <td>19107</td>\n",
       "      <td>39.955505</td>\n",
       "      <td>-75.155564</td>\n",
       "      <td>4.0</td>\n",
       "      <td>80</td>\n",
       "      <td>1</td>\n",
       "      <td>{'RestaurantsDelivery': 'False', 'OutdoorSeati...</td>\n",
       "      <td>Restaurants, Food, Bubble Tea, Coffee &amp; Tea, B...</td>\n",
       "      <td>{'Monday': '7:0-20:0', 'Tuesday': '7:0-20:0', ...</td>\n",
       "    </tr>\n",
       "    <tr>\n",
       "      <th>4</th>\n",
       "      <td>mWMc6_wTdE0EUBKIGXDVfA</td>\n",
       "      <td>Perkiomen Valley Brewery</td>\n",
       "      <td>101 Walnut St</td>\n",
       "      <td>Green Lane</td>\n",
       "      <td>MO</td>\n",
       "      <td>18054</td>\n",
       "      <td>40.338183</td>\n",
       "      <td>-75.471659</td>\n",
       "      <td>4.5</td>\n",
       "      <td>13</td>\n",
       "      <td>1</td>\n",
       "      <td>{'BusinessAcceptsCreditCards': 'True', 'Wheelc...</td>\n",
       "      <td>Brewpubs, Breweries, Food</td>\n",
       "      <td>{'Wednesday': '14:0-22:0', 'Thursday': '16:0-2...</td>\n",
       "    </tr>\n",
       "  </tbody>\n",
       "</table>\n",
       "</div>"
      ],
      "text/plain": [
       "              business_id                      name  \\\n",
       "0  Pns2l4eNsfO8kk83dixA6A  Abby Rappoport, LAC, CMQ   \n",
       "1  mpf3x-BjTdTEA3yCZrAYPw             The UPS Store   \n",
       "2  tUFrWirKiKi_TAnsVWINQQ                    Target   \n",
       "3  MTSW4McQd7CbVtyjqoe9mw        St Honore Pastries   \n",
       "4  mWMc6_wTdE0EUBKIGXDVfA  Perkiomen Valley Brewery   \n",
       "\n",
       "                           address           city state postal_code  \\\n",
       "0           1616 Chapala St, Ste 2  Santa Barbara   NaN       93101   \n",
       "1  87 Grasso Plaza Shopping Center         Affton   NaN       63123   \n",
       "2             5255 E Broadway Blvd         Tucson   NaN       85711   \n",
       "3                      935 Race St   Philadelphia    CA       19107   \n",
       "4                    101 Walnut St     Green Lane    MO       18054   \n",
       "\n",
       "    latitude   longitude stars review_count is_open  \\\n",
       "0  34.426679 -119.711197   5.0            7       0   \n",
       "1  38.551126  -90.335695   3.0           15       1   \n",
       "2  32.223236 -110.880452   3.5           22       0   \n",
       "3  39.955505  -75.155564   4.0           80       1   \n",
       "4  40.338183  -75.471659   4.5           13       1   \n",
       "\n",
       "                                          attributes  \\\n",
       "0                      {'ByAppointmentOnly': 'True'}   \n",
       "1             {'BusinessAcceptsCreditCards': 'True'}   \n",
       "2  {'BikeParking': 'True', 'BusinessAcceptsCredit...   \n",
       "3  {'RestaurantsDelivery': 'False', 'OutdoorSeati...   \n",
       "4  {'BusinessAcceptsCreditCards': 'True', 'Wheelc...   \n",
       "\n",
       "                                          categories  \\\n",
       "0  Doctors, Traditional Chinese Medicine, Naturop...   \n",
       "1  Shipping Centers, Local Services, Notaries, Ma...   \n",
       "2  Department Stores, Shopping, Fashion, Home & G...   \n",
       "3  Restaurants, Food, Bubble Tea, Coffee & Tea, B...   \n",
       "4                          Brewpubs, Breweries, Food   \n",
       "\n",
       "                                               hours  \n",
       "0                                               None  \n",
       "1  {'Monday': '0:0-0:0', 'Tuesday': '8:0-18:30', ...  \n",
       "2  {'Monday': '8:0-22:0', 'Tuesday': '8:0-22:0', ...  \n",
       "3  {'Monday': '7:0-20:0', 'Tuesday': '7:0-20:0', ...  \n",
       "4  {'Wednesday': '14:0-22:0', 'Thursday': '16:0-2...  "
      ]
     },
     "execution_count": 50,
     "metadata": {},
     "output_type": "execute_result"
    }
   ],
   "source": [
    "# Filtrar el DataFrame business_yelp para eliminar columnas duplicadas\n",
    "business_yelp = business_yelp.loc[:, ~columns]\n",
    "business_yelp.head()"
   ]
  },
  {
   "cell_type": "code",
   "execution_count": 51,
   "metadata": {},
   "outputs": [
    {
     "data": {
      "text/plain": [
       "array([nan, 'CA', 'MO', 'AZ', 'PA', 'TN', 'FL', 'IN', 'LA', 'AB', 'NV',\n",
       "       'ID', 'DE', 'IL', 'NJ', 'NC', 'CO', 'WA', 'HI', 'UT', 'TX', 'MT',\n",
       "       'MI', 'SD', 'XMS', 'MA', 'VI', 'VT'], dtype=object)"
      ]
     },
     "execution_count": 51,
     "metadata": {},
     "output_type": "execute_result"
    }
   ],
   "source": [
    "# Obtener los valores únicos en la columna 'state' del DataFrame 'business_yelp'\n",
    "business_yelp.state.unique()\n"
   ]
  },
  {
   "cell_type": "code",
   "execution_count": 52,
   "metadata": {},
   "outputs": [],
   "source": [
    "# Reemplazamos los NaN en 'state' por sus valores correspondientes de acuerdo a 'address', 'city' y 'postal_code'\n",
    "business_yelp.at[0, 'state'] = 'CA'\n",
    "business_yelp.at[1, 'state'] = 'MO'\n",
    "business_yelp.at[2, 'state'] = 'AZ'"
   ]
  },
  {
   "cell_type": "code",
   "execution_count": 53,
   "metadata": {},
   "outputs": [
    {
     "data": {
      "text/html": [
       "<div>\n",
       "<style scoped>\n",
       "    .dataframe tbody tr th:only-of-type {\n",
       "        vertical-align: middle;\n",
       "    }\n",
       "\n",
       "    .dataframe tbody tr th {\n",
       "        vertical-align: top;\n",
       "    }\n",
       "\n",
       "    .dataframe thead th {\n",
       "        text-align: right;\n",
       "    }\n",
       "</style>\n",
       "<table border=\"1\" class=\"dataframe\">\n",
       "  <thead>\n",
       "    <tr style=\"text-align: right;\">\n",
       "      <th></th>\n",
       "      <th>business_id</th>\n",
       "      <th>name</th>\n",
       "      <th>address</th>\n",
       "      <th>city</th>\n",
       "      <th>state</th>\n",
       "      <th>postal_code</th>\n",
       "      <th>latitude</th>\n",
       "      <th>longitude</th>\n",
       "      <th>stars</th>\n",
       "      <th>review_count</th>\n",
       "      <th>is_open</th>\n",
       "      <th>attributes</th>\n",
       "      <th>categories</th>\n",
       "      <th>hours</th>\n",
       "    </tr>\n",
       "  </thead>\n",
       "  <tbody>\n",
       "    <tr>\n",
       "      <th>0</th>\n",
       "      <td>Pns2l4eNsfO8kk83dixA6A</td>\n",
       "      <td>Abby Rappoport, LAC, CMQ</td>\n",
       "      <td>1616 Chapala St, Ste 2</td>\n",
       "      <td>Santa Barbara</td>\n",
       "      <td>CA</td>\n",
       "      <td>93101</td>\n",
       "      <td>34.426679</td>\n",
       "      <td>-119.711197</td>\n",
       "      <td>5.0</td>\n",
       "      <td>7</td>\n",
       "      <td>0</td>\n",
       "      <td>{'ByAppointmentOnly': 'True'}</td>\n",
       "      <td>Doctors, Traditional Chinese Medicine, Naturop...</td>\n",
       "      <td>None</td>\n",
       "    </tr>\n",
       "    <tr>\n",
       "      <th>1</th>\n",
       "      <td>mpf3x-BjTdTEA3yCZrAYPw</td>\n",
       "      <td>The UPS Store</td>\n",
       "      <td>87 Grasso Plaza Shopping Center</td>\n",
       "      <td>Affton</td>\n",
       "      <td>MO</td>\n",
       "      <td>63123</td>\n",
       "      <td>38.551126</td>\n",
       "      <td>-90.335695</td>\n",
       "      <td>3.0</td>\n",
       "      <td>15</td>\n",
       "      <td>1</td>\n",
       "      <td>{'BusinessAcceptsCreditCards': 'True'}</td>\n",
       "      <td>Shipping Centers, Local Services, Notaries, Ma...</td>\n",
       "      <td>{'Monday': '0:0-0:0', 'Tuesday': '8:0-18:30', ...</td>\n",
       "    </tr>\n",
       "    <tr>\n",
       "      <th>2</th>\n",
       "      <td>tUFrWirKiKi_TAnsVWINQQ</td>\n",
       "      <td>Target</td>\n",
       "      <td>5255 E Broadway Blvd</td>\n",
       "      <td>Tucson</td>\n",
       "      <td>AZ</td>\n",
       "      <td>85711</td>\n",
       "      <td>32.223236</td>\n",
       "      <td>-110.880452</td>\n",
       "      <td>3.5</td>\n",
       "      <td>22</td>\n",
       "      <td>0</td>\n",
       "      <td>{'BikeParking': 'True', 'BusinessAcceptsCredit...</td>\n",
       "      <td>Department Stores, Shopping, Fashion, Home &amp; G...</td>\n",
       "      <td>{'Monday': '8:0-22:0', 'Tuesday': '8:0-22:0', ...</td>\n",
       "    </tr>\n",
       "  </tbody>\n",
       "</table>\n",
       "</div>"
      ],
      "text/plain": [
       "              business_id                      name  \\\n",
       "0  Pns2l4eNsfO8kk83dixA6A  Abby Rappoport, LAC, CMQ   \n",
       "1  mpf3x-BjTdTEA3yCZrAYPw             The UPS Store   \n",
       "2  tUFrWirKiKi_TAnsVWINQQ                    Target   \n",
       "\n",
       "                           address           city state postal_code  \\\n",
       "0           1616 Chapala St, Ste 2  Santa Barbara    CA       93101   \n",
       "1  87 Grasso Plaza Shopping Center         Affton    MO       63123   \n",
       "2             5255 E Broadway Blvd         Tucson    AZ       85711   \n",
       "\n",
       "    latitude   longitude stars review_count is_open  \\\n",
       "0  34.426679 -119.711197   5.0            7       0   \n",
       "1  38.551126  -90.335695   3.0           15       1   \n",
       "2  32.223236 -110.880452   3.5           22       0   \n",
       "\n",
       "                                          attributes  \\\n",
       "0                      {'ByAppointmentOnly': 'True'}   \n",
       "1             {'BusinessAcceptsCreditCards': 'True'}   \n",
       "2  {'BikeParking': 'True', 'BusinessAcceptsCredit...   \n",
       "\n",
       "                                          categories  \\\n",
       "0  Doctors, Traditional Chinese Medicine, Naturop...   \n",
       "1  Shipping Centers, Local Services, Notaries, Ma...   \n",
       "2  Department Stores, Shopping, Fashion, Home & G...   \n",
       "\n",
       "                                               hours  \n",
       "0                                               None  \n",
       "1  {'Monday': '0:0-0:0', 'Tuesday': '8:0-18:30', ...  \n",
       "2  {'Monday': '8:0-22:0', 'Tuesday': '8:0-22:0', ...  "
      ]
     },
     "execution_count": 53,
     "metadata": {},
     "output_type": "execute_result"
    }
   ],
   "source": [
    "# Mostrar las primeras filas del DataFrame de Pandas\n",
    "business_yelp.head(3)"
   ]
  },
  {
   "cell_type": "code",
   "execution_count": 54,
   "metadata": {},
   "outputs": [
    {
     "data": {
      "text/plain": [
       "business_id         0\n",
       "name                0\n",
       "address             0\n",
       "city                0\n",
       "state               0\n",
       "postal_code         0\n",
       "latitude            0\n",
       "longitude           0\n",
       "stars               0\n",
       "review_count        0\n",
       "is_open             0\n",
       "attributes      13744\n",
       "categories        103\n",
       "hours           23223\n",
       "dtype: int64"
      ]
     },
     "execution_count": 54,
     "metadata": {},
     "output_type": "execute_result"
    }
   ],
   "source": [
    "# Verificar valores nulos en el DataFrame 'business_yelp' y contarlos por columna\n",
    "business_yelp.isnull().sum()"
   ]
  },
  {
   "cell_type": "markdown",
   "metadata": {},
   "source": [
    "Analisimos loS valores nulos por columnas y arrojo el resultado que _attributes y hours_ son las que mayores cantidades tienen."
   ]
  },
  {
   "cell_type": "code",
   "execution_count": 55,
   "metadata": {},
   "outputs": [
    {
     "data": {
      "text/plain": [
       "'Doctors, Traditional Chinese Medicine, Naturopathic/Holistic, Acupuncture, Health & Medical, Nutritionists'"
      ]
     },
     "execution_count": 55,
     "metadata": {},
     "output_type": "execute_result"
    }
   ],
   "source": [
    "# Acceder al valor en la posición cero de la columna 'categories' del DataFrame 'business_yelp'\n",
    "business_yelp.categories[0]"
   ]
  },
  {
   "cell_type": "code",
   "execution_count": 56,
   "metadata": {},
   "outputs": [
    {
     "data": {
      "text/plain": [
       "1311"
      ]
     },
     "execution_count": 56,
     "metadata": {},
     "output_type": "execute_result"
    }
   ],
   "source": [
    "# Dividir las cadenas en la columna 'categories' por comas, expandirlas en filas y eliminar espacios iniciales\n",
    "business_yelp_categories = business_yelp.categories.str.split(',').explode().str.lstrip()\n",
    "\n",
    "# Contar el número de valores únicos en la columna 'business_yelp_categories'\n",
    "business_yelp_categories.nunique()\n"
   ]
  },
  {
   "cell_type": "code",
   "execution_count": 57,
   "metadata": {},
   "outputs": [
    {
     "data": {
      "text/html": [
       "<div>\n",
       "<style scoped>\n",
       "    .dataframe tbody tr th:only-of-type {\n",
       "        vertical-align: middle;\n",
       "    }\n",
       "\n",
       "    .dataframe tbody tr th {\n",
       "        vertical-align: top;\n",
       "    }\n",
       "\n",
       "    .dataframe thead th {\n",
       "        text-align: right;\n",
       "    }\n",
       "</style>\n",
       "<table border=\"1\" class=\"dataframe\">\n",
       "  <thead>\n",
       "    <tr style=\"text-align: right;\">\n",
       "      <th></th>\n",
       "      <th>count</th>\n",
       "      <th>%</th>\n",
       "    </tr>\n",
       "    <tr>\n",
       "      <th>categories</th>\n",
       "      <th></th>\n",
       "      <th></th>\n",
       "    </tr>\n",
       "  </thead>\n",
       "  <tbody>\n",
       "    <tr>\n",
       "      <th>Restaurants</th>\n",
       "      <td>52268</td>\n",
       "      <td>34.77</td>\n",
       "    </tr>\n",
       "    <tr>\n",
       "      <th>Food</th>\n",
       "      <td>27781</td>\n",
       "      <td>18.48</td>\n",
       "    </tr>\n",
       "    <tr>\n",
       "      <th>Shopping</th>\n",
       "      <td>24395</td>\n",
       "      <td>16.23</td>\n",
       "    </tr>\n",
       "    <tr>\n",
       "      <th>Home Services</th>\n",
       "      <td>14356</td>\n",
       "      <td>9.55</td>\n",
       "    </tr>\n",
       "    <tr>\n",
       "      <th>Beauty &amp; Spas</th>\n",
       "      <td>14292</td>\n",
       "      <td>9.51</td>\n",
       "    </tr>\n",
       "    <tr>\n",
       "      <th>Nightlife</th>\n",
       "      <td>12281</td>\n",
       "      <td>8.17</td>\n",
       "    </tr>\n",
       "    <tr>\n",
       "      <th>Health &amp; Medical</th>\n",
       "      <td>11890</td>\n",
       "      <td>7.91</td>\n",
       "    </tr>\n",
       "    <tr>\n",
       "      <th>Local Services</th>\n",
       "      <td>11198</td>\n",
       "      <td>7.45</td>\n",
       "    </tr>\n",
       "    <tr>\n",
       "      <th>Bars</th>\n",
       "      <td>11065</td>\n",
       "      <td>7.36</td>\n",
       "    </tr>\n",
       "    <tr>\n",
       "      <th>Automotive</th>\n",
       "      <td>10773</td>\n",
       "      <td>7.17</td>\n",
       "    </tr>\n",
       "    <tr>\n",
       "      <th>Event Planning &amp; Services</th>\n",
       "      <td>9895</td>\n",
       "      <td>6.58</td>\n",
       "    </tr>\n",
       "    <tr>\n",
       "      <th>Sandwiches</th>\n",
       "      <td>8366</td>\n",
       "      <td>5.56</td>\n",
       "    </tr>\n",
       "    <tr>\n",
       "      <th>American (Traditional)</th>\n",
       "      <td>8139</td>\n",
       "      <td>5.41</td>\n",
       "    </tr>\n",
       "    <tr>\n",
       "      <th>Active Life</th>\n",
       "      <td>7687</td>\n",
       "      <td>5.11</td>\n",
       "    </tr>\n",
       "    <tr>\n",
       "      <th>Pizza</th>\n",
       "      <td>7093</td>\n",
       "      <td>4.72</td>\n",
       "    </tr>\n",
       "  </tbody>\n",
       "</table>\n",
       "</div>"
      ],
      "text/plain": [
       "                           count      %\n",
       "categories                             \n",
       "Restaurants                52268  34.77\n",
       "Food                       27781  18.48\n",
       "Shopping                   24395  16.23\n",
       "Home Services              14356   9.55\n",
       "Beauty & Spas              14292   9.51\n",
       "Nightlife                  12281   8.17\n",
       "Health & Medical           11890   7.91\n",
       "Local Services             11198   7.45\n",
       "Bars                       11065   7.36\n",
       "Automotive                 10773   7.17\n",
       "Event Planning & Services   9895   6.58\n",
       "Sandwiches                  8366   5.56\n",
       "American (Traditional)      8139   5.41\n",
       "Active Life                 7687   5.11\n",
       "Pizza                       7093   4.72"
      ]
     },
     "execution_count": 57,
     "metadata": {},
     "output_type": "execute_result"
    }
   ],
   "source": [
    "# Realizar el recuento de valores en la serie 'business_yelp_categories'\n",
    "business_yelp_categories = business_yelp_categories.value_counts().to_frame(name='count')\n",
    "\n",
    "# Calcular el porcentaje de cada valor en relación con el total de observaciones en el DataFrame 'business_yelp'\n",
    "business_yelp_categories['%'] = round(business_yelp_categories['count'] / len(business_yelp) * 100, 2)\n",
    "\n",
    "# Mostrar los quince valores más comunes junto con su recuento y porcentaje\n",
    "business_yelp_categories.head(15)\n"
   ]
  },
  {
   "cell_type": "code",
   "execution_count": 58,
   "metadata": {},
   "outputs": [
    {
     "data": {
      "text/html": [
       "<div>\n",
       "<style scoped>\n",
       "    .dataframe tbody tr th:only-of-type {\n",
       "        vertical-align: middle;\n",
       "    }\n",
       "\n",
       "    .dataframe tbody tr th {\n",
       "        vertical-align: top;\n",
       "    }\n",
       "\n",
       "    .dataframe thead th {\n",
       "        text-align: right;\n",
       "    }\n",
       "</style>\n",
       "<table border=\"1\" class=\"dataframe\">\n",
       "  <thead>\n",
       "    <tr style=\"text-align: right;\">\n",
       "      <th></th>\n",
       "      <th>count</th>\n",
       "      <th>%</th>\n",
       "    </tr>\n",
       "    <tr>\n",
       "      <th>categories</th>\n",
       "      <th></th>\n",
       "      <th></th>\n",
       "    </tr>\n",
       "  </thead>\n",
       "  <tbody>\n",
       "    <tr>\n",
       "      <th>Event Planning &amp; Services</th>\n",
       "      <td>9895</td>\n",
       "      <td>6.58</td>\n",
       "    </tr>\n",
       "    <tr>\n",
       "      <th>Pizza</th>\n",
       "      <td>7093</td>\n",
       "      <td>4.72</td>\n",
       "    </tr>\n",
       "    <tr>\n",
       "      <th>Pets</th>\n",
       "      <td>3758</td>\n",
       "      <td>2.50</td>\n",
       "    </tr>\n",
       "    <tr>\n",
       "      <th>Professional Services</th>\n",
       "      <td>3270</td>\n",
       "      <td>2.17</td>\n",
       "    </tr>\n",
       "    <tr>\n",
       "      <th>Pet Services</th>\n",
       "      <td>2626</td>\n",
       "      <td>1.75</td>\n",
       "    </tr>\n",
       "    <tr>\n",
       "      <th>...</th>\n",
       "      <td>...</td>\n",
       "      <td>...</td>\n",
       "    </tr>\n",
       "    <tr>\n",
       "      <th>Paragliding</th>\n",
       "      <td>1</td>\n",
       "      <td>0.00</td>\n",
       "    </tr>\n",
       "    <tr>\n",
       "      <th>Parklets</th>\n",
       "      <td>1</td>\n",
       "      <td>0.00</td>\n",
       "    </tr>\n",
       "    <tr>\n",
       "      <th>Pathologists</th>\n",
       "      <td>1</td>\n",
       "      <td>0.00</td>\n",
       "    </tr>\n",
       "    <tr>\n",
       "      <th>Bike Parking</th>\n",
       "      <td>1</td>\n",
       "      <td>0.00</td>\n",
       "    </tr>\n",
       "    <tr>\n",
       "      <th>Patent Law</th>\n",
       "      <td>1</td>\n",
       "      <td>0.00</td>\n",
       "    </tr>\n",
       "  </tbody>\n",
       "</table>\n",
       "<p>198 rows × 2 columns</p>\n",
       "</div>"
      ],
      "text/plain": [
       "                           count     %\n",
       "categories                            \n",
       "Event Planning & Services   9895  6.58\n",
       "Pizza                       7093  4.72\n",
       "Pets                        3758  2.50\n",
       "Professional Services       3270  2.17\n",
       "Pet Services                2626  1.75\n",
       "...                          ...   ...\n",
       "Paragliding                    1  0.00\n",
       "Parklets                       1  0.00\n",
       "Pathologists                   1  0.00\n",
       "Bike Parking                   1  0.00\n",
       "Patent Law                     1  0.00\n",
       "\n",
       "[198 rows x 2 columns]"
      ]
     },
     "execution_count": 58,
     "metadata": {},
     "output_type": "execute_result"
    }
   ],
   "source": [
    "# Filtrar el DataFrame business_yelp_categories para seleccionar las filas cuyos índices contienen la letra 'P'\n",
    "business_yelp_categories[business_yelp_categories.index.str.contains('P')]"
   ]
  },
  {
   "cell_type": "code",
   "execution_count": 59,
   "metadata": {},
   "outputs": [],
   "source": [
    "# Normaliza 'attributes'\n",
    "attributes = pd.json_normalize(business_yelp['attributes'])\n",
    "attributes['business_id'] = business_yelp['business_id']\n",
    "attributes = attributes.melt(id_vars='business_id', var_name='attribute_key', value_name='attribute_value')\n",
    "attributes.dropna(inplace=True)\n",
    "attributes.reset_index(drop=True, inplace=True)"
   ]
  },
  {
   "cell_type": "code",
   "execution_count": 60,
   "metadata": {},
   "outputs": [
    {
     "data": {
      "text/html": [
       "<div>\n",
       "<style scoped>\n",
       "    .dataframe tbody tr th:only-of-type {\n",
       "        vertical-align: middle;\n",
       "    }\n",
       "\n",
       "    .dataframe tbody tr th {\n",
       "        vertical-align: top;\n",
       "    }\n",
       "\n",
       "    .dataframe thead th {\n",
       "        text-align: right;\n",
       "    }\n",
       "</style>\n",
       "<table border=\"1\" class=\"dataframe\">\n",
       "  <thead>\n",
       "    <tr style=\"text-align: right;\">\n",
       "      <th></th>\n",
       "      <th>business_id</th>\n",
       "      <th>attribute_key</th>\n",
       "      <th>attribute_value</th>\n",
       "    </tr>\n",
       "  </thead>\n",
       "  <tbody>\n",
       "    <tr>\n",
       "      <th>774</th>\n",
       "      <td>m0JTpAD6Hf7AO71hmmqxIg</td>\n",
       "      <td>ByAppointmentOnly</td>\n",
       "      <td>None</td>\n",
       "    </tr>\n",
       "    <tr>\n",
       "      <th>3702</th>\n",
       "      <td>Xypw6Dn6Mt1gCywme5OoUw</td>\n",
       "      <td>ByAppointmentOnly</td>\n",
       "      <td>None</td>\n",
       "    </tr>\n",
       "    <tr>\n",
       "      <th>5941</th>\n",
       "      <td>Bo-AALoRsKeLqfJbcyzm8Q</td>\n",
       "      <td>ByAppointmentOnly</td>\n",
       "      <td>None</td>\n",
       "    </tr>\n",
       "    <tr>\n",
       "      <th>6048</th>\n",
       "      <td>gMC-74chzFpSoGbKWWuElg</td>\n",
       "      <td>ByAppointmentOnly</td>\n",
       "      <td>None</td>\n",
       "    </tr>\n",
       "    <tr>\n",
       "      <th>7545</th>\n",
       "      <td>fq1gweldy1FqSeazemzReA</td>\n",
       "      <td>ByAppointmentOnly</td>\n",
       "      <td>None</td>\n",
       "    </tr>\n",
       "    <tr>\n",
       "      <th>...</th>\n",
       "      <td>...</td>\n",
       "      <td>...</td>\n",
       "      <td>...</td>\n",
       "    </tr>\n",
       "    <tr>\n",
       "      <th>1206477</th>\n",
       "      <td>7gEZO8zTIlJdGcWZMBGMsw</td>\n",
       "      <td>HairSpecializesIn</td>\n",
       "      <td>None</td>\n",
       "    </tr>\n",
       "    <tr>\n",
       "      <th>1206517</th>\n",
       "      <td>Tqkhl0H83bXDyZJE6S66kQ</td>\n",
       "      <td>HairSpecializesIn</td>\n",
       "      <td>None</td>\n",
       "    </tr>\n",
       "    <tr>\n",
       "      <th>1206537</th>\n",
       "      <td>LQMa64U__ryF2J_ArnAsUQ</td>\n",
       "      <td>HairSpecializesIn</td>\n",
       "      <td>None</td>\n",
       "    </tr>\n",
       "    <tr>\n",
       "      <th>1206577</th>\n",
       "      <td>eAv4CxnFb19Fpyi9HaiytA</td>\n",
       "      <td>HairSpecializesIn</td>\n",
       "      <td>None</td>\n",
       "    </tr>\n",
       "    <tr>\n",
       "      <th>1206797</th>\n",
       "      <td>m4s6xuuBnoObBxNmWnkKeg</td>\n",
       "      <td>DietaryRestrictions</td>\n",
       "      <td>None</td>\n",
       "    </tr>\n",
       "  </tbody>\n",
       "</table>\n",
       "<p>12827 rows × 3 columns</p>\n",
       "</div>"
      ],
      "text/plain": [
       "                    business_id        attribute_key attribute_value\n",
       "774      m0JTpAD6Hf7AO71hmmqxIg    ByAppointmentOnly            None\n",
       "3702     Xypw6Dn6Mt1gCywme5OoUw    ByAppointmentOnly            None\n",
       "5941     Bo-AALoRsKeLqfJbcyzm8Q    ByAppointmentOnly            None\n",
       "6048     gMC-74chzFpSoGbKWWuElg    ByAppointmentOnly            None\n",
       "7545     fq1gweldy1FqSeazemzReA    ByAppointmentOnly            None\n",
       "...                         ...                  ...             ...\n",
       "1206477  7gEZO8zTIlJdGcWZMBGMsw    HairSpecializesIn            None\n",
       "1206517  Tqkhl0H83bXDyZJE6S66kQ    HairSpecializesIn            None\n",
       "1206537  LQMa64U__ryF2J_ArnAsUQ    HairSpecializesIn            None\n",
       "1206577  eAv4CxnFb19Fpyi9HaiytA    HairSpecializesIn            None\n",
       "1206797  m4s6xuuBnoObBxNmWnkKeg  DietaryRestrictions            None\n",
       "\n",
       "[12827 rows x 3 columns]"
      ]
     },
     "execution_count": 60,
     "metadata": {},
     "output_type": "execute_result"
    }
   ],
   "source": [
    "attributes[attributes['attribute_value'] == 'None']"
   ]
  },
  {
   "cell_type": "code",
   "execution_count": 61,
   "metadata": {},
   "outputs": [],
   "source": [
    "attributes = attributes[attributes['attribute_value'] != 'None']\n",
    "attributes.reset_index(drop=True, inplace=True)"
   ]
  },
  {
   "cell_type": "code",
   "execution_count": 62,
   "metadata": {},
   "outputs": [
    {
     "data": {
      "text/html": [
       "<div>\n",
       "<style scoped>\n",
       "    .dataframe tbody tr th:only-of-type {\n",
       "        vertical-align: middle;\n",
       "    }\n",
       "\n",
       "    .dataframe tbody tr th {\n",
       "        vertical-align: top;\n",
       "    }\n",
       "\n",
       "    .dataframe thead th {\n",
       "        text-align: right;\n",
       "    }\n",
       "</style>\n",
       "<table border=\"1\" class=\"dataframe\">\n",
       "  <thead>\n",
       "    <tr style=\"text-align: right;\">\n",
       "      <th></th>\n",
       "      <th>business_id</th>\n",
       "      <th>attribute_key</th>\n",
       "      <th>attribute_value</th>\n",
       "    </tr>\n",
       "  </thead>\n",
       "  <tbody>\n",
       "  </tbody>\n",
       "</table>\n",
       "</div>"
      ],
      "text/plain": [
       "Empty DataFrame\n",
       "Columns: [business_id, attribute_key, attribute_value]\n",
       "Index: []"
      ]
     },
     "execution_count": 62,
     "metadata": {},
     "output_type": "execute_result"
    }
   ],
   "source": [
    "attributes[attributes['attribute_value'] == 'None']"
   ]
  },
  {
   "cell_type": "code",
   "execution_count": 63,
   "metadata": {},
   "outputs": [
    {
     "name": "stdout",
     "output_type": "stream",
     "text": [
      "<class 'pandas.core.frame.DataFrame'>\n",
      "RangeIndex: 1193993 entries, 0 to 1193992\n",
      "Data columns (total 3 columns):\n",
      " #   Column           Non-Null Count    Dtype \n",
      "---  ------           --------------    ----- \n",
      " 0   business_id      1193993 non-null  object\n",
      " 1   attribute_key    1193993 non-null  object\n",
      " 2   attribute_value  1193993 non-null  object\n",
      "dtypes: object(3)\n",
      "memory usage: 27.3+ MB\n"
     ]
    }
   ],
   "source": [
    "attributes.info()"
   ]
  },
  {
   "cell_type": "code",
   "execution_count": 64,
   "metadata": {},
   "outputs": [],
   "source": [
    "# Normaliza 'categories'\n",
    "categories = business_yelp[['business_id', 'categories']]\n",
    "categories = categories.explode('categories')\n",
    "categories = categories.rename(columns={'categories': 'category'})\n",
    "categories['category'] = categories['category'].str.split(',')\n",
    "categories = categories.explode('category')"
   ]
  },
  {
   "cell_type": "code",
   "execution_count": 65,
   "metadata": {},
   "outputs": [
    {
     "data": {
      "text/html": [
       "<div>\n",
       "<style scoped>\n",
       "    .dataframe tbody tr th:only-of-type {\n",
       "        vertical-align: middle;\n",
       "    }\n",
       "\n",
       "    .dataframe tbody tr th {\n",
       "        vertical-align: top;\n",
       "    }\n",
       "\n",
       "    .dataframe thead th {\n",
       "        text-align: right;\n",
       "    }\n",
       "</style>\n",
       "<table border=\"1\" class=\"dataframe\">\n",
       "  <thead>\n",
       "    <tr style=\"text-align: right;\">\n",
       "      <th></th>\n",
       "      <th>business_id</th>\n",
       "      <th>category</th>\n",
       "    </tr>\n",
       "  </thead>\n",
       "  <tbody>\n",
       "    <tr>\n",
       "      <th>1917</th>\n",
       "      <td>SMYXOLPyM95JvZ-oqnsWUA</td>\n",
       "      <td>None</td>\n",
       "    </tr>\n",
       "    <tr>\n",
       "      <th>2243</th>\n",
       "      <td>9ryVeDaaR-le3kiSayTGow</td>\n",
       "      <td>None</td>\n",
       "    </tr>\n",
       "    <tr>\n",
       "      <th>3304</th>\n",
       "      <td>xT3J-SP5g49g2FjQfLEQfg</td>\n",
       "      <td>None</td>\n",
       "    </tr>\n",
       "    <tr>\n",
       "      <th>3324</th>\n",
       "      <td>_obl2-rphXvtzP3y_ekV1Q</td>\n",
       "      <td>None</td>\n",
       "    </tr>\n",
       "    <tr>\n",
       "      <th>4640</th>\n",
       "      <td>mKxCNYEoKt6d_1rXmvRwww</td>\n",
       "      <td>None</td>\n",
       "    </tr>\n",
       "    <tr>\n",
       "      <th>...</th>\n",
       "      <td>...</td>\n",
       "      <td>...</td>\n",
       "    </tr>\n",
       "    <tr>\n",
       "      <th>144328</th>\n",
       "      <td>szluot9mpdIAnUDGi27__w</td>\n",
       "      <td>None</td>\n",
       "    </tr>\n",
       "    <tr>\n",
       "      <th>145039</th>\n",
       "      <td>s54FBcv78I6QNjqznP9oKw</td>\n",
       "      <td>None</td>\n",
       "    </tr>\n",
       "    <tr>\n",
       "      <th>146058</th>\n",
       "      <td>KYI2rHE3vTG_z9ddqhp58A</td>\n",
       "      <td>None</td>\n",
       "    </tr>\n",
       "    <tr>\n",
       "      <th>148225</th>\n",
       "      <td>DCvA43gLeetay_qttR9ABQ</td>\n",
       "      <td>None</td>\n",
       "    </tr>\n",
       "    <tr>\n",
       "      <th>149883</th>\n",
       "      <td>NoU_2sLsdgUxAf9S7vuCQg</td>\n",
       "      <td>None</td>\n",
       "    </tr>\n",
       "  </tbody>\n",
       "</table>\n",
       "<p>103 rows × 2 columns</p>\n",
       "</div>"
      ],
      "text/plain": [
       "                   business_id category\n",
       "1917    SMYXOLPyM95JvZ-oqnsWUA     None\n",
       "2243    9ryVeDaaR-le3kiSayTGow     None\n",
       "3304    xT3J-SP5g49g2FjQfLEQfg     None\n",
       "3324    _obl2-rphXvtzP3y_ekV1Q     None\n",
       "4640    mKxCNYEoKt6d_1rXmvRwww     None\n",
       "...                        ...      ...\n",
       "144328  szluot9mpdIAnUDGi27__w     None\n",
       "145039  s54FBcv78I6QNjqznP9oKw     None\n",
       "146058  KYI2rHE3vTG_z9ddqhp58A     None\n",
       "148225  DCvA43gLeetay_qttR9ABQ     None\n",
       "149883  NoU_2sLsdgUxAf9S7vuCQg     None\n",
       "\n",
       "[103 rows x 2 columns]"
      ]
     },
     "execution_count": 65,
     "metadata": {},
     "output_type": "execute_result"
    }
   ],
   "source": [
    "categories[categories.category.isnull()]"
   ]
  },
  {
   "cell_type": "code",
   "execution_count": 66,
   "metadata": {},
   "outputs": [],
   "source": [
    "categories.dropna(inplace=True)\n",
    "categories.reset_index(drop=True, inplace=True)"
   ]
  },
  {
   "cell_type": "code",
   "execution_count": 67,
   "metadata": {},
   "outputs": [
    {
     "name": "stdout",
     "output_type": "stream",
     "text": [
      "<class 'pandas.core.frame.DataFrame'>\n",
      "RangeIndex: 668592 entries, 0 to 668591\n",
      "Data columns (total 2 columns):\n",
      " #   Column       Non-Null Count   Dtype \n",
      "---  ------       --------------   ----- \n",
      " 0   business_id  668592 non-null  object\n",
      " 1   category     668592 non-null  object\n",
      "dtypes: object(2)\n",
      "memory usage: 10.2+ MB\n"
     ]
    }
   ],
   "source": [
    "categories.info()"
   ]
  },
  {
   "cell_type": "code",
   "execution_count": 68,
   "metadata": {},
   "outputs": [],
   "source": [
    "# Normaliza 'hours'\n",
    "hours = pd.json_normalize(business_yelp['hours'])\n",
    "hours['business_id'] = business_yelp['business_id']\n",
    "hours = hours.melt(id_vars='business_id', var_name='day_of_week', value_name='opening_hours')\n",
    "hours.dropna(inplace=True)\n",
    "hours.reset_index(drop=True, inplace=True)"
   ]
  },
  {
   "cell_type": "code",
   "execution_count": 69,
   "metadata": {},
   "outputs": [
    {
     "data": {
      "text/html": [
       "<div>\n",
       "<style scoped>\n",
       "    .dataframe tbody tr th:only-of-type {\n",
       "        vertical-align: middle;\n",
       "    }\n",
       "\n",
       "    .dataframe tbody tr th {\n",
       "        vertical-align: top;\n",
       "    }\n",
       "\n",
       "    .dataframe thead th {\n",
       "        text-align: right;\n",
       "    }\n",
       "</style>\n",
       "<table border=\"1\" class=\"dataframe\">\n",
       "  <thead>\n",
       "    <tr style=\"text-align: right;\">\n",
       "      <th></th>\n",
       "      <th>business_id</th>\n",
       "      <th>day_of_week</th>\n",
       "      <th>opening_hours</th>\n",
       "    </tr>\n",
       "  </thead>\n",
       "  <tbody>\n",
       "    <tr>\n",
       "      <th>0</th>\n",
       "      <td>mpf3x-BjTdTEA3yCZrAYPw</td>\n",
       "      <td>Monday</td>\n",
       "      <td>0:0-0:0</td>\n",
       "    </tr>\n",
       "    <tr>\n",
       "      <th>1</th>\n",
       "      <td>tUFrWirKiKi_TAnsVWINQQ</td>\n",
       "      <td>Monday</td>\n",
       "      <td>8:0-22:0</td>\n",
       "    </tr>\n",
       "    <tr>\n",
       "      <th>2</th>\n",
       "      <td>MTSW4McQd7CbVtyjqoe9mw</td>\n",
       "      <td>Monday</td>\n",
       "      <td>7:0-20:0</td>\n",
       "    </tr>\n",
       "    <tr>\n",
       "      <th>3</th>\n",
       "      <td>CF33F8-E6oudUQ46HnavjQ</td>\n",
       "      <td>Monday</td>\n",
       "      <td>0:0-0:0</td>\n",
       "    </tr>\n",
       "    <tr>\n",
       "      <th>4</th>\n",
       "      <td>n_0UpQx1hsNbnPUSlodU8w</td>\n",
       "      <td>Monday</td>\n",
       "      <td>0:0-0:0</td>\n",
       "    </tr>\n",
       "    <tr>\n",
       "      <th>...</th>\n",
       "      <td>...</td>\n",
       "      <td>...</td>\n",
       "      <td>...</td>\n",
       "    </tr>\n",
       "    <tr>\n",
       "      <th>801010</th>\n",
       "      <td>2O2K6SXPWv56amqxCECd4w</td>\n",
       "      <td>Sunday</td>\n",
       "      <td>0:0-0:0</td>\n",
       "    </tr>\n",
       "    <tr>\n",
       "      <th>801011</th>\n",
       "      <td>hn9Toz3s-Ei3uZPt7esExA</td>\n",
       "      <td>Sunday</td>\n",
       "      <td>11:0-22:0</td>\n",
       "    </tr>\n",
       "    <tr>\n",
       "      <th>801012</th>\n",
       "      <td>IUQopTMmYQG-qRtBk-8QnA</td>\n",
       "      <td>Sunday</td>\n",
       "      <td>11:0-17:0</td>\n",
       "    </tr>\n",
       "    <tr>\n",
       "      <th>801013</th>\n",
       "      <td>c8GjPIOTGVmIemT7j5_SyQ</td>\n",
       "      <td>Sunday</td>\n",
       "      <td>0:0-16:0</td>\n",
       "    </tr>\n",
       "    <tr>\n",
       "      <th>801014</th>\n",
       "      <td>mtGm22y5c2UHNXDFAjaPNw</td>\n",
       "      <td>Sunday</td>\n",
       "      <td>10:0-17:0</td>\n",
       "    </tr>\n",
       "  </tbody>\n",
       "</table>\n",
       "<p>801015 rows × 3 columns</p>\n",
       "</div>"
      ],
      "text/plain": [
       "                   business_id day_of_week opening_hours\n",
       "0       mpf3x-BjTdTEA3yCZrAYPw      Monday       0:0-0:0\n",
       "1       tUFrWirKiKi_TAnsVWINQQ      Monday      8:0-22:0\n",
       "2       MTSW4McQd7CbVtyjqoe9mw      Monday      7:0-20:0\n",
       "3       CF33F8-E6oudUQ46HnavjQ      Monday       0:0-0:0\n",
       "4       n_0UpQx1hsNbnPUSlodU8w      Monday       0:0-0:0\n",
       "...                        ...         ...           ...\n",
       "801010  2O2K6SXPWv56amqxCECd4w      Sunday       0:0-0:0\n",
       "801011  hn9Toz3s-Ei3uZPt7esExA      Sunday     11:0-22:0\n",
       "801012  IUQopTMmYQG-qRtBk-8QnA      Sunday     11:0-17:0\n",
       "801013  c8GjPIOTGVmIemT7j5_SyQ      Sunday      0:0-16:0\n",
       "801014  mtGm22y5c2UHNXDFAjaPNw      Sunday     10:0-17:0\n",
       "\n",
       "[801015 rows x 3 columns]"
      ]
     },
     "execution_count": 69,
     "metadata": {},
     "output_type": "execute_result"
    }
   ],
   "source": [
    "hours"
   ]
  },
  {
   "cell_type": "code",
   "execution_count": 70,
   "metadata": {},
   "outputs": [
    {
     "name": "stdout",
     "output_type": "stream",
     "text": [
      "<class 'pandas.core.frame.DataFrame'>\n",
      "RangeIndex: 801015 entries, 0 to 801014\n",
      "Data columns (total 3 columns):\n",
      " #   Column         Non-Null Count   Dtype \n",
      "---  ------         --------------   ----- \n",
      " 0   business_id    801015 non-null  object\n",
      " 1   day_of_week    801015 non-null  object\n",
      " 2   opening_hours  801015 non-null  object\n",
      "dtypes: object(3)\n",
      "memory usage: 18.3+ MB\n"
     ]
    }
   ],
   "source": [
    "hours.info()"
   ]
  },
  {
   "cell_type": "code",
   "execution_count": 71,
   "metadata": {},
   "outputs": [
    {
     "data": {
      "text/plain": [
       "Index(['business_id', 'name', 'address', 'city', 'state', 'postal_code',\n",
       "       'latitude', 'longitude', 'stars', 'review_count', 'is_open'],\n",
       "      dtype='object')"
      ]
     },
     "execution_count": 71,
     "metadata": {},
     "output_type": "execute_result"
    }
   ],
   "source": [
    "# Eliminamos'attributes', 'categories' y 'hours' que ya hemos normalizado.\n",
    "business = business_yelp.drop(columns=['attributes', 'categories', 'hours'])\n",
    "business.columns"
   ]
  },
  {
   "cell_type": "code",
   "execution_count": 72,
   "metadata": {},
   "outputs": [
    {
     "name": "stdout",
     "output_type": "stream",
     "text": [
      "<class 'pandas.core.frame.DataFrame'>\n",
      "Index: 150346 entries, 0 to 150345\n",
      "Data columns (total 11 columns):\n",
      " #   Column        Non-Null Count   Dtype \n",
      "---  ------        --------------   ----- \n",
      " 0   business_id   150346 non-null  object\n",
      " 1   name          150346 non-null  object\n",
      " 2   address       150346 non-null  object\n",
      " 3   city          150346 non-null  object\n",
      " 4   state         150346 non-null  object\n",
      " 5   postal_code   150346 non-null  object\n",
      " 6   latitude      150346 non-null  object\n",
      " 7   longitude     150346 non-null  object\n",
      " 8   stars         150346 non-null  object\n",
      " 9   review_count  150346 non-null  object\n",
      " 10  is_open       150346 non-null  object\n",
      "dtypes: object(11)\n",
      "memory usage: 17.8+ MB\n"
     ]
    }
   ],
   "source": [
    "business.info()"
   ]
  },
  {
   "cell_type": "markdown",
   "metadata": {},
   "source": [
    "### DOCUMENTACIÓN\n",
    "\n",
    "Contiene información del comercio, incluyendo localización, atributos y categorías.\n",
    "\n",
    "- string, 22 caracteres id del negocio, refiere al negocio en business. json\n",
    "\"business_id\": \"tnhfDv5Il8EaGSXZGiuQGg\",\n",
    "\n",
    "- string, nombre del negocio\n",
    "\"name\": \"Garaje\",\n",
    "\n",
    "- string, direccion completa del negocio\n",
    "\"address\": \"475 3rd St\",\n",
    "\n",
    "- string, ciudad\n",
    "\"city\": \"San Francisco\",\n",
    "\n",
    "- string, codigo de 2 letras del Estado donde se ubica el negocio\n",
    "\"state\": \"CA\",\n",
    "\n",
    "- string, el codigo postal\n",
    "\"postal code\": \"94107\",\n",
    "\n",
    "- float, latitud\n",
    "\"latitude\": 37.7817529521,\n",
    "\n",
    "- float, longitud\n",
    "\"longitude\": -122.39612197,\n",
    "\n",
    "- float, rating en estrellas, redondeado a 0 o 0.5\n",
    "\"stars\": 4.5,\n",
    "\n",
    "- entero, numero de reseñas\n",
    "\"review_count\": 1198,\n",
    "\n",
    "- entero, 0 si esta cerrado, 1 si está abierto\n",
    "\"is_open\": 1,\n",
    "\n",
    "- objeto, atributos del negocio como valores. Algunos valores de atributos también pueden ser objetos.\n",
    "\"attributes\": {\n",
    "    \"RestaurantsTakeOut\": true,\n",
    "    \"BusinessParking\": {\n",
    "        \"garage\": false,\n",
    "        \"street\": true,\n",
    "        \"validated\": false,\n",
    "        \"lot\": false,\n",
    "        \"valet\": false\n",
    "    },\n",
    "},\n",
    "- lista de categorias de los negocios\n",
    "\"categories\": [\n",
    "    \"Mexican\",\n",
    "    \"Burgers\",\n",
    "    \"Gastropubs\"\n",
    "],\n",
    "- objeto, de dia a hora, las horas son en 24hr\n",
    "\"hours\": {\n",
    " \"Monday\": \"10:00-21:00\",\n",
    " \"Tuesday\": \"10:00-21:00\",\n",
    " \"Friday\": \"10:00-21:00\",\n",
    " \"Wednesday\": \"10:00-21:00\",\n",
    " \"Thursday\": \"10:00-21:00\",\n",
    " \"Sunday\": \"11:00-18:00\",\n",
    " \"Saturday\": \"10:00-21:00\""
   ]
  },
  {
   "cell_type": "markdown",
   "metadata": {},
   "source": [
    "### DATASET: checkin.json"
   ]
  },
  {
   "cell_type": "code",
   "execution_count": 73,
   "metadata": {},
   "outputs": [],
   "source": [
    "# Ruta local completa del archivo checkin.json\n",
    "ruta_local_checkin = r\"C:/Users/Usuario/Desktop/Proyecto Final/Yelp/checkin.json\""
   ]
  },
  {
   "cell_type": "code",
   "execution_count": 74,
   "metadata": {},
   "outputs": [],
   "source": [
    "yelp_checkin = []\n",
    "\n",
    "with open(ruta_local_checkin, \"r\", encoding='utf-8') as filejson:\n",
    "    # Procesa cada línea del archivo como un objeto JSON\n",
    "    for linea in filejson:\n",
    "        # Intenta cargar la línea como un objeto JSON\n",
    "        objeto = json.loads(linea)\n",
    "        yelp_checkin.append(objeto)\n",
    "\n",
    "# Convierte la lista de diccionarios a un DataFrame de Pandas\n",
    "yelp_checkin = pd.DataFrame(yelp_checkin)"
   ]
  },
  {
   "cell_type": "code",
   "execution_count": 75,
   "metadata": {},
   "outputs": [
    {
     "name": "stdout",
     "output_type": "stream",
     "text": [
      "<class 'pandas.core.frame.DataFrame'>\n",
      "RangeIndex: 131930 entries, 0 to 131929\n",
      "Data columns (total 2 columns):\n",
      " #   Column       Non-Null Count   Dtype \n",
      "---  ------       --------------   ----- \n",
      " 0   business_id  131930 non-null  object\n",
      " 1   date         131930 non-null  object\n",
      "dtypes: object(2)\n",
      "memory usage: 2.0+ MB\n"
     ]
    }
   ],
   "source": [
    "# Muestra la info de nuestro dataframe\n",
    "yelp_checkin.info()"
   ]
  },
  {
   "cell_type": "code",
   "execution_count": 76,
   "metadata": {},
   "outputs": [
    {
     "data": {
      "text/html": [
       "<div>\n",
       "<style scoped>\n",
       "    .dataframe tbody tr th:only-of-type {\n",
       "        vertical-align: middle;\n",
       "    }\n",
       "\n",
       "    .dataframe tbody tr th {\n",
       "        vertical-align: top;\n",
       "    }\n",
       "\n",
       "    .dataframe thead th {\n",
       "        text-align: right;\n",
       "    }\n",
       "</style>\n",
       "<table border=\"1\" class=\"dataframe\">\n",
       "  <thead>\n",
       "    <tr style=\"text-align: right;\">\n",
       "      <th></th>\n",
       "      <th>business_id</th>\n",
       "      <th>date</th>\n",
       "    </tr>\n",
       "  </thead>\n",
       "  <tbody>\n",
       "    <tr>\n",
       "      <th>0</th>\n",
       "      <td>---kPU91CF4Lq2-WlRu9Lw</td>\n",
       "      <td>2020-03-13 21:10:56, 2020-06-02 22:18:06, 2020...</td>\n",
       "    </tr>\n",
       "    <tr>\n",
       "      <th>1</th>\n",
       "      <td>--0iUa4sNDFiZFrAdIWhZQ</td>\n",
       "      <td>2010-09-13 21:43:09, 2011-05-04 23:08:15, 2011...</td>\n",
       "    </tr>\n",
       "    <tr>\n",
       "      <th>2</th>\n",
       "      <td>--30_8IhuyMHbSOcNWd6DQ</td>\n",
       "      <td>2013-06-14 23:29:17, 2014-08-13 23:20:22</td>\n",
       "    </tr>\n",
       "    <tr>\n",
       "      <th>3</th>\n",
       "      <td>--7PUidqRWpRSpXebiyxTg</td>\n",
       "      <td>2011-02-15 17:12:00, 2011-07-28 02:46:10, 2012...</td>\n",
       "    </tr>\n",
       "    <tr>\n",
       "      <th>4</th>\n",
       "      <td>--7jw19RH9JKXgFohspgQw</td>\n",
       "      <td>2014-04-21 20:42:11, 2014-04-28 21:04:46, 2014...</td>\n",
       "    </tr>\n",
       "  </tbody>\n",
       "</table>\n",
       "</div>"
      ],
      "text/plain": [
       "              business_id                                               date\n",
       "0  ---kPU91CF4Lq2-WlRu9Lw  2020-03-13 21:10:56, 2020-06-02 22:18:06, 2020...\n",
       "1  --0iUa4sNDFiZFrAdIWhZQ  2010-09-13 21:43:09, 2011-05-04 23:08:15, 2011...\n",
       "2  --30_8IhuyMHbSOcNWd6DQ           2013-06-14 23:29:17, 2014-08-13 23:20:22\n",
       "3  --7PUidqRWpRSpXebiyxTg  2011-02-15 17:12:00, 2011-07-28 02:46:10, 2012...\n",
       "4  --7jw19RH9JKXgFohspgQw  2014-04-21 20:42:11, 2014-04-28 21:04:46, 2014..."
      ]
     },
     "execution_count": 76,
     "metadata": {},
     "output_type": "execute_result"
    }
   ],
   "source": [
    "#Muestra las primeras filas\n",
    "yelp_checkin.head()"
   ]
  },
  {
   "cell_type": "code",
   "execution_count": 77,
   "metadata": {},
   "outputs": [
    {
     "data": {
      "text/plain": [
       "0"
      ]
     },
     "execution_count": 77,
     "metadata": {},
     "output_type": "execute_result"
    }
   ],
   "source": [
    "# Buscamos duplicados\n",
    "yelp_checkin.duplicated().sum()"
   ]
  },
  {
   "cell_type": "code",
   "execution_count": 78,
   "metadata": {},
   "outputs": [
    {
     "data": {
      "text/plain": [
       "'2020-03-13 21:10:56, 2020-06-02 22:18:06, 2020-07-24 22:42:27, 2020-10-24 21:36:13, 2020-12-09 21:23:33, 2021-01-20 17:34:57, 2021-04-30 21:02:03, 2021-05-25 21:16:54, 2021-08-06 21:08:08, 2021-10-02 15:15:42, 2021-11-11 16:23:50'"
      ]
     },
     "execution_count": 78,
     "metadata": {},
     "output_type": "execute_result"
    }
   ],
   "source": [
    "# Observamos la estructura de los datos en 'date'\n",
    "yelp_checkin.date[0]"
   ]
  },
  {
   "cell_type": "code",
   "execution_count": 79,
   "metadata": {},
   "outputs": [],
   "source": [
    "# Divide la columna 'date' en una lista de fechas\n",
    "yelp_checkin['date'] = yelp_checkin.date.str.split(',')"
   ]
  },
  {
   "cell_type": "code",
   "execution_count": 80,
   "metadata": {},
   "outputs": [],
   "source": [
    "# Convierte la lista de fechas en filas separadas\n",
    "yelp_checkin = yelp_checkin.explode('date')"
   ]
  },
  {
   "cell_type": "code",
   "execution_count": 81,
   "metadata": {},
   "outputs": [],
   "source": [
    "# Limpiar las cadenas de fecha\n",
    "yelp_checkin['date'] = yelp_checkin['date'].str.strip()"
   ]
  },
  {
   "cell_type": "code",
   "execution_count": 82,
   "metadata": {},
   "outputs": [],
   "source": [
    "# Convierte la columna 'date' al formato datetime\n",
    "yelp_checkin['date'] = pd.to_datetime(yelp_checkin['date'], format='%Y-%m-%d %H:%M:%S', errors='coerce')"
   ]
  },
  {
   "cell_type": "code",
   "execution_count": 83,
   "metadata": {},
   "outputs": [],
   "source": [
    "# Ordena el DataFrame por 'date'\n",
    "yelp_checkin = yelp_checkin.sort_values(['date'])"
   ]
  },
  {
   "cell_type": "code",
   "execution_count": 84,
   "metadata": {},
   "outputs": [],
   "source": [
    "# Agrega una columna 'id' con un ID único para cada registro\n",
    "yelp_checkin = yelp_checkin.reset_index(drop=True)\n",
    "yelp_checkin.insert(0, 'checkin_id', yelp_checkin.index + 1)"
   ]
  },
  {
   "cell_type": "code",
   "execution_count": 85,
   "metadata": {},
   "outputs": [
    {
     "data": {
      "text/html": [
       "<div>\n",
       "<style scoped>\n",
       "    .dataframe tbody tr th:only-of-type {\n",
       "        vertical-align: middle;\n",
       "    }\n",
       "\n",
       "    .dataframe tbody tr th {\n",
       "        vertical-align: top;\n",
       "    }\n",
       "\n",
       "    .dataframe thead th {\n",
       "        text-align: right;\n",
       "    }\n",
       "</style>\n",
       "<table border=\"1\" class=\"dataframe\">\n",
       "  <thead>\n",
       "    <tr style=\"text-align: right;\">\n",
       "      <th></th>\n",
       "      <th>checkin_id</th>\n",
       "      <th>business_id</th>\n",
       "      <th>date</th>\n",
       "    </tr>\n",
       "  </thead>\n",
       "  <tbody>\n",
       "    <tr>\n",
       "      <th>0</th>\n",
       "      <td>1</td>\n",
       "      <td>jm_6bIhR_TuciFIk5rhR7g</td>\n",
       "      <td>2009-12-30 02:53:27</td>\n",
       "    </tr>\n",
       "    <tr>\n",
       "      <th>1</th>\n",
       "      <td>2</td>\n",
       "      <td>yEKmlxvhA2EWrMLbwWi7Hw</td>\n",
       "      <td>2009-12-31 00:18:24</td>\n",
       "    </tr>\n",
       "    <tr>\n",
       "      <th>2</th>\n",
       "      <td>3</td>\n",
       "      <td>TRxR32_T_7Ly_RW4Ke97fw</td>\n",
       "      <td>2010-01-16 00:36:59</td>\n",
       "    </tr>\n",
       "    <tr>\n",
       "      <th>3</th>\n",
       "      <td>4</td>\n",
       "      <td>OzoE9NH0xjhfsVMc7ygaaQ</td>\n",
       "      <td>2010-01-16 01:15:27</td>\n",
       "    </tr>\n",
       "    <tr>\n",
       "      <th>4</th>\n",
       "      <td>5</td>\n",
       "      <td>7lwe7n-Yc-V9E_HfLAeylg</td>\n",
       "      <td>2010-01-16 02:12:05</td>\n",
       "    </tr>\n",
       "  </tbody>\n",
       "</table>\n",
       "</div>"
      ],
      "text/plain": [
       "   checkin_id             business_id                date\n",
       "0           1  jm_6bIhR_TuciFIk5rhR7g 2009-12-30 02:53:27\n",
       "1           2  yEKmlxvhA2EWrMLbwWi7Hw 2009-12-31 00:18:24\n",
       "2           3  TRxR32_T_7Ly_RW4Ke97fw 2010-01-16 00:36:59\n",
       "3           4  OzoE9NH0xjhfsVMc7ygaaQ 2010-01-16 01:15:27\n",
       "4           5  7lwe7n-Yc-V9E_HfLAeylg 2010-01-16 02:12:05"
      ]
     },
     "execution_count": 85,
     "metadata": {},
     "output_type": "execute_result"
    }
   ],
   "source": [
    "# Muestra los primeros datos\n",
    "yelp_checkin.head()"
   ]
  },
  {
   "cell_type": "code",
   "execution_count": 86,
   "metadata": {},
   "outputs": [
    {
     "name": "stdout",
     "output_type": "stream",
     "text": [
      "<class 'pandas.core.frame.DataFrame'>\n",
      "RangeIndex: 13356875 entries, 0 to 13356874\n",
      "Data columns (total 3 columns):\n",
      " #   Column       Dtype         \n",
      "---  ------       -----         \n",
      " 0   checkin_id   int64         \n",
      " 1   business_id  object        \n",
      " 2   date         datetime64[ns]\n",
      "dtypes: datetime64[ns](1), int64(1), object(1)\n",
      "memory usage: 305.7+ MB\n"
     ]
    }
   ],
   "source": [
    "#Mustra la info de nuestro data frame\n",
    "yelp_checkin.info()"
   ]
  },
  {
   "cell_type": "code",
   "execution_count": 87,
   "metadata": {},
   "outputs": [
    {
     "data": {
      "text/html": [
       "<div>\n",
       "<style scoped>\n",
       "    .dataframe tbody tr th:only-of-type {\n",
       "        vertical-align: middle;\n",
       "    }\n",
       "\n",
       "    .dataframe tbody tr th {\n",
       "        vertical-align: top;\n",
       "    }\n",
       "\n",
       "    .dataframe thead th {\n",
       "        text-align: right;\n",
       "    }\n",
       "</style>\n",
       "<table border=\"1\" class=\"dataframe\">\n",
       "  <thead>\n",
       "    <tr style=\"text-align: right;\">\n",
       "      <th></th>\n",
       "      <th>count</th>\n",
       "      <th>unique</th>\n",
       "      <th>top</th>\n",
       "      <th>freq</th>\n",
       "      <th>mean</th>\n",
       "      <th>min</th>\n",
       "      <th>25%</th>\n",
       "      <th>50%</th>\n",
       "      <th>75%</th>\n",
       "      <th>max</th>\n",
       "      <th>std</th>\n",
       "    </tr>\n",
       "  </thead>\n",
       "  <tbody>\n",
       "    <tr>\n",
       "      <th>checkin_id</th>\n",
       "      <td>13356875.0</td>\n",
       "      <td>NaN</td>\n",
       "      <td>NaN</td>\n",
       "      <td>NaN</td>\n",
       "      <td>6678438.0</td>\n",
       "      <td>1.0</td>\n",
       "      <td>3339219.5</td>\n",
       "      <td>6678438.0</td>\n",
       "      <td>10017656.5</td>\n",
       "      <td>13356875.0</td>\n",
       "      <td>3855797.832729</td>\n",
       "    </tr>\n",
       "    <tr>\n",
       "      <th>business_id</th>\n",
       "      <td>13356875</td>\n",
       "      <td>131930</td>\n",
       "      <td>-QI8Qi8XWH3D8y8ethnajA</td>\n",
       "      <td>52144</td>\n",
       "      <td>NaN</td>\n",
       "      <td>NaN</td>\n",
       "      <td>NaN</td>\n",
       "      <td>NaN</td>\n",
       "      <td>NaN</td>\n",
       "      <td>NaN</td>\n",
       "      <td>NaN</td>\n",
       "    </tr>\n",
       "    <tr>\n",
       "      <th>date</th>\n",
       "      <td>13356875</td>\n",
       "      <td>NaN</td>\n",
       "      <td>NaN</td>\n",
       "      <td>NaN</td>\n",
       "      <td>2015-10-19 02:42:58.028557312</td>\n",
       "      <td>2009-12-30 02:53:27</td>\n",
       "      <td>2013-08-07 01:01:35</td>\n",
       "      <td>2015-08-17 17:20:15</td>\n",
       "      <td>2017-11-07 00:49:03.500000</td>\n",
       "      <td>2022-01-19 16:48:37</td>\n",
       "      <td>NaN</td>\n",
       "    </tr>\n",
       "  </tbody>\n",
       "</table>\n",
       "</div>"
      ],
      "text/plain": [
       "                  count  unique                     top   freq  \\\n",
       "checkin_id   13356875.0     NaN                     NaN    NaN   \n",
       "business_id    13356875  131930  -QI8Qi8XWH3D8y8ethnajA  52144   \n",
       "date           13356875     NaN                     NaN    NaN   \n",
       "\n",
       "                                      mean                  min  \\\n",
       "checkin_id                       6678438.0                  1.0   \n",
       "business_id                            NaN                  NaN   \n",
       "date         2015-10-19 02:42:58.028557312  2009-12-30 02:53:27   \n",
       "\n",
       "                             25%                  50%  \\\n",
       "checkin_id             3339219.5            6678438.0   \n",
       "business_id                  NaN                  NaN   \n",
       "date         2013-08-07 01:01:35  2015-08-17 17:20:15   \n",
       "\n",
       "                                    75%                  max             std  \n",
       "checkin_id                   10017656.5           13356875.0  3855797.832729  \n",
       "business_id                         NaN                  NaN             NaN  \n",
       "date         2017-11-07 00:49:03.500000  2022-01-19 16:48:37             NaN  "
      ]
     },
     "execution_count": 87,
     "metadata": {},
     "output_type": "execute_result"
    }
   ],
   "source": [
    "yelp_checkin.describe(include='all').T"
   ]
  },
  {
   "cell_type": "markdown",
   "metadata": {},
   "source": [
    "### Registros en el negocio.\n",
    "\n",
    "string, 22 caracteres id del negocio que se refiere al negocio en business.json\n",
    "\"business_id\": \"tnhfDv5Il8EaGSXZGiuQGg\"\n",
    "\n",
    "string que es una lista de fechas separados por coma, en formato YYYY-MM-DD HH:MM:SS\n",
    "\"date\": \"2016-04-26 19:49:16, 2016-08-30 18:36:57, 2016-10-15 02:45:18, 2016-11-18 01:54:50, 2017-04-20 18:39:06, 2017-05-03 17:58:02\""
   ]
  },
  {
   "cell_type": "markdown",
   "metadata": {},
   "source": [
    "### DATASET: review.json"
   ]
  },
  {
   "cell_type": "code",
   "execution_count": 88,
   "metadata": {},
   "outputs": [
    {
     "name": "stdout",
     "output_type": "stream",
     "text": [
      "root\n",
      " |-- business_id: string (nullable = true)\n",
      " |-- cool: long (nullable = true)\n",
      " |-- date: string (nullable = true)\n",
      " |-- funny: long (nullable = true)\n",
      " |-- review_id: string (nullable = true)\n",
      " |-- stars: double (nullable = true)\n",
      " |-- text: string (nullable = true)\n",
      " |-- useful: long (nullable = true)\n",
      " |-- user_id: string (nullable = true)\n",
      "\n"
     ]
    },
    {
     "data": {
      "text/html": [
       "<div>\n",
       "<style scoped>\n",
       "    .dataframe tbody tr th:only-of-type {\n",
       "        vertical-align: middle;\n",
       "    }\n",
       "\n",
       "    .dataframe tbody tr th {\n",
       "        vertical-align: top;\n",
       "    }\n",
       "\n",
       "    .dataframe thead th {\n",
       "        text-align: right;\n",
       "    }\n",
       "</style>\n",
       "<table border=\"1\" class=\"dataframe\">\n",
       "  <thead>\n",
       "    <tr style=\"text-align: right;\">\n",
       "      <th></th>\n",
       "      <th>business_id</th>\n",
       "      <th>cool</th>\n",
       "      <th>date</th>\n",
       "      <th>funny</th>\n",
       "      <th>review_id</th>\n",
       "      <th>stars</th>\n",
       "      <th>text</th>\n",
       "      <th>useful</th>\n",
       "      <th>user_id</th>\n",
       "    </tr>\n",
       "  </thead>\n",
       "  <tbody>\n",
       "    <tr>\n",
       "      <th>0</th>\n",
       "      <td>XQfwVwDr-v0ZS3_CbbE5Xw</td>\n",
       "      <td>0</td>\n",
       "      <td>2018-07-07 22:09:11</td>\n",
       "      <td>0</td>\n",
       "      <td>KU_O5udG6zpxOg-VcAEodg</td>\n",
       "      <td>3.0</td>\n",
       "      <td>If you decide to eat here, just be aware it is...</td>\n",
       "      <td>0</td>\n",
       "      <td>mh_-eMZ6K5RLWhZyISBhwA</td>\n",
       "    </tr>\n",
       "    <tr>\n",
       "      <th>1</th>\n",
       "      <td>7ATYjTIgM3jUlt4UM3IypQ</td>\n",
       "      <td>1</td>\n",
       "      <td>2012-01-03 15:28:18</td>\n",
       "      <td>0</td>\n",
       "      <td>BiTunyQ73aT9WBnpR9DZGw</td>\n",
       "      <td>5.0</td>\n",
       "      <td>I've taken a lot of spin classes over the year...</td>\n",
       "      <td>1</td>\n",
       "      <td>OyoGAe7OKpv6SyGZT5g77Q</td>\n",
       "    </tr>\n",
       "    <tr>\n",
       "      <th>2</th>\n",
       "      <td>YjUWPpI6HXG530lwP-fb2A</td>\n",
       "      <td>0</td>\n",
       "      <td>2014-02-05 20:30:30</td>\n",
       "      <td>0</td>\n",
       "      <td>saUsX_uimxRlCVr67Z4Jig</td>\n",
       "      <td>3.0</td>\n",
       "      <td>Family diner. Had the buffet. Eclectic assortm...</td>\n",
       "      <td>0</td>\n",
       "      <td>8g_iMtfSiwikVnbP2etR0A</td>\n",
       "    </tr>\n",
       "    <tr>\n",
       "      <th>3</th>\n",
       "      <td>kxX2SOes4o-D3ZQBkiMRfA</td>\n",
       "      <td>1</td>\n",
       "      <td>2015-01-04 00:01:03</td>\n",
       "      <td>0</td>\n",
       "      <td>AqPFMleE6RsU23_auESxiA</td>\n",
       "      <td>5.0</td>\n",
       "      <td>Wow!  Yummy, different,  delicious.   Our favo...</td>\n",
       "      <td>1</td>\n",
       "      <td>_7bHUi9Uuf5__HHc_Q8guQ</td>\n",
       "    </tr>\n",
       "    <tr>\n",
       "      <th>4</th>\n",
       "      <td>e4Vwtrqf-wpJfwesgvdgxQ</td>\n",
       "      <td>1</td>\n",
       "      <td>2017-01-14 20:54:15</td>\n",
       "      <td>0</td>\n",
       "      <td>Sx8TMOWLNuJBWer-0pcmoA</td>\n",
       "      <td>4.0</td>\n",
       "      <td>Cute interior and owner (?) gave us tour of up...</td>\n",
       "      <td>1</td>\n",
       "      <td>bcjbaE6dDog4jkNY91ncLQ</td>\n",
       "    </tr>\n",
       "  </tbody>\n",
       "</table>\n",
       "</div>"
      ],
      "text/plain": [
       "              business_id  cool                 date  funny               review_id  stars                                                                                                                                                                                                                                                                                                                                                                                                                                                                                                                                                                                                                                                                                                                                                                                                                                                               text  useful                 user_id\n",
       "0  XQfwVwDr-v0ZS3_CbbE5Xw     0  2018-07-07 22:09:11      0  KU_O5udG6zpxOg-VcAEodg    3.0                                                                                                                                                                                                                                                                                                                                If you decide to eat here, just be aware it is going to take about 2 hours from beginning to end. We have tried it multiple times, because I want to like it! I have been to it's other locations in NJ and never had a bad experience. \\n\\nThe food is good, but it takes a very long time to come out. The waitstaff is very young, but usually pleasant. We have just had too many experiences where we spent way too long waiting. We usually opt for another diner or restaurant on the weekends, in order to be done quicker.       0  mh_-eMZ6K5RLWhZyISBhwA\n",
       "1  7ATYjTIgM3jUlt4UM3IypQ     1  2012-01-03 15:28:18      0  BiTunyQ73aT9WBnpR9DZGw    5.0  I've taken a lot of spin classes over the years, and nothing compares to the classes at Body Cycle. From the nice, clean space and amazing bikes, to the welcoming and motivating instructors, every class is a top notch work out.\\n\\nFor anyone who struggles to fit workouts in, the online scheduling system makes it easy to plan ahead (and there's no need to line up way in advanced like many gyms make you do).\\n\\nThere is no way I can write this review without giving Russell, the owner of Body Cycle, a shout out. Russell's passion for fitness and cycling is so evident, as is his desire for all of his clients to succeed. He is always dropping in to classes to check in/provide encouragement, and is open to ideas and recommendations from anyone. Russell always wears a smile on his face, even when he's kicking your butt in class!       1  OyoGAe7OKpv6SyGZT5g77Q\n",
       "2  YjUWPpI6HXG530lwP-fb2A     0  2014-02-05 20:30:30      0  saUsX_uimxRlCVr67Z4Jig    3.0                                                                                                                                                                                                                                                                                                                                                                                                                                                                                                                Family diner. Had the buffet. Eclectic assortment: a large chicken leg, fried jalapeño, tamale, two rolled grape leaves, fresh melon. All good. Lots of Mexican choices there. Also has a menu with breakfast served all day long. Friendly, attentive staff. Good place for a casual relaxed meal with no expectations. Next to the Clarion Hotel.       0  8g_iMtfSiwikVnbP2etR0A\n",
       "3  kxX2SOes4o-D3ZQBkiMRfA     1  2015-01-04 00:01:03      0  AqPFMleE6RsU23_auESxiA    5.0                                                                                                                                                                                                                                                                                                                                                                                                                                                                                                                                                                                                                Wow!  Yummy, different,  delicious.   Our favorite is the lamb curry and korma.  With 10 different kinds of naan!!!  Don't let the outside deter you (because we almost changed our minds)...go in and try something new!   You'll be glad you did!       1  _7bHUi9Uuf5__HHc_Q8guQ\n",
       "4  e4Vwtrqf-wpJfwesgvdgxQ     1  2017-01-14 20:54:15      0  Sx8TMOWLNuJBWer-0pcmoA    4.0                                                                                                                                                                                                                                                                                                             Cute interior and owner (?) gave us tour of upcoming patio/rooftop area which will be great on beautiful days like today. Cheese curds were very good and very filling. Really like that sandwiches come w salad, esp after eating too many curds! Had the onion, gruyere, tomato sandwich. Wasn't too much cheese which I liked. Needed something else...pepper jelly maybe. Would like to see more menu options added such as salads w fun cheeses. Lots of beer and wine as well as limited cocktails. Next time I will try one of the draft wines.       1  bcjbaE6dDog4jkNY91ncLQ"
      ]
     },
     "execution_count": 88,
     "metadata": {},
     "output_type": "execute_result"
    }
   ],
   "source": [
    "#Se lee el archivo review de yelp\n",
    "\n",
    "df = spark.read.json(\"C:/Users/Usuario/Desktop/Proyecto Final/Yelp/review.json\")\n",
    "# Se muestra el esquema del DataFrame\n",
    "df.printSchema()\n",
    "yelp_reviews = df.pandas_api()\n",
    "yelp_reviews.head()"
   ]
  },
  {
   "cell_type": "code",
   "execution_count": 89,
   "metadata": {},
   "outputs": [],
   "source": [
    "# Convierte la columna 'date' al formato datetime\n",
    "yelp_reviews['date'] = yelp_reviews['date'].astype('datetime64[ns]')"
   ]
  },
  {
   "cell_type": "code",
   "execution_count": 90,
   "metadata": {},
   "outputs": [
    {
     "data": {
      "text/plain": [
       "0"
      ]
     },
     "execution_count": 90,
     "metadata": {},
     "output_type": "execute_result"
    }
   ],
   "source": [
    "# Buscamos duplicados\n",
    "yelp_reviews.duplicated().sum()\n",
    "     "
   ]
  },
  {
   "cell_type": "code",
   "execution_count": 91,
   "metadata": {},
   "outputs": [],
   "source": [
    "\n",
    "# Cambia el nombre de la columna 'stars' por 'rating'\n",
    "yelp_reviews = yelp_reviews.rename(columns={'stars': 'rating'})"
   ]
  },
  {
   "cell_type": "code",
   "execution_count": 92,
   "metadata": {},
   "outputs": [],
   "source": [
    "# Cambia el nombre de la columna 'text' por 'review'\n",
    "yelp_reviews = yelp_reviews.rename(columns={'text': 'review'})"
   ]
  },
  {
   "cell_type": "code",
   "execution_count": 93,
   "metadata": {},
   "outputs": [],
   "source": [
    "# Ordena el DataFrame por 'date'\n",
    "yelp_reviews = yelp_reviews.sort_values('date')"
   ]
  },
  {
   "cell_type": "code",
   "execution_count": 94,
   "metadata": {},
   "outputs": [],
   "source": [
    "# Reordena las columnas\n",
    "yelp_reviews = yelp_reviews[['review_id', 'date', 'user_id', 'business_id', 'review', 'rating', 'cool', 'useful', 'funny']]"
   ]
  },
  {
   "cell_type": "code",
   "execution_count": 95,
   "metadata": {},
   "outputs": [
    {
     "data": {
      "text/html": [
       "<div>\n",
       "<style scoped>\n",
       "    .dataframe tbody tr th:only-of-type {\n",
       "        vertical-align: middle;\n",
       "    }\n",
       "\n",
       "    .dataframe tbody tr th {\n",
       "        vertical-align: top;\n",
       "    }\n",
       "\n",
       "    .dataframe thead th {\n",
       "        text-align: right;\n",
       "    }\n",
       "</style>\n",
       "<table border=\"1\" class=\"dataframe\">\n",
       "  <thead>\n",
       "    <tr style=\"text-align: right;\">\n",
       "      <th></th>\n",
       "      <th>review_id</th>\n",
       "      <th>date</th>\n",
       "      <th>user_id</th>\n",
       "      <th>business_id</th>\n",
       "      <th>review</th>\n",
       "      <th>rating</th>\n",
       "      <th>cool</th>\n",
       "      <th>useful</th>\n",
       "      <th>funny</th>\n",
       "    </tr>\n",
       "  </thead>\n",
       "  <tbody>\n",
       "    <tr>\n",
       "      <th>4179799</th>\n",
       "      <td>IykJMMZgbNcUndwf1q6ieg</td>\n",
       "      <td>2005-02-16 03:23:22</td>\n",
       "      <td>3zBJUlWtPNoZ0uN83ODbyg</td>\n",
       "      <td>2bXm0SynOfxDzfrdrCyXqg</td>\n",
       "      <td>It's not chicago style pizza but it is still a...</td>\n",
       "      <td>4.0</td>\n",
       "      <td>0</td>\n",
       "      <td>0</td>\n",
       "      <td>0</td>\n",
       "    </tr>\n",
       "    <tr>\n",
       "      <th>6295220</th>\n",
       "      <td>-O5ng1XLox6uEr4uIZ8u5A</td>\n",
       "      <td>2005-02-16 03:29:39</td>\n",
       "      <td>3zBJUlWtPNoZ0uN83ODbyg</td>\n",
       "      <td>3g6XqkBikTTbZmTukbeGnw</td>\n",
       "      <td>Great service.  The people really want to help...</td>\n",
       "      <td>4.0</td>\n",
       "      <td>0</td>\n",
       "      <td>1</td>\n",
       "      <td>0</td>\n",
       "    </tr>\n",
       "    <tr>\n",
       "      <th>4887456</th>\n",
       "      <td>g80vzN72iU03Wh0fSpq41g</td>\n",
       "      <td>2005-02-16 04:06:26</td>\n",
       "      <td>3zBJUlWtPNoZ0uN83ODbyg</td>\n",
       "      <td>PP3BBaVxZLcJU54uP_wL6Q</td>\n",
       "      <td>These guys really are the king of cheese steak...</td>\n",
       "      <td>5.0</td>\n",
       "      <td>0</td>\n",
       "      <td>0</td>\n",
       "      <td>0</td>\n",
       "    </tr>\n",
       "    <tr>\n",
       "      <th>1423159</th>\n",
       "      <td>7Dcrt0Oz0hikA8obGhadrQ</td>\n",
       "      <td>2005-03-01 16:57:17</td>\n",
       "      <td>XCsZ3hWa_6oP1WkWvK7pmg</td>\n",
       "      <td>U3grYFIeu6RgAAQgdriHww</td>\n",
       "      <td>Words cannot describe how much I miss this pla...</td>\n",
       "      <td>5.0</td>\n",
       "      <td>0</td>\n",
       "      <td>0</td>\n",
       "      <td>0</td>\n",
       "    </tr>\n",
       "    <tr>\n",
       "      <th>4884223</th>\n",
       "      <td>WC9q5vhQlQkLK05kEs-vYQ</td>\n",
       "      <td>2005-03-01 16:59:37</td>\n",
       "      <td>XCsZ3hWa_6oP1WkWvK7pmg</td>\n",
       "      <td>Aes-0Q_guDeYewMapFs_vg</td>\n",
       "      <td>Food is decent but is a complete tourist trap....</td>\n",
       "      <td>2.0</td>\n",
       "      <td>0</td>\n",
       "      <td>0</td>\n",
       "      <td>0</td>\n",
       "    </tr>\n",
       "  </tbody>\n",
       "</table>\n",
       "</div>"
      ],
      "text/plain": [
       "                      review_id                date                 user_id             business_id                                                                                                                                                                                                                                                                                                                                                                                                                                                                               review  rating  cool  useful  funny\n",
       "4179799  IykJMMZgbNcUndwf1q6ieg 2005-02-16 03:23:22  3zBJUlWtPNoZ0uN83ODbyg  2bXm0SynOfxDzfrdrCyXqg                                                                                                                                                                                                                                                                                    It's not chicago style pizza but it is still awsome.  A chicago themed restaurant.  Owners used to live in Chi town and now are bringing the feel of the city to the West.  Beer selection rocks!     4.0     0       0      0\n",
       "6295220  -O5ng1XLox6uEr4uIZ8u5A 2005-02-16 03:29:39  3zBJUlWtPNoZ0uN83ODbyg  3g6XqkBikTTbZmTukbeGnw                                                                                                                                                                                                                                                                                                                                                                   Great service.  The people really want to help you.  Excellent selection and they are open pretty late on Sundays.     4.0     0       1      0\n",
       "4887456  g80vzN72iU03Wh0fSpq41g 2005-02-16 04:06:26  3zBJUlWtPNoZ0uN83ODbyg  PP3BBaVxZLcJU54uP_wL6Q                                                                                                                                                                                                                                                                                                                                                                               These guys really are the king of cheese steaks.  I had two phily cheese steaks with provo and onions.     5.0     0       0      0\n",
       "1423159  7Dcrt0Oz0hikA8obGhadrQ 2005-03-01 16:57:17  XCsZ3hWa_6oP1WkWvK7pmg  U3grYFIeu6RgAAQgdriHww  Words cannot describe how much I miss this place.  The deck is right on the water and it's definitely the best place to go late afternoon as the sun sets. Not just a touristy place as it is very popular with the locals as well. Very casual atmosphere and always packed but waiting is the best part...the outside bar is a perfect place for a glass of wine and oyster shots.  Great seafood and the prices are reasonable. A definite must hit when visiting Santa Barbara.     5.0     0       0      0\n",
       "4884223  WC9q5vhQlQkLK05kEs-vYQ 2005-03-01 16:59:37  XCsZ3hWa_6oP1WkWvK7pmg  Aes-0Q_guDeYewMapFs_vg                                                                                                                                                                                                                                                                                                                                                     Food is decent but is a complete tourist trap. Pretty spendy for the type of food. There are much better places I can recommend.     2.0     0       0      0"
      ]
     },
     "execution_count": 95,
     "metadata": {},
     "output_type": "execute_result"
    }
   ],
   "source": [
    "# Mostramos las primeras filas de nuestro dataframe\n",
    "yelp_reviews.head()"
   ]
  },
  {
   "cell_type": "markdown",
   "metadata": {},
   "source": [
    "Contiene las reseñas completas, incluyendo el user_id que escribió el review y el business_id por el cual se escribe la reseña\n",
    "\n",
    "string, 22 caracteres id de reseña\n",
    "\"review_id\": \"zdSx_SD6obEhz9VrW9uAWA\",\n",
    "\n",
    "string, 22 caracteres id único de usuario, refiere al usuario en user.json\n",
    "\"user_id\": \"Ha3iJu77CxlrFm-vQRs_8g\",\n",
    "\n",
    "string, 22 caracteres id del negocio, refiere al negocio en business.json\n",
    "\"business_id\": \"tnhfDv5Il8EaGSXZGiuQGg\",\n",
    "\n",
    "entero, puntaje en estrellas de 1 al 5\n",
    "\"stars\": 4,\n",
    "\n",
    "string, fecha formato YYYY-MM-DD\n",
    "\"date\": \"2016-03-09\",\n",
    "\n",
    "string, la reseña en inglés\n",
    "\"text\": \"Great place to hang out after work: the prices are decent, and the ambience is fun. It's a bit loud, but very lively. The staff is friendly, and the food is good. They have a good selection of drinks.\",\n",
    "\n",
    "entero, números de votos como reseña útil\n",
    "\"useful\": 0,\n",
    "\n",
    "entero, número de votos como reseña graciosa\n",
    "\"funny\": 0,\n",
    "\n",
    "entero, número de votos como reseña cool.\n",
    "\"cool\": 0"
   ]
  },
  {
   "cell_type": "markdown",
   "metadata": {},
   "source": [
    "### DATASET: tip.json"
   ]
  },
  {
   "cell_type": "code",
   "execution_count": 123,
   "metadata": {},
   "outputs": [
    {
     "name": "stdout",
     "output_type": "stream",
     "text": [
      "<class 'pandas.core.frame.DataFrame'>\n",
      "Index: 908915 entries, 0 to 908914\n",
      "Data columns (total 5 columns):\n",
      " #   Column            Non-Null Count   Dtype         \n",
      "---  ------            --------------   -----         \n",
      " 0   user_id           908915 non-null  object        \n",
      " 1   business_id       908915 non-null  object        \n",
      " 2   text              908915 non-null  object        \n",
      " 3   date              908915 non-null  datetime64[ns]\n",
      " 4   compliment_count  908915 non-null  int64         \n",
      "dtypes: datetime64[ns](1), int64(1), object(3)\n",
      "memory usage: 41.6+ MB\n",
      "None\n"
     ]
    },
    {
     "data": {
      "text/html": [
       "<div>\n",
       "<style scoped>\n",
       "    .dataframe tbody tr th:only-of-type {\n",
       "        vertical-align: middle;\n",
       "    }\n",
       "\n",
       "    .dataframe tbody tr th {\n",
       "        vertical-align: top;\n",
       "    }\n",
       "\n",
       "    .dataframe thead th {\n",
       "        text-align: right;\n",
       "    }\n",
       "</style>\n",
       "<table border=\"1\" class=\"dataframe\">\n",
       "  <thead>\n",
       "    <tr style=\"text-align: right;\">\n",
       "      <th></th>\n",
       "      <th>user_id</th>\n",
       "      <th>business_id</th>\n",
       "      <th>text</th>\n",
       "      <th>date</th>\n",
       "      <th>compliment_count</th>\n",
       "    </tr>\n",
       "  </thead>\n",
       "  <tbody>\n",
       "    <tr>\n",
       "      <th>0</th>\n",
       "      <td>AGNUgVwnZUey3gcPCJ76iw</td>\n",
       "      <td>3uLgwr0qeCNMjKenHJwPGQ</td>\n",
       "      <td>Avengers time with the ladies.</td>\n",
       "      <td>2012-05-18 02:17:21</td>\n",
       "      <td>0</td>\n",
       "    </tr>\n",
       "    <tr>\n",
       "      <th>1</th>\n",
       "      <td>NBN4MgHP9D3cw--SnauTkA</td>\n",
       "      <td>QoezRbYQncpRqyrLH6Iqjg</td>\n",
       "      <td>They have lots of good deserts and tasty cuban...</td>\n",
       "      <td>2013-02-05 18:35:10</td>\n",
       "      <td>0</td>\n",
       "    </tr>\n",
       "    <tr>\n",
       "      <th>2</th>\n",
       "      <td>-copOvldyKh1qr-vzkDEvw</td>\n",
       "      <td>MYoRNLb5chwjQe3c_k37Gg</td>\n",
       "      <td>It's open even when you think it isn't</td>\n",
       "      <td>2013-08-18 00:56:08</td>\n",
       "      <td>0</td>\n",
       "    </tr>\n",
       "    <tr>\n",
       "      <th>3</th>\n",
       "      <td>FjMQVZjSqY8syIO-53KFKw</td>\n",
       "      <td>hV-bABTK-glh5wj31ps_Jw</td>\n",
       "      <td>Very decent fried chicken</td>\n",
       "      <td>2017-06-27 23:05:38</td>\n",
       "      <td>0</td>\n",
       "    </tr>\n",
       "    <tr>\n",
       "      <th>4</th>\n",
       "      <td>ld0AperBXk1h6UbqmM80zw</td>\n",
       "      <td>_uN0OudeJ3Zl_tf6nxg5ww</td>\n",
       "      <td>Appetizers.. platter special for lunch</td>\n",
       "      <td>2012-10-06 19:43:09</td>\n",
       "      <td>0</td>\n",
       "    </tr>\n",
       "  </tbody>\n",
       "</table>\n",
       "</div>"
      ],
      "text/plain": [
       "                  user_id             business_id  \\\n",
       "0  AGNUgVwnZUey3gcPCJ76iw  3uLgwr0qeCNMjKenHJwPGQ   \n",
       "1  NBN4MgHP9D3cw--SnauTkA  QoezRbYQncpRqyrLH6Iqjg   \n",
       "2  -copOvldyKh1qr-vzkDEvw  MYoRNLb5chwjQe3c_k37Gg   \n",
       "3  FjMQVZjSqY8syIO-53KFKw  hV-bABTK-glh5wj31ps_Jw   \n",
       "4  ld0AperBXk1h6UbqmM80zw  _uN0OudeJ3Zl_tf6nxg5ww   \n",
       "\n",
       "                                                text                date  \\\n",
       "0                     Avengers time with the ladies. 2012-05-18 02:17:21   \n",
       "1  They have lots of good deserts and tasty cuban... 2013-02-05 18:35:10   \n",
       "2             It's open even when you think it isn't 2013-08-18 00:56:08   \n",
       "3                          Very decent fried chicken 2017-06-27 23:05:38   \n",
       "4             Appetizers.. platter special for lunch 2012-10-06 19:43:09   \n",
       "\n",
       "   compliment_count  \n",
       "0                 0  \n",
       "1                 0  \n",
       "2                 0  \n",
       "3                 0  \n",
       "4                 0  "
      ]
     },
     "execution_count": 123,
     "metadata": {},
     "output_type": "execute_result"
    }
   ],
   "source": [
    "#Ruta del archivo y declaramos que lo subimos como dataframe de pandas\n",
    "data_path = 'C:/Users/Usuario/Desktop/Proyecto Final/Yelp/tip.json'\n",
    "yelp_tips = pd.read_json(data_path, lines=True)\n",
    "print(yelp_tips.info())\n",
    "yelp_tips.head()"
   ]
  },
  {
   "cell_type": "code",
   "execution_count": 125,
   "metadata": {},
   "outputs": [
    {
     "data": {
      "text/plain": [
       "67"
      ]
     },
     "execution_count": 125,
     "metadata": {},
     "output_type": "execute_result"
    }
   ],
   "source": [
    "#Buscamos duplicados\n",
    "yelp_tips.duplicated().sum()"
   ]
  },
  {
   "cell_type": "code",
   "execution_count": 126,
   "metadata": {},
   "outputs": [],
   "source": [
    "# Elimina duplicados\n",
    "yelp_tips.drop_duplicates(inplace=True)"
   ]
  },
  {
   "cell_type": "code",
   "execution_count": 128,
   "metadata": {},
   "outputs": [],
   "source": [
    "# Ordena el DataFrame por 'date'\n",
    "yelp_tips = yelp_tips.sort_values(['date'])"
   ]
  },
  {
   "cell_type": "code",
   "execution_count": 129,
   "metadata": {},
   "outputs": [],
   "source": [
    "yelp_tips.rename(columns={'text': 'review'}, inplace=True)"
   ]
  },
  {
   "cell_type": "code",
   "execution_count": 130,
   "metadata": {},
   "outputs": [],
   "source": [
    "# Agrega una columna 'id' con un ID único para cada registro\n",
    "yelp_tips = yelp_tips.reset_index(drop=True)\n",
    "yelp_tips.insert(0, 'tip_id', yelp_tips.index + 1)"
   ]
  },
  {
   "cell_type": "code",
   "execution_count": 131,
   "metadata": {},
   "outputs": [
    {
     "data": {
      "text/html": [
       "<div>\n",
       "<style scoped>\n",
       "    .dataframe tbody tr th:only-of-type {\n",
       "        vertical-align: middle;\n",
       "    }\n",
       "\n",
       "    .dataframe tbody tr th {\n",
       "        vertical-align: top;\n",
       "    }\n",
       "\n",
       "    .dataframe thead th {\n",
       "        text-align: right;\n",
       "    }\n",
       "</style>\n",
       "<table border=\"1\" class=\"dataframe\">\n",
       "  <thead>\n",
       "    <tr style=\"text-align: right;\">\n",
       "      <th></th>\n",
       "      <th>tip_id</th>\n",
       "      <th>user_id</th>\n",
       "      <th>business_id</th>\n",
       "      <th>review</th>\n",
       "      <th>date</th>\n",
       "      <th>compliment_count</th>\n",
       "    </tr>\n",
       "  </thead>\n",
       "  <tbody>\n",
       "    <tr>\n",
       "      <th>0</th>\n",
       "      <td>1</td>\n",
       "      <td>rCumu_NyXfbyq16cP8vOEw</td>\n",
       "      <td>cXSyVvOr9YRN9diDkaWs0Q</td>\n",
       "      <td>Simply the best breakfast around!! The staff i...</td>\n",
       "      <td>2009-04-16 13:11:49</td>\n",
       "      <td>0</td>\n",
       "    </tr>\n",
       "    <tr>\n",
       "      <th>1</th>\n",
       "      <td>2</td>\n",
       "      <td>LT_JU6bY75H918eKnnXeVQ</td>\n",
       "      <td>kLYhipAEvdT1ORfluX5gbw</td>\n",
       "      <td>Crunchy French toast is amazing!</td>\n",
       "      <td>2009-04-16 17:15:29</td>\n",
       "      <td>0</td>\n",
       "    </tr>\n",
       "    <tr>\n",
       "      <th>2</th>\n",
       "      <td>3</td>\n",
       "      <td>sxZX1armKzagQxDnbvPnkw</td>\n",
       "      <td>gTC8IQ_i8zXytWSly3Ttvg</td>\n",
       "      <td>Lunch specials are great, especially their hom...</td>\n",
       "      <td>2009-04-16 19:59:35</td>\n",
       "      <td>0</td>\n",
       "    </tr>\n",
       "    <tr>\n",
       "      <th>3</th>\n",
       "      <td>4</td>\n",
       "      <td>KI4UutWtai0UKZ6ZK2pg2Q</td>\n",
       "      <td>P3bw4h4kCaMaYqGGNLt3Jg</td>\n",
       "      <td>Low selection, quiet</td>\n",
       "      <td>2009-04-16 23:45:46</td>\n",
       "      <td>0</td>\n",
       "    </tr>\n",
       "    <tr>\n",
       "      <th>4</th>\n",
       "      <td>5</td>\n",
       "      <td>C14KW1jjKM8QlYfMyzP1sQ</td>\n",
       "      <td>aUjJ_x1KuvWmqIErhdaHzg</td>\n",
       "      <td>Pretty good pad thai, but when I asked for lim...</td>\n",
       "      <td>2009-04-17 00:34:55</td>\n",
       "      <td>0</td>\n",
       "    </tr>\n",
       "  </tbody>\n",
       "</table>\n",
       "</div>"
      ],
      "text/plain": [
       "   tip_id                 user_id             business_id  \\\n",
       "0       1  rCumu_NyXfbyq16cP8vOEw  cXSyVvOr9YRN9diDkaWs0Q   \n",
       "1       2  LT_JU6bY75H918eKnnXeVQ  kLYhipAEvdT1ORfluX5gbw   \n",
       "2       3  sxZX1armKzagQxDnbvPnkw  gTC8IQ_i8zXytWSly3Ttvg   \n",
       "3       4  KI4UutWtai0UKZ6ZK2pg2Q  P3bw4h4kCaMaYqGGNLt3Jg   \n",
       "4       5  C14KW1jjKM8QlYfMyzP1sQ  aUjJ_x1KuvWmqIErhdaHzg   \n",
       "\n",
       "                                              review                date  \\\n",
       "0  Simply the best breakfast around!! The staff i... 2009-04-16 13:11:49   \n",
       "1                   Crunchy French toast is amazing! 2009-04-16 17:15:29   \n",
       "2  Lunch specials are great, especially their hom... 2009-04-16 19:59:35   \n",
       "3                               Low selection, quiet 2009-04-16 23:45:46   \n",
       "4  Pretty good pad thai, but when I asked for lim... 2009-04-17 00:34:55   \n",
       "\n",
       "   compliment_count  \n",
       "0                 0  \n",
       "1                 0  \n",
       "2                 0  \n",
       "3                 0  \n",
       "4                 0  "
      ]
     },
     "execution_count": 131,
     "metadata": {},
     "output_type": "execute_result"
    }
   ],
   "source": [
    "yelp_tips.head()"
   ]
  },
  {
   "cell_type": "markdown",
   "metadata": {},
   "source": [
    "### DOCUMENTACIÓN\n",
    "\n",
    "Tips (consejos) escritos por el usuario. Los tips son más cortas que las reseñas y tienden a dar sugerencias rápidas.\n",
    "\n",
    "- string, texto del tip\n",
    "\"text\": \"Secret menu - fried chicken sando is da bombbbbbb Their zapatos are good too.\",\n",
    "\n",
    "- string, fecha cuando se escribio el tip YYYY-MM-DD\n",
    "\"date\": \"2013-09-20\",\n",
    "\n",
    "- entero, cuantos cumplidos totales tiene\n",
    "\"compliment_count\": 172,\n",
    "\n",
    "- string, 22 caracteres, id del negocio que se refiere al negocio en business.json\n",
    "\"business_id\": \"tnhfDv5Il8EaGSXZGiuQGg\",\n",
    "\n",
    "- string, 22 caracteres de id de usuario, que se refieren al usuario en user.json\n",
    "\"user_id\": \"49JhAJh"
   ]
  },
  {
   "cell_type": "markdown",
   "metadata": {},
   "source": [
    "### DATASET: user.parquet"
   ]
  },
  {
   "cell_type": "code",
   "execution_count": 102,
   "metadata": {},
   "outputs": [
    {
     "name": "stdout",
     "output_type": "stream",
     "text": [
      "<class 'pandas.core.frame.DataFrame'>\n",
      "RangeIndex: 2105597 entries, 0 to 2105596\n",
      "Data columns (total 22 columns):\n",
      " #   Column              Dtype  \n",
      "---  ------              -----  \n",
      " 0   user_id             object \n",
      " 1   name                object \n",
      " 2   review_count        int64  \n",
      " 3   yelping_since       object \n",
      " 4   useful              int64  \n",
      " 5   funny               int64  \n",
      " 6   cool                int64  \n",
      " 7   elite               object \n",
      " 8   friends             object \n",
      " 9   fans                int64  \n",
      " 10  average_stars       float64\n",
      " 11  compliment_hot      int64  \n",
      " 12  compliment_more     int64  \n",
      " 13  compliment_profile  int64  \n",
      " 14  compliment_cute     int64  \n",
      " 15  compliment_list     int64  \n",
      " 16  compliment_note     int64  \n",
      " 17  compliment_plain    int64  \n",
      " 18  compliment_cool     int64  \n",
      " 19  compliment_funny    int64  \n",
      " 20  compliment_writer   int64  \n",
      " 21  compliment_photos   int64  \n",
      "dtypes: float64(1), int64(16), object(5)\n",
      "memory usage: 353.4+ MB\n",
      "None\n"
     ]
    },
    {
     "data": {
      "text/html": [
       "<div>\n",
       "<style scoped>\n",
       "    .dataframe tbody tr th:only-of-type {\n",
       "        vertical-align: middle;\n",
       "    }\n",
       "\n",
       "    .dataframe tbody tr th {\n",
       "        vertical-align: top;\n",
       "    }\n",
       "\n",
       "    .dataframe thead th {\n",
       "        text-align: right;\n",
       "    }\n",
       "</style>\n",
       "<table border=\"1\" class=\"dataframe\">\n",
       "  <thead>\n",
       "    <tr style=\"text-align: right;\">\n",
       "      <th></th>\n",
       "      <th>user_id</th>\n",
       "      <th>name</th>\n",
       "      <th>review_count</th>\n",
       "      <th>yelping_since</th>\n",
       "      <th>useful</th>\n",
       "      <th>funny</th>\n",
       "      <th>cool</th>\n",
       "      <th>elite</th>\n",
       "      <th>friends</th>\n",
       "      <th>fans</th>\n",
       "      <th>...</th>\n",
       "      <th>compliment_more</th>\n",
       "      <th>compliment_profile</th>\n",
       "      <th>compliment_cute</th>\n",
       "      <th>compliment_list</th>\n",
       "      <th>compliment_note</th>\n",
       "      <th>compliment_plain</th>\n",
       "      <th>compliment_cool</th>\n",
       "      <th>compliment_funny</th>\n",
       "      <th>compliment_writer</th>\n",
       "      <th>compliment_photos</th>\n",
       "    </tr>\n",
       "  </thead>\n",
       "  <tbody>\n",
       "    <tr>\n",
       "      <th>0</th>\n",
       "      <td>qVc8ODYU5SZjKXVBgXdI7w</td>\n",
       "      <td>Walker</td>\n",
       "      <td>585</td>\n",
       "      <td>2007-01-25 16:47:26</td>\n",
       "      <td>7217</td>\n",
       "      <td>1259</td>\n",
       "      <td>5994</td>\n",
       "      <td>2007</td>\n",
       "      <td>NSCy54eWehBJyZdG2iE84w, pe42u7DcCH2QmI81NX-8qA...</td>\n",
       "      <td>267</td>\n",
       "      <td>...</td>\n",
       "      <td>65</td>\n",
       "      <td>55</td>\n",
       "      <td>56</td>\n",
       "      <td>18</td>\n",
       "      <td>232</td>\n",
       "      <td>844</td>\n",
       "      <td>467</td>\n",
       "      <td>467</td>\n",
       "      <td>239</td>\n",
       "      <td>180</td>\n",
       "    </tr>\n",
       "    <tr>\n",
       "      <th>1</th>\n",
       "      <td>j14WgRoU_-2ZE1aw1dXrJg</td>\n",
       "      <td>Daniel</td>\n",
       "      <td>4333</td>\n",
       "      <td>2009-01-25 04:35:42</td>\n",
       "      <td>43091</td>\n",
       "      <td>13066</td>\n",
       "      <td>27281</td>\n",
       "      <td>2009,2010,2011,2012,2013,2014,2015,2016,2017,2...</td>\n",
       "      <td>ueRPE0CX75ePGMqOFVj6IQ, 52oH4DrRvzzl8wh5UXyU0A...</td>\n",
       "      <td>3138</td>\n",
       "      <td>...</td>\n",
       "      <td>264</td>\n",
       "      <td>184</td>\n",
       "      <td>157</td>\n",
       "      <td>251</td>\n",
       "      <td>1847</td>\n",
       "      <td>7054</td>\n",
       "      <td>3131</td>\n",
       "      <td>3131</td>\n",
       "      <td>1521</td>\n",
       "      <td>1946</td>\n",
       "    </tr>\n",
       "    <tr>\n",
       "      <th>2</th>\n",
       "      <td>2WnXYQFK0hXEoTxPtV2zvg</td>\n",
       "      <td>Steph</td>\n",
       "      <td>665</td>\n",
       "      <td>2008-07-25 10:41:00</td>\n",
       "      <td>2086</td>\n",
       "      <td>1010</td>\n",
       "      <td>1003</td>\n",
       "      <td>2009,2010,2011,2012,2013</td>\n",
       "      <td>LuO3Bn4f3rlhyHIaNfTlnA, j9B4XdHUhDfTKVecyWQgyA...</td>\n",
       "      <td>52</td>\n",
       "      <td>...</td>\n",
       "      <td>13</td>\n",
       "      <td>10</td>\n",
       "      <td>17</td>\n",
       "      <td>3</td>\n",
       "      <td>66</td>\n",
       "      <td>96</td>\n",
       "      <td>119</td>\n",
       "      <td>119</td>\n",
       "      <td>35</td>\n",
       "      <td>18</td>\n",
       "    </tr>\n",
       "    <tr>\n",
       "      <th>3</th>\n",
       "      <td>SZDeASXq7o05mMNLshsdIA</td>\n",
       "      <td>Gwen</td>\n",
       "      <td>224</td>\n",
       "      <td>2005-11-29 04:38:33</td>\n",
       "      <td>512</td>\n",
       "      <td>330</td>\n",
       "      <td>299</td>\n",
       "      <td>2009,2010,2011</td>\n",
       "      <td>enx1vVPnfdNUdPho6PH_wg, 4wOcvMLtU6a9Lslggq74Vg...</td>\n",
       "      <td>28</td>\n",
       "      <td>...</td>\n",
       "      <td>4</td>\n",
       "      <td>1</td>\n",
       "      <td>6</td>\n",
       "      <td>2</td>\n",
       "      <td>12</td>\n",
       "      <td>16</td>\n",
       "      <td>26</td>\n",
       "      <td>26</td>\n",
       "      <td>10</td>\n",
       "      <td>9</td>\n",
       "    </tr>\n",
       "    <tr>\n",
       "      <th>4</th>\n",
       "      <td>hA5lMy-EnncsH4JoR-hFGQ</td>\n",
       "      <td>Karen</td>\n",
       "      <td>79</td>\n",
       "      <td>2007-01-05 19:40:59</td>\n",
       "      <td>29</td>\n",
       "      <td>15</td>\n",
       "      <td>7</td>\n",
       "      <td></td>\n",
       "      <td>PBK4q9KEEBHhFvSXCUirIw, 3FWPpM7KU1gXeOM_ZbYMbA...</td>\n",
       "      <td>1</td>\n",
       "      <td>...</td>\n",
       "      <td>1</td>\n",
       "      <td>0</td>\n",
       "      <td>0</td>\n",
       "      <td>0</td>\n",
       "      <td>1</td>\n",
       "      <td>1</td>\n",
       "      <td>0</td>\n",
       "      <td>0</td>\n",
       "      <td>0</td>\n",
       "      <td>0</td>\n",
       "    </tr>\n",
       "  </tbody>\n",
       "</table>\n",
       "<p>5 rows × 22 columns</p>\n",
       "</div>"
      ],
      "text/plain": [
       "                  user_id    name  review_count        yelping_since  useful  \\\n",
       "0  qVc8ODYU5SZjKXVBgXdI7w  Walker           585  2007-01-25 16:47:26    7217   \n",
       "1  j14WgRoU_-2ZE1aw1dXrJg  Daniel          4333  2009-01-25 04:35:42   43091   \n",
       "2  2WnXYQFK0hXEoTxPtV2zvg   Steph           665  2008-07-25 10:41:00    2086   \n",
       "3  SZDeASXq7o05mMNLshsdIA    Gwen           224  2005-11-29 04:38:33     512   \n",
       "4  hA5lMy-EnncsH4JoR-hFGQ   Karen            79  2007-01-05 19:40:59      29   \n",
       "\n",
       "   funny   cool                                              elite  \\\n",
       "0   1259   5994                                               2007   \n",
       "1  13066  27281  2009,2010,2011,2012,2013,2014,2015,2016,2017,2...   \n",
       "2   1010   1003                           2009,2010,2011,2012,2013   \n",
       "3    330    299                                     2009,2010,2011   \n",
       "4     15      7                                                      \n",
       "\n",
       "                                             friends  fans  ...  \\\n",
       "0  NSCy54eWehBJyZdG2iE84w, pe42u7DcCH2QmI81NX-8qA...   267  ...   \n",
       "1  ueRPE0CX75ePGMqOFVj6IQ, 52oH4DrRvzzl8wh5UXyU0A...  3138  ...   \n",
       "2  LuO3Bn4f3rlhyHIaNfTlnA, j9B4XdHUhDfTKVecyWQgyA...    52  ...   \n",
       "3  enx1vVPnfdNUdPho6PH_wg, 4wOcvMLtU6a9Lslggq74Vg...    28  ...   \n",
       "4  PBK4q9KEEBHhFvSXCUirIw, 3FWPpM7KU1gXeOM_ZbYMbA...     1  ...   \n",
       "\n",
       "   compliment_more  compliment_profile  compliment_cute  compliment_list  \\\n",
       "0               65                  55               56               18   \n",
       "1              264                 184              157              251   \n",
       "2               13                  10               17                3   \n",
       "3                4                   1                6                2   \n",
       "4                1                   0                0                0   \n",
       "\n",
       "   compliment_note  compliment_plain  compliment_cool  compliment_funny  \\\n",
       "0              232               844              467               467   \n",
       "1             1847              7054             3131              3131   \n",
       "2               66                96              119               119   \n",
       "3               12                16               26                26   \n",
       "4                1                 1                0                 0   \n",
       "\n",
       "   compliment_writer  compliment_photos  \n",
       "0                239                180  \n",
       "1               1521               1946  \n",
       "2                 35                 18  \n",
       "3                 10                  9  \n",
       "4                  0                  0  \n",
       "\n",
       "[5 rows x 22 columns]"
      ]
     },
     "execution_count": 102,
     "metadata": {},
     "output_type": "execute_result"
    }
   ],
   "source": [
    "data_path = 'C:/Users/Usuario/Desktop/Proyecto Final/Yelp/user.parquet'\n",
    "yelp_users = pd.read_parquet(data_path)\n",
    "print(yelp_users.info())\n",
    "yelp_users.head()"
   ]
  },
  {
   "cell_type": "code",
   "execution_count": 103,
   "metadata": {},
   "outputs": [
    {
     "data": {
      "text/plain": [
       "117700"
      ]
     },
     "execution_count": 103,
     "metadata": {},
     "output_type": "execute_result"
    }
   ],
   "source": [
    "#Buscamos duplicados\n",
    "yelp_users.duplicated().sum()"
   ]
  },
  {
   "cell_type": "code",
   "execution_count": 104,
   "metadata": {},
   "outputs": [],
   "source": [
    "# Elimina duplicados\n",
    "yelp_users.drop_duplicates(inplace=True)"
   ]
  },
  {
   "cell_type": "code",
   "execution_count": 105,
   "metadata": {},
   "outputs": [],
   "source": [
    "# Convierte 'yelping_since' a datetime\n",
    "yelp_users['yelping_since'] = pd.to_datetime(yelp_users['yelping_since'])"
   ]
  },
  {
   "cell_type": "code",
   "execution_count": 107,
   "metadata": {},
   "outputs": [],
   "source": [
    "# Ordena por 'yelping_since'\n",
    "yelp_users = yelp_users.sort_values('yelping_since')\n",
    "yelp_users.reset_index(drop=True, inplace=True)"
   ]
  },
  {
   "cell_type": "code",
   "execution_count": 108,
   "metadata": {},
   "outputs": [
    {
     "data": {
      "text/html": [
       "<div>\n",
       "<style scoped>\n",
       "    .dataframe tbody tr th:only-of-type {\n",
       "        vertical-align: middle;\n",
       "    }\n",
       "\n",
       "    .dataframe tbody tr th {\n",
       "        vertical-align: top;\n",
       "    }\n",
       "\n",
       "    .dataframe thead th {\n",
       "        text-align: right;\n",
       "    }\n",
       "</style>\n",
       "<table border=\"1\" class=\"dataframe\">\n",
       "  <thead>\n",
       "    <tr style=\"text-align: right;\">\n",
       "      <th></th>\n",
       "      <th>user_id</th>\n",
       "      <th>name</th>\n",
       "      <th>review_count</th>\n",
       "      <th>yelping_since</th>\n",
       "      <th>useful</th>\n",
       "      <th>funny</th>\n",
       "      <th>cool</th>\n",
       "      <th>elite</th>\n",
       "      <th>friends</th>\n",
       "      <th>fans</th>\n",
       "      <th>...</th>\n",
       "      <th>compliment_more</th>\n",
       "      <th>compliment_profile</th>\n",
       "      <th>compliment_cute</th>\n",
       "      <th>compliment_list</th>\n",
       "      <th>compliment_note</th>\n",
       "      <th>compliment_plain</th>\n",
       "      <th>compliment_cool</th>\n",
       "      <th>compliment_funny</th>\n",
       "      <th>compliment_writer</th>\n",
       "      <th>compliment_photos</th>\n",
       "    </tr>\n",
       "  </thead>\n",
       "  <tbody>\n",
       "    <tr>\n",
       "      <th>0</th>\n",
       "      <td>fFGPBtsutYpn3A155Sf75Q</td>\n",
       "      <td>Brandon</td>\n",
       "      <td>194</td>\n",
       "      <td>2004-10-12 08:46:11</td>\n",
       "      <td>250</td>\n",
       "      <td>103</td>\n",
       "      <td>121</td>\n",
       "      <td>2006,2007</td>\n",
       "      <td>u-BjshHIamkWw4lBOsyscw, vGtIy5jDIqNS4oT0w-mkfw...</td>\n",
       "      <td>26</td>\n",
       "      <td>...</td>\n",
       "      <td>1</td>\n",
       "      <td>3</td>\n",
       "      <td>11</td>\n",
       "      <td>0</td>\n",
       "      <td>6</td>\n",
       "      <td>11</td>\n",
       "      <td>21</td>\n",
       "      <td>21</td>\n",
       "      <td>1</td>\n",
       "      <td>3</td>\n",
       "    </tr>\n",
       "    <tr>\n",
       "      <th>1</th>\n",
       "      <td>nkN_do3fJ9xekchVC-v68A</td>\n",
       "      <td>Jeremy</td>\n",
       "      <td>1366</td>\n",
       "      <td>2004-10-12 08:46:43</td>\n",
       "      <td>18524</td>\n",
       "      <td>10049</td>\n",
       "      <td>15141</td>\n",
       "      <td>2006,2007,2008,2009,2010,2011,2012,2013,2014,2...</td>\n",
       "      <td>5HJvYcAM6FLat695V_JF1A, m_y6jQ5AeVpXfTSc9c_LEQ...</td>\n",
       "      <td>2107</td>\n",
       "      <td>...</td>\n",
       "      <td>178</td>\n",
       "      <td>152</td>\n",
       "      <td>249</td>\n",
       "      <td>45</td>\n",
       "      <td>890</td>\n",
       "      <td>1254</td>\n",
       "      <td>2150</td>\n",
       "      <td>2150</td>\n",
       "      <td>473</td>\n",
       "      <td>581</td>\n",
       "    </tr>\n",
       "    <tr>\n",
       "      <th>2</th>\n",
       "      <td>wqoXYLWmpkEH0YvTmHBsJQ</td>\n",
       "      <td>Michael</td>\n",
       "      <td>398</td>\n",
       "      <td>2004-10-12 08:51:07</td>\n",
       "      <td>1393</td>\n",
       "      <td>734</td>\n",
       "      <td>662</td>\n",
       "      <td>2006,2007,2008,2009,2010,2011,2012,2013,2014,2015</td>\n",
       "      <td>g-mL-8J1_9iuDLUhyTzvmg, mjdYqMhqlNi3qz9d2NWgLQ...</td>\n",
       "      <td>156</td>\n",
       "      <td>...</td>\n",
       "      <td>22</td>\n",
       "      <td>13</td>\n",
       "      <td>24</td>\n",
       "      <td>4</td>\n",
       "      <td>90</td>\n",
       "      <td>98</td>\n",
       "      <td>168</td>\n",
       "      <td>168</td>\n",
       "      <td>27</td>\n",
       "      <td>33</td>\n",
       "    </tr>\n",
       "    <tr>\n",
       "      <th>3</th>\n",
       "      <td>co_jK_x-CvK2Z3ZrJLz1SQ</td>\n",
       "      <td>j</td>\n",
       "      <td>12</td>\n",
       "      <td>2004-10-12 09:36:53</td>\n",
       "      <td>21</td>\n",
       "      <td>3</td>\n",
       "      <td>4</td>\n",
       "      <td></td>\n",
       "      <td>KSoGqlg42blFfukIMfZd_w, OxAPD1OFV9qgS6EmbbHhtw...</td>\n",
       "      <td>0</td>\n",
       "      <td>...</td>\n",
       "      <td>0</td>\n",
       "      <td>0</td>\n",
       "      <td>0</td>\n",
       "      <td>0</td>\n",
       "      <td>1</td>\n",
       "      <td>0</td>\n",
       "      <td>0</td>\n",
       "      <td>0</td>\n",
       "      <td>0</td>\n",
       "      <td>0</td>\n",
       "    </tr>\n",
       "    <tr>\n",
       "      <th>4</th>\n",
       "      <td>23J4vG9_xxxdnmi8CBX7Ng</td>\n",
       "      <td>Joan</td>\n",
       "      <td>1674</td>\n",
       "      <td>2004-10-12 12:29:35</td>\n",
       "      <td>21509</td>\n",
       "      <td>15514</td>\n",
       "      <td>19972</td>\n",
       "      <td>2006,2007,2008,2009,2010,2011,2012,2013,2014,2...</td>\n",
       "      <td>PNa2-EjHe_ApIgZXD6kxBg, _BHTC7nyCBoZcfiiD5cOXg...</td>\n",
       "      <td>1425</td>\n",
       "      <td>...</td>\n",
       "      <td>292</td>\n",
       "      <td>290</td>\n",
       "      <td>342</td>\n",
       "      <td>98</td>\n",
       "      <td>1480</td>\n",
       "      <td>4961</td>\n",
       "      <td>5126</td>\n",
       "      <td>5126</td>\n",
       "      <td>1904</td>\n",
       "      <td>3291</td>\n",
       "    </tr>\n",
       "  </tbody>\n",
       "</table>\n",
       "<p>5 rows × 22 columns</p>\n",
       "</div>"
      ],
      "text/plain": [
       "                  user_id     name  review_count       yelping_since  useful  \\\n",
       "0  fFGPBtsutYpn3A155Sf75Q  Brandon           194 2004-10-12 08:46:11     250   \n",
       "1  nkN_do3fJ9xekchVC-v68A   Jeremy          1366 2004-10-12 08:46:43   18524   \n",
       "2  wqoXYLWmpkEH0YvTmHBsJQ  Michael           398 2004-10-12 08:51:07    1393   \n",
       "3  co_jK_x-CvK2Z3ZrJLz1SQ        j            12 2004-10-12 09:36:53      21   \n",
       "4  23J4vG9_xxxdnmi8CBX7Ng     Joan          1674 2004-10-12 12:29:35   21509   \n",
       "\n",
       "   funny   cool                                              elite  \\\n",
       "0    103    121                                          2006,2007   \n",
       "1  10049  15141  2006,2007,2008,2009,2010,2011,2012,2013,2014,2...   \n",
       "2    734    662  2006,2007,2008,2009,2010,2011,2012,2013,2014,2015   \n",
       "3      3      4                                                      \n",
       "4  15514  19972  2006,2007,2008,2009,2010,2011,2012,2013,2014,2...   \n",
       "\n",
       "                                             friends  fans  ...  \\\n",
       "0  u-BjshHIamkWw4lBOsyscw, vGtIy5jDIqNS4oT0w-mkfw...    26  ...   \n",
       "1  5HJvYcAM6FLat695V_JF1A, m_y6jQ5AeVpXfTSc9c_LEQ...  2107  ...   \n",
       "2  g-mL-8J1_9iuDLUhyTzvmg, mjdYqMhqlNi3qz9d2NWgLQ...   156  ...   \n",
       "3  KSoGqlg42blFfukIMfZd_w, OxAPD1OFV9qgS6EmbbHhtw...     0  ...   \n",
       "4  PNa2-EjHe_ApIgZXD6kxBg, _BHTC7nyCBoZcfiiD5cOXg...  1425  ...   \n",
       "\n",
       "   compliment_more  compliment_profile  compliment_cute  compliment_list  \\\n",
       "0                1                   3               11                0   \n",
       "1              178                 152              249               45   \n",
       "2               22                  13               24                4   \n",
       "3                0                   0                0                0   \n",
       "4              292                 290              342               98   \n",
       "\n",
       "   compliment_note  compliment_plain  compliment_cool  compliment_funny  \\\n",
       "0                6                11               21                21   \n",
       "1              890              1254             2150              2150   \n",
       "2               90                98              168               168   \n",
       "3                1                 0                0                 0   \n",
       "4             1480              4961             5126              5126   \n",
       "\n",
       "   compliment_writer  compliment_photos  \n",
       "0                  1                  3  \n",
       "1                473                581  \n",
       "2                 27                 33  \n",
       "3                  0                  0  \n",
       "4               1904               3291  \n",
       "\n",
       "[5 rows x 22 columns]"
      ]
     },
     "execution_count": 108,
     "metadata": {},
     "output_type": "execute_result"
    }
   ],
   "source": [
    "#Muestras las primeras filas del dataframe\n",
    "yelp_users.head()"
   ]
  },
  {
   "cell_type": "code",
   "execution_count": 109,
   "metadata": {},
   "outputs": [
    {
     "data": {
      "text/plain": [
       "0                                            2006,2007\n",
       "1    2006,2007,2008,2009,2010,2011,2012,2013,2014,2...\n",
       "2    2006,2007,2008,2009,2010,2011,2012,2013,2014,2015\n",
       "3                                                     \n",
       "4    2006,2007,2008,2009,2010,2011,2012,2013,2014,2...\n",
       "Name: elite, dtype: object"
      ]
     },
     "execution_count": 109,
     "metadata": {},
     "output_type": "execute_result"
    }
   ],
   "source": [
    "#muestra las primeras filas de \"elite\"\n",
    "yelp_users.elite.head()\n",
    "     "
   ]
  },
  {
   "cell_type": "code",
   "execution_count": 110,
   "metadata": {},
   "outputs": [],
   "source": [
    "# Normaliza 'elite'\n",
    "elite = yelp_users['elite'].str.split(',', expand=True).stack().reset_index(level=-1, drop=True)\n",
    "elite = elite.to_frame('elite_year')\n",
    "elite['user_id'] = yelp_users['user_id']"
   ]
  },
  {
   "cell_type": "code",
   "execution_count": 111,
   "metadata": {},
   "outputs": [],
   "source": [
    "# Reemplaza los strings en blanco por NaN\n",
    "elite['elite_year'] = elite['elite_year'].replace('', pd.NA)"
   ]
  },
  {
   "cell_type": "code",
   "execution_count": 112,
   "metadata": {},
   "outputs": [],
   "source": [
    "# Elimina los NaN\n",
    "elite = elite.dropna(subset=['elite_year'])"
   ]
  },
  {
   "cell_type": "code",
   "execution_count": 113,
   "metadata": {},
   "outputs": [],
   "source": [
    "# Ordena el DataFrame por 'elite_year'\n",
    "elite = elite.sort_values(['elite_year'])"
   ]
  },
  {
   "cell_type": "code",
   "execution_count": 114,
   "metadata": {},
   "outputs": [
    {
     "data": {
      "text/plain": [
       "array(['20', '2006', '2007', '2008', '2009', '2010', '2011', '2012',\n",
       "       '2013', '2014', '2015', '2016', '2017', '2018', '2019', '2021'],\n",
       "      dtype=object)"
      ]
     },
     "execution_count": 114,
     "metadata": {},
     "output_type": "execute_result"
    }
   ],
   "source": [
    "#Muestra los uncios de elite\n",
    "elite.elite_year.unique()"
   ]
  },
  {
   "cell_type": "code",
   "execution_count": 115,
   "metadata": {},
   "outputs": [
    {
     "data": {
      "text/plain": [
       "elite_year\n",
       "20      79858\n",
       "2021    44542\n",
       "2019    44044\n",
       "2018    41009\n",
       "2017    36015\n",
       "2016    29636\n",
       "2015    24175\n",
       "2014    18571\n",
       "2013    16193\n",
       "2012    15222\n",
       "2011    10997\n",
       "2010     8772\n",
       "2009     5479\n",
       "2008     3185\n",
       "2007     2023\n",
       "2006      775\n",
       "Name: count, dtype: int64"
      ]
     },
     "execution_count": 115,
     "metadata": {},
     "output_type": "execute_result"
    }
   ],
   "source": [
    "#Hace conteos por años en \"elite\"\n",
    "elite.elite_year.value_counts()"
   ]
  },
  {
   "cell_type": "code",
   "execution_count": 116,
   "metadata": {},
   "outputs": [
    {
     "data": {
      "text/html": [
       "<div>\n",
       "<style scoped>\n",
       "    .dataframe tbody tr th:only-of-type {\n",
       "        vertical-align: middle;\n",
       "    }\n",
       "\n",
       "    .dataframe tbody tr th {\n",
       "        vertical-align: top;\n",
       "    }\n",
       "\n",
       "    .dataframe thead th {\n",
       "        text-align: right;\n",
       "    }\n",
       "</style>\n",
       "<table border=\"1\" class=\"dataframe\">\n",
       "  <thead>\n",
       "    <tr style=\"text-align: right;\">\n",
       "      <th></th>\n",
       "      <th>elite_year</th>\n",
       "      <th>user_id</th>\n",
       "    </tr>\n",
       "  </thead>\n",
       "  <tbody>\n",
       "    <tr>\n",
       "      <th>0</th>\n",
       "      <td>2006</td>\n",
       "      <td>fFGPBtsutYpn3A155Sf75Q</td>\n",
       "    </tr>\n",
       "    <tr>\n",
       "      <th>1</th>\n",
       "      <td>2006</td>\n",
       "      <td>t9mXmz8cPrCXqTz6tOlveQ</td>\n",
       "    </tr>\n",
       "    <tr>\n",
       "      <th>2</th>\n",
       "      <td>2006</td>\n",
       "      <td>S3gNrUh7N9oWoackKlHGMQ</td>\n",
       "    </tr>\n",
       "    <tr>\n",
       "      <th>3</th>\n",
       "      <td>2006</td>\n",
       "      <td>H4JNrBAoyCk_ZMZWbAf8OA</td>\n",
       "    </tr>\n",
       "    <tr>\n",
       "      <th>4</th>\n",
       "      <td>2006</td>\n",
       "      <td>3XxsH5vS3yJDnYLxSnRu3A</td>\n",
       "    </tr>\n",
       "    <tr>\n",
       "      <th>...</th>\n",
       "      <td>...</td>\n",
       "      <td>...</td>\n",
       "    </tr>\n",
       "    <tr>\n",
       "      <th>300633</th>\n",
       "      <td>2021</td>\n",
       "      <td>MdGnY6eLxy82nEZhCc6rnQ</td>\n",
       "    </tr>\n",
       "    <tr>\n",
       "      <th>300634</th>\n",
       "      <td>2021</td>\n",
       "      <td>grY9VXMDbjzrKiFmKdXPVg</td>\n",
       "    </tr>\n",
       "    <tr>\n",
       "      <th>300635</th>\n",
       "      <td>2021</td>\n",
       "      <td>qMhIZuS7OC3v-IN7kU4m2w</td>\n",
       "    </tr>\n",
       "    <tr>\n",
       "      <th>300636</th>\n",
       "      <td>2021</td>\n",
       "      <td>6o3CiQzYpLse_kJx2qYfSw</td>\n",
       "    </tr>\n",
       "    <tr>\n",
       "      <th>300637</th>\n",
       "      <td>2021</td>\n",
       "      <td>pzES0LlieWmJhPC1b-lv7Q</td>\n",
       "    </tr>\n",
       "  </tbody>\n",
       "</table>\n",
       "<p>300638 rows × 2 columns</p>\n",
       "</div>"
      ],
      "text/plain": [
       "       elite_year                 user_id\n",
       "0            2006  fFGPBtsutYpn3A155Sf75Q\n",
       "1            2006  t9mXmz8cPrCXqTz6tOlveQ\n",
       "2            2006  S3gNrUh7N9oWoackKlHGMQ\n",
       "3            2006  H4JNrBAoyCk_ZMZWbAf8OA\n",
       "4            2006  3XxsH5vS3yJDnYLxSnRu3A\n",
       "...           ...                     ...\n",
       "300633       2021  MdGnY6eLxy82nEZhCc6rnQ\n",
       "300634       2021  grY9VXMDbjzrKiFmKdXPVg\n",
       "300635       2021  qMhIZuS7OC3v-IN7kU4m2w\n",
       "300636       2021  6o3CiQzYpLse_kJx2qYfSw\n",
       "300637       2021  pzES0LlieWmJhPC1b-lv7Q\n",
       "\n",
       "[300638 rows x 2 columns]"
      ]
     },
     "execution_count": 116,
     "metadata": {},
     "output_type": "execute_result"
    }
   ],
   "source": [
    "# Filtrar el DataFrame elite para excluir las filas donde el valor de 'elite_year' es '20'\n",
    "elite = elite[elite['elite_year'] != '20']\n",
    "\n",
    "# Restablecer el índice del DataFrame resultante y eliminar el índice anterior\n",
    "elite.reset_index(drop=True, inplace=True)\n",
    "\n",
    "# Mostrar el DataFrame elite resultante\n",
    "elite\n"
   ]
  },
  {
   "cell_type": "code",
   "execution_count": 117,
   "metadata": {},
   "outputs": [
    {
     "name": "stdout",
     "output_type": "stream",
     "text": [
      "<class 'pandas.core.frame.DataFrame'>\n",
      "RangeIndex: 300638 entries, 0 to 300637\n",
      "Data columns (total 2 columns):\n",
      " #   Column      Non-Null Count   Dtype \n",
      "---  ------      --------------   ----- \n",
      " 0   elite_year  300638 non-null  object\n",
      " 1   user_id     300638 non-null  object\n",
      "dtypes: object(2)\n",
      "memory usage: 4.6+ MB\n"
     ]
    }
   ],
   "source": [
    "#Muestra la info de \"elite\"\n",
    "elite.info()"
   ]
  },
  {
   "cell_type": "code",
   "execution_count": 118,
   "metadata": {},
   "outputs": [
    {
     "data": {
      "text/plain": [
       "Index(['user_id', 'name', 'review_count', 'yelping_since', 'useful', 'funny',\n",
       "       'cool', 'friends', 'fans', 'average_stars', 'compliment_hot',\n",
       "       'compliment_more', 'compliment_profile', 'compliment_cute',\n",
       "       'compliment_list', 'compliment_note', 'compliment_plain',\n",
       "       'compliment_cool', 'compliment_funny', 'compliment_writer',\n",
       "       'compliment_photos'],\n",
       "      dtype='object')"
      ]
     },
     "execution_count": 118,
     "metadata": {},
     "output_type": "execute_result"
    }
   ],
   "source": [
    "#elimina la columna elite\n",
    "yelp_users = yelp_users.drop(columns='elite')\n",
    "\n",
    "yelp_users.columns"
   ]
  },
  {
   "cell_type": "code",
   "execution_count": 119,
   "metadata": {},
   "outputs": [
    {
     "data": {
      "text/plain": [
       "1"
      ]
     },
     "execution_count": 119,
     "metadata": {},
     "output_type": "execute_result"
    }
   ],
   "source": [
    "# Dividir la cadena en la posición 1987896 de la columna 'friends' por comas\n",
    "sample_friends = yelp_users.friends[1987896].split(',')\n",
    "\n",
    "# Calcular la longitud de la lista resultante\n",
    "len(sample_friends)\n",
    "\n",
    "     "
   ]
  },
  {
   "cell_type": "code",
   "execution_count": 120,
   "metadata": {},
   "outputs": [
    {
     "data": {
      "text/plain": [
       "user_id               0\n",
       "name                  0\n",
       "review_count          0\n",
       "yelping_since         0\n",
       "useful                0\n",
       "funny                 0\n",
       "cool                  0\n",
       "friends               0\n",
       "fans                  0\n",
       "average_stars         0\n",
       "compliment_hot        0\n",
       "compliment_more       0\n",
       "compliment_profile    0\n",
       "compliment_cute       0\n",
       "compliment_list       0\n",
       "compliment_note       0\n",
       "compliment_plain      0\n",
       "compliment_cool       0\n",
       "compliment_funny      0\n",
       "compliment_writer     0\n",
       "compliment_photos     0\n",
       "dtype: int64"
      ]
     },
     "execution_count": 120,
     "metadata": {},
     "output_type": "execute_result"
    }
   ],
   "source": [
    "# Verificar valores nulos en el DataFrame 'business_yelp' y contarlos por columna\n",
    "yelp_users.isnull().sum()"
   ]
  },
  {
   "cell_type": "code",
   "execution_count": 121,
   "metadata": {},
   "outputs": [
    {
     "data": {
      "text/plain": [
       "0           245\n",
       "1          6849\n",
       "2          2454\n",
       "3             7\n",
       "4          3926\n",
       "           ... \n",
       "1987892       1\n",
       "1987893       1\n",
       "1987894       1\n",
       "1987895       1\n",
       "1987896       1\n",
       "Name: friends, Length: 1987897, dtype: int64"
      ]
     },
     "execution_count": 121,
     "metadata": {},
     "output_type": "execute_result"
    }
   ],
   "source": [
    "# Aplicar una función lambda a cada valor en la columna 'friends' del DataFrame 'yelp_users'\n",
    "# La función divide cada cadena por comas y calcula la longitud de la lista resultante\n",
    "# Reemplazar los valores originales en la columna 'friends' con las longitudes de las listas resultantes\n",
    "yelp_users['friends'] = yelp_users['friends'].apply(lambda x: len(x.split(',')))\n",
    "\n",
    "# Mostrar la columna 'friends' actualizada en el DataFrame 'yelp_users'\n",
    "yelp_users['friends']\n"
   ]
  },
  {
   "cell_type": "code",
   "execution_count": 122,
   "metadata": {},
   "outputs": [
    {
     "name": "stdout",
     "output_type": "stream",
     "text": [
      "<class 'pandas.core.frame.DataFrame'>\n",
      "RangeIndex: 1987897 entries, 0 to 1987896\n",
      "Data columns (total 21 columns):\n",
      " #   Column              Dtype         \n",
      "---  ------              -----         \n",
      " 0   user_id             object        \n",
      " 1   name                object        \n",
      " 2   review_count        int64         \n",
      " 3   yelping_since       datetime64[ns]\n",
      " 4   useful              int64         \n",
      " 5   funny               int64         \n",
      " 6   cool                int64         \n",
      " 7   friends             int64         \n",
      " 8   fans                int64         \n",
      " 9   average_stars       float64       \n",
      " 10  compliment_hot      int64         \n",
      " 11  compliment_more     int64         \n",
      " 12  compliment_profile  int64         \n",
      " 13  compliment_cute     int64         \n",
      " 14  compliment_list     int64         \n",
      " 15  compliment_note     int64         \n",
      " 16  compliment_plain    int64         \n",
      " 17  compliment_cool     int64         \n",
      " 18  compliment_funny    int64         \n",
      " 19  compliment_writer   int64         \n",
      " 20  compliment_photos   int64         \n",
      "dtypes: datetime64[ns](1), float64(1), int64(17), object(2)\n",
      "memory usage: 318.5+ MB\n"
     ]
    }
   ],
   "source": [
    "yelp_users.info()"
   ]
  },
  {
   "cell_type": "markdown",
   "metadata": {},
   "source": [
    "### DOCUMENTACIÓN\n",
    "\n",
    "__Data del usuario incluyendo referencias a otros usuarios amigos y a toda la metadata asociada al usuario.__\n",
    "\n",
    "- string, 22 caracteres, id de usuario que refiere al usuario en user.json\n",
    "\"user_id\": \"Ha3iJu77CxlrFm-vQRs_8g\",\n",
    "\n",
    "- string, nombre del usuario\n",
    "\"name\": \"Sebastien\",\n",
    "\n",
    "- entero, numero de reseñas escritas\n",
    "\"review_count\": 56,\n",
    "\n",
    "- string, fecha de creacion del usuario en Yelp en formato YYYY-MM-DD\n",
    "\"yelping_since\": \"2011-01-01\",\n",
    "\n",
    "- lista con los id de usuarios que son amigos de ese usuario\n",
    "\"friends\": [ \"wqoXYLWmpkEH0YvTmHBsJQ\", \"KUXLLiJGrjtSsapmxmpvTA\", \"6e9rJKQC3n0RSKyHLViL-Q\" ],\n",
    "\n",
    "- entero, número de votos marcados como útiles por el usuario\n",
    "\"useful\": 21,\n",
    "\n",
    "- entero, número de votos marcados como graciosos por el usuario\n",
    "\"funny\": 88,\n",
    "\n",
    "- entero, número de votos marcados como cool por el usuario\n",
    "\"cool\": 15,\n",
    "\n",
    "- entero, número de fans que tiene el usuario\n",
    "\"fans\": 1032,\n",
    "\n",
    "- lista de enteros, años en los que el usuario fue miembro elite\n",
    "\"elite\": [ 2012, 2013 ],\n",
    "\n",
    "- float, promedio del valor de las reseñas\n",
    "\"average_stars\": 4.31,\n",
    "\n",
    "- entero, total de cumplidos 'hot' recibidos por el usuario\n",
    "\"compliment_hot\": 339,\n",
    "\n",
    "- entero, total de cumplidos varios recibidos por el usuario\n",
    "\"compliment_more\": 668,\n",
    "\n",
    "- entero, total de cumplidos por el perfil recibidos por el usuario\n",
    "\"compliment_profile\": 42,\n",
    "\n",
    "- entero, total de cumplidos 'cute' recibidos por el usuario\n",
    "\"compliment_cute\": 62,\n",
    "\n",
    "- entero, total de listas de cumplidos recibidos por el usuario\n",
    "\"compliment_list\": 37,\n",
    "\n",
    "- entero, total de cumplidos como notas recibidos por el usuario\n",
    "\"compliment_note\": 356,\n",
    "\n",
    "- entero, total de cumplidos planos recibidos por el usuario\n",
    "\"compliment_plain\": 68,\n",
    "\n",
    "- entero, total de cumplidos 'cool' recibidos por el usuario\n",
    "\"compliment_cool\": 91,\n",
    "\n",
    "- entero, total de cumplidos graciosos recibidos por el usuario\n",
    "\"compliment_funny\": 99,\n",
    "\n",
    "- entero, número de complidos escritos recibidos por el usuario\n",
    "\"compliment_writer\": 95,\n",
    "\n",
    "- entero, número de cumplidos en foto recibidos por el usuario\n",
    "\"compliment_photos\": 50"
   ]
  }
 ],
 "metadata": {
  "kernelspec": {
   "display_name": "Python 3",
   "language": "python",
   "name": "python3"
  },
  "language_info": {
   "codemirror_mode": {
    "name": "ipython",
    "version": 3
   },
   "file_extension": ".py",
   "mimetype": "text/x-python",
   "name": "python",
   "nbconvert_exporter": "python",
   "pygments_lexer": "ipython3",
   "version": "3.12.0"
  }
 },
 "nbformat": 4,
 "nbformat_minor": 2
}
