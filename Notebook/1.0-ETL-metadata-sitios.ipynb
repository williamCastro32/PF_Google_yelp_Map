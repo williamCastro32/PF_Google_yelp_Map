{
 "cells": [
  {
   "cell_type": "markdown",
   "metadata": {},
   "source": [
    "# __ETL__ _(Extract, Transform, Load)_"
   ]
  },
  {
   "cell_type": "markdown",
   "metadata": {},
   "source": [
    "## Introducción\n",
    "\n",
    "Este notebook se enfoca en el proceso de **ETL** utilizando datos extraídos de las plataformas Yelp y Google Maps. Este proceso implica una _extracccion,transformación y carga_ de los datos con el objetivo de prepararlos para análisis posteriores. Este paso es crucial en cualquier proyecto de ciencia de datos para garantizar la calidad y utilidad de los datos."
   ]
  },
  {
   "cell_type": "markdown",
   "metadata": {},
   "source": [
    "## Configuraciones Globales e Importaciones\n",
    "\n",
    "En esta sección, se instalan e importan todas las librerías y/o módulos necesarios para el proceso ETL (Extract, Transform, Load) y se establecen configuraciones globales de ser requerido. Se utilizan las siguientes librerías y herramientas:"
   ]
  },
  {
   "cell_type": "code",
   "execution_count": 1,
   "metadata": {},
   "outputs": [],
   "source": [
    "import warnings\n",
    "warnings.filterwarnings(\"ignore\") # Se utiliza para gestionar las advertencias y mantener el código limpio."
   ]
  },
  {
   "cell_type": "code",
   "execution_count": 48,
   "metadata": {},
   "outputs": [],
   "source": [
    "import os # Proporciona funciones para interactuar con el sistema operativo.\n",
    "import requests # Se utiliza para realizar solicitudes HTTP.\n",
    "import pandas as pd # Una librería de análisis de datos.\n",
    "import seaborn as sns #S e utiliza para la visualización de datos.\n",
    "import pyspark.pandas as ps # Proporciona una interfaz para trabajar con datos en Spark utilizando el formato de DataFrame de pandas.\n",
    "import json # Se utiliza para trabajar con datos en formato JSON.\n",
    "from pyspark.sql import SparkSession # Se utiliza para crear una instancia de SparkSession, que es la entrada principal para trabajar con Spark SQL.\n",
    "from pyspark.sql import functions as F #  Proporciona funciones para trabajar con datos en Spark DataFrame.\n",
    "from pyspark.sql.functions import array_contains # Esta función se utiliza para filtrar los datos basados en la presencia de un valor en un array.\n",
    "from pyspark.sql.functions import sum, col # Se utiliza para acceder a una columna en un DataFrame de Spark.\n",
    "from pyspark.sql.functions import split, substring, concat_ws\n",
    "from pyspark.sql.functions import expr"
   ]
  },
  {
   "cell_type": "code",
   "execution_count": 59,
   "metadata": {},
   "outputs": [],
   "source": [
    "# Crear una sesión de Spark\n",
    "spark = SparkSession.builder\\\n",
    "        .master(\"local\")\\\n",
    "        .appName(\"ETL-metadata-sitios\")\\\n",
    "        .config('spark.ui.port', '4050')\\\n",
    "        .getOrCreate()"
   ]
  },
  {
   "cell_type": "markdown",
   "metadata": {},
   "source": [
    "# GOOGLE MAPS\n",
    "\n",
    "**Dataset:** metadata-sitios\n",
    "\n",
    "DECLARACIÓN DE LA RUTA DE LOS DATA SET"
   ]
  },
  {
   "cell_type": "code",
   "execution_count": 5,
   "metadata": {},
   "outputs": [],
   "source": [
    "# Ruta local donde se encuentran los archivos JSON\n",
    "ruta_local = \"C:/Users/Usuario/Desktop/Proyecto Final/metadata-sitios\"\n",
    "\n",
    "# Lista para almacenar los DataFrames de metadatos\n",
    "metadata_df = []\n",
    "\n",
    "# Iteración sobre los archivos JSON del 1 al 11\n",
    "for i in range(1, 12):\n",
    "    # Lectura del archivo JSON utilizando Spark\n",
    "    archivo = spark.read.json(f\"{ruta_local}/{i}.json\")\n",
    "    \n",
    "    # Conversión de la columna \"MISC\" a tipo de datos \"string\"\n",
    "    archivo = archivo.withColumn(\"MISC\", col(\"MISC\").cast(\"string\"))\n",
    "    \n",
    "    # Agregar el DataFrame a la lista de metadatos\n",
    "    metadata_df.append(archivo)\n",
    "\n",
    "# DataFrame final para almacenar los datos combinados\n",
    "df_final = metadata_df[0]\n",
    "\n",
    "# Unión de los DataFrames de metadatos utilizando unionByName\n",
    "for dataframe in metadata_df[1:]:\n",
    "    df_final = df_final.unionByName(dataframe)\n",
    "\n",
    "# Sobrescribir metadata_df con el DataFrame final combinado\n",
    "metadata_df = df_final"
   ]
  },
  {
   "cell_type": "code",
   "execution_count": 6,
   "metadata": {},
   "outputs": [
    {
     "name": "stdout",
     "output_type": "stream",
     "text": [
      "+--------------------+--------------------+----------+--------------------+--------------------+--------------------+--------------------+------------------+-------------------+--------------------+--------------+-----+--------------------+--------------------+--------------------+\n",
      "|                MISC|             address|avg_rating|            category|         description|             gmap_id|               hours|          latitude|          longitude|                name|num_of_reviews|price|    relative_results|               state|                 url|\n",
      "+--------------------+--------------------+----------+--------------------+--------------------+--------------------+--------------------+------------------+-------------------+--------------------+--------------+-----+--------------------+--------------------+--------------------+\n",
      "|{[Wheelchair acce...|Porter Pharmacy, ...|       4.9|          [Pharmacy]|                NULL|0x88f16e41928ff68...|[[Friday, 8AM–6PM...|           32.3883|           -83.3571|     Porter Pharmacy|            16| NULL|[0x88f16e41929435...|   Open ⋅ Closes 6PM|https://www.googl...|\n",
      "|                NULL|City Textile, 300...|       4.5|  [Textile exporter]|                NULL|0x80c2c98c0e3c16f...|                NULL|        34.0188913|       -118.2152898|        City Textile|             6| NULL|[0x80c2c624136ea8...|            Open now|https://www.googl...|\n",
      "|{[Wheelchair acce...|San Soo Dang, 761...|       4.4| [Korean restaurant]|                NULL|0x80c2c778e3b73d3...|[[Thursday, 6:30A...|        34.0580917|       -118.2921295|        San Soo Dang|            18| NULL|[0x80c2c78249aba6...|   Open ⋅ Closes 6PM|https://www.googl...|\n",
      "|{null, null, null...|Nova Fabrics, 220...|       3.3|      [Fabric store]|                NULL|0x80c2c89923b27a4...|[[Thursday, 9AM–5...|        34.0236689|       -118.2329297|        Nova Fabrics|             6| NULL|[0x80c2c881147725...|   Open ⋅ Closes 5PM|https://www.googl...|\n",
      "|{null, null, null...|Nobel Textile Co,...|       4.3|      [Fabric store]|                NULL|0x80c2c632f933b07...|[[Thursday, 9AM–5...|        34.0366942|       -118.2494208|    Nobel Textile Co|             7| NULL|[0x80c2c62c496083...|   Open ⋅ Closes 5PM|https://www.googl...|\n",
      "|{[Wheelchair acce...|Matrix Internatio...|       3.5|      [Fabric store]|                NULL|0x80c2cf163db6bc8...|[[Thursday, 8:30A...|        34.0155047|       -118.1818394|Matrix Internatio...|             6| NULL|[0x80c2cf042a5d95...|Open ⋅ Closes 5:30PM|https://www.googl...|\n",
      "|{[Wheelchair acce...|Vons Chicken, 127...|       4.5|        [Restaurant]|                NULL|0x80dd2b4c8555edb...|[[Thursday, 11AM–...|        33.9164023|-118.01085499999999|        Vons Chicken|            18| NULL|                NULL|Open ⋅ Closes 9:30PM|https://www.googl...|\n",
      "|{[Wheelchair acce...|Polished Nail Sal...|       4.0|[Nail salon, Waxi...|                NULL|0x87ec238afdd8837...|[[Thursday, 9AM–8...|41.614197999999995|        -93.8472695|Polished Nail Sal...|            86| NULL|[0x87ec2481df68e1...|   Open ⋅ Closes 8PM|https://www.googl...|\n",
      "|{null, null, null...|Sweet Rewards Glu...|       4.7|[Bakery, Health f...|                NULL|0x87ec235c54d25b3...|[[Thursday, 10AM–...|         41.616079|         -93.865487|Sweet Rewards Glu...|            21| NULL|[0x87ee9748692955...|  Permanently closed|https://www.googl...|\n",
      "|                NULL|                NULL|       5.0|[Greeting card sh...|                NULL|0x87ee85ac3cb23b4...|[[Thursday, 7AM–8...|         41.846035|        -93.7561175|           PeepNotes|             1| NULL|[0x87ee915d9604ea...|   Open ⋅ Closes 8PM|https://www.googl...|\n",
      "|{[Wheelchair acce...|Lush Family Denta...|       5.0|[Dentist, Cosmeti...|                NULL|0x87ec2394c2cd9d2...|[[Thursday, 7AM–4...|        41.5852916|        -93.8551126|  Lush Family Dental|           178| NULL|[0x87ec2482098b66...|   Open ⋅ Closes 4PM|https://www.googl...|\n",
      "|{[Wheelchair acce...|515 Auto Shades, ...|       5.0|[Auto glass shop,...|                NULL|0x87ee95d1e474531...|[[Thursday, 9AM–6...|         41.606082|        -93.4986302|     515 Auto Shades|            28| NULL|                NULL|   Open ⋅ Closes 6PM|https://www.googl...|\n",
      "|{[Wheelchair acce...|Lena’s Beauty Nai...|       4.2|      [Beauty salon]|                NULL|0x87ec2481df6626b...|[[Thursday, 9AM–7...|        41.6163101|         -93.858345|Lena’s Beauty Nai...|           128| NULL|[0x87ec20ce836cac...|   Open ⋅ Closes 7PM|https://www.googl...|\n",
      "|{[Wheelchair acce...|Black Tie Ski Ren...|       5.0|[Ski rental servi...|                NULL|0x80960c29f2e3bf2...|[[Thursday, 8AM–5...|37.638754399999996|-118.96605509999999|Black Tie Ski Ren...|            34| NULL|[0x80960dcd6ba767...|   Open ⋅ Closes 5PM|https://www.googl...|\n",
      "|{[Wheelchair acce...|NTK OUTDOOR, 2315...|       5.0|  [Corporate office]|                NULL|0x88d9beb4fe0532c...|[[Thursday, 9AM–6...|        25.7952041|        -80.3660381|         NTK OUTDOOR|            35| NULL|[0x88d9bfd49a624c...|   Open ⋅ Closes 6PM|https://www.googl...|\n",
      "|                NULL|Angel-A Massage, ...|       4.3|[Massage spa, Chi...|                NULL|0x809adef58ae560b...|[[Thursday, 9:30A...|        38.6626297|       -121.3086388|     Angel-A Massage|             6| NULL|[0x809adee9ac6f1b...|Open ⋅ Closes 9:30PM|https://www.googl...|\n",
      "|{[Wheelchair acce...|Dunn-Edwards Pain...|       4.7|[Paint store, Pai...|Chain selling int...|0x809b1ff6d3a60c4...|[[Thursday, 6:30A...|        38.7434619|       -121.2587612| Dunn-Edwards Paints|            26| NULL|[0x809b201630f908...|   Open ⋅ Closes 5PM|https://www.googl...|\n",
      "|                NULL|Elite Massage, 81...|       5.0| [Massage therapist]|                NULL|0x809ae0a7ce91433...|                NULL|        38.6649155|       -121.2601916|       Elite Massage|             1| NULL|[0x809ade27605def...|                NULL|https://www.googl...|\n",
      "|{[Wheelchair acce...|PODS Sacramento H...|       4.0|  [Corporate office]|                NULL|0x809ad95924805cf...|                NULL|         38.658994|       -121.4129579| PODS Sacramento Hub|             8| NULL|[0x809ad8fc85a035...|            Open now|https://www.googl...|\n",
      "|{[Wheelchair acce...|Happy Spa & Massa...|       2.7|[Massage therapis...|                NULL|0x809b217a6cbe4fa...|[[Thursday, 9:30A...|        38.7855482|       -121.2868859|Happy Spa & Massa...|             8| NULL|[0x809b20410d8df0...|  Open ⋅ Closes 10PM|https://www.googl...|\n",
      "+--------------------+--------------------+----------+--------------------+--------------------+--------------------+--------------------+------------------+-------------------+--------------------+--------------+-----+--------------------+--------------------+--------------------+\n",
      "only showing top 20 rows\n",
      "\n"
     ]
    }
   ],
   "source": [
    "# Mostrar el DataFrame\n",
    "metadata_df.show()"
   ]
  },
  {
   "cell_type": "code",
   "execution_count": 13,
   "metadata": {},
   "outputs": [
    {
     "data": {
      "text/plain": [
       "3025011"
      ]
     },
     "execution_count": 13,
     "metadata": {},
     "output_type": "execute_result"
    }
   ],
   "source": [
    "#Muestra el número de filas del DataFrame\n",
    "metadata_df.count()"
   ]
  },
  {
   "cell_type": "code",
   "execution_count": 11,
   "metadata": {},
   "outputs": [],
   "source": [
    "# Cuenta el número de nulos en cada columna\n",
    "\n",
    "def conteo_nulos(dataframe):\n",
    "    # Construye expresiones de agregación para contar nulos en cada columna\n",
    "    expresiones_agregacion = [sum(col(c).isNull().cast(\"int\")).alias(c) for c in dataframe.columns]\n",
    "\n",
    "    # Aplica las expresiones de agregación al dataframe\n",
    "    conteo_nulos_por_columna = dataframe.agg(*expresiones_agregacion)\n",
    "\n",
    "    # Muestra el resultado\n",
    "    conteo_nulos_por_columna.show()"
   ]
  },
  {
   "cell_type": "code",
   "execution_count": 12,
   "metadata": {},
   "outputs": [
    {
     "name": "stdout",
     "output_type": "stream",
     "text": [
      "+------+-------+----------+--------+-----------+-------+------+--------+---------+----+--------------+-------+----------------+------+---+\n",
      "|  MISC|address|avg_rating|category|description|gmap_id| hours|latitude|longitude|name|num_of_reviews|  price|relative_results| state|url|\n",
      "+------+-------+----------+--------+-----------+-------+------+--------+---------+----+--------------+-------+----------------+------+---+\n",
      "|690834|  80511|         0|   17419|    2770722|      0|787405|       0|        0|  37|             0|2749808|          295058|746455|  0|\n",
      "+------+-------+----------+--------+-----------+-------+------+--------+---------+----+--------------+-------+----------------+------+---+\n",
      "\n"
     ]
    }
   ],
   "source": [
    "# Llama a la función con tu dataframe\n",
    "conteo_nulos(metadata_df)"
   ]
  },
  {
   "cell_type": "code",
   "execution_count": 20,
   "metadata": {},
   "outputs": [],
   "source": [
    "#Función para la obtención de los primeros datos en columnas especificas\n",
    "\n",
    "def obtener_primer_dato(dataframe, columna):\n",
    "    # Selecciona la columna especificada y extrae el primer dato\n",
    "    primer_dato = dataframe.select(columna).first()[0]\n",
    "    return primer_dato"
   ]
  },
  {
   "cell_type": "code",
   "execution_count": 21,
   "metadata": {},
   "outputs": [
    {
     "name": "stdout",
     "output_type": "stream",
     "text": [
      "Primer dato en la columna MISC: {[Wheelchair accessible entrance], null, null, null, null, null, null, null, [Mask required, Staff required to disinfect surfaces between visits], null, null, null, [Quick visit], null, null, [In-store shopping, Same-day delivery]}\n"
     ]
    }
   ],
   "source": [
    "# Llama a la función con tu dataframe y el nombre de la columna\n",
    "primer_dato_misc = obtener_primer_dato(metadata_df, \"MISC\")\n",
    "print(\"Primer dato en la columna MISC:\", primer_dato_misc)"
   ]
  },
  {
   "cell_type": "code",
   "execution_count": 22,
   "metadata": {},
   "outputs": [
    {
     "name": "stdout",
     "output_type": "stream",
     "text": [
      "Primer dato en la columna description: None\n"
     ]
    }
   ],
   "source": [
    "# Llama a la función con tu dataframe y el nombre de la columna\n",
    "primer_dato_desc = obtener_primer_dato(metadata_df, \"description\")\n",
    "print(\"Primer dato en la columna description:\", primer_dato_desc)"
   ]
  },
  {
   "cell_type": "code",
   "execution_count": 23,
   "metadata": {},
   "outputs": [
    {
     "name": "stdout",
     "output_type": "stream",
     "text": [
      "Primer dato en la columna hours: [['Friday', '8AM–6PM'], ['Saturday', '8AM–12PM'], ['Sunday', 'Closed'], ['Monday', '8AM–6PM'], ['Tuesday', '8AM–6PM'], ['Wednesday', '8AM–12PM'], ['Thursday', '8AM–6PM']]\n"
     ]
    }
   ],
   "source": [
    "# Llama a la función con tu dataframe y el nombre de la columna\n",
    "primer_dato_hours = obtener_primer_dato(metadata_df, \"hours\")\n",
    "print(\"Primer dato en la columna hours:\", primer_dato_hours)"
   ]
  },
  {
   "cell_type": "code",
   "execution_count": 24,
   "metadata": {},
   "outputs": [
    {
     "name": "stdout",
     "output_type": "stream",
     "text": [
      "Primer dato en la columna price: None\n"
     ]
    }
   ],
   "source": [
    "# Llama a la función con tu dataframe y el nombre de la columna\n",
    "primer_dato_price = obtener_primer_dato(metadata_df, \"price\")\n",
    "print(\"Primer dato en la columna price:\", primer_dato_price)"
   ]
  },
  {
   "cell_type": "code",
   "execution_count": 25,
   "metadata": {},
   "outputs": [
    {
     "name": "stdout",
     "output_type": "stream",
     "text": [
      "Primer dato en la columna relative_results: ['0x88f16e41929435cf:0x5b2532a2885e9ef6', '0x88f16c32716531c1:0x5f19bdaa5044e4fa', '0x88f16e6e3f4a21df:0xcf495da9bb4d89ea']\n"
     ]
    }
   ],
   "source": [
    "# Llama a la función con tu dataframe y el nombre de la columna\n",
    "primer_dato_rr = obtener_primer_dato(metadata_df, \"relative_results\")\n",
    "print(\"Primer dato en la columna relative_results:\", primer_dato_rr)"
   ]
  },
  {
   "cell_type": "code",
   "execution_count": 26,
   "metadata": {},
   "outputs": [
    {
     "name": "stdout",
     "output_type": "stream",
     "text": [
      "Primer dato en la columna state: Open ⋅ Closes 6PM\n"
     ]
    }
   ],
   "source": [
    "# Llama a la función con tu dataframe y el nombre de la columna\n",
    "primer_dato_state = obtener_primer_dato(metadata_df, \"state\")\n",
    "print(\"Primer dato en la columna state:\", primer_dato_state)"
   ]
  },
  {
   "cell_type": "code",
   "execution_count": 27,
   "metadata": {},
   "outputs": [],
   "source": [
    "# Lista de columnas a eliminar \n",
    "columnas_a_eliminar = ['MISC', 'state', 'price', 'hours', 'description', 'relative_results'] "
   ]
  },
  {
   "cell_type": "code",
   "execution_count": 28,
   "metadata": {},
   "outputs": [],
   "source": [
    "# Elimina las columnas especificadas \n",
    "df = metadata_df.select([columna for columna in metadata_df.columns if columna not in columnas_a_eliminar])"
   ]
  },
  {
   "cell_type": "code",
   "execution_count": 29,
   "metadata": {},
   "outputs": [
    {
     "name": "stdout",
     "output_type": "stream",
     "text": [
      "+--------------------+----------+--------------------+--------------------+------------------+-------------------+--------------------+--------------+--------------------+\n",
      "|             address|avg_rating|            category|             gmap_id|          latitude|          longitude|                name|num_of_reviews|                 url|\n",
      "+--------------------+----------+--------------------+--------------------+------------------+-------------------+--------------------+--------------+--------------------+\n",
      "|Porter Pharmacy, ...|       4.9|          [Pharmacy]|0x88f16e41928ff68...|           32.3883|           -83.3571|     Porter Pharmacy|            16|https://www.googl...|\n",
      "|City Textile, 300...|       4.5|  [Textile exporter]|0x80c2c98c0e3c16f...|        34.0188913|       -118.2152898|        City Textile|             6|https://www.googl...|\n",
      "|San Soo Dang, 761...|       4.4| [Korean restaurant]|0x80c2c778e3b73d3...|        34.0580917|       -118.2921295|        San Soo Dang|            18|https://www.googl...|\n",
      "|Nova Fabrics, 220...|       3.3|      [Fabric store]|0x80c2c89923b27a4...|        34.0236689|       -118.2329297|        Nova Fabrics|             6|https://www.googl...|\n",
      "|Nobel Textile Co,...|       4.3|      [Fabric store]|0x80c2c632f933b07...|        34.0366942|       -118.2494208|    Nobel Textile Co|             7|https://www.googl...|\n",
      "|Matrix Internatio...|       3.5|      [Fabric store]|0x80c2cf163db6bc8...|        34.0155047|       -118.1818394|Matrix Internatio...|             6|https://www.googl...|\n",
      "|Vons Chicken, 127...|       4.5|        [Restaurant]|0x80dd2b4c8555edb...|        33.9164023|-118.01085499999999|        Vons Chicken|            18|https://www.googl...|\n",
      "|Polished Nail Sal...|       4.0|[Nail salon, Waxi...|0x87ec238afdd8837...|41.614197999999995|        -93.8472695|Polished Nail Sal...|            86|https://www.googl...|\n",
      "|Sweet Rewards Glu...|       4.7|[Bakery, Health f...|0x87ec235c54d25b3...|         41.616079|         -93.865487|Sweet Rewards Glu...|            21|https://www.googl...|\n",
      "|                NULL|       5.0|[Greeting card sh...|0x87ee85ac3cb23b4...|         41.846035|        -93.7561175|           PeepNotes|             1|https://www.googl...|\n",
      "|Lush Family Denta...|       5.0|[Dentist, Cosmeti...|0x87ec2394c2cd9d2...|        41.5852916|        -93.8551126|  Lush Family Dental|           178|https://www.googl...|\n",
      "|515 Auto Shades, ...|       5.0|[Auto glass shop,...|0x87ee95d1e474531...|         41.606082|        -93.4986302|     515 Auto Shades|            28|https://www.googl...|\n",
      "|Lena’s Beauty Nai...|       4.2|      [Beauty salon]|0x87ec2481df6626b...|        41.6163101|         -93.858345|Lena’s Beauty Nai...|           128|https://www.googl...|\n",
      "|Black Tie Ski Ren...|       5.0|[Ski rental servi...|0x80960c29f2e3bf2...|37.638754399999996|-118.96605509999999|Black Tie Ski Ren...|            34|https://www.googl...|\n",
      "|NTK OUTDOOR, 2315...|       5.0|  [Corporate office]|0x88d9beb4fe0532c...|        25.7952041|        -80.3660381|         NTK OUTDOOR|            35|https://www.googl...|\n",
      "|Angel-A Massage, ...|       4.3|[Massage spa, Chi...|0x809adef58ae560b...|        38.6626297|       -121.3086388|     Angel-A Massage|             6|https://www.googl...|\n",
      "|Dunn-Edwards Pain...|       4.7|[Paint store, Pai...|0x809b1ff6d3a60c4...|        38.7434619|       -121.2587612| Dunn-Edwards Paints|            26|https://www.googl...|\n",
      "|Elite Massage, 81...|       5.0| [Massage therapist]|0x809ae0a7ce91433...|        38.6649155|       -121.2601916|       Elite Massage|             1|https://www.googl...|\n",
      "|PODS Sacramento H...|       4.0|  [Corporate office]|0x809ad95924805cf...|         38.658994|       -121.4129579| PODS Sacramento Hub|             8|https://www.googl...|\n",
      "|Happy Spa & Massa...|       2.7|[Massage therapis...|0x809b217a6cbe4fa...|        38.7855482|       -121.2868859|Happy Spa & Massa...|             8|https://www.googl...|\n",
      "+--------------------+----------+--------------------+--------------------+------------------+-------------------+--------------------+--------------+--------------------+\n",
      "only showing top 20 rows\n",
      "\n"
     ]
    }
   ],
   "source": [
    "# Mostrar el DataFrame\n",
    "df.show()"
   ]
  },
  {
   "cell_type": "code",
   "execution_count": 31,
   "metadata": {},
   "outputs": [
    {
     "name": "stdout",
     "output_type": "stream",
     "text": [
      "+-------+----------+--------+-------+--------+---------+----+--------------+---+\n",
      "|address|avg_rating|category|gmap_id|latitude|longitude|name|num_of_reviews|url|\n",
      "+-------+----------+--------+-------+--------+---------+----+--------------+---+\n",
      "+-------+----------+--------+-------+--------+---------+----+--------------+---+\n",
      "\n"
     ]
    }
   ],
   "source": [
    "# Encuentra las filas duplicadas en el DataFrame\n",
    "duplicados = df.subtract(df.dropDuplicates())\n",
    "# Muestra los registros duplicados\n",
    "duplicados.show()"
   ]
  },
  {
   "cell_type": "code",
   "execution_count": 34,
   "metadata": {},
   "outputs": [
    {
     "name": "stdout",
     "output_type": "stream",
     "text": [
      "root\n",
      " |-- address: string (nullable = true)\n",
      " |-- avg_rating: double (nullable = true)\n",
      " |-- category: array (nullable = true)\n",
      " |    |-- element: string (containsNull = true)\n",
      " |-- gmap_id: string (nullable = true)\n",
      " |-- latitude: double (nullable = true)\n",
      " |-- longitude: double (nullable = true)\n",
      " |-- name: string (nullable = true)\n",
      " |-- num_of_reviews: long (nullable = true)\n",
      " |-- url: string (nullable = true)\n",
      "\n"
     ]
    }
   ],
   "source": [
    "#Mostrar la estructura de mi dataframe\n",
    "df.printSchema()"
   ]
  },
  {
   "cell_type": "code",
   "execution_count": 35,
   "metadata": {},
   "outputs": [],
   "source": [
    "# Elimina las 'gmap_id' duplicados \n",
    "df = df.dropDuplicates(['gmap_id'])"
   ]
  },
  {
   "cell_type": "code",
   "execution_count": 36,
   "metadata": {},
   "outputs": [],
   "source": [
    "#Pasa la columna 'category' a tipo string \n",
    "df = df.withColumn(\"category\", col(\"category\").cast(\"string\"))"
   ]
  },
  {
   "cell_type": "code",
   "execution_count": 37,
   "metadata": {},
   "outputs": [
    {
     "name": "stdout",
     "output_type": "stream",
     "text": [
      "Primer dato en la columna category: [Bank, Car finance and loan company, Financial planner, Loan agency, Mortgage lender]\n"
     ]
    }
   ],
   "source": [
    "# Llama a la función con tu dataframe y el nombre de la columna\n",
    "primer_dato_category = obtener_primer_dato(df, \"category\")\n",
    "print(\"Primer dato en la columna category:\", primer_dato_category)"
   ]
  },
  {
   "cell_type": "code",
   "execution_count": 38,
   "metadata": {},
   "outputs": [],
   "source": [
    "# Filtra las filas que contienen 'restaurant' en la columna 'category' \n",
    "df = df.filter((col(\"category\").contains('restaurant')) | (col(\"category\").contains('Restaurant')))"
   ]
  },
  {
   "cell_type": "code",
   "execution_count": 49,
   "metadata": {},
   "outputs": [],
   "source": [
    "# Utiliza la función substring para eliminar el primer y último caracter de la columna 'category' \n",
    "df = df.withColumn(\"category\", expr(\"substring(category, 2, length(category)-2)\"))"
   ]
  },
  {
   "cell_type": "code",
   "execution_count": 40,
   "metadata": {},
   "outputs": [
    {
     "name": "stdout",
     "output_type": "stream",
     "text": [
      "Primer dato en la columna address: Ceviche Jax, 27 Seminole Rd, Atlantic Beach, FL 32233, United States\n"
     ]
    }
   ],
   "source": [
    "# Llama a la función con tu dataframe y el nombre de la columna\n",
    "primer_dato_address = obtener_primer_dato(df, \"address\")\n",
    "print(\"Primer dato en la columna address:\", primer_dato_address)"
   ]
  },
  {
   "cell_type": "code",
   "execution_count": 43,
   "metadata": {},
   "outputs": [],
   "source": [
    "# Separa la columna 'address' en 3 columnas: 'address', 'city' y 'state' \n",
    "split_col = split(df['address'], ',') \n",
    "df = df.withColumn('state', substring(split_col.getItem(3), 2, 2)) \n",
    "df = df.withColumn('city', split_col.getItem(2)) \n",
    "df = df.withColumn('address', concat_ws(',', split_col.getItem(0), split_col.getItem(1)))"
   ]
  },
  {
   "cell_type": "code",
   "execution_count": 44,
   "metadata": {},
   "outputs": [
    {
     "name": "stdout",
     "output_type": "stream",
     "text": [
      "+--------------------+----------+--------------------+--------------------+------------------+------------------+--------------------+--------------+--------------------+-----+----------------+\n",
      "|             address|avg_rating|            category|             gmap_id|          latitude|         longitude|                name|num_of_reviews|                 url|state|            city|\n",
      "+--------------------+----------+--------------------+--------------------+------------------+------------------+--------------------+--------------+--------------------+-----+----------------+\n",
      "|La Posada Del Rey...|       4.8|[Mexican restaurant]|0x145c2bc56025f08...|        29.5051316|       -98.4581639|   La Posada Del Rey|             8|https://www.googl...|   TX|     San Antonio|\n",
      "|Oasis Restaurant,...|       3.9|        [Restaurant]|0x145e82e3ab31e24...|29.571551999999997|      -104.3689397|    Oasis Restaurant|            98|https://www.googl...|   TX|        Presidio|\n",
      "|Giovanni's Pizzer...|       3.5|[Pizza restaurant...|0x146d2f9feb2f260...|        26.2882651|       -80.2028028|Giovanni's Pizzer...|           108|https://www.googl...|   Co|            FL-7|\n",
      "|Cilantro'S By Ric...|       3.7|[Mexican restaurant]|0x146d33173552289...|         26.170004|        -97.998532|Cilantro'S By Ric...|            37|https://www.googl...|   TX|         Weslaco|\n",
      "|Supreme Lunch Bre...|       4.3|[Restaurant, Deli...|0x14e3eabd71cef42...|33.424982199999995|      -111.9768512| Supreme Lunch Break|            48|https://www.googl...|   AZ|           Tempe|\n",
      "|Nine Dragons, 214...|       3.6|[Chinese restaura...|0x152f777651683fd...|        36.5639907|       -87.3102055|        Nine Dragons|           135|https://www.googl...|   TN|     Clarksville|\n",
      "|Taste Of Times Sq...|       4.6|        [Restaurant]|0x15325eb932be955...|         37.691835|        -97.336584|Taste Of Times Sq...|            26|https://www.googl...|   Wi| 402 N Market St|\n",
      "|Subzero, 1707 Ced...|       4.6|[Sandwich shop, T...|0x153325ff429d6fb...|        37.9780594|        -85.681559|             Subzero|             5|https://www.googl...|   KY|  Shepherdsville|\n",
      "|Char's Hot Dogs, ...|       4.7|[Hot dog restaura...|0x153326668aff359...|        38.0461618|      -122.1616748|     Char's Hot Dogs|            38|https://www.googl...|   CA|         Benicia|\n",
      "|Wiley's Cooking W...|       5.0|[Wood supplier, F...|0x4055327aa0b2c75...|         45.348307|      -122.7965105|Wiley's Cooking W...|             3|https://www.googl...|   OR|        Sherwood|\n",
      "|Fanatico, 162 W M...|       4.7|[Italian restaurant]|0x405beac8b5ab18b...|42.834234599999995|       -88.7315553|            Fanatico|           365|https://www.googl...|   WI|      Whitewater|\n",
      "|New York Kim-Bob ...|       4.3|[Korean restauran...|0x4065fd476208a27...|40.764643199999995|-73.81192399999999|New York Kim-Bob ...|            68|https://www.googl...|   NY|          Queens|\n",
      "|El Chalateco, 209...|       4.3|[Salvadoran resta...|0x406636149c2b246...|        41.1630556|       -95.9244444|        El Chalateco|            88|https://www.googl...|   NE|        Bellevue|\n",
      "|Paesano's Pizza, ...|       3.9|[Pizza restaurant...|0x406f7e2f0d267b6...|         40.365744|        -80.389954|     Paesano's Pizza|            25|https://www.googl...|   PA|    Burgettstown|\n",
      "|Rob's Lunch Box D...|       4.8|[Restaurant, Rest...|0x407636ffaaab494...|        38.3551241|      -122.7086001|Rob's Lunch Box D...|             4|https://www.googl...|   CA|    Rohnert Park|\n",
      "|My Canton Restaur...|       3.9|[Salvadoran resta...|0x40772f458fcf0f0...|         38.923369|        -77.041099|My Canton Restaurant|            58|https://www.googl...|   DC|      Washington|\n",
      "|The Courtyard Caf...|       4.5|[Restaurant, Take...|0x4ca4c21dafb387a...|        46.1254187|-67.83913629999999|  The Courtyard Café|            48|https://www.googl...|   ME|         Houlton|\n",
      "|At The Bridge Res...|       4.3|        [Restaurant]|0x4ca54eddaaf60c0...|         45.612972|       -68.5400405|At The Bridge Res...|            18|https://www.googl...|   ME|          Medway|\n",
      "|Morano's Authenti...|       4.9|[Pizza Takeout, P...|0x4ca8bdc01ff8061...|        44.8583395|        -66.983698|Morano's Authenti...|            46|https://www.googl...|   ME|           Lubec|\n",
      "|New Meadows Seafo...|       4.8|[Seafood market, ...|0x4cad85e6d5f862d...|        43.9280587|       -69.8585195|New Meadows Seafo...|             8|https://www.googl...|   ME|       West Bath|\n",
      "+--------------------+----------+--------------------+--------------------+------------------+------------------+--------------------+--------------+--------------------+-----+----------------+\n",
      "only showing top 20 rows\n",
      "\n"
     ]
    }
   ],
   "source": [
    "# Mostrar el DataFrame\n",
    "df.show()"
   ]
  },
  {
   "cell_type": "code",
   "execution_count": 45,
   "metadata": {},
   "outputs": [],
   "source": [
    "# Filtrar las filas con estados 'NY', 'CA' \n",
    "estados_seleccionados = ['NY', 'CA'] \n",
    "\n",
    "df = df.filter(df['state'].isin(estados_seleccionados))"
   ]
  },
  {
   "cell_type": "code",
   "execution_count": 50,
   "metadata": {},
   "outputs": [
    {
     "name": "stdout",
     "output_type": "stream",
     "text": [
      "+--------------------+----------+--------------------+--------------------+------------------+------------------+--------------------+--------------+--------------------+-----+--------------+\n",
      "|             address|avg_rating|            category|             gmap_id|          latitude|         longitude|                name|num_of_reviews|                 url|state|          city|\n",
      "+--------------------+----------+--------------------+--------------------+------------------+------------------+--------------------+--------------+--------------------+-----+--------------+\n",
      "|Char's Hot Dogs, ...|       4.7|Hot dog restauran...|0x153326668aff359...|        38.0461618|      -122.1616748|     Char's Hot Dogs|            38|https://www.googl...|   CA|       Benicia|\n",
      "|New York Kim-Bob ...|       4.3|Korean restaurant...|0x4065fd476208a27...|40.764643199999995|-73.81192399999999|New York Kim-Bob ...|            68|https://www.googl...|   NY|        Queens|\n",
      "|Rob's Lunch Box D...|       4.8|Restaurant, Resta...|0x407636ffaaab494...|        38.3551241|      -122.7086001|Rob's Lunch Box D...|             4|https://www.googl...|   CA|  Rohnert Park|\n",
      "|Dunkin', 1038 Sta...|       3.5|Coffee shop, Bage...|0x4cca29c04f91cd3...|        44.9814893|-73.45927689999999|             Dunkin'|           135|https://www.googl...|   NY|     Champlain|\n",
      "|Hemingway Farms L...|       5.0|          Restaurant|0x4cca2d61e4f9143...|        44.8967204|       -73.5527609| Hemingway Farms LLC|             5|https://www.googl...|   NY|        Altona|\n",
      "|Homestead Restaur...|       3.8|Breakfast restaurant|0x4cca3876b359eea...|44.705822999999995|        -73.511415|Homestead Restaurant|            78|https://www.googl...|   NY|   Plattsburgh|\n",
      "|Meron's Restauran...|       4.5|Bar, American res...|0x4cca38bd56e9b69...|44.704377799999996|       -73.4672111|  Meron's Restaurant|            83|https://www.googl...|   NY|   Plattsburgh|\n",
      "|Grandma's Spanish...|       4.7|          Restaurant|0x4cca40ad03852f2...|        44.6845442|       -73.4502605|Grandma's Spanish...|           165|https://www.googl...|   NY|   Plattsburgh|\n",
      "|Little Caesars Pi...|       3.3|Pizza restaurant,...|0x4cca477e599e607...|        44.7010716|       -73.4943591|Little Caesars Pizza|            54|https://www.googl...|   NY|   Plattsburgh|\n",
      "|Westport Yacht Cl...|       4.8|Fine dining resta...|0x4cca9a72fa637ce...|        44.1807763|-73.42899109999999| Westport Yacht Club|            18|https://www.googl...|   NY|      Westport|\n",
      "|Gene's, 105 S Mai...|       4.5|Hot dog restauran...|0x4ccaa3a5823f6fd...|        44.0405841|-73.46146329999999|              Gene's|           145|https://www.googl...|   NY|    Port Henry|\n",
      "|Nicola's, 2617 Ma...|       3.5|  Italian restaurant|0x4ccae28f14abb59...|        44.2845015|       -73.9840555|            Nicola's|            78|https://www.googl...|   NY|   Lake Placid|\n",
      "|Purple Saige Bist...|       4.5|          Restaurant|0x4ccae29ab44b019...|        44.2933552|       -73.9902046| Purple Saige Bistro|            88|https://www.googl...|   NY|   Lake Placid|\n",
      "|Nonna Fina, 151 R...|       3.3|          Restaurant|0x4ccb1b2689eec94...|        44.3239654|-74.12493189999999|          Nonna Fina|            56|https://www.googl...|   NY|  Saranac Lake|\n",
      "|Sansone's Restaur...|       4.0|          Restaurant|0x4ccbed76192b9ad...|44.849801199999995|       -74.2797908|Sansone's Restaurant|            18|https://www.googl...|   NY|        Malone|\n",
      "|Firehouse Pizzeri...|       5.0|          Restaurant|0x4ccc5dd77c2956d...|        44.7511997|        -74.993918|  Firehouse Pizzeria|             3|https://www.googl...|   NY|       Norwood|\n",
      "|Dunkin', 119 Mapl...|       3.9|Coffee shop, Bage...|0x4ccc61450e93f37...|        44.6676101|       -75.0020523|             Dunkin'|            28|https://www.googl...|   NY|       Potsdam|\n",
      "|Domino's Pizza, 1...|       3.7|Pizza delivery, D...|0x4ccc674c750f9ac...|        44.6849067|        -74.987314|      Domino's Pizza|            65|https://www.googl...|   NY|       Potsdam|\n",
      "|Cascade Inn, 4 W ...|       3.8|   Motel, Restaurant|0x4ccc6dd76c33e61...|        44.5953916|       -75.1760183|         Cascade Inn|           126|https://www.googl...|   NY|        Canton|\n",
      "|Town Line Market,...|       4.2|Convenience store...|0x4ccc6ff6444dfc7...|        44.7997182|        -74.782732|    Town Line Market|            13|https://www.googl...|   NY| Brasher Falls|\n",
      "+--------------------+----------+--------------------+--------------------+------------------+------------------+--------------------+--------------+--------------------+-----+--------------+\n",
      "only showing top 20 rows\n",
      "\n"
     ]
    }
   ],
   "source": [
    "# Mostrar el DataFrame\n",
    "df.show()"
   ]
  },
  {
   "cell_type": "markdown",
   "metadata": {},
   "source": [
    "## Carga de nuestro archivo"
   ]
  },
  {
   "cell_type": "code",
   "execution_count": null,
   "metadata": {},
   "outputs": [],
   "source": [
    "# Ruta al archivo Parquet local \n",
    "file_path = 'PF_Google_yelp_Map/Notebook/metadata-sitios-limpio' \n",
    "# Escribe el DataFrame a un solo archivo CSV localmente\n",
    "df.coalesce(1).write.csv(file_path, header=True, mode='overwrite')"
   ]
  }
 ],
 "metadata": {
  "kernelspec": {
   "display_name": "Python 3",
   "language": "python",
   "name": "python3"
  },
  "language_info": {
   "codemirror_mode": {
    "name": "ipython",
    "version": 3
   },
   "file_extension": ".py",
   "mimetype": "text/x-python",
   "name": "python",
   "nbconvert_exporter": "python",
   "pygments_lexer": "ipython3",
   "version": "3.12.0"
  }
 },
 "nbformat": 4,
 "nbformat_minor": 2
}
