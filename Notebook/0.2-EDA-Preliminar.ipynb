{
 "cells": [
  {
   "cell_type": "markdown",
   "metadata": {},
   "source": [
    "# __EDA__ (Exploratory Data Analysis) - PRELIMINAR"
   ]
  },
  {
   "cell_type": "markdown",
   "metadata": {},
   "source": [
    "El objetivo principal de este proyecto es realizar un análisis exploratorio de datos sobre conjuntos de datos obtenidos de Google Maps y Yelp. El análisis tiene como finalidad comprender la estructura de los datos, identificar posibles outliers, gestionar valores faltantes, y descubrir patrones, tendencias y relaciones entre variables relevantes."
   ]
  },
  {
   "cell_type": "markdown",
   "metadata": {},
   "source": [
    "### IMPORTAMOS LIBRERIAS NECESARIAS"
   ]
  },
  {
   "cell_type": "code",
   "execution_count": 7,
   "metadata": {},
   "outputs": [],
   "source": [
    "#Se importan las librerias\n",
    "import pandas as pd # Una librería de análisis de datos.\n",
    "import numpy as np # usaremos Nympy para los arreglos y matrices\n",
    "import ast # proporciona herramientas para analizar y manipular código fuente de Python\n",
    "import json # Formato común de los archivos\n",
    "import pickle # Permite convertir objetos de Python en una secuencia de bytes que pueden ser almacenados en un archivo \n",
    "import matplotlib.pyplot as plt # Una librería para la visualización de datos en Python.\n",
    "import seaborn as sns # Se utiliza para la visualización de datos.\n",
    "from pyspark.sql import SparkSession # Se utiliza para crear una instancia de SparkSession, que es la entrada principal para trabajar con Spark SQL.\n",
    "from pyspark.sql.functions import col, from_json, explode, sum,expr\n",
    "from pyspark.sql.types import StructType, StructField, StringType, IntegerType # define varios tipos de datos y esquemas que se utilizan en Spark SQL. "
   ]
  },
  {
   "cell_type": "markdown",
   "metadata": {},
   "source": [
    "# __GOOGLE MAPS__"
   ]
  },
  {
   "cell_type": "markdown",
   "metadata": {},
   "source": [
    "### Dataset: metadata-sitios"
   ]
  },
  {
   "cell_type": "markdown",
   "metadata": {},
   "source": [
    "__RUTA DE LOS ARCHIVOS Y CREACIÓN DEL DATAFRAME__"
   ]
  },
  {
   "cell_type": "code",
   "execution_count": 9,
   "metadata": {},
   "outputs": [],
   "source": [
    "# Crear una sesión de Spark\n",
    "spark = SparkSession.builder.master(\"local\").appName(\"EDA-Preliminar\").getOrCreate()\n",
    "\n",
    "# Lista para almacenar los DataFrames de metadatos\n",
    "metadata_sitios = []"
   ]
  },
  {
   "cell_type": "code",
   "execution_count": 10,
   "metadata": {},
   "outputs": [],
   "source": [
    "# Ruta local donde se encuentran los archivos JSON\n",
    "ruta_local = \"C:/Users/Usuario/Desktop/Proyecto Final/metadata-sitios\"\n",
    "\n",
    "\n",
    "# Iteración sobre los archivos JSON del 1 al 11\n",
    "for i in range(1, 12):\n",
    "    # Lectura del archivo JSON utilizando Spark\n",
    "    archivo = spark.read.json(f\"{ruta_local}/{i}.json\")\n",
    "    # Conversión de la columna \"MISC\" a tipo de datos \"string\"\n",
    "    archivo = archivo.withColumn(\"MISC\", col(\"MISC\").cast(\"string\"))\n",
    "    # Agregar el DataFrame a la lista de metadatos\n",
    "    metadata_sitios.append(archivo)\n",
    "\n",
    "# DataFrame final para almacenar los datos combinados\n",
    "df_final = metadata_sitios[0]\n",
    "\n",
    "# Unión de los DataFrames de metadatos utilizando unionByName\n",
    "for dataframe in metadata_sitios[1:]:\n",
    "    df_final = df_final.unionByName(dataframe)\n",
    "\n",
    "# Sobrescribir metadata_df con el DataFrame final combinado\n",
    "metadata_sitios = df_final"
   ]
  },
  {
   "cell_type": "code",
   "execution_count": 11,
   "metadata": {},
   "outputs": [
    {
     "name": "stdout",
     "output_type": "stream",
     "text": [
      "+--------------------+--------------------+----------+--------------------+--------------------+--------------------+--------------------+------------------+-------------------+--------------------+--------------+-----+--------------------+--------------------+--------------------+\n",
      "|                MISC|             address|avg_rating|            category|         description|             gmap_id|               hours|          latitude|          longitude|                name|num_of_reviews|price|    relative_results|               state|                 url|\n",
      "+--------------------+--------------------+----------+--------------------+--------------------+--------------------+--------------------+------------------+-------------------+--------------------+--------------+-----+--------------------+--------------------+--------------------+\n",
      "|{[Wheelchair acce...|Porter Pharmacy, ...|       4.9|          [Pharmacy]|                NULL|0x88f16e41928ff68...|[[Friday, 8AM–6PM...|           32.3883|           -83.3571|     Porter Pharmacy|            16| NULL|[0x88f16e41929435...|   Open ⋅ Closes 6PM|https://www.googl...|\n",
      "|                NULL|City Textile, 300...|       4.5|  [Textile exporter]|                NULL|0x80c2c98c0e3c16f...|                NULL|        34.0188913|       -118.2152898|        City Textile|             6| NULL|[0x80c2c624136ea8...|            Open now|https://www.googl...|\n",
      "|{[Wheelchair acce...|San Soo Dang, 761...|       4.4| [Korean restaurant]|                NULL|0x80c2c778e3b73d3...|[[Thursday, 6:30A...|        34.0580917|       -118.2921295|        San Soo Dang|            18| NULL|[0x80c2c78249aba6...|   Open ⋅ Closes 6PM|https://www.googl...|\n",
      "|{null, null, null...|Nova Fabrics, 220...|       3.3|      [Fabric store]|                NULL|0x80c2c89923b27a4...|[[Thursday, 9AM–5...|        34.0236689|       -118.2329297|        Nova Fabrics|             6| NULL|[0x80c2c881147725...|   Open ⋅ Closes 5PM|https://www.googl...|\n",
      "|{null, null, null...|Nobel Textile Co,...|       4.3|      [Fabric store]|                NULL|0x80c2c632f933b07...|[[Thursday, 9AM–5...|        34.0366942|       -118.2494208|    Nobel Textile Co|             7| NULL|[0x80c2c62c496083...|   Open ⋅ Closes 5PM|https://www.googl...|\n",
      "|{[Wheelchair acce...|Matrix Internatio...|       3.5|      [Fabric store]|                NULL|0x80c2cf163db6bc8...|[[Thursday, 8:30A...|        34.0155047|       -118.1818394|Matrix Internatio...|             6| NULL|[0x80c2cf042a5d95...|Open ⋅ Closes 5:30PM|https://www.googl...|\n",
      "|{[Wheelchair acce...|Vons Chicken, 127...|       4.5|        [Restaurant]|                NULL|0x80dd2b4c8555edb...|[[Thursday, 11AM–...|        33.9164023|-118.01085499999999|        Vons Chicken|            18| NULL|                NULL|Open ⋅ Closes 9:30PM|https://www.googl...|\n",
      "|{[Wheelchair acce...|Polished Nail Sal...|       4.0|[Nail salon, Waxi...|                NULL|0x87ec238afdd8837...|[[Thursday, 9AM–8...|41.614197999999995|        -93.8472695|Polished Nail Sal...|            86| NULL|[0x87ec2481df68e1...|   Open ⋅ Closes 8PM|https://www.googl...|\n",
      "|{null, null, null...|Sweet Rewards Glu...|       4.7|[Bakery, Health f...|                NULL|0x87ec235c54d25b3...|[[Thursday, 10AM–...|         41.616079|         -93.865487|Sweet Rewards Glu...|            21| NULL|[0x87ee9748692955...|  Permanently closed|https://www.googl...|\n",
      "|                NULL|                NULL|       5.0|[Greeting card sh...|                NULL|0x87ee85ac3cb23b4...|[[Thursday, 7AM–8...|         41.846035|        -93.7561175|           PeepNotes|             1| NULL|[0x87ee915d9604ea...|   Open ⋅ Closes 8PM|https://www.googl...|\n",
      "|{[Wheelchair acce...|Lush Family Denta...|       5.0|[Dentist, Cosmeti...|                NULL|0x87ec2394c2cd9d2...|[[Thursday, 7AM–4...|        41.5852916|        -93.8551126|  Lush Family Dental|           178| NULL|[0x87ec2482098b66...|   Open ⋅ Closes 4PM|https://www.googl...|\n",
      "|{[Wheelchair acce...|515 Auto Shades, ...|       5.0|[Auto glass shop,...|                NULL|0x87ee95d1e474531...|[[Thursday, 9AM–6...|         41.606082|        -93.4986302|     515 Auto Shades|            28| NULL|                NULL|   Open ⋅ Closes 6PM|https://www.googl...|\n",
      "|{[Wheelchair acce...|Lena’s Beauty Nai...|       4.2|      [Beauty salon]|                NULL|0x87ec2481df6626b...|[[Thursday, 9AM–7...|        41.6163101|         -93.858345|Lena’s Beauty Nai...|           128| NULL|[0x87ec20ce836cac...|   Open ⋅ Closes 7PM|https://www.googl...|\n",
      "|{[Wheelchair acce...|Black Tie Ski Ren...|       5.0|[Ski rental servi...|                NULL|0x80960c29f2e3bf2...|[[Thursday, 8AM–5...|37.638754399999996|-118.96605509999999|Black Tie Ski Ren...|            34| NULL|[0x80960dcd6ba767...|   Open ⋅ Closes 5PM|https://www.googl...|\n",
      "|{[Wheelchair acce...|NTK OUTDOOR, 2315...|       5.0|  [Corporate office]|                NULL|0x88d9beb4fe0532c...|[[Thursday, 9AM–6...|        25.7952041|        -80.3660381|         NTK OUTDOOR|            35| NULL|[0x88d9bfd49a624c...|   Open ⋅ Closes 6PM|https://www.googl...|\n",
      "|                NULL|Angel-A Massage, ...|       4.3|[Massage spa, Chi...|                NULL|0x809adef58ae560b...|[[Thursday, 9:30A...|        38.6626297|       -121.3086388|     Angel-A Massage|             6| NULL|[0x809adee9ac6f1b...|Open ⋅ Closes 9:30PM|https://www.googl...|\n",
      "|{[Wheelchair acce...|Dunn-Edwards Pain...|       4.7|[Paint store, Pai...|Chain selling int...|0x809b1ff6d3a60c4...|[[Thursday, 6:30A...|        38.7434619|       -121.2587612| Dunn-Edwards Paints|            26| NULL|[0x809b201630f908...|   Open ⋅ Closes 5PM|https://www.googl...|\n",
      "|                NULL|Elite Massage, 81...|       5.0| [Massage therapist]|                NULL|0x809ae0a7ce91433...|                NULL|        38.6649155|       -121.2601916|       Elite Massage|             1| NULL|[0x809ade27605def...|                NULL|https://www.googl...|\n",
      "|{[Wheelchair acce...|PODS Sacramento H...|       4.0|  [Corporate office]|                NULL|0x809ad95924805cf...|                NULL|         38.658994|       -121.4129579| PODS Sacramento Hub|             8| NULL|[0x809ad8fc85a035...|            Open now|https://www.googl...|\n",
      "|{[Wheelchair acce...|Happy Spa & Massa...|       2.7|[Massage therapis...|                NULL|0x809b217a6cbe4fa...|[[Thursday, 9:30A...|        38.7855482|       -121.2868859|Happy Spa & Massa...|             8| NULL|[0x809b20410d8df0...|  Open ⋅ Closes 10PM|https://www.googl...|\n",
      "+--------------------+--------------------+----------+--------------------+--------------------+--------------------+--------------------+------------------+-------------------+--------------------+--------------+-----+--------------------+--------------------+--------------------+\n",
      "only showing top 20 rows\n",
      "\n"
     ]
    }
   ],
   "source": [
    "# Mostrar el DataFrame\n",
    "metadata_sitios.show()"
   ]
  },
  {
   "cell_type": "code",
   "execution_count": 12,
   "metadata": {},
   "outputs": [
    {
     "data": {
      "text/plain": [
       "3025011"
      ]
     },
     "execution_count": 12,
     "metadata": {},
     "output_type": "execute_result"
    }
   ],
   "source": [
    "#Muestra el número de filas del DataFrame\n",
    "metadata_sitios.count()"
   ]
  },
  {
   "cell_type": "markdown",
   "metadata": {},
   "source": [
    "Comenzamos a analizar este DataFrame sobre los diferentes negocios en los Estados Unidos, entre los datos podemos encontrar diferentes categorías como farmacias, restaurantes, cafeterias, gimnasios,... etc. Para nuestro proyecto es importante enfocarnos en el **_sector gastronómico_**, sin embargo en este Análisis de datos preliminar abarcaré el estudio de la calidad de los datos en general. En primera instancia, no tenemos una columna que indique explícitamente el Estado en el que se encuentra el negocio, sin embargo a futuro podemos construir una función que nos proporcione ese dato a partir de las coordenadas.\n",
    "\n",
    "Comenzamos contando el número de registros de nuestro dataset para tener una **dimensión del conjunto de datos** que manejamos: **3025011**. Ahora es importante conocer qué cantidad de datos faltan en cada columna para saber si es proporcionalmente admisible."
   ]
  },
  {
   "cell_type": "code",
   "execution_count": 13,
   "metadata": {},
   "outputs": [],
   "source": [
    "# Cuenta el número de nulos en cada columna\n",
    "\n",
    "def conteo_nulos(dataframe):\n",
    "  conteo_nulos_por_columna = dataframe.agg(*[sum(col(c).isNull().cast(\"int\")).alias(c) for c in dataframe.columns])\n",
    "\n",
    "  # Muestra el resultado\n",
    "  conteo_nulos_por_columna.show()"
   ]
  },
  {
   "cell_type": "code",
   "execution_count": 14,
   "metadata": {},
   "outputs": [
    {
     "name": "stdout",
     "output_type": "stream",
     "text": [
      "+------+-------+----------+--------+-----------+-------+------+--------+---------+----+--------------+-------+----------------+------+---+\n",
      "|  MISC|address|avg_rating|category|description|gmap_id| hours|latitude|longitude|name|num_of_reviews|  price|relative_results| state|url|\n",
      "+------+-------+----------+--------+-----------+-------+------+--------+---------+----+--------------+-------+----------------+------+---+\n",
      "|690834|  80511|         0|   17419|    2770722|      0|787405|       0|        0|  37|             0|2749808|          295058|746455|  0|\n",
      "+------+-------+----------+--------+-----------+-------+------+--------+---------+----+--------------+-------+----------------+------+---+\n",
      "\n"
     ]
    }
   ],
   "source": [
    "conteo_nulos(metadata_sitios)"
   ]
  },
  {
   "cell_type": "markdown",
   "metadata": {},
   "source": [
    "Como se puede observar los campos **_'description' y 'price'_** tienen **demasiados datos nulos** en proporción al total de registros como para ser siquiera considerados. También otras columnas como 'state' y 'MISC' no son de relevancia para nuestro estudio, pero esto se analizará más adelante cuando tengamos que hacer el ETL y normalizar los Datasets.\n",
    "\n",
    "Ahora nos interesa conocer las categorías de negocio en específico que contienen nuestros datos."
   ]
  },
  {
   "cell_type": "code",
   "execution_count": 15,
   "metadata": {},
   "outputs": [
    {
     "name": "stdout",
     "output_type": "stream",
     "text": [
      "Row(MISC='{[Wheelchair accessible entrance], null, null, null, null, null, null, null, [Mask required, Staff required to disinfect surfaces between visits], null, null, null, [Quick visit], null, null, [In-store shopping, Same-day delivery]}', address='Porter Pharmacy, 129 N Second St, Cochran, GA 31014', avg_rating=4.9, category=['Pharmacy'], description=None, gmap_id='0x88f16e41928ff687:0x883dad4fd048e8f8', hours=[['Friday', '8AM–6PM'], ['Saturday', '8AM–12PM'], ['Sunday', 'Closed'], ['Monday', '8AM–6PM'], ['Tuesday', '8AM–6PM'], ['Wednesday', '8AM–12PM'], ['Thursday', '8AM–6PM']], latitude=32.3883, longitude=-83.3571, name='Porter Pharmacy', num_of_reviews=16, price=None, relative_results=['0x88f16e41929435cf:0x5b2532a2885e9ef6', '0x88f16c32716531c1:0x5f19bdaa5044e4fa', '0x88f16e6e3f4a21df:0xcf495da9bb4d89ea'], state='Open ⋅ Closes 6PM', url='https://www.google.com/maps/place//data=!4m2!3m1!1s0x88f16e41928ff687:0x883dad4fd048e8f8?authuser=-1&hl=en&gl=us')\n"
     ]
    }
   ],
   "source": [
    "# Visualización de las primeras filas del DataFrame\n",
    "print(metadata_sitios.head())"
   ]
  },
  {
   "cell_type": "code",
   "execution_count": 16,
   "metadata": {},
   "outputs": [
    {
     "name": "stdout",
     "output_type": "stream",
     "text": [
      "root\n",
      " |-- MISC: string (nullable = true)\n",
      " |-- address: string (nullable = true)\n",
      " |-- avg_rating: double (nullable = true)\n",
      " |-- category: array (nullable = true)\n",
      " |    |-- element: string (containsNull = true)\n",
      " |-- description: string (nullable = true)\n",
      " |-- gmap_id: string (nullable = true)\n",
      " |-- hours: array (nullable = true)\n",
      " |    |-- element: array (containsNull = true)\n",
      " |    |    |-- element: string (containsNull = true)\n",
      " |-- latitude: double (nullable = true)\n",
      " |-- longitude: double (nullable = true)\n",
      " |-- name: string (nullable = true)\n",
      " |-- num_of_reviews: long (nullable = true)\n",
      " |-- price: string (nullable = true)\n",
      " |-- relative_results: array (nullable = true)\n",
      " |    |-- element: string (containsNull = true)\n",
      " |-- state: string (nullable = true)\n",
      " |-- url: string (nullable = true)\n",
      "\n"
     ]
    }
   ],
   "source": [
    "# Información general del DataFrame\n",
    "metadata_sitios.printSchema()"
   ]
  },
  {
   "cell_type": "code",
   "execution_count": 17,
   "metadata": {},
   "outputs": [
    {
     "name": "stdout",
     "output_type": "stream",
     "text": [
      "DataFrame[summary: string, MISC: string, address: string, avg_rating: string, description: string, gmap_id: string, latitude: string, longitude: string, name: string, num_of_reviews: string, price: string, state: string, url: string]\n"
     ]
    }
   ],
   "source": [
    "# Estadísticas descriptivas para columnas numéricas\n",
    "print(metadata_sitios.describe())"
   ]
  },
  {
   "cell_type": "code",
   "execution_count": 18,
   "metadata": {},
   "outputs": [
    {
     "name": "stdout",
     "output_type": "stream",
     "text": [
      "Categorías sin duplicados: ['Art gallery', 'Dry wall contractor', 'Sports massage therapist', 'Tile store', 'Basketball club', 'Leather coats store', 'Public relations firm', 'Central American restaurant', 'Taxicab Stand', 'Deck builder', 'Professional organizer', 'Textile mill', 'Racquetball club', 'RV dealer', 'Water works equipment supplier', 'Mental health', 'Curtain supplier and maker', 'Timeshare agency', 'Dog cafe', 'Pony ride service', 'Mobile home park', 'Emergency room', 'Landscape lighting designer', 'Plastic surgeon', 'Gay bar', 'Data recovery service', 'Wedding bakery', 'Market', 'Salvage dealer', 'Services', 'Mercedes-Benz dealer', 'Mens tailor', 'Orthodox church', 'Computer accessories store', 'Educational testing service', 'Haunted house', 'Apartment rental agency', 'Cardiologist', 'Pet boarding service', 'Surgical center', 'Rehabilitation center', 'Tack shop', 'Airline ticket agency', 'Environmental organization', 'Curtain store', 'Golf driving range', 'Dessert restaurant', 'Astrologer', 'Wine wholesaler and importer', 'Tower communication service', 'Low income housing program', 'Hearing aid repair service', 'Rock shop', 'Salvage yard', 'Design agency', 'Endocrinologist', 'Frozen food store', 'Electronics manufacturer', 'Sports club', 'Language school', 'Electronics accessories wholesaler', 'Office refurbishment service', 'Sports equipment rental service', 'Military recruiting office', 'Cosmetics and perfumes supplier', 'Korean restaurant', 'Machining manufacturer', 'Hot tub store', 'Handyman', 'Vocational school', 'Cafeteria', 'Business banking service', 'Motorcycle dealer', 'Gas installation service', 'Athletic field', 'Water', 'Brunch restaurant', 'Organic restaurant', 'Luggage repair service', 'Aquarium shop', 'Media house', 'Fabrication engineer', 'Recreation', 'Beach entertainment shop', 'Fortress', 'Freestyle wrestling', 'Glass etching service', 'Fabric store', 'Waxing hair removal service', 'Financial audit', 'Church of the Nazarene', 'Photo lab', 'Fence contractor', 'Cremation service', 'Millwork shop', 'Nursery school', 'Harbor', 'Disability services & support organisation', 'Piano tuning service', 'Scaffolding rental service', 'Gourmet grocery store', 'Elementary school', 'Shredding service', 'Labor union', 'Logistics service', 'Motel', 'Law firm', 'Telecommunications contractor', 'Hospital department', 'Allergist', 'Department store', 'Parasailing ride service', 'Yarn store', 'Hospital equipment and supplies', 'Furniture repair shop', 'Food bank', 'Forklift rental service', 'Education', 'Moving supply store', 'Self-storage facility', 'Golf shop', 'Library', 'Board of education', 'Goldsmith', 'Inn', 'Aerospace company', 'Violin shop', 'Divorce service', 'Clock repair service', 'Animal protection organization', \"Children's museum\", 'Trucking company', 'Wellness center', 'Contractor', 'Outdoor sports store', 'Golf instructor', 'Guitar store', 'Business school', 'Road construction machine repair service', 'Massage therapist', 'Arboretum', 'Stationery store', 'Pizza restaurant', 'Musical instrument store', 'Golf cart dealer', 'Piano store', 'Trucking', 'Railroad company', 'Cuban restaurant', 'Payroll service', 'Bank', 'Movie rental kiosk', 'Auto body shop', 'Police department', 'Research and product development', 'Otolaryngology clinic', 'BBQ area', 'Industrial chemicals wholesaler', 'Soba noodle shop', 'Residents association', 'Electronics store', 'Car accessories store', 'Discount store', 'Door shop', 'Heating oil supplier', 'Plasterer', 'Hematologist', 'Key duplication service', 'Wedding venue', 'Marketing agency', 'Computer security service', 'Airport shuttle service', 'Funeral director', 'Aquarium', 'Bag shop', 'Livestock auction house', 'Boat tour agency', 'Yacht club', 'Apartments', 'Social security office', 'Bakery', 'Home improvement store', 'Indoor cycling', 'Log cabins', 'Flower designer', 'Basketball court', 'Retirement community', 'Drama school', 'Housing complex', 'Resort hotel', 'Glass manufacturer', 'Athletic track', 'Bottle & can redemption center', 'Greek restaurant', 'Beach clothing store', 'Bookbinder', 'Landscaper', 'Bar', 'Outdoor furniture store', 'Sand & gravel supplier', 'Condominium complex', 'Orthopedic surgeon', 'Law school', 'Estate liquidator', 'Oil store', 'Sunroom contractor', 'Food manufacturer', 'Fraternal organization', 'District Justice', 'Video duplication service', 'Vending machine supplier', 'Local medical services', 'Diabetes center', 'Paralegal services provider', 'General store', 'Fire protection consultant', 'Career guidance service', 'Train depot', 'Stove builder', 'Domestic airport', 'Golf', 'Bicycle repair shop', 'Auto body parts supplier', 'Facial spa', 'Music instructor', 'Liquidator', 'Specialized clinic', 'Bridal shop', 'Bowling alley', 'Food', 'Lymph drainage therapist', 'Doll store', 'Tropical fish store', 'Insurance broker', 'Football Field', 'Event venue', 'State government office', 'Mobile disco', 'Medical spa', 'Laser hair removal service', 'Beer distributor', 'Temp agency', 'Employment search service', 'Cemetery', 'Turf supplier', 'Public works department', 'Lapidary', 'Batting cage center', 'Geotechnical engineer', 'Sporting goods store', 'Fax service', 'Pet store', 'Bed shop', 'Ice cream shop', 'Catholic church', 'Scrap metal dealer', 'Tractor dealer', 'Vegetarian restaurant', 'Marine supply store', 'Public female bathroom', 'Beauty products wholesaler', 'Swimwear store', 'Piano instructor', 'Flavours fragrances and aroma supplier', 'Rock climbing gym', 'Dance club', 'Wedding dress rental service', 'Haute couture fashion house', 'Archive', 'Auto window tinting service', 'Video conferencing service', 'Data entry service', 'Fruits wholesaler', 'Equestrian club', 'Used musical instrument store', 'Playgroup', 'Property administrator', 'Staffing agency', 'Mehndi designer', 'Aluminum supplier', 'Kitchen', 'Resume service', 'Festival hall', 'Wheelchair repair service', 'Image consultant', 'Boxing ring', 'Land Rover dealer', 'Orthoptist', 'Chemistry lab', 'Metal services', 'Tool manufacturer', 'Perinatal center', 'Hypermarket', 'Parish', 'Income tax help association', 'Parkour spot', 'Childrens book store', 'Debt collecting', 'Law book store', 'Gasket manufacturer', 'Pinball machine supplier', 'Farmstay', 'PVC industry', 'Boot repair shop', 'Consumer advice center', 'Alcohol retail monopoly', 'Residential area', 'Dance restaurant', 'Tyre manufacturer', 'Photo booth', 'Marriage celebrant', 'Amateur theater', 'Dairy store', 'Marine surveyor', 'Water skiing instructor', 'Armed forces association', 'Russian restaurant', 'Ice skating instructor', 'Parking', 'Drafting equipment supplier', 'Lagoon', 'Oriental medicine store', 'Gardening products and services', 'Archaeological site', 'Olive oil manufacturer', 'National health foundation', 'Emergency call booth', 'Instrumentation engineer', 'Handicraft museum', 'Bookmaker', 'Rapids', 'Drone shop', 'North Eastern Indian restaurant', 'Heritage preservation', 'Indian sweets shop', 'Science academy', 'Economic consultant', 'Marine', 'Aboriginal and Torres Strait Islander organisation', 'Care services', 'Embassy', 'Salsa bar', 'Cultural association', 'Cosmetics wholesaler', 'Knife manufacturing', 'Childrens party buffet', 'Holiday park', 'Catholic cathedral', 'Tea exporter', 'Desert', 'Takoyaki restaurant', 'Sauna club', 'Hindu priest', 'Interior fitting contractor', 'Massage parlor', 'Wind turbine builder', 'Estuary', 'Feng shui shop', 'District council', 'Pediatric gastroenterologist', 'Hygiene articles wholesaler', 'Government school', 'Geography and history faculty', 'Hot bedstone spa', 'Modern izakaya restaurants', 'Crater', 'Yemenite restaurant', 'Tempura donburi restaurant', 'Fiat dealer', 'Renovation contractor', 'Stamp collectors club', 'Legal affairs bureau', 'Tenant ownership', 'Padel court', 'Telecommunication school', 'Oil recycling and disposal', 'Gas engineer', 'Model car play area', 'New England restaurant', 'Homekill service', 'Conservative club', 'Vacuum cleaner', 'Water companies', 'Nanotechnology engineer', 'Water services', 'Leather exporter', \"Tenant's union\", 'Wood industry', 'Pine furniture shop', 'Executor', 'Pediatric surgeon', 'Tennis', 'Wellness', 'Canopy', 'Love hotel', 'Paan shop', 'Markmens clubhouse', 'Cured ham store', 'Sicilian restaurant', 'Knitwear manufacturer', 'Disability services', 'Boiler repair', 'Trade centre', 'United States Armed Forces Base', 'Project management company', 'Girls hostel', 'Transportation authority office', 'High court', 'Champon noodle restaurant', 'Huissier', 'Security checkpoint', 'Municipal Department Finance', 'First aid kit', 'Faculty of arts', 'Provence restaurant', 'Parking Souterrain', 'Waterbed repair service', 'Customs boundary line', 'Transplant surgeon', 'Tire', 'Shochu brewery', 'Casual clothing store', 'Home and construction', 'Rocky', 'Cosplay cafe', 'Beauty academy', 'Coin operated locker', 'Training centre', 'Training school', 'Marriage or relationship counselor', 'Nutritionist', 'Food service', 'Shoe store', 'Coin dealer', 'Game store', 'Gluten-free restaurant', 'Corporate campus', 'Catering food and drink supplier', 'Handicapped transportation service', 'Massage school', 'Truck rental agency', 'Mailbox rental service', 'Thrift store', 'Dominican restaurant', 'Diesel engine repair service', 'Siding contractor', 'Commercial cleaning service', 'Entertainment', 'University department', 'Airplane', 'Auction house', 'Mexican goods store', 'Bouncy castle hire', 'Construction machine dealer', 'German restaurant', 'Glazier', 'Propeller shop', 'Tapas bar', 'Holiday accommodation service', 'Locksmith', 'Craft store', 'Sculpture', 'Wesleyan church', 'ATV repair shop', 'License bureau', 'Running store', 'Theater company', 'Pond supply store', 'Bonsai plant supplier', 'Childrens store', 'Hair replacement service', 'Tile manufacturer', 'Soup shop', 'Auto tag agency', 'Computer hardware manufacturer', 'Swimming', 'Office space rental agency', 'Abrasives supplier', 'Banquet hall', 'Tattoo removal service', 'Soil testing service', 'Public university', 'Movie rental', 'Forestry office', 'Modular home dealer', 'Pottery manufacturer', 'Massage spa', 'Convention center', 'Bed & breakfast', 'Auto machine shop', 'Awning supplier', 'Bearing supplier', 'Legal services', 'Creole restaurant', 'Movie studio', 'Drug testing service', 'Real estate school', 'Kosher restaurant', 'Musician', 'Stamp shop', 'Vascular surgeon', 'Wholesaler household appliances', 'Plastic fabrication company', 'Theater production', 'Bedroom furniture store', 'Truck accessories store', 'Paint stripping company', 'Community center', 'Meditation center', 'Endodontist', \"Women's health clinic\", 'Medical diagnostic imaging center', 'Government office', 'Home audio store', 'Jewelry engraver', 'Racing car parts store', 'Senior high school', 'Art', 'Cold noodle restaurant', 'Bingo hall', 'Bus stop', 'Welder', 'Volunteer organization', 'Boat cover supplier', 'ATV rental service', 'GPS supplier', 'Pond', 'Attorney referral service', 'Apostolic church', 'Wellness hotel', 'Glass cutting service', 'Motorcycle insurance agency', 'Hair salon', 'Consignment shop', 'Farm', 'Bedding store', 'Animal control service', 'Garage builder', 'Investment service', 'Mosque', 'Dry wall supply store', 'Lighting contractor', 'Carriage ride service', 'Water pump supplier', 'Helicopter charter', 'Room agency', 'Neurosurgeon', 'Copy shop', \"Sheriff's department\", 'Seed supplier', 'Battery store', 'Oil refinery', 'Protestant church', 'Church supply store', 'Gospel church', 'Reiki therapist', 'Criminal justice attorney', 'Swimming pool supply store', 'Auto tune up service', 'Donut shop', 'Housing authority', 'Public bathroom', 'Silversmith', 'Movie theater', 'Steel erector', 'Skate sharpening service', 'Indoor playground', 'Quarry', 'Sauna', 'University hospital', 'Spa', 'Tire shop', 'ATM', 'Tourist attraction', 'Ophthalmologist', 'Dental radiology', 'Herb shop', 'Pub', 'Dive shop', 'Antique furniture restoration service', 'Security', 'Pan-Asian restaurant', 'Homeopathic pharmacy', 'Mattress store', 'Conference center', 'Speech pathologist', 'Container terminal', 'Beauty supply store', 'Plastic wholesaler', 'County government office', 'Playground', 'Night club', 'City courthouse', 'Skin care clinic', 'Airline', 'Physical therapist', 'Biotechnology company', 'Soccer practice', 'Congregation', 'Petroleum products company', 'Cutlery store', 'Road construction company', 'Model design company', 'Church', 'Auto insurance agency', 'Art center', 'Recycling center', 'School supply store', 'Upholstery cleaning service', 'Executive suite rental agency', 'African restaurant', 'Industrial building', 'Carpet manufacturer', 'Aikido school', \"Renter's insurance agency\", 'Car repair and maintenance', 'Breakfast restaurant', 'Home automation company', 'Soul food restaurant', 'Dumpling restaurant', 'Police supply store', 'Metal supplier', 'Veterinary care', 'Foster care service', 'Medical school', 'Equestrian facility', 'Waterproofing company', 'Commercial agent', 'Auto bodywork mechanic', 'Used furniture store', 'Magician', 'Salad shop', 'Kickboxing school', 'New American restaurant', 'Clothing supplier', 'Earth works company', 'Reef', 'Appliance parts supplier', 'Fruit parlor', 'Package locker', 'Tuning automobile', 'Plaza', 'Propane supplier', 'Miniature golf course', \"Men's clothing store\", 'Parking lot', 'Religious school', 'Lodge', 'Carpenter', 'Health food store', 'Dental school', 'Event management company', 'Escrow service', 'Balloon ride tour agency', 'Car inspection station', 'E commerce agency', 'Swimming lake', 'Herbalist', 'Chimney services', 'Free parking lot', 'Anglican church', 'Veterans hospital', 'Beauty salon', 'Delivery service', 'Brewery', 'Weight loss service', 'Health insurance agency', 'Sandblasting service', 'Fishing pier', 'Sheet metal contractor', 'Employment center', 'Tune up supplier', 'Fingerprinting service', 'Ethiopian restaurant', 'Mobile home supply store', 'Construction machine rental service', 'Religious institution', 'Rice mill', 'Courier & shipping services', 'Convent', 'Apartment building', 'Drainage service', 'Charter school', 'Lake', 'Performing arts theater', 'Dog day care center', 'Organic farm', 'MRI center', 'Cheesesteak restaurant', 'Swimming school', 'Organic shop', \"Public defender's office\", 'Dan Dan noodle restaurant', 'Pakistani restaurant', 'Travel services', 'Subaru dealer', 'Contemporary Louisiana restaurant', 'Craniosacral therapy', 'Archery club', 'Electrical substation', 'Dried flower shop', 'Photography class', 'Convention information bureau', 'Builder', 'Genealogist', 'Ski repair service', 'Car alarm supplier', 'Irish restaurant', 'Mobile network operator', 'Scientific equipment supplier', 'Confectionery', 'Metropolitan train company', 'Blast cleaning service', \"Women's organization\", 'Drama theater', 'Dam', 'Chapel', 'Chinese language instructor', 'Land surveying office', 'Jaguar dealer', 'Rehearsal studio', 'Table tennis supply store', 'Countertop contractor', 'Housing utility company', 'Jewellery manufacturer', 'Fire fighters academy', 'Energy', 'Diabetes equipment supplier', 'Community school', 'Junk store', 'Record company', 'Industrial engineers association', 'Coast guard station', 'Charcuterie', 'Chamber of handicrafts', 'Wax supplier', 'War memorial', 'Hay supplier', 'Liquor wholesaler', 'Friends church', 'Information bureau', 'Precision engineer', 'Gas shop', 'Insurance', 'Rugby field', 'Boarding house', 'Bead wholesaler', 'Gymnasium school', 'Moroccan restaurant', 'Luggage wholesaler', 'DJ supply store', 'Veterans', 'Skydiving center', 'Immigration detention centre', 'Endoscopist', 'Baseball goods store', 'Clock watch maker', 'Cricket ground', 'Japanese curry restaurant', 'Confectionery wholesaler', 'Child psychiatrist', 'CNG fittment center', 'Port', 'Swedish restaurant', 'Port authority', 'Oyster supplier', 'Rescue squad', 'Cotton supplier', 'Haitian restaurant', 'Food seasoning manufacturer', 'National park', 'Cake decorating equipment shop', 'Pueblan restaurant', 'Pottery', 'Solar photovoltaic power plant', 'Continental restaurant', 'Video', 'Crop grower', 'TB clinic', 'Pantry', 'Motocross', 'Infiniti dealer', 'Horsestable studfarm', 'Orchid farm', 'Mountaineering class', 'Exhibition and trade centre', 'Sexologist', 'MINI dealer', 'Used store fixture supplier', 'Faculty of science', 'Ceramic manufacturer', 'Steel drum supplier', 'Smart shop', 'Cider mill', 'Foreign languages program school', 'Organic drug store', 'Therapists', 'Basketball', 'Dry fruit store', 'Sailing club', 'Leagues club', 'PVC windows supplier', 'Pedestrian zone', 'Coppersmith', 'Livestock', 'Glass', 'Typing service', 'Senior citizens welfare institute', 'Cotton exporter', 'Organic', 'Desalination plant', 'Computers', 'Bakery equipment', 'Cambodian restaurant', 'Romanian restaurant', 'Wing chun school', 'Higher secondary school', 'Well', \"Girls' high school\", 'Fitted furniture supplier', 'Cable car station', 'Bocce ball court', 'Public medical center', 'Handicraft school', 'Missing persons organization', 'Fashion', 'Stringed instrument maker', 'Iron ware dealer', 'Cane furniture store', 'Housing', 'Fish and seafood restaurant', 'Foam rubber producer', 'Singing telegram service', 'Industrial framework supplier', 'Punjabi restaurant', 'Anago restaurant', 'Furniture piece', 'Equipment exporter', 'Pediatric clinic', 'Clothes and fabric wholesaler', 'Patients support association', 'Thai massage', 'Eritrean restaurant', 'Stand bar', 'Trading firm', 'Labour club', 'Airport terminal', 'Katsudon restaurant', 'Environment office', 'Dogsled ride service', 'Worm farm supplier', 'Hang gliding center', 'Stall installation service', 'Beverage supplier', 'Rolls Royce dealer', 'Vastu consultant', 'Typewriter supplier', 'Rock', 'Used', 'Curling hall', 'Childrens cafe', 'Russian grocery store', 'Bilingual school', 'Architecture school', 'Waldorf kindergarten', 'FMCG goods wholesaler', 'Shinto shrine', 'Toy library', 'Mineral water company', 'Conveyancer', 'Family court', 'Memorial', 'Rice wholesaler', 'Historic city center', 'Lava field', 'Korean beef restaurant', 'Quantity surveyor', 'Ground self defense force', 'Central bank', 'Smoking room', 'Pachinko parlor', 'Aeronautical engineer', 'Shandong restaurant', 'Mountaineering club', 'Nail art', 'State Department for Social Development', 'Architectural element', 'Flamenco dance store', 'Game software', 'User-operated machine', 'Paraguayan restaurant', 'Designer clothing store', 'Industrial technical engineers association', 'Meal delivery', 'Takeout restaurant', 'Lawyer', 'Moving company', 'Angler fish restaurant', 'Sfiha restaurant', 'City or town hall', 'Server room', 'Fuel station', 'Defence company', 'Fugu restaurant', 'Scout home', 'Students parents association', 'Lithuanian restaurant', 'Self service health station', 'Diesel engine dealer', 'Urgent care center', 'Periodontist', 'Book store', 'Electronics company', 'Equipment supplier', 'Surf school', 'Utility trailer dealer', 'Gravel pit', 'Industrial door supplier', 'Motorcycles', 'Medical billing service', 'Ski rental service', 'Telecommunications service provider', 'DVD store', 'Radio broadcaster', 'Well drilling contractor', 'Sauna store', 'Orchard', 'Video production service', 'Monogramming service', 'Açaí shop', 'Web hosting company', 'Hall', 'Environmental health service', 'English language school', 'Auto glass shop', 'Computer consultant', 'Blood testing service', 'Auto dent removal service', 'Air taxi', 'Gay night club', 'Office', 'Real estate', 'Video game rental kiosk', 'East African restaurant', 'Government economic program', 'Oil wholesaler', 'Drug store', 'Ophthalmology clinic', 'Medical Center', 'Florist', 'Pet sitter', 'Vehicle shipping agent', 'Drilling contractor', 'Farm shop', 'Portable toilet supplier', 'Accounting', 'Adult DVD store', 'Moped dealer', 'Hot dog stand', 'Acupuncturist', 'Tanning salon', \"Farmers' market\", 'Laundry', 'Agrochemicals supplier', 'Mobile home rental agency', 'Laboratory', 'Battery manufacturer', 'Motorsports store', 'Business related', 'Telecommunications engineer', 'Hunting store', 'Cabin rental agency', 'Ranch', 'Occupational medical physician', 'Variety store', 'Formal wear store', 'Food store', 'Kung fu school', 'Ceramics', 'Health counselor', 'Transmission shop', 'Utility contractor', 'Skeet shooting range', 'Video game store', 'Firewood supplier', 'Acupuncture clinic', 'Wheelchair store', 'Diving center', 'Executive search firm', 'Used tire shop', 'Alcoholism treatment program', 'Mexican grocery store', 'Welding supply store', 'Reformed church', 'Delivery Chinese restaurant', 'Printing equipment supplier', 'Swimming basin', 'International airport', 'Heating contractor', 'Wholesale florist', 'Recreational vehicle rental agency', 'Audio visual equipment repair service', 'Self defense school', 'Assisted living facility', 'Ecological park', 'Occupational health service', 'Pottery classes', 'Graduate school', 'Educational institution', 'Indonesian restaurant', 'Tex-Mex restaurant', 'Credit reporting agency', 'HIV testing center', 'Bowling supply shop', 'Private golf course', 'Tax preparation service', 'Pawn shop', 'School', 'Obstetrician-gynecologist', 'Anesthesiologist', 'Snack bar', 'Pressure washing service', 'Burglar alarm store', 'Lawn equipment rental service', 'Pho restaurant', 'Brick manufacturer', 'Pasta shop', 'Nursing school', 'Fabric product manufacturer', 'Home insurance agency', 'Coffee shop', 'Pain control clinic', 'Watch store', 'Department of Transportation', 'Leather goods store', 'Metal working shop', 'Used motorcycle dealer', 'Ski resort', 'Glass & mirror shop', 'Government', 'Savings bank', 'Funeral home', 'Arborist and tree surgeon', 'Fertilizer supplier', 'Supermarket', 'Asphalt contractor', 'Book publisher', 'Company', 'Pumps', 'Drivers license training school', 'Cooking school', 'Youth care', 'Computer support and services', 'Dessert shop', 'Veterinary pharmacy', 'Fresh food market', 'Sheltered housing', 'Screen printing shop', 'Body shaping class', 'Homeopath', 'Arena', 'Off roading area', 'Design institute', 'Entertainment and recreation', 'Clothes market', 'Salvadoran restaurant', 'Dirt supplier', 'Environmental consultant', 'Cement supplier', 'Consultant', 'Audiologist', 'Group accommodation', 'Amusement park ride', 'Pathologist', 'Porsche dealer', \"Driver's license office\", 'Lawn mower store', 'Womens personal trainer', 'Summer camp', 'Linens store', 'Jewelry buyer', 'Energy equipment and solutions', 'Swimming facility', 'Valet parking service', 'Motor scooter repair shop', 'Gurudwara', 'City department of transportation', 'Pet friendly accommodation', 'Pet care', 'Fiberglass repair service', 'Health food restaurant', 'Electronic parts supplier', 'Waste management service', 'Produce wholesaler', 'Real estate agents', 'Gift shop', 'Bus charter', 'Gastroenterologist', 'Sushi restaurant', 'Homeless service', 'Athletic club', 'Pastry shop', 'Lawn bowls club', 'Cattle farm', 'Drinking water fountain', 'Bubble tea store', 'Commercial photographer', 'Auto spring shop', 'Fertility clinic', 'Youth clothing store', 'Surplus store', 'Beauty products vending machine', 'Art cafe', 'Wine cellar', 'Pet cemetery', 'Cliff', 'Optical products manufacturer', 'Toy store', 'Restaurant or cafe', 'Fruit and vegetable store', 'Used clothing store', 'Pest control service', 'Shelving store', 'Custom tailor', 'Wallpaper store', 'Canoe & kayak tour agency', 'Envelope supplier', 'Cooking class', 'Fitness center', 'Machine shop', 'Bottled water supplier', 'Bookkeeping service', 'Hiking area', 'Animal rescue service', 'Recording studio', 'Cultural center', 'Used game store', 'Video game rental service', 'Car security system installer', 'Laminating equipment supplier', 'Warehouse club', 'Travel agency', 'Primary school', 'Foot bath', 'Ski shop', 'Phone repair service', 'Billiards supply store', 'Public mailbox', 'Abortion clinic', 'Heritage building', 'Brewing supply store', 'Christmas market', 'Snowboard rental service', 'Vitamin & supplements store', 'Bicycle Shop', 'Water testing service', 'Park & ride', 'Elevator service', 'Observatory', 'Architectural and engineering model maker', 'Pentecostal church', 'Synagogue', 'Hose supplier', 'Animal shelter', 'Box lunch supplier', 'Beer garden', 'Scale supplier', 'Cycling park', 'Furnace store', 'Pick your own farm produce', 'Database management company', 'Dude ranch', 'Barber school', 'Office of Vital Records', 'Department of Public Safety', 'Off track betting shop', 'Piano bar', 'Fish farm', 'Salsa classes', 'Sports', 'Import export company', 'Model train store', 'Battery wholesaler', 'International trade consultant', 'Food and beverage consultant', 'Public sector bank', 'Learner driver training area', 'Subway station', 'Military residence', 'Psychoneurological specialized clinic', 'Fur manufacturer', 'Disciples of Christ Church', 'Physiotherapy equipment supplier', 'Martial arts', 'Table tennis facility', 'Eating disorder treatment center', 'Interior decoration', 'Laser cutting service', 'Ashram', 'Korean barbecue restaurant', 'Medical examiner', 'Shoe shining service', 'Family planning counselor', '3D printing service', 'Camping cabin', 'Canoeing area', 'Milk delivery service', 'Law library', 'Korean church', 'Travel', 'Chemical exporter', 'Tennis instructor', 'Aviation', 'Health resort', 'Cultural landmark', 'Music management and promotion', 'Compressed natural gas station', 'Holiday home', 'Yakiniku restaurant', 'Holiday apartment rental', 'Radio tower', 'Hospitality high school', 'Volvo dealer', 'Windmill', 'Steel framework contractor', 'Press advisory', 'Hyperbaric medicine physician', 'Knitting instructor', 'Driving test centre', 'Hyundai dealer', 'BMX club', 'Rolled metal products supplier', 'Water cooler supplier', 'Theater supply store', 'Roller coaster', 'Castle', 'Gemologist', 'Nursery', 'Shoe factory', 'Customs office', 'Legal aid office', 'Independent school', 'Chophouse restaurant', 'Farming and cattle raising', 'Wind farm', 'Child center', 'Adventure sports center', 'Bariatric surgeon', 'Electrical appliance wholesaler', 'Seafood donburi restaurant', 'Boating instructor', 'CD store', 'South American restaurant', 'Cathedral', 'Cheese manufacturer', 'Personal repair service', 'Tea market place', 'Leather goods wholesaler', 'Airport parking lot', 'Shopfitter', 'Airsoft supply store', 'Fondue restaurant', 'Vegetable wholesale market', 'Non vegetarian restaurant', 'Mountain cable car', 'Erotic massage', 'Customs consultant', 'School lunch center', 'Vehicle exporter', 'Ice', 'Birth certificate service', 'Slope', 'License plate frames supplier', 'Mid-Atlantic restaurant (US)', 'Chess instructor', 'Wool store', 'Pool billard club', 'Marine protected area', 'Mailing machine supplier', 'Chinese supermarket', 'Priest', 'Military', 'Australian restaurant', 'Self check-in kiosk', 'Government hospital', 'Pony club', 'Ice hockey club', 'Atoll', 'Neurophysiologist', 'McLaren dealer', 'Eatery', 'Tofu restaurant', 'Gondola lift station', 'Biochemical supplier', 'Adult entertainment', 'Train ticket agency', 'State archive', 'Bulgarian restaurant', 'Pennsylvania Dutch restaurant', 'Tibetan restaurant', 'Department of housing', 'Animal watering hole', 'Solid fuel company', 'Ski', 'Evening school', 'Grow shop', 'Court of Appeal', 'Fishing and hunting stores', 'Archery hall', 'Studio', 'Girl bar', 'Research and development', 'Felt boots store', 'Machinery', 'Private mailbox', 'Sea', 'Lido', 'Turkmen restaurant', 'Wilderness center', 'Houseboat rental service', 'Anhui restaurant', 'Historical market square', 'Topography company', 'Designer', 'Medical book store', 'Tuscan restaurant', 'Military board', 'General register office', 'Obanzai restaurant', 'Industry', 'Seat dealer', 'Yakisoba Restaurant', 'Food products', 'New Years tree market', 'Velodrome', 'Board of trade', 'Lamp', 'Japanized western restaurant', 'Cement', 'Raclette restaurant', 'Secondary school three', 'Clothing manufacturer', 'Conscription office', 'Recycling collection company', 'Waste container', 'Used truck dealer', 'Electrician', 'Jeweler', 'Electric vehicle charging station', 'Hearing aid store', 'Lingerie store', 'Tree farm', 'Sports card store', 'Guest house', 'Thread supplier', 'Farm bureau', 'Water park', 'Costume jewelry shop', 'Memorial park', 'Physical fitness program', 'Agricultural production', 'Business networking company', 'Radiologist', 'Fire protection service', 'Jamaican restaurant', 'Alternative fuel station', 'Auto broker', 'Municipal administration office', 'Circus', 'Animal park', 'Appliance repair service', 'Gold dealer', 'Art studio', 'Antique furniture store', 'Peruvian restaurant', 'Motor scooter dealer', 'News service', 'African goods store', 'Paper distributor', 'Puerto Rican restaurant', 'DJ service', 'Country club', 'Organic food store', 'Health', 'Pond fish supplier', 'Sod supplier', 'Tax attorney', 'Masonry supply store', 'Window treatment store', 'Rug store', 'Vacation home rental agency', 'Day spa', 'Sports medicine physician', 'Animal hospital', 'Addiction treatment center', 'Frozen dessert supplier', 'Public golf course', 'Arts organization', 'Wildlife rescue service', 'Reptile store', 'Wine storage facility', 'Virtual office rental', 'Home goods store', 'Used auto parts store', 'Gun club', 'Adult day care center', 'Orthopedic clinic', 'Sightseeing tour agency', 'Mirror shop', 'Specialized hospital', 'Public call office booth', 'Minibus taxi service', 'Insurance agency', 'Perfume store', 'RV park', 'Association or organization', 'Youth social services organization', 'RV storage facility', 'Laser tag center', 'Mill', 'Aero dance class', 'Work clothes store', 'Oil & natural gas company', 'Art school', 'Public services', 'Beach', 'Youth hostel', 'General contractor', 'Repair service', 'Disc golf course', 'Dairy farm', 'Urologist', 'Chauffeur service', 'Car wash', 'Cleaning service', 'Halfway house', 'Birth control center', 'Betting agency', 'Coffee vending machine', 'Christian book store', 'Brewpub', 'Threads and yarns wholesaler', 'Direct mail advertising', 'State office of education', 'Aerial sports center', 'Home builder', 'Parking garage', 'Baby store', 'Internet cafe', 'Shipping company', 'Granite supplier', 'Gated community', 'Group home', 'Retail space rental agency', 'Containers supplier', 'Roofing contractor', 'Digital printer', 'Horse rental service', 'Professional services', 'Learning center', 'Dental implants provider', 'Student dormitory', 'Engine rebuilding service', 'Dental implants periodontist', 'Used bicycle shop', 'Record store', 'Foot massage parlor', 'Espresso bar', 'Bus tour agency', 'Concrete factory', 'Property investment', 'Public housing', 'Fixed-base operator', 'Jazz club', 'Insurance company', 'Senior citizen center', 'Publisher', 'Fishing charter', 'Woods', 'Auto radiator repair service', 'Aluminum welder', 'Fastener supplier', 'Mediation service', 'Fireplace manufacturer', 'Spa and health club', 'Building restoration service', 'Interior designer', 'Party equipment rental service', 'Latin American restaurant', 'Garage door supplier', 'Political party office', 'Unemployment office', 'Flag store', 'Boarding school', 'Saw sharpening service', 'Cave', 'Insulation materials store', 'Electronics', 'Real estate auctioneer', 'Music publisher', 'Soccer field', 'Screen printer', 'T-shirt store', 'Department of motor vehicles', 'Protective clothing supplier', 'Gutter cleaning service', 'Indian restaurant', 'Screw supplier', 'Special education school', 'Christmas store', 'Child health care centre', 'Hand surgeon', 'Nephrologist', 'Event ticket seller', 'Cell phone store', 'Carpet cleaning service', 'Hobby store', 'Plastic surgery clinic', 'Diamond buyer', 'Musical instrument rental service', 'Lighting store', 'Middle school', 'Car leasing service', 'Homeless shelter', 'Military base', 'Hockey rink', 'Leather goods supplier', 'Botanical garden', 'Floor sanding and polishing service', 'Small appliance repair service', 'Popcorn store', 'Sanitation service', 'Blacksmith', 'Kerosene supplier', 'Outboard motor store', 'Moving and storage service', 'Real estate developer', 'Kennel', 'Christian church', 'Seafood market', 'Bail bonds service', 'Fuel pump', 'Event planner', 'Honda dealer', 'Gambling house', 'Retaining wall supplier', 'Polygraph service', 'Parking lot for motorcycles', 'Scale model club', 'Army & navy surplus shop', 'Coffee machine supplier', 'Lasik surgeon', 'Peninsula', 'Plant nursery', 'Internist', 'Comic book store', 'Clothes and fabric manufacturer', 'Internal medicine ward', 'Concrete contractor', 'Commercial printer', 'Physical examination center', 'Food and drink', 'Sportswear store', 'Noodle shop', 'Private college', 'Home help', 'Homestay', 'Yoga instructor', 'Electric motor store', 'Pharmaceutical company', 'Natural stone wholesaler', 'Transport interchange', 'Business to business service', 'Television station', 'Occupational therapist', 'Limousine service', 'Community health centre', 'Health and beauty', 'Metal workshop', 'Spring', 'Dinner theater', 'Coaching center', 'Invitation printing service', 'Sailing school', 'Vegetarian cafe and deli', 'Sunglasses store', 'Horse boarding stable', 'Cell phone accessory store', 'Historical landmark', 'Debris removal service', 'Rafting', 'Patio enclosure supplier', 'Building consultant', 'Mortuary', 'Cruise line company', 'Regional airport', 'Notable street', 'Car sharing location', 'Buffet restaurant', 'Liquor store', 'Nature preserve', 'Youth organization', 'Trading card store', 'Rental', 'City tax office', 'Swimming instructor', 'Dental laboratory', 'Research foundation', 'Geyser', 'Judo school', 'Villa', 'Juvenile court', 'Naval base', 'Beach volleyball court', 'Workshop', 'Southern restaurant (US)', 'Dental insurance agency', 'Laotian restaurant', 'Traditional American restaurant', 'Chess and card club', 'Electronics engineer', 'Saddlery', 'Dive club', 'Drilling equipment supplier', 'Religious book store', 'Dry ice supplier', 'Raw food restaurant', 'Asphalt mixing plant', 'Wildlife park', 'Rubber products supplier', 'Loss adjuster', \"Tax collector's office\", 'Lincoln dealer', 'Door warehouse', 'Office accessories wholesaler', 'Hostel', 'Vista', 'Diaper service', 'Printing', 'Culture', 'Surgical supply store', 'Police academy', 'Estate appraiser', 'Pneumatic tools supplier', 'Logging contractor', 'Stone carving', 'Software training institute', 'Railway services', 'Soccer store', 'Jewish restaurant', 'Computer wholesaler', 'Japanese language instructor', 'Display stand manufacturer', 'Ceramics wholesaler', 'Aircraft manufacturer', 'Maternity hospital', 'Sanitary inspection', 'Ski club', 'Water jet cutting service', 'Tram stop', 'Disabled sports center', 'Building lots sales agency', 'Cider bar', 'Seal shop', 'Detective', 'Oxygen cocktail spot', 'Ventilating equipment manufacturer', 'Plant and machinery hire', 'Roommate referral service', 'Fortune telling services', 'Food and beverage exporter', 'Squash court', 'Kia dealer', 'Aviation training institute', 'Canadian restaurant', 'Nightlife', 'Western restaurant', 'Drum store', 'Hong Kong style fast food restaurant', 'Samba school', 'Amusement park', 'Flour mill', 'Buses', 'Wok restaurant', 'Yeshiva', 'Handicrafts wholesaler', 'Food machinery supplier', 'Bus depot', 'Bar restaurant furniture store', 'Bike wash', 'Clothing', 'Conveyor belt sushi restaurant', 'Jain temple', 'Feng shui consultant', 'Labor court', 'Spices wholesalers', 'Apprenticeship center', 'Coalfield', 'Souvenir manufacturer', 'Textile merchant', 'Leisure centre', 'Berry restaurant', 'Lighthouse', 'Mechanical plant', 'Capoeira school', 'Tonkatsu restaurant', 'Agricultural', 'Basket supplier', 'Toy manufacturer', 'Private sector bank', 'Transit depot', 'Childminder', 'Production', 'Tax', 'Unfinished furniture store', 'Skittle club', 'Water tank cleaning service', 'Inlet', 'Isuzu dealer', 'Vocational school one', 'Tea and coffee merchant', 'Registry office', 'Gay sauna', 'Beds', 'Public male bathroom', 'Car care', 'Shanghainese restaurant', 'Hepatologist', 'Plateau', 'Internet', 'Pile driver', 'Attraction', 'Polytechnic', 'Media', 'Municipal Department Communication', 'Media and information sciences faculty', 'Doors and windows', 'Textiles', 'Carnival club', 'Department of finance', 'Meeting point', 'Doll restoration service', 'Athletics', 'Federal Agency for Technical Relief', 'Children hall', 'Goldfish store', 'Staple food package', 'Pension office', 'Museum of space history', 'Sheepskin coat store', 'Badminton complex', 'Paper hanger', 'DS Automobiles dealer', 'Hobbies', 'Faculty of pharmacy', 'Bangle Shop', 'Food production', 'Tools', 'Citizens advice bureau', 'Parapharmacy', 'Madrilian restaurant', 'Joiner', 'Baggage claim', 'Real estate related services', 'Orphanage', 'Macrobiotic restaurant', 'Criminal court', 'Bonesetting house', 'Water sport', 'Freelance professionals', 'Cell tower', 'Seitai', 'Carvery', 'Chettinad restaurant', 'Concierge desk', 'Translation company', 'Croquet club', 'Hakka restaurant', 'Steamboat restaurant', 'Mining engineer', 'Forest resort', 'Momo restaurant', 'Pipe manufacturer', 'Christian City Church', 'Land reform institute', 'School dentist', 'Plastic', 'Fire proofing contractor', 'Couscous restaurant', 'Photographer', 'Exercise equipment store', 'Foundation', 'American restaurant', 'Crane service', 'Channel', 'Department of Social Services', 'Vehicle inspection', 'Lounge', 'Rice restaurant', 'Part time daycare', 'Hat shop', 'Escape room center', 'Van rental agency', 'Tattoo shop', 'Income protection insurance', 'Plastic products supplier', 'Crushed stone supplier', 'Balloon artist', 'Fire protection system supplier', 'Catering', 'Water treatment plant', 'Business broker', 'Adventure sports', 'Metal heat treating service', 'Shipyard', 'Garden center', 'Jewelry repair service', 'Chamber of Commerce', 'Dance school', 'T-shirt company', 'Junk dealer', 'Stage lighting equipment supplier', 'Electrical repair shop', 'Patent attorney', 'Observation deck', 'Fast food restaurant', 'Research institute', 'Hairdresser', 'Religious organization', 'Promotional products supplier', 'Public library', 'Reflexologist', 'Aircraft supply store', 'Pet moving service', 'Campground', \"Women's clothing store\", 'Screen repair service', 'Polythene and plastic sheeting supplier', 'Janitorial equipment supplier', 'Hair removal service', 'Animal feed store', 'Oral and maxillofacial surgeon', 'Construction material wholesaler', 'Distributary', 'Incense supplier', 'Handbags shop', 'Distillery', 'Measuring instruments supplier', 'Juvenile detention center', 'Farm equipment repair service', 'Security service', 'Furniture manufacturer', 'Chevrolet dealer', 'Environmental program', 'Tent rental service', 'Jeans shop', 'City Hall', 'Function room facility', 'Seminary', 'Establishment', 'Tapas restaurant', 'Pumpkin patch', 'Machinery parts manufacturer', 'Chrysler dealer', 'Forestry service', 'Industrial equipment supplier', 'Barber supply store', 'Newspaper publisher', 'Painting studio', 'Container supplier', 'Landscape designer', 'Woodworking supply store', 'Courier service', 'Oil change service', 'Home health care service', 'Refrigerator repair service', 'Architect', 'Taxi service', 'Life coach', 'Custom home builder', 'Certified public accountant', 'Cancer treatment center', 'Administrative attorney', 'Christmas tree farm', 'Filipino restaurant', 'United Church of Christ', 'Glass industry', 'Playground equipment supplier', 'Sewage disposal service', 'Lighting manufacturer', 'Sailmaker', 'Aircraft maintenance company', 'Recreation center', 'Washer & dryer repair service', 'Serviced apartment', 'Office furniture store', 'Aircraft rental service', 'Bus ticket agency', 'Circular distribution service', 'Stadium', 'BMW dealer', 'Exhibit', 'Skin care products vending machine', 'Orthodox synagogue', 'Singaporean restaurant', 'Investment company', 'Rectory', 'Makerspace', 'Swimming pool contractor', 'Notary public', 'Motorcycle parts store', 'Investment bank', 'Public educational institution', 'Italian grocery store', 'Scaffolder', 'First aid station', 'GMC dealer', 'Softball club', 'Bathroom remodeler', 'City park', 'Psychic', 'Remodeler', 'Skateboard park', 'Engraver', 'Water skiing service', 'Economic development agency', 'Currency exchange service', 'Boat trailer dealer', 'Asian grocery store', 'Lawn care service', 'Lutheran church', 'Fishing store', 'Bridge', 'Upholstery shop', 'RV repair shop', 'School for the deaf', 'Audi dealer', 'Hair extensions supplier', 'SCUBA instructor', 'Boat club', 'Camping farm', 'Condominium rental agency', 'Insulation contractor', 'Evangelical church', 'Railroad contractor', 'Boat rental service', 'Bus and coach company', 'Prosthodontist', 'Weightlifting area', 'Eastern Orthodox Church', 'Beauty product supplier', 'Poultry farm', 'Screen printing supply store', 'Emergency locksmith service', 'Coworking space', 'Commercial refrigerator supplier', 'Caterer', 'Store', 'Mulch supplier', 'Motorcycle shop', 'Internet marketing service', 'Vacuum cleaner repair shop', 'Media company', 'Solar energy contractor', 'Flea market', 'Vista point', 'Holding company', 'Knit shop', 'Gun shop', 'Mobility equipment supplier', 'Commercial real estate inspector', 'Internet service provider', 'Mobile phone repair shop', 'Urology clinic', 'Play school', 'Air compressor repair service', 'Winemaking supply store', 'Fountain', 'Barber shop', 'Wholesaler', 'Air filter supplier', 'Mission', 'Podiatrist', 'Event technology service', 'Bistro', 'Hindu temple', 'Historical place museum', 'Civic center', 'Quaker church', 'Oriental goods store', 'Construction equipment supplier', 'Modeling agency', 'Public parking space', 'Greenhouse', 'Wildlife refuge', 'Gyro restaurant', 'Electric utility company', 'Shooting range', 'Home theater store', 'Recruiter', 'Fencing school', 'Pet trainer', 'Animation studio', 'Labor relations attorney', 'Planetarium', 'Furnace parts supplier', 'Poster store', 'Telephone answering service', 'Meat processor', 'Shipping service', 'Jewelry designer', 'Flower market', 'Dance company', 'Amusement center', 'Musical instrument repair shop', 'Reservoir', 'Car rental agency', 'Farm equipment supplier', 'Western apparel store', 'Chinaware store', 'Messianic synagogue', 'Maserati dealer', 'Paint manufacturer', 'Construction', 'Retreat center', 'Volleyball court', 'Soft drinks shop', 'Tattoo and piercing shop', 'Agricultural service', 'Natural feature', 'Martial arts club', 'Tax assessor', 'Display home centre', 'Fair', 'Luggage storage facility', 'Department of education', 'Buddhist supplies store', 'Industrial supermarket', 'Office supply wholesaler', 'Agricultural product wholesaler', 'House sitter', 'Mexican torta restaurant', 'Washer & dryer store', 'Small claims assistance service', 'Heritage museum', 'Piano maker', 'Cantonese restaurant', 'Hockey supply store', 'Country park', 'Beach volleyball club', 'Truss manufacturer', 'Disco club', 'Sugar shack', 'Gasfitter', 'Hip hop dance class', 'Live music bar', 'Adult foster care service', 'City Department of Public Safety', 'Handicraft', 'Glass block supplier', 'Argentinian restaurant', 'Reproductive health clinic', 'Wood frame supplier', 'Calligraphy lesson', 'Mitsubishi dealer', 'Leasing service', \"Women's shelter\", 'Wholesale food store', 'Fireworks supplier', 'Malaysian restaurant', 'Hub cap supplier', 'Helicopter tour agency', 'Music box store', 'Village hall', 'Food manufacturing supply', 'Karaoke equipment rental service', 'Falafel restaurant', 'Alternative medicine', \"Men's health physician\", 'Power plant equipment supplier', 'Infectious disease physician', 'Rail museum', 'Dance pavillion', 'Chemical engineer', 'Moravian church', 'Air force base', 'Polo club', 'Municipal health department', 'Lawyers association', 'BPO company', 'Tunnel', 'Prosthetics', 'Travellers lodge', 'Livery company', 'Car manufacturer', 'Elevator manufacturer', 'Shrine', 'Haberdashery', 'Garden machinery supplier', 'River port', 'Hotel supply store', 'Pets', 'Cannery', 'Payphone', 'Real estate surveyor', 'Bicycle wholesale', 'Tea manufacturer', 'Musician and composer', 'Tea wholesaler', 'Trust bank', 'Advertising', \"Workers' club\", 'Mobile money agent', 'Model portfolio studio', 'Horse transport supplier', 'New Age church', 'Modeling school', 'Battle site', 'Environmental protection organization', 'State Department of Tourism', 'Fencing salon', 'Chess club', 'Miniatures store', 'Cat breeder', 'Music college', 'Deaf service', 'Suburban train line', 'Theatrical costume supplier', 'Brazilian pastelaria', 'Terrain', 'Cosmetic surgeon', 'Nudist park', 'Justice department', 'Polymer supplier', 'Building equipment hire service', 'BMW motorcycle dealer', 'Gold mining company', 'Ruin', 'Clock tower', 'Military hospital', 'Organ donation and tissue bank', 'Armenian restaurant', 'Patisserie', 'Junior college', 'Spa town', 'Police', 'Nursing association', 'Hockey field', 'Line marking service', 'Indoor arena', 'Citizen information bureau', 'Municipal hall', 'Saab dealer', 'Self service restaurant', 'Textile engineer', 'Air traffic control tower', 'Fashion design school', 'Books', 'Burmese restaurant', 'Cured ham bar', 'Dept of City Treasure', 'Greco-Roman wrestling', 'Rugby league club', 'Ministry of Education', 'Cardiovascular and thoracic surgeon', 'Czech restaurant', 'Land mass', 'Lighting', 'Cold cut store', 'Military airport', 'Modern British restaurant', 'Butane gas supplier', 'Museum of zoology', 'Acupuncture school', 'Professional association', 'Pediatric dermatologist', 'Decoration', 'Hotel management school', 'Tank', 'Lingerie wholesaler', 'Pizza', 'Serbian restaurant', 'Federal reserve bank', 'Business card design and printing service', 'Syrian restaurant', 'Coal exporter', 'Floating market', 'Full dress rental service', 'Gambling instructor', 'Mineral supplier', 'Fujian restaurant', 'Government college', 'DVD and video services', 'Parsi temple', 'Hospitality and tourism school', 'Sports coaching', 'Places of interest', 'Football association', 'Nuclear engineer', 'Prawn fishing', 'Paper industry', 'Grassy area', 'Business association local', 'Relaxation', 'Judicial scrivener', 'Motorcycle club', 'Icelandic restaurant', 'Bodega', 'Kazakhstani restaurant', 'Valencian restaurant', 'Used store', 'Ticket gate', 'Automotive', 'Mutton barbecue restaurant', 'Soondae restaurant', 'Karma dealer', 'Atrium', 'Aqueduct', 'Technical education academy', 'Inclined railway station', 'New Zealand restaurant', 'Offal barbecue restaurant', 'Floor refinishing service', 'Generator shop', 'Pet supply store', 'Soup kitchen', 'Occupational safety and health', 'Courthouse', 'Television repair service', 'Chinese takeaway', 'Food broker', 'Glass engraver', 'Estate planning attorney', 'Pulmonologist', 'Tobacco shop', 'Vacuum cleaner store', 'Aggregate supplier', 'Bicycle club', 'Agriculture cooperative', 'Physician assistant', 'Indian takeaway', 'Double glazing installer', 'Ice skating club', 'Nissan dealer', 'Hunting area', 'Meeting room', 'Customs broker', 'Boat ramp', 'Thai restaurant', 'Insulator supplier', 'Spice store', 'Maritime museum', \"Children's furniture store\", 'Hotel', 'Beautician', 'Furniture maker', 'Computer training school', 'Crab house', 'Human resource consulting', 'Otolaryngologist', 'Brazilian restaurant', 'Aromatherapy supply store', 'Door supplier', 'Swimming pool', \"Children's clothing store\", 'Cooperative bank', 'Private university', 'RV supply store', 'Cajun restaurant', 'Building materials market', 'Sheet music store', 'South Asian restaurant', 'Gas station', 'Dog breeder', 'Non-profit organization', 'Commercial real estate agency', 'Sculpture museum', 'Softball field', 'Digital printing service', 'Construction and maintenance office', 'Commercial refrigeration', 'Solid waste engineer', 'Historical society', 'District office', 'Glass blower', 'Furniture store', 'General practitioner', 'Mortgage lender', 'Gift basket store', 'Wedding store', 'Social services organization', 'Junkyard', 'Chinese noodle restaurant', \"Homeowners' association\", 'Electrolysis hair removal service', 'Pie shop', 'Jewelry equipment supplier', 'Mandarin restaurant', 'Agricultural association', 'Magic store', 'Sewage treatment plant', 'Boat builders', 'Website designer', 'Antique store', 'Lumber store', 'Stone supplier', 'Delivery Restaurant', 'Motorcycle repair shop', 'Powder coating service', 'Full Gospel church', 'Drum school', 'Metal detecting equipment supplier', 'Private hospital', 'Hardware store', 'Boat repair shop', 'Cooperative', 'Brake shop', 'Small engine repair service', 'Alternator supplier', 'Personal injury attorney', 'Custom t-shirt store', 'Automobile storage facility', 'Chocolate shop', 'Preparatory school', 'Tennis store', 'Ford dealer', 'Towing equipment provider', 'Trade school', 'Fried chicken takeaway', 'Real estate attorney', 'Dental hygienist', 'Indian grocery store', 'Karate school', 'Ice skating rink', 'Auto sunroof shop', 'Food delivery', 'Business administration service', 'Yacht broker', 'Registered general nurse', 'Real estate rental agency', 'Student housing center', 'Business management consultant', 'Wine bar', 'Pediatric dentist', 'Technical school', 'Trailer dealer', 'Baby swimming school', 'Insurance attorney', 'Furnace repair service', 'Mechanic', 'Wedding service', 'Pipe supplier', 'Rock climbing', 'Pallet supplier', 'Egg supplier', 'Fashion designer', 'French restaurant', 'Forklift dealer', 'Road cycling', 'Iron steel contractor', 'Lamp repair service', 'Pharmacy', 'Transportation service', 'Packaging supply store', 'Pizza delivery', 'Garbage collection service', 'Surgeon', 'Computer software store', 'Gas company', 'Wood floor refinishing service', 'Paintball center', 'Video camera repair service', 'Students support association', 'Fabric wholesaler', 'Wedding souvenir shop', 'Engineering consultant', 'Soccer club', 'Beer store', 'Clothing alteration service', 'Car stereo store', 'Accounting software company', 'Eyebrow bar', 'Nursing agency', 'Stained glass studio', 'Stair contractor', 'Repairs', 'Boiler supplier', 'Costume rental service', 'Public utility', 'Iron works', 'Alcoholic beverage wholesaler', 'Auto parts store', 'Psychotherapist', 'Fashion accessories store', 'Donations center', 'Car dealer', 'Fire alarm supplier', \"Children's amusement center\", 'Land surveyor', 'Reform synagogue', 'Video conferencing equipment supplier', 'Paper store', 'Greek Orthodox church', 'Comedy club', 'Taiwanese restaurant', 'Immunologist', 'Singles organization', 'Fishing pond', 'Wheelchair rental service', 'Retirement home', \"Children's hospital\", 'Hospice', 'Advertising agency', 'Passport office', 'Bait shop', 'Wedding chapel', 'Vegan restaurant', 'Banner store', 'Tannery', 'Modular home builder', 'Halal restaurant', 'Parking lot for bicycles', 'Emergency training school', 'Bus station', 'Bark supplier', 'Embroidery shop', 'Computer networking center', 'Air compressor supplier', \"Children's party service\", 'Guatemalan restaurant', 'Boxing club', 'Scooter rental service', 'Fireplace store', 'Leather wholesaler', 'Family day care service', 'Oil field equipment supplier', 'Social club', 'Karaoke bar', 'School center', 'Belt shop', 'Sticker manufacturer', 'Casino', 'Frozen food manufacturer', 'Registration office', 'Paper shredding machine supplier', 'Home inspector', 'Blood donation center', 'Satellite communication service', 'House cleaning service', 'Window supplier', 'Juice shop', 'Paving materials supplier', 'Adult entertainment store', 'Fence supply store', 'Cosmetic dentist', 'Cruise agency', 'Audio visual equipment supplier', 'Holistic medicine practitioner', 'Truck repair shop', 'Cabinet maker', 'Sign shop', 'Tailor', 'Food products supplier', 'Physiatrist', 'Garbage dump service', 'Coffee roasters', 'Motorcycle driving school', 'Chimney sweep', 'Body piercing shop', 'Technical service', 'Ghost town', 'Gazebo builder', 'Printing equipment and supplies', 'Cottage', \"Magistrates' court\", 'Rodeo', 'Convenience stores organization', 'Interior architect office', 'Jewelry exporter', 'Telecommunications', 'Court executive officer', 'Exhibition planner', 'Artificial plant supplier', 'Gazebo', 'Ferry terminal', 'Mailbox supplier', 'Suzuki dealer', 'Dairy farm equipment supplier', 'Aromatherapy class', 'Chemical industry', 'Public transport', 'Metal industry suppliers', 'Metal processing company', 'Portuguese restaurant', 'Pancake restaurant', 'Teppanyaki restaurant', 'Passport agent', 'Metallurgy company', 'Veterans center', 'Cosmetics industry', 'Sand plant', 'Tofu shop', 'Christian college', 'Customs warehouse', 'Wrestling school', 'Gas and automotive', 'Taekwondo competition area', 'National museum', 'Irish pub', 'Used CD store', 'Ram dealer', 'Rare book store', 'Belgian restaurant', 'Cruise terminal', 'Squash club', 'Japanese steakhouse', 'Wholesale market', 'Persian restaurant', 'Ballet theater', 'Dairy', 'School administrator', 'Handball court', 'Cottage village', 'Childbirth class', 'Hawaiian goods store', 'Chemistry faculty', 'Choir', 'Sake brewery', 'Musical instrument manufacturer', 'Head start center', 'Boiler manufacturer', 'Beverages', 'Alcohol manufacturer', 'Diving contractor', 'Surf lifesaving club', 'Company registry', 'Opera company', 'Stationery wholesaler', 'Eastern European restaurant', 'Ukrainian restaurant', 'Table tennis club', 'Study at home school', 'Childrens home', 'Poultry store', 'Basketball court contractor', 'Surgical oncologist', 'Office services', 'Agricultural high school', 'Stereo rental store', 'Hydroelectric power plant', 'Abundant Life church', 'Barrel supplier', 'Pig farm', 'Notaries association', 'Country house', 'Municipal Department of Tourism', 'Film and photograph library', 'Intellectual property registry', 'Customs department', 'Co-ed school', 'Badminton club', 'Civil defense', 'Venezuelan restaurant', 'Modern art museum', 'Public webcam', 'Flamenco school', 'Embossing service', 'Sailing event area', 'Soy sauce maker', 'Izakaya restaurant', 'Literacy program', 'Bentley dealer', 'Drawing lessons', 'Regional council', 'Churreria', 'Kebab shop', 'Coffee', 'Israeli restaurant', 'Traffic police station', 'Folk high school', 'Pool academy', 'Chinese food', 'Supreme court', 'Olive oil bottling company', 'Afghani restaurant', 'Institute of technology', 'Research engineer', 'Flamenco', 'Windsurfing store', 'Clothing wholesale market place', 'Training', 'Electronics hire shop', 'Sheepskin and wool products supplier', 'Polynesian restaurant', 'Dental', 'Basque restaurant', 'Bazar', 'National reserve', 'Cricket shop', 'Surgical products wholesaler', 'Online share trading center', 'Call shop', 'Paper exporter', 'Steamed bun shop', 'Party', 'Dyeworks', 'Tempura restaurant', 'Seminar room', 'Typewriter repair service', 'Weaving mill', 'Fishing and hunting', 'Train ticket office', 'Video karaoke', 'Dune', 'City pillar shrine', 'Coat wholesaler', 'Tatami store', 'Kitchens', 'Roman restaurant', 'Dept of State Treasure', 'Alumni association', 'Pediatric rheumatologist', 'Biotechnology engineer', 'Election commission', 'Indian sizzler restaurant', 'Foreman builders association', 'Bullring', 'Hawker stall', 'Security systems', 'Pediatric pulmonologist', 'Mineral water wholesale', 'Food and beverage distributors', 'Trailer', 'Gym With Swimming Pool', 'Service counter', 'Filtration plant', 'Studio apartment', 'Fast food pizza', 'E-commerce', 'Favela', 'Unagi restaurant', 'Wax museum', 'Apparel company', 'Political organization', 'Book printer', 'Building materials supplier', 'Mailing service', 'Car battery store', 'Social worker', 'Hair transplantation clinic', 'Smog inspection station', 'Preschool', 'Dance hall', 'Boot store', 'Ham shop', 'Waterfall', 'Skateboard shop', 'Machine repair service', 'Real estate appraiser', 'Printer ink refill store', 'Culinary school', 'Gay & lesbian organization', 'Pizza Takeout', 'Plus size clothing store', 'Discount supermarket', 'Mammography service', 'Car factory', 'Soup restaurant', 'Hot dog restaurant', 'Hunting and fishing store', 'Duty free store', 'Transcription service', 'Chemical plant', 'Tool repair shop', 'Neon sign shop', 'Weather forecast service', 'Video game rental store', 'Fiberglass supplier', 'Medical lawyer', 'Instruction', 'Ballet school', 'Foursquare church', 'Antenna service', 'Grocery store', 'Federal government office', 'Shoe repair shop', 'Artist', 'Wi-Fi spot', 'Veterans affairs department', 'Eyelash salon', 'Laser equipment supplier', 'Naturopathic practitioner', 'Food producer', 'Mobile caterer', 'Civil engineer', 'Machine workshop', 'Aquaculture farm', 'Little league field', 'Chinese medicine clinic', 'Trailer rental service', 'Winery', 'Boot camp', 'Mover', 'Strait', 'Employment consultant', 'Electrical engineer', 'Diamond dealer', 'Ice supplier', 'Buddhist temple', 'Office equipment rental service', 'Telescope store', 'Marketing', 'Mausoleum builder', 'Detention center', 'Canoe & kayak store', 'Warehouse', 'Bagel shop', 'Art restoration service', 'Medical equipment supplier', 'Fur coat shop', 'Casket service', 'Cattery', 'Fruit and vegetable wholesaler', 'Midwife', 'Foam rubber supplier', 'Pilates studio', 'Taco restaurant', 'Solar energy equipment supplier', 'Chemical wholesaler', 'Monument maker', 'Memorial estate', 'Gas logs supplier', 'Non-governmental organization', 'Dodge dealer', 'Acrylic store', 'Family practice physician', 'Rustic furniture store', 'Youth center', 'Tax department', 'Educational consultant', 'Sports nutrition store', 'Private educational institution', 'Emergency care physician', 'Tool store', 'Agricultural service supply agency', 'Fish store', 'Medical transcription service', 'Chalet', 'Loan agency', 'Presbyterian church', 'Emergency care service', 'Martial arts school', 'Design', 'Non-denominational church', 'Tourism', 'Little league club', 'Eftpos equipment supplier', 'Natural stone supplier', 'Money transfer service', 'Grill store', 'Sandwich shop', 'Wedding planner', 'Outdoor movie theater', 'Maternity store', 'Wood stove shop', 'Entertainer', 'Distribution service', 'Day care center', 'Caribbean restaurant', 'Tour agency', 'Souvenir store', 'Candle store', 'Vending machine', 'Lawn mower repair service', 'Carpet installer', 'Couture store', 'Aviation consultant', 'Saturn dealer', 'Chocolate factory', 'Truck stop', 'Silk plant shop', 'Plumbing', 'Baking supply store', 'Mfr', 'Lebanese restaurant', 'Tribal headquarters', 'Optometrist', 'Emergency dental service', 'Cabinet store', 'Visa consultant', 'Art handcraft', 'Sushi takeaway', 'Educational supply store', 'Weddings', 'Fine dining restaurant', 'Heart hospital', 'Mortgage broker', 'Local history museum', 'Translator', 'Federal credit union', 'Tea house', 'Transportation infrastructure', 'Racecourse', 'Beverage distributor', 'Employment agency', 'Towing service', 'Hot pot restaurant', 'Mobile home dealer', 'Cell phone charging station', 'Tennis club', 'Copier repair service', 'Electrical installation service', 'Homes', 'Oyster bar restaurant', 'Telecommunications equipment supplier', 'Hospital', 'Printer repair service', 'Copper supplier', 'Home help service agency', 'Used office furniture store', 'Vocal instructor', 'Industrial gas supplier', 'Sweets and dessert buffet', 'Second hand store', 'Shawarma restaurant', 'Dress and tuxedo rental service', 'Air duct cleaning service', 'Closed circuit television', 'Coffee store', 'Fire protection equipment supplier', 'Shower door shop', 'Scenic spot', 'Assemblies of God church', 'Art dealer', 'Archery range', 'Metaphysical supply store', 'Poke bar', 'Police station', 'Architecture firm', 'Freight forwarding service', 'Episcopal church', 'Safety equipment supplier', 'Interior Decorator', 'Spanish restaurant', 'Semi conductor supplier', 'Locks supplier', 'Southeast Asian restaurant', 'Auto parts manufacturer', 'Water sports equipment rental service', 'Cleaning products supplier', 'Baseball', 'Knife store', 'Colombian restaurant', 'Lighting wholesaler', 'Restaurant', 'Life insurance agency', 'Public safety office', 'Transportation escort service', 'Heating equipment supplier', 'Baptist church', 'Dry cleaner', 'Dog trainer', 'Tile contractor', 'Paving contractor', 'Wholesale grocer', 'Wetland', 'History museum', 'Welding gas supplier', 'Curtain and upholstery cleaning service', 'Hair care', 'Gym', 'Concert hall', 'Music school', 'Family law attorney', 'Hamburger restaurant', 'Private investigator', 'Marble supplier', 'Sewing machine store', 'Bike sharing station', 'Industrial vacuum equipment supplier', 'Auto repair shop', 'Tai chi school', 'Office supply store', 'Asian restaurant', 'Pottery store', 'Flight school', 'Wood supplier', 'Fairground', 'Orthotics & prosthetics service', 'Topsoil supplier', 'Outlet store', 'Hypnotherapy service', 'Mapping service', 'Snowmobile dealer', 'Wig shop', 'Wood working class', 'Paint store', 'Meditation instructor', 'Computer service', 'Justice of the peace', 'Taxidermist', 'Weigh station', 'Appliance store', 'Exporter', 'Steel distributor', 'Gardener', 'Classified ads newspaper publisher', 'Fishing camp', 'Bankruptcy service', 'Do-it-yourself shop', 'Music producer', 'Radiator repair service', 'Dating service', 'Cosmetic products manufacturer', 'Land allotment', 'Urban planning department', 'House sitter agency', 'Fish & chips restaurant', 'Water works', 'Toyota dealer', 'District attorney', 'Real estate rental', 'Paper bag supplier', 'Practitioner service location', 'Military cemetery', 'Bikram yoga studio', 'Coffee wholesaler', 'Livestock dealer', 'State police', 'Irish goods store', 'Trade fair construction company', 'Microbiologist', 'Machine knife supplier', 'Karate club', 'Farm household tour', 'Train station', 'Mathematics school', 'Tobacco exporter', 'Professional and hobby associations', 'Foundry', 'Class', 'Municipal Department of Sports', 'Machine construction', 'High ropes course', 'Roller skating rink', 'College of agriculture', 'Agriculture', 'Chicken hatchery', 'Metal machinery supplier', 'Advertising service', 'Road safety town', 'Scandinavian restaurant', 'Table', 'Dietitian', 'State Department of Environment', 'Southern Italian restaurant', 'Bricklayer', 'State Department Agricultural Development', 'Photography', 'Vegetable wholesaler', 'Truck farmer', 'Graffiti removal service', 'Stereo repair service', 'Aircraft dealer', 'Superfund site', 'Insurance school', 'Tool & die shop', 'Smart dealer', 'Grassland', 'Marines facility', 'Anime club', 'School house', 'Bridge club', 'Hot spring', 'Music', 'Telephone exchange', 'Dog care', 'Acura dealer', 'Aston Martin dealer', 'Social services', 'Psychosomatic medical practitioner', 'Toiletries store', 'Acrobatic diving pool', 'Water polo pool', 'Pharmaceutical products wholesaler', 'Camera repair shop', 'Creche', 'Fair trade organization', 'Dynamometer supplier', 'Cosmetics', 'Bar PMU', 'Swimming competition', 'Oriental medicine clinic', 'Chinese medicine store', 'Social welfare center', 'VCR repair service', 'Soapland', 'Car rental', 'Pozole restaurant', 'Ferris wheel', 'Sport tour agency', 'Fishing', 'Biryani restaurant', 'Furniture', 'Anodizer', 'Stitching class', 'Sundae restaurant', 'Crisis center', 'Country food restaurant', 'Natural history museum', 'Parochial school', 'Toy museum', 'Elevator', 'Household goods wholesaler', 'Non smoking holiday home', 'Mercantile development', 'Municipal corporation', 'British restaurant', 'Chinese medicine', 'Indian Muslim restaurant', 'Canoe and kayak club', 'Bicycles', 'Room', 'Egyptian restaurant', 'Recreational vehicle', 'Lock Store', 'Metalware dealer', 'Railroad ties supplier', 'Shrimp farm', 'Childrens farm', \"Bahá'í house of worship\", 'Legally defined lodging', 'State Department Housing and Urban Development', 'Bowling club', 'Lamborghini dealer', 'Energy efficiency company', 'Swordsmanship', 'Abbey', 'Japanese sweets restaurant', 'Slaughterhouse', 'Metalware producer', 'Geriatrician', 'Car parts wholesaler', 'Ticketing area', 'Foreign trade consultant', 'Books wholesaler', 'North African restaurant', 'Medical specialist', 'Statue', 'Water purifier supplier', 'Hungarian restaurant', 'Beach cleaning service', 'Steel industry', 'Seaplane base', 'Pontiac dealer', 'Reenactment site', 'Open air museum', 'Airbrushing supply store', 'Archery event', 'Electronics exporter', 'Comic cafe', 'Information desk', 'Deaf church', 'Outdoor activities', 'Toll road rest stop', 'Pagoda', 'Kaiseki restaurant', 'Sports association', 'Weir', 'Domestic services', 'Army', 'River confluence', 'Architecture', 'Rice cake shop', 'Building society', 'Medicine exporter', 'Taxis', 'Western food', 'Uruguayan restaurant', 'IMAX theater', 'Electronics industry', 'Assistante maternelle', 'Printed music publisher', 'Video equipment and services', 'Furrier', 'Host club', 'Kushiyaki restaurant', 'Real estate photographer', 'Korean rib restaurant', 'Ocean rock exposed', 'Sukiyaki restaurant', 'Aeromodel shop', 'Municipal Social Development', 'Bicycle store', 'Delegated driver service', 'Municipal Department Housing and Urban Development', 'Labour department', 'Staircase', 'Tongue restaurant', 'Transit platform group', 'Ticket holder area', 'Chartered surveyor', 'Goan restaurant', 'Tax consultant', 'Financial institution', 'Financial consultant', 'Scrapbooking store', 'Lawn irrigation equipment supplier', 'Off-road race track', 'Coal supplier', 'Corporate office', 'Film production company', 'Natural goods store', 'Futsal court', 'Photo restoration service', 'Community college', 'Swim club', 'Shelter', 'Kite shop', 'Shipping and mailing', 'Dog walker', 'Metal finisher', 'Hunan restaurant', 'Plating service', 'Airbrushing service', 'Fountain contractor', 'Water treatment supplier', 'Public beach', 'Baseball field', 'Cookie shop', 'Metal stamping service', 'Vocational college', 'Sofa store', 'Real estate agency', 'Money order service', 'Material handling equipment supplier', 'Religious goods store', 'Grill', 'Turkish restaurant', 'Adult entertainment club', 'Dance store', 'Ridge', 'Boat accessories supplier', 'Ballroom', 'Painting', 'Meat packer', 'Produce market', 'Vaporizer store', 'Military school', 'Doctor', 'River', 'Excavating contractor', 'Window cleaning service', 'Furnished apartment building', 'Volleyball club', 'Candy store', 'Tourist information center', 'Outerwear store', 'Animals', 'Air conditioning store', 'Rest stop', 'Serviced accommodation', 'Storage', 'Soccer', 'Whale watching tour agency', 'Blinds shop', 'HVAC contractor', 'Denture care center', 'Divorce lawyer', 'Tea store', 'Outdoor swimming pool', 'Carpool', 'Leather cleaning service', 'Container service', 'Light rail station', 'Medical clinic', 'Flooring store', 'Business center', 'Real estate consultant', 'Church of Christ', 'Sewing shop', 'Drive-in movie theater', 'Solar energy company', 'Call center', 'Power plant consultant', 'Baseball club', 'Toy and game manufacturer', 'Youth club', 'Beer hall', 'Reef rock submerged', 'Chiropractor', 'Apartment complex', 'Air conditioning contractor', 'Watch repair service', 'Bar & grill', 'Water purification company', 'Shopping mall', 'Island', 'Paternity testing service', 'Reclamation centre', 'Camping store', 'Water utility company', 'Social security attorney', 'Sharpening service', 'Std clinic', 'Screen store', 'Restaurant supply store', 'Cupcake shop', 'Metal construction company', 'Guitar instructor', 'Bartending school', 'Teacher college', 'Skate shop', 'High school', 'Passport photo processor', 'Novelty store', 'STD testing service', 'Walk-in clinic', 'Zoo', 'Refugee camp', 'Pool hall', 'Photocopiers supplier', 'Marble contractor', 'Automation company', 'Industrial design company', 'Grocery delivery service', 'Fruit wholesaler', 'Trailer supply store', 'Plumbing supply store', 'State Department of Transportation', 'Medical office', 'Local government office', 'Water filter supplier', 'Heliport', 'Ocean', 'Credit counseling service', 'Corporate entertainment service', 'Engineer', 'Pet funeral service', 'Transit station', 'Band', 'Plywood supplier', 'Gastropub', 'Roofing supply store', 'Seafood restaurant', 'Church of Jesus Christ of Latter-day Saints', 'Chocolate artisan', 'Takeout Restaurant', 'Public health department', 'Entertainment agency', 'Glassware store', 'Seafood wholesaler', 'Railing contractor', 'European restaurant', 'Stage', 'Aged care', 'Flooring contractor', 'Auto wrecker', 'Snow removal service', 'Cannabis store', 'Bathroom supply store', 'Orthodontist', 'Health and beauty shop', 'Agricultural organization', 'Canal', 'Blueprint service', 'Club', 'Monastery', 'Debt collection agency', 'Human resources', 'Self-catering accommodation', 'Building materials store', 'Accountant', 'Movie rental store', 'Foreign exchange students organization', 'Trailer repair shop', 'Child care agency', 'Dollar store', 'Bankruptcy attorney', 'Trail head', 'Custom label printer', 'Neonatal physician', 'Certification agency', 'Ice cream equipment supplier', 'Mexican restaurant', 'Recycling container location', 'Teeth whitening service', 'Masonic center', 'Flower delivery', 'Aromatherapy service', 'Sports complex', 'Stable', 'Hydraulic equipment supplier', 'Wood and laminate flooring supplier', 'Southwestern restaurant (US)', 'Indoor lodging', 'Oxygen equipment supplier', 'Bird watching area', 'Industrial real estate agency', 'Environmental engineer', 'Demolition contractor', 'Sports bar', 'Amphitheater', 'Surveyor', 'Crêperie', 'Chicken shop', 'Oncologist', 'Volkswagen dealer', 'Meat products', 'Greeting card shop', 'Telephone company', 'Equipment rental agency', 'Print shop', 'Museum', 'Sleep clinic', 'Shooting event area', 'Tour operator', 'Mechanical engineer', 'Bicycle rental service', 'Wood floor installation service', 'Landscape architect', 'Horse trainer', 'Car racing track', 'Structural engineer', 'Disability equipment supplier', 'Eclectic restaurant', 'Clothing wholesaler', 'Pump supplier', 'French language school', 'Pediatric ophthalmologist', 'Diner', 'Post office', 'Fuel supplier', 'Deli', 'Housing development', 'Charity', 'Cars', 'Music store', 'Pain management physician', 'Market researcher', 'Door manufacturer', 'Furniture wholesaler', 'Ceiling supplier', 'Park', 'Cosmetics store', 'Boutique', 'Attorney', 'Snowboard shop', 'Fusion restaurant', 'Sports activity location', 'Airport', 'Golf course', 'Community garden', 'Ferry service', 'Cocktail bar', 'Landscaping supply store', 'Computer store', 'Janitorial service', 'Indoor swimming pool', 'Medical group', 'Cake shop', 'Chicken wings restaurant', 'Mine', 'National forest', 'Promenade', 'Saw mill', 'Adoption agency', 'Carport and pergola builder', 'Mining company', 'Garden building supplier', 'Aluminum window', 'Kawasaki motorcycle dealer', 'Communications central', 'Faculty of psychology', 'Pet care service', 'Fiber optic products supplier', 'Pinatas supplier', 'Iron and steel industry', 'Pier', 'Coffee stand', 'Prefabricated house companies', 'Beach pavillion', 'Crime victim service', 'Rubber stamp store', 'Hunting preserve', 'Model shop', 'Korean grocery store', 'Fishing lake', 'Insolvency service', 'Court reporter', 'Electronics vending machine', 'Music conservatory', 'Judo club', 'Aerobics instructor', 'Nuclear power plant', 'Power station', 'Barrister', 'Appliances', 'Foreign consulate', 'Optical wholesaler', 'Mobile hairdresser', 'Conservation department', 'Farm school', 'Motoring club', 'Night market', 'Aboriginal art gallery', 'Technology museum', 'Norwegian restaurant', 'Gymnasium Cz', 'Eye care', 'Golf course builder', 'International school', 'Cash and carry wholesaler', 'Bicycle rack', 'Army museum', 'City Department of Environment', 'Stainless steel plant', 'Free clinic', 'Map store', 'Civil police', 'Hockey club', 'Traditional restaurant', 'Hawaiian restaurant', 'Office supply', 'Medical equipment manufacturer', 'Stone cutter', 'Gravel plant', 'Yoga retreat center', 'Amusement ride supplier', 'Rainwater tank supplier', 'Triumph motorcycle dealer', 'Doula', 'Watch manufacturer', 'Railroad equipment supplier', 'Meat dish restaurant', 'Shabu-shabu restaurant', 'Recycling', 'Voter registration office', 'Musical club', 'Nepalese restaurant', 'Public parking lot', 'Solar hot water system supplier', 'Heating', 'Kilt shop and hire', 'Architectural salvage store', 'Waterbed store', 'English language camp', 'Plastic bags wholesaler', 'Fund management company', 'Oriental medical clinic', 'City employment department', 'Welding', 'Bangladeshi restaurant', 'Mountain range', 'Capsule hotel', 'Residential college', 'Kimono store', 'Handicraft fair', 'Ethnic restaurant', 'Home hairdresser', 'Seafood', 'Sperm bank', 'Town square', 'War museum', 'Tesla showroom', 'Travel lounge', 'Pacific Northwest restaurant (US)', 'State Department Civil Defense', 'Pan-Latin restaurant', 'Volcano', 'Incineration plant', 'Public prosecutors office', 'Management school', 'French steakhouse restaurant', 'Georgian restaurant', 'Modern European restaurant', 'Plastic resin manufacturer', 'Geological research company', 'Silk store', 'Psychopedagogy clinic', 'Fish spa', 'Border guard', 'Electronic engineer', 'Aerated drinks supplier', 'Pet food and animal feeds', 'Volleyball instructor', 'Womens protection service', 'Nudist club', 'Rowing area', 'Drinking water dispenser', 'Rugby', 'Lingerie manufacturer', 'Japanese regional restaurant', 'Petrochemical engineer', 'Port operating company', 'Padel club', 'Pacific Rim restaurant', 'Training consultant', 'Biochemistry lab', 'German language school', 'Electronics device', 'Guardia Di Finanza Police', 'Assembly hall', 'Thermal energy company', 'Glacier', 'Television', 'Dutch restaurant', 'English restaurant', 'National library', 'Lyceum', 'Hammam', 'Swiss restaurant', 'Ice cream and drink shop', 'Kyoto style Japanese restaurant', 'University lab room', 'Walkway', 'BPO placement agency', 'Turnery', 'Sanctuary', 'Gambling area', 'Costa Rican restaurant', 'Employment services', 'Home furnishings', 'Seasonal river', 'Marquee hire service', 'Spices exporter', 'Iron and steel store', 'Jiangsu restaurant', 'Floridian restaurant', 'Catalonian restaurant', 'Pizza takeaway', 'Syokudo and Teishoku restaurant', 'Summer toboggan run', 'Rice cracker shop', 'Chesapeake restaurant', 'Chemicals', 'Working womens hostel', 'Stone', 'State Department Agriculture Food Supply', 'Kerala restaurant', 'County office', 'Agent', 'Volleyball', 'Fault', 'Boxing gym', 'Steelwork manufacturer', 'Dairy supplier', 'West African restaurant', 'University library', 'Lamination service', 'Safe & vault shop', 'Foot care', 'Furniture accessories', 'Grain elevator', 'Asian fusion restaurant', 'Steel fabricator', 'Border crossing station', 'Talent agency', 'Russian Orthodox church', 'State park', 'X-ray equipment supplier', 'Tag agency', 'Wine club', 'Woodworker', 'Bus company', 'Italian restaurant', 'Japanese restaurant', 'Cottage rental', 'Stores and shopping', 'Office equipment supplier', 'Dock builder', 'Newspaper distribution', 'Photo agency', 'Garden furniture shop', 'Hot water system supplier', 'Appliances customer service', 'Make-up artist', 'Tutoring service', 'Marina', 'General practice attorney', 'Glass merchant', 'Train repairing center', 'Manufacturer', 'Food court', 'Auto air conditioning service', 'Quilt shop', 'Civil law attorney', 'Laundry service', 'Seventh-day Adventist church', 'Employment attorney', \"Jehovah's Witness Kingdom Hall\", 'Aerial photographer', 'Feed manufacturer', 'Linoleum store', 'Kiosk', 'Video equipment repair service', 'Metal polishing service', 'Bead store', 'Ramen restaurant', 'Car finance and loan company', 'Tennis court', 'Truck parts supplier', 'Kosher grocery store', 'Shared-use commercial kitchen', 'Barn', 'Unity church', 'Student career counseling office', 'Counselor', 'Photography studio', 'Sewing company', 'General hospital', 'Piano moving service', 'Recycling drop-off location', 'Football club', 'Raft trip outfitter', 'Vineyard church', 'Steak house', 'Alfa Romeo dealer', 'Used appliance store', 'Brasserie', 'Student union', 'Yamaha motorcycle dealer', 'Thai massage therapist', 'Wheel alignment service', 'Masonry contractor', 'Storage facility', 'Family service center', 'Motor vehicle dealer', 'Golf club', 'Fish processing', 'Oil and gas exploration service', 'Lottery shop', 'Driver and vehicle licensing agency', 'Mennonite church', 'Muffler shop', 'Burrito restaurant', 'Kitchen supply store', 'Education center', 'Festival', 'Prison', 'Short term apartment rental agency', 'Butcher shop deli', 'Council', 'Service establishment', 'Window tinting service', 'Butcher shop', 'Place of worship', 'Wholesale plant nursery', 'Collectibles store', 'Ravine', 'Kitchen remodeler', 'Security system supplier', 'School bus service', 'Veterans organization', 'Wholesale jeweler', 'Emergency services', 'Cold storage facility', 'Dress store', 'Garbage dump', 'Oral surgeon', 'Furniture rental service', 'Kindergarten', 'Shed builder', 'Septic system service', 'Appliance rental service', 'Building firm', 'Performing arts group', 'Camera store', 'Pen store', 'Orchestra', 'Electrical equipment supplier', 'Vinyl sign shop', 'Doner kebab restaurant', 'Water softening equipment supplier', 'Credit union', 'Physical therapy clinic', \"City clerk's office\", 'Graphic designer', 'Garden', 'Sports accessories wholesaler', 'Emergency veterinarian service', 'Motorcycle rental agency', 'Surf shop', 'Wheel store', 'Paintball store', 'Meeting planning service', 'Psychiatric hospital', 'Auto electrical service', 'Hair extension technician', 'Accounting firm', 'Metal fabricator', 'Probation office', 'Elder law attorney', 'Driving school', 'Truck dealer', 'Neurologist', 'Orthopedic shoe store', 'Emergency training', 'Ear piercing service', 'Muay Thai boxing gym', 'Building design company', 'Montessori school', 'Beauty school', 'Hydraulic repair service', 'Light bulb supplier', 'Gynecologist', 'Birth center', 'Board game club', 'Taekwondo school', 'Auto accessories wholesaler', 'Pet groomer', 'Auto restoration service', 'Modern French restaurant', 'Tree service', 'Records storage facility', 'X-ray lab', 'Archaeological museum', 'Copying supply store', 'Home cinema installation', 'Small plates restaurant', 'Neapolitan restaurant', 'Boat dealer', 'Architectural designer', 'Tool rental service', 'Water mill', 'Trial attorney', 'Sports medicine clinic', 'Monument', 'Barbecue restaurant', 'Process server', 'Baby clothing store', 'Vintage clothing store', 'Piano repair service', 'Trucking school', 'Media consultant', 'Bird shop', 'Industrial consultant', 'Psychoanalyst', 'Nut store', 'Domestic abuse treatment center', 'Electrical supply store', 'Lunch restaurant', 'Cigar shop', 'Private tutor', 'Building inspector', 'Tire repair shop', 'Suzuki motorcycle dealer', 'Pool cleaning service', 'United Methodist church', 'College', 'Window installation service', 'Cafe', 'After school program', 'E-commerce service', 'Used book store', 'Corporate gift supplier', 'Microwave oven repair service', 'Dump truck dealer', 'Medical supply store', 'Security guard service', 'Oilfield', 'Trophy shop', 'Health consultant', 'Self service car wash', 'Business park', 'Bay', 'Performing arts', 'Cheese shop', 'Palace', 'Information services', 'Roadside assistance', 'Athletic park', 'Public sauna', 'Housing society', 'Building designer', 'Industrial engineer', 'Ammunition supplier', 'Cat boarding service', 'Electric motor repair shop', 'Open university', 'Dermatologist', 'Asbestos testing service', 'Costume store', 'Pediatric orthopedic surgeon', 'Clothing store', 'Glass repair service', 'Tuxedo shop', 'Mountain pass', 'Pregnancy care center', 'Tennis court construction company', 'Kitchen furniture store', 'Udon noodle restaurant', 'Paper mill', 'Cadillac dealer', 'Leather goods manufacturer', 'Forensic consultant', 'Land planning authority', 'Tattoo artist', 'State employment department', 'Carpet wholesaler', 'Ferrari dealer', 'Public bath', 'Dart bar', 'Shipping equipment industry', 'Lamp shade supplier', 'Industrial area', 'Hispanic church', 'Toolroom', 'Photography school', 'Stationery manufacturer', 'Amish furniture store', 'Venture capital company', 'Livestock breeder', 'Food processing company', 'Electric vehicle charging station contractor', 'Pharmaceutical lab', 'Outdoor equestrian facility', 'BMX track', 'Skin care', 'Novelties wholesaler', 'Print services', 'Dental supply store', 'Orchid grower', 'Authentic Japanese restaurant', 'Painting lessons', 'Tobacco supplier', 'Manufactured home transporter', 'Height works', 'Desktop publishing service', 'Aeroclub', 'Flowers', 'Clergyman', 'Real estate fair', 'Furniture accessories supplier', 'Water ski shop', 'Cement manufacturer', 'Mongolian barbecue restaurant', 'Laboratory equipment supplier', 'Mold maker', 'Camper shell supplier', 'Cinema equipment supplier', 'Marriage license bureau', 'Down home cooking restaurant', 'Electronics wholesaler', 'Sambo school', 'Geological service', 'Barbecue area', 'Scouting', 'Fire department equipment supplier', 'Scale repair service', 'Plastic bag supplier', 'FMCG manufacturer', 'Agricultural machinery manufacturer', 'Deaf school', 'Modern Indian restaurant', 'Wicker store', 'Disposable tableware supplier', 'Cricket club', 'Blues club', 'Ducati dealer', 'Sculptor', 'Concrete metal framework supplier', 'Distance learning center', 'Glassware manufacturer', 'Polish restaurant', 'Architects association', 'Seasonal goods store', 'Numerologist', 'Tool grinding service', 'Waldorf school', 'Equipment importer', 'BMX park', 'Condiments supplier', 'Coin cashing machine', 'Patent office', 'Cat trainer', 'Harley-Davidson dealer', 'Refrigerated transport service', 'Chinese language school', 'Ski school', 'Blind school', 'Dance conservatory', 'Escalator', 'Civil engineering construction company', 'District court', 'Assembly room', 'Outlet mall', 'Train yard', 'Sukiyaki and Shabu Shabu restaurant', 'Cotton mill', 'Judicial auction', 'Japanese grocery store', 'Nicaraguan restaurant', 'Glassware wholesaler', 'Music instruction', \"Boys' high school\", 'Plast window store', 'Greengrocer', 'Helpline', 'Mail room', 'Agricultural engineer', 'Japanese delicatessen', 'English language instructor', 'Chamber of agriculture', 'Kinesiologist', 'Traditional Kostume store', 'Ethnographic museum', 'Budget Japanese inn', 'Opera house', 'Gypsum product supplier', 'Rice shop', 'Vehicle examination office', 'Office administration service', 'Seafood farm', 'Gas', 'City district office', 'South African restaurant', 'Chilean restaurant', 'Back office', 'Dancing', 'Flower wholesale', 'Signwriter and manufacturer', 'Hockey', 'Alternative medicine clinic', 'Rock music club', 'Danish restaurant', 'Rehabilitation', 'Scout hall', 'Municipal Department Social Defense', 'Public amenity house', 'Thermal baths', 'Chinese bakery', 'Aikido club', 'Non-public area', 'Evening dress rental service', 'Austrian restaurant', 'Drinking water', 'Asian', 'Faculty of law', 'Venereologist', 'Office building', 'Community service', 'Womens college', 'Grammar school', 'Pediatric endocrinologist', 'Isthmus', 'Qing fang market place', 'Water navigation', 'Mahjong house', 'Philharmonic hall', 'Oaxacan restaurant', 'Nursing room', 'Porridge restaurant', 'Tortilla shop', 'Digital media', 'Nuclear power company', 'Levee', 'Army barracks', 'Municipal Department Civil Defense', 'Security bureau', 'Mobile phone', 'Japanese inn', 'Indian food', 'Tunisian restaurant', 'Course center', 'Yakitori restaurant', 'Auto part and accessory manufacturer', 'Military archive', 'Farmers cooperative', 'Welsh restaurant', 'American football field', 'Playroom', 'Trucks', 'Smoking area', 'Oldsmobile dealer', 'Lobby', 'Training courses', 'Stadium seating area', 'Musical institutions', 'Municipal Department of Culture', 'Cranes', 'Beekeeping', 'Traditional teahouse', 'County governors office', 'Motorcycle training centre', 'Cigarette vending machine', 'Air conditioning repair service', 'Lodging', 'Fire damage restoration service', 'Blood bank', 'Lottery retailer', 'Drafting service', 'Vietnamese restaurant', 'Historical place', 'Hot tub repair service', 'Equestrian store', 'Banking and finance', 'Children Policlinic', 'Yoga studio', 'Mediterranean restaurant', 'Methodist church', 'Immigration attorney', 'Permanent make-up clinic', 'Pond contractor', 'Needlework shop', 'Coffin supplier', 'Beauty', 'Conservative synagogue', 'Computer club', 'Molding supplier', 'Logistics', 'Skylight contractor', 'Tractor repair shop', 'Dressmaker', 'Auto auction', 'Wedding photographer', 'Design engineer', 'Canoe & kayak rental service', 'Foreclosure service', 'Gastrointestinal surgeon', 'Physician referral service', 'Childrens theater', 'Civil engineering company', 'Swimming pool repair service', 'Family restaurant', 'Sewing machine repair service', 'Statuary', 'Photography service', 'Frozen yogurt shop', 'Camp', 'Sports memorabilia store', 'Radiator shop', 'Ecuadorian restaurant', 'State liquor store', 'City administration', 'Convenience store', 'Paintings store', 'Jewelry store', 'Painter', 'Auto upholsterer', 'Cable company', 'Meat wholesaler', 'Plastic injection molding service', 'Immigration & naturalization service', 'Ambulance service', 'Art supply store', 'Correctional services department', 'Rheumatologist', 'Steel construction company', 'Energy supplier', 'Chemical manufacturer', 'Agricultural cooperative', 'Horse breeder', 'Truck topper supplier', 'Check cashing service', 'Veterinarian', 'Jujitsu school', 'District government office', 'Stock broker', 'Lighting consultant', 'Pumping equipment and service', 'Archery store', 'Internet shop', 'Body arts', 'Massage', 'Eye care center', 'Marketing consultant', 'Computer repair service', 'Shipping and mailing service', 'Auto painting', 'Herbal medicine store', 'Decal supplier', 'Newsstand', 'Family planning center', 'Engineering school', 'Audio visual equipment rental service', 'City government office', 'Auditorium', 'Pretzel store', 'Health spa', 'Child psychologist', 'Dental clinic', 'Construction company', 'Importer', 'Personal trainer', 'Used car dealer', 'Cleaners', 'Dog park', 'Packaging company', 'Religious destination', 'Aquatic centre', 'Electronics repair shop', 'Ready mix concrete supplier', 'Lawn sprinkler system contractor', 'Newspaper advertising department', 'Unitarian Universalist Church', 'Mazda dealer', 'Martial arts supply store', 'Electrical wholesaler', 'Interior plant service', 'Wholesale bakery', 'Ford', 'Log home builder', 'Carpet store', 'Party planner', 'Title company', 'Mental health service', 'Tax preparation', 'Diagnostic center', 'Gymnastics center', 'Nursing home', 'Irrigation equipment supplier', 'Tool wholesaler', 'Transportation', 'Massage supply store', 'Travel clinic', 'Plumber', 'Laundromat', 'Glass shop', 'Financial planner', 'Calvary Chapel church', 'Portrait studio', 'Video editing service', 'Adult education school', 'Live music venue', 'Stucco contractor', 'Psychologist', 'Marine engineer', 'Nurse practitioner', 'Spiritist center', 'Appraiser', 'Army facility', 'Green energy supplier', 'Finance broker', 'Badminton court', 'Hydraulic engineer', 'Genesis dealer', 'Nail salon', 'Firearms academy', 'Chinese restaurant', 'Rowing club', 'Pet adoption service', 'Native american goods store', 'SCUBA tour agency', 'Honey farm', 'Holiday apartment', 'Buick dealer', 'Resident registration office', 'Housing association', 'Air conditioning system supplier', 'Used computer store', 'Interior construction contractor', 'Boat storage facility', 'Proctologist', 'Video arcade', 'Countertop store', 'Store equipment supplier', 'Diabetologist', 'Sports school', 'Karaoke', 'Public swimming pool', 'Audio visual consultant', 'Townhouse complex', 'Catholic school', 'Video store', 'Stylist', 'Art museum', 'Jeep dealer', 'Housing cooperative', 'Medical certificate service', 'Asian household goods store', 'Pediatric cardiologist', 'Water damage restoration service', 'Picture frame shop', 'ATV dealer', 'Fertility physician', 'University', 'Car detailing service', 'Diesel fuel supplier', 'Vacuum cleaning system supplier', 'Fireworks store', 'Hookah store', 'Acoustical consultant', 'County court', 'Hunting club', 'Auto market', 'Gymnastics club', 'Californian restaurant', 'Horse riding', 'Dentist', 'Photo shop', 'Horse riding school', 'Wine store', 'Mechanical contractor', 'Garment exporter', 'Fire station', 'Portable building manufacturer', 'Trailer manufacturer', 'Picnic ground', 'Mountain cabin', 'Biofeedback therapist', 'Property maintenance', 'Contact lenses supplier', 'Horseback riding service', 'Landmark', 'Middle Eastern restaurant', 'Auto parts market', 'Hydroponics equipment supplier', 'Crane rental agency', 'Fishing club', 'Environment renewable natural resources', 'Flooring', 'Extended stay hotel', 'Theme park', 'Scooter repair shop', 'School district office', 'Party store', 'Hookah bar', 'Vineyard', 'Race car dealer', 'Visitor center', 'Figurine shop', 'Futon store', 'Auditor', 'Refrigerator store', 'Dialysis center', 'Textile exporter', 'Mountain peak', 'Mental health clinic', 'Osteopath', 'Wedding buffet', 'Nuevo Latino restaurant', 'Elevated', 'Property management company', 'Alternative medicine practitioner', 'Family counselor', 'Wellness program', 'Dart supply store', 'Chicken restaurant', 'Business development service', 'Psychiatrist', 'Oriental rug store', 'Uniform store', 'Leather repair service', 'Toner cartridge supplier', 'Gift wrap store', 'Low emission zone', 'Hoagie restaurant', 'Security system installer', 'Optician', 'Pediatrician', 'Medical laboratory', 'Jewelry appraiser', 'Luggage store', 'Embroidery service', 'Concrete product supplier', 'Software company', 'Balloon store', 'Helium gas supplier', 'Bank or ATM', 'Horse riding field', 'Interior door', 'Gas cylinders supplier', 'Ballroom dance instructor', 'Fitness equipment wholesaler', 'Go-kart track', 'Accounting school', 'Alliance church', 'Driveshaft shop', 'Spring supplier', 'Honduran restaurant', 'Telemarketing service', 'Outdoor clothing and equipment shop', 'Bar stool supplier', 'Fishing area', 'Public wheelchair-accessible bathroom', 'Finishing materials supplier', 'Dim sum restaurant', 'Medical technology manufacturer', 'Sportwear manufacturer', 'Toll booth', 'Tamale shop', 'Computer desk store', 'Mining equipment', 'Horse trailer dealer', 'Warehouse store', 'Crane dealer', 'Office equipment repair service', 'Livestock producer', 'Fur service', 'Outdoor activity organiser', 'Indoor golf course', 'Highway patrol', 'Bird control service', 'Natural stone exporter', 'Lexus dealer', 'Electric utility manufacturer', 'Amusement machine supplier', 'Underwear store', 'House clearance service', 'Auto chemistry shop', 'Private equity firm', 'Magazine store', 'Food processing equipment', 'Youth group', 'Roads ports and canals engineers association', 'Olive oil cooperative', 'Machine maintenance', 'Childrens club', 'Household chemicals supplier', 'Factory equipment supplier', 'Footwear wholesaler', 'Technology park', 'Ayurvedic clinic', 'Cabaret club', 'Visa and passport office', 'Notions store', 'Wildlife and safari park', 'Faculty of sports', 'Packaging machinery', 'Airstrip', 'Australian goods store', 'Taoist temple', 'Smart Car dealer', 'Chinese tea house', 'Rugby club', 'Snowmobile rental service', 'Federal courthouse', 'Northern Italian restaurant', 'Spa garden', 'Vegetation', 'Conservatory of music', 'Building', 'Pre gymnasium school', 'Cape Verdean restaurant', 'Steelwork design company', 'Roller skating club', 'Technical university', 'Ladder supplier', 'Multimedia and electronic book publisher', 'Sugar factory', 'Fish and chips takeaway', 'Manor house', 'Laundry room', 'Coin operated laundry equipment supplier', 'Water skiing club', 'Biking trail', 'Emergency management ministry', 'Military town', 'Studying center', 'Cattle market', 'Shipbuilding and repair company', 'Mining consultant', 'Seaport', 'Science museum', 'Greyhound stadium', 'Po’ boys restaurant', 'Japanese food', 'Wine', 'Fruit and vegetable processing', 'Higher education', 'Town', 'Sichuan restaurant', 'Armenian church', 'Transit stop', 'Sweets', 'Chocolate cafe', 'Federal police', 'Education and culture', 'Uzbeki restaurant', 'Tower', 'Wholesale drugstore', 'Basilica', 'Mobile communications service', 'Haute French restaurant', 'Hair', 'Bugatti dealer', 'Regional government office', 'Hardware training institute', 'Farming', 'Civil examinations academy', 'Geologist', 'Childrens library', 'Rock climbing instructor', 'Electrical', 'State Department Science Technology', 'Military barracks', 'Yucatan restaurant', 'Cooling plant', 'Dried seafood store', 'Curling club', 'Lost property office', 'Tiki bar', 'Area', 'Ship building', 'Hygiene station', 'Outdoor bath', 'Aluminum frames supplier', 'Sri Lankan restaurant', 'Seafood store', 'Seasonal lake', 'Market operator', 'Institute', 'Fire extinguisher', 'Horseshoe smith', 'Marine self defense force', 'Traditional costume club', 'Pilgrimage place', 'Training provider', 'Public transportation system', 'Bungee jumping center', 'Monorail station', 'Conservatory supply & installation', 'Croatian restaurant', 'Bar tabac', 'Traffic officer', 'Dye store', 'Gate', 'Cured ham warehouse', 'Puppet theater', 'Watering hole', 'Traditional market', 'Skating instructor', 'Japanese confectionery shop', 'Hot spring hotel', 'Piano', 'Shop supermarket furniture store', 'Social security financial department', 'Native American restaurant', 'Conservatory construction contractor', 'Stock exchange building', \"Engineers' merchant\", 'Customs counter', 'Horse carriage station', 'Natural beauty spot', 'Pediatric neurologist', 'Pediatric urologist', 'Salons', 'Japanese cheap sweets shop', 'Archipelago', 'LPG conversion', 'Trolleybus stop', 'Chartered accountant', 'European institution', 'Security-checked area', 'Design services', 'Town office', 'South Indian restaurant', 'Airport security checkpoint', 'Match box manufacturer', 'Scottish restaurant', 'Department for Regional Development', 'Satay restaurant', 'Toys', 'American grocery store', 'Arts and crafts', 'Television tower', 'Independent or preparatory school', 'Windows', 'Ecologists association', 'Vehicle rental', 'Sundanese restaurant', 'Tavern', 'Perfume exporter', 'Wallpaper installer', 'Fishing port', 'Frituur', 'Indoor snowcenter', 'Ritual services', 'State owned farm', 'Asturian restaurant']\n",
      "El número de categorías es:  4471\n",
      "Los restaurantes abarcan el 6.55% de las categorías\n"
     ]
    }
   ],
   "source": [
    "# Explota la columna 'category' y obtiene elementos únicos\n",
    "categorias_sin_duplicados = metadata_sitios.select(explode(\"category\").alias(\"categoria\")).distinct()\n",
    "\n",
    "# Colecta los resultados en una lista\n",
    "lista_categorias_sin_duplicados = [row.categoria for row in categorias_sin_duplicados.collect()]\n",
    "\n",
    "# Muestra la lista resultante\n",
    "print(\"Categorías sin duplicados:\", lista_categorias_sin_duplicados)\n",
    "\n",
    "# Muestra cuantas categorías hay en total\n",
    "\n",
    "print(\"El número de categorías es: \", len(lista_categorias_sin_duplicados))\n",
    "\n",
    "#Ahora voy a contar cuantas de esas categorías son de restaurantes\n",
    "\n",
    "contador=0\n",
    "\n",
    "for elemento in lista_categorias_sin_duplicados:\n",
    "\n",
    "  if 'restaurant' in elemento:\n",
    "\n",
    "    contador+=1\n",
    "\n",
    "print(f\"Los restaurantes abarcan el {round(contador*100/len(lista_categorias_sin_duplicados),2)}% de las categorías\")"
   ]
  },
  {
   "cell_type": "markdown",
   "metadata": {},
   "source": [
    "Es de interés conocer cuantos de los registros tienen la cadena 'restaurant' en alguna de sus categorías, esto es lo mismo que responder a la pregunta: ¿Cuántos de estos negocios son restaurantes?."
   ]
  },
  {
   "cell_type": "code",
   "execution_count": 19,
   "metadata": {},
   "outputs": [
    {
     "name": "stdout",
     "output_type": "stream",
     "text": [
      "El número de restaurantes es: 152198\n"
     ]
    }
   ],
   "source": [
    "df_aux = metadata_sitios.withColumn(\"category\", col(\"category\").cast(\"string\"))\n",
    "\n",
    "# Filtra y cuenta las filas que contienen 'restaurant' en la columna 'category'\n",
    "contador_restaurant = df_aux.filter(col(\"category\").contains('restaurant')).count()\n",
    "\n",
    "\n",
    "# Imprime el resultado\n",
    "print(\"El número de restaurantes es:\", contador_restaurant)"
   ]
  },
  {
   "cell_type": "markdown",
   "metadata": {},
   "source": [
    "Esto quiere decir que aproximadamente el 5% de los registros del Dataset \"metadata_sitios\" corresponde a restaurantes, conocer esto es de bastante utilidad para dimensionar el tamaño de los archivos que vamos a normalizar y cargar en nuestra base de datos."
   ]
  },
  {
   "cell_type": "code",
   "execution_count": 20,
   "metadata": {},
   "outputs": [
    {
     "name": "stdout",
     "output_type": "stream",
     "text": [
      "El número de restaurantes de pizzeria es: 23814\n",
      "Representa el: 15.65% de los restaurantes\n"
     ]
    }
   ],
   "source": [
    "df_aux = metadata_sitios.withColumn(\"category\", col(\"category\").cast(\"string\"))\n",
    "\n",
    "# Filtra y cuenta las filas que contienen ' Pizzas restaurant' en la columna 'category'\n",
    "contador_fastfood = df_aux.filter(col(\"category\").contains('Pizza restaurant')).count()\n",
    "\n",
    "\n",
    "# Imprime el resultado\n",
    "print(\"El número de restaurantes de pizzeria es:\", contador_fastfood)\n",
    "print(f\"Representa el: {round(contador_fastfood*100/contador_restaurant,2)}% de los restaurantes\")"
   ]
  },
  {
   "cell_type": "code",
   "execution_count": 23,
   "metadata": {},
   "outputs": [
    {
     "name": "stderr",
     "output_type": "stream",
     "text": [
      "c:\\Users\\Usuario\\AppData\\Local\\Programs\\Python\\Python312\\Lib\\site-packages\\seaborn\\categorical.py:640: FutureWarning: SeriesGroupBy.grouper is deprecated and will be removed in a future version of pandas.\n",
      "  positions = grouped.grouper.result_index.to_numpy(dtype=float)\n",
      "c:\\Users\\Usuario\\AppData\\Local\\Programs\\Python\\Python312\\Lib\\site-packages\\seaborn\\categorical.py:640: FutureWarning: SeriesGroupBy.grouper is deprecated and will be removed in a future version of pandas.\n",
      "  positions = grouped.grouper.result_index.to_numpy(dtype=float)\n",
      "c:\\Users\\Usuario\\AppData\\Local\\Programs\\Python\\Python312\\Lib\\site-packages\\seaborn\\categorical.py:640: FutureWarning: SeriesGroupBy.grouper is deprecated and will be removed in a future version of pandas.\n",
      "  positions = grouped.grouper.result_index.to_numpy(dtype=float)\n"
     ]
    },
    {
     "data": {
      "image/png": "[encoded data removed]",
      "text/plain": [
       "<Figure size 1500x400 with 3 Axes>"
      ]
     },
     "metadata": {},
     "output_type": "display_data"
    }
   ],
   "source": [
    "# Obtener las columnas numéricas\n",
    "columnas_numericas = [column[0] for column in metadata_sitios.dtypes if column[1] in ('int', 'double')]\n",
    "\n",
    "# Crear subplots para los gráficos\n",
    "fig, axs = plt.subplots(1, len(columnas_numericas), figsize=(15, 4))\n",
    "\n",
    "# Iterar sobre las columnas numéricas y generar boxplots\n",
    "for i, columna in enumerate(columnas_numericas):\n",
    "    sns.boxplot(data=metadata_sitios.select(col(columna)).toPandas(), ax=axs[i], color=\"#3C3C3B\")\n",
    "    axs[i].set_ylabel(columna)\n",
    "\n",
    "# Ajustar espaciado entre subplots\n",
    "plt.tight_layout()\n",
    "plt.show()"
   ]
  },
  {
   "cell_type": "markdown",
   "metadata": {},
   "source": [
    "Proseguiremos a explorar los demás DataFrames, analizando los datos nulos de manera similar."
   ]
  },
  {
   "cell_type": "markdown",
   "metadata": {},
   "source": [
    "### DATASET: REVIEWS-NEW_YORK"
   ]
  },
  {
   "cell_type": "code",
   "execution_count": 24,
   "metadata": {},
   "outputs": [],
   "source": [
    "# Ruta del directorio que contiene los archivos de reseñas de Nueva York\n",
    "ruta_reviews_ny = r\"C:/Users/Usuario/Desktop/Proyecto Final/review-New_York\"\n",
    "\n",
    "# Lista para almacenar los DataFrames de reseñas de Nueva York\n",
    "reviews_NewYork = []\n",
    "\n",
    "# Inicialización de variables\n",
    "i = 1\n",
    "bandera = True\n",
    "\n",
    "# Bucle para leer los archivos JSON de reseñas de Nueva York\n",
    "while bandera:\n",
    "    try:\n",
    "        # Lectura del archivo JSON utilizando Spark y agregándolo a la lista\n",
    "        archivo = spark.read.json(f\"{ruta_reviews_ny}/{i}.json\")\n",
    "        reviews_NewYork.append(archivo)\n",
    "        i += 1\n",
    "    except:\n",
    "        # Finalización del bucle si no hay más archivos\n",
    "        bandera = False\n",
    "# DataFrame final para almacenar las reseñas de Nueva York combinadas\n",
    "df_final_reviews_ny = reviews_NewYork[0]\n",
    "# Unión de los DataFrames de reseñas de Nueva York\n",
    "for dataframe in reviews_NewYork[1:]:\n",
    "    df_final_reviews_ny = df_final_reviews_ny.unionByName(dataframe)\n",
    "# Sobrescribir reviews_NewYork con el DataFrame final combinado\n",
    "reviews_NewYork = df_final_reviews_ny"
   ]
  },
  {
   "cell_type": "code",
   "execution_count": 25,
   "metadata": {},
   "outputs": [
    {
     "name": "stdout",
     "output_type": "stream",
     "text": [
      "+--------------------+--------------------+--------------------+------+--------------------+--------------------+-------------+--------------------+\n",
      "|             gmap_id|                name|                pics|rating|                resp|                text|         time|             user_id|\n",
      "+--------------------+--------------------+--------------------+------+--------------------+--------------------+-------------+--------------------+\n",
      "|0x89c25fc9494dce4...|      Alvin Martinez|[{[https://lh5.go...|     5|                NULL|I'm late to posti...|1603494795361|11372210469230823...|\n",
      "|0x89c25fc9494dce4...|     Johnnie Jackson|                NULL|     1|{We pride ourselv...|Very dissatisfied...|1620157037403|10729344149210932...|\n",
      "|0x89c25fc9494dce4...|        Manie Blazer|                NULL|     5|                NULL|Excellent very we...|1597431662039|10037858580181940...|\n",
      "|0x89c25fc9494dce4...|      Fashion Fiinds|                NULL|     5|{Thanks for the a...|Basing my review ...|1543773862044|11499816115301982...|\n",
      "|0x89c25fc9494dce4...|      Andres Rieloff|                NULL|     1|                NULL|Bad! Disorganized...|1597279097718|11717818572842229...|\n",
      "|0x89c25fc9494dce4...|   claribel placeres|                NULL|     1|                NULL|Worse customer ev...|1456098569126|11055512483166433...|\n",
      "|0x89c25fc9494dce4...|        Manie Blazer|                NULL|     5|                NULL|Excellent very we...|1597431662039|10037858580181940...|\n",
      "|0x89c25fc9494dce4...|   claribel placeres|                NULL|     1|                NULL|Worse customer ev...|1456098569126|11055512483166433...|\n",
      "|0x89c25fc9494dce4...|       Mireya Robles|                NULL|     5|{We love our T-Mo...|(Translated by Go...|1614117783581|11027085689719977...|\n",
      "|0x89c25fc9494dce4...|Jose Abimelec “ME...|                NULL|     5|                NULL|(Translated by Go...|1603310536331|11018246194682118...|\n",
      "|0x89c25fc9494dce4...|       Thomas Schmid|                NULL|     4|                NULL|(Translated by Go...|1469775211732|11009832941668217...|\n",
      "|0x89c25fc9494dce4...|           Ramon Coj|                NULL|     4|                NULL|(Translated by Go...|1529458074142|10958366381447636...|\n",
      "|0x89c25fc9494dce4...|       Sol Brillante|                NULL|     5|                NULL|(Translated by Go...|1489859075479|10536279556931633...|\n",
      "|0x89c25fc9494dce4...|      Jose l. Orduna|                NULL|     1|                NULL|(Translated by Go...|1530211344356|11675595500793973...|\n",
      "|0x89c25fc9494dce4...|         Juanjose A.|                NULL|     1|                NULL|(Translated by Go...|1460605543817|11407485266563370...|\n",
      "|0x89c25fc9494dce4...|     Oscar Fernandez|                NULL|     1|                NULL|(Translated by Go...|1489106271091|10549910428286469...|\n",
      "|0x89c25fc9494dce4...|      Renato Vanegas|[{[https://lh5.go...|     5|{(Translated by G...|(Translated by Go...|1543452106697|10650755205352997...|\n",
      "|0x89c25fc9494dce4...|    Tatiana Martinez|                NULL|     1|{We are sad to he...|(Translated by Go...|1553625245873|10776215246482482...|\n",
      "|0x89c25fc9494dce4...|    Rafael Bacuilima|                NULL|     5|                NULL|                NULL|1592264617160|10492724686594474...|\n",
      "|0x89c25fc9494dce4...|      Hamzeh Emriesh|                NULL|     5|                NULL|                NULL|1611798876088|11610275551580018...|\n",
      "+--------------------+--------------------+--------------------+------+--------------------+--------------------+-------------+--------------------+\n",
      "only showing top 20 rows\n",
      "\n"
     ]
    }
   ],
   "source": [
    "# Mostrar el DataFrame\n",
    "reviews_NewYork.show()"
   ]
  },
  {
   "cell_type": "code",
   "execution_count": 26,
   "metadata": {},
   "outputs": [
    {
     "data": {
      "text/plain": [
       "2700000"
      ]
     },
     "execution_count": 26,
     "metadata": {},
     "output_type": "execute_result"
    }
   ],
   "source": [
    "#Muestra el número de filas del DataFrame\n",
    "reviews_NewYork.count()"
   ]
  },
  {
   "cell_type": "code",
   "execution_count": 27,
   "metadata": {},
   "outputs": [
    {
     "name": "stdout",
     "output_type": "stream",
     "text": [
      "+-------+----+-------+------+-------+-------+----+-------+\n",
      "|gmap_id|name|   pics|rating|   resp|   text|time|user_id|\n",
      "+-------+----+-------+------+-------+-------+----+-------+\n",
      "|      0|   0|2598344|     0|2436003|1163593|   0|      0|\n",
      "+-------+----+-------+------+-------+-------+----+-------+\n",
      "\n"
     ]
    }
   ],
   "source": [
    "conteo_nulos(reviews_NewYork)"
   ]
  },
  {
   "cell_type": "markdown",
   "metadata": {},
   "source": [
    "En este caso las columnas **_'pics' y 'resp'_** tienen muchos datos nulos como para ser consideradas, de manera similar ocurre con el otro Estados. También nos damos cuenta que la columna 'gmap_id' jugará un papel clave para identificar cada negocio en el Dataset de metadata_sitios"
   ]
  },
  {
   "cell_type": "code",
   "execution_count": 28,
   "metadata": {},
   "outputs": [
    {
     "data": {
      "text/plain": [
       "Row(gmap_id='0x89c25fc9494dce47:0x6d63c807b59a55', name='Alvin Martinez', pics=[Row(url=['https://lh5.googleusercontent.com/p/AF1QipMOL-t5pYhZ1mX9DKux9oKTJDFy_6R-3jLfwuEA=w150-h150-k-no-p'])], rating=5, resp=None, text=\"I'm late to posting this but this store especially this amazing representative made my entire month. Helpful kind attentive everything was handled and she did it with a smile. I need 12 more stores like this one instead of the ones on junction\", time=1603494795361, user_id='113722104692308235141')"
      ]
     },
     "execution_count": 28,
     "metadata": {},
     "output_type": "execute_result"
    }
   ],
   "source": [
    "# Visualización de las primeras filas del DataFrame\n",
    "reviews_NewYork.head()"
   ]
  },
  {
   "cell_type": "code",
   "execution_count": 29,
   "metadata": {},
   "outputs": [
    {
     "name": "stdout",
     "output_type": "stream",
     "text": [
      "root\n",
      " |-- gmap_id: string (nullable = true)\n",
      " |-- name: string (nullable = true)\n",
      " |-- pics: array (nullable = true)\n",
      " |    |-- element: struct (containsNull = true)\n",
      " |    |    |-- url: array (nullable = true)\n",
      " |    |    |    |-- element: string (containsNull = true)\n",
      " |-- rating: long (nullable = true)\n",
      " |-- resp: struct (nullable = true)\n",
      " |    |-- text: string (nullable = true)\n",
      " |    |-- time: long (nullable = true)\n",
      " |-- text: string (nullable = true)\n",
      " |-- time: long (nullable = true)\n",
      " |-- user_id: string (nullable = true)\n",
      "\n"
     ]
    }
   ],
   "source": [
    "# Estructura del esquema del DataFrame \n",
    "reviews_NewYork.printSchema()"
   ]
  },
  {
   "cell_type": "code",
   "execution_count": 30,
   "metadata": {},
   "outputs": [
    {
     "data": {
      "text/plain": [
       "DataFrame[summary: string, gmap_id: string, name: string, rating: string, text: string, time: string, user_id: string]"
      ]
     },
     "execution_count": 30,
     "metadata": {},
     "output_type": "execute_result"
    }
   ],
   "source": [
    "# Estadísticas descriptivas para columnas numéricas\n",
    "reviews_NewYork.describe()"
   ]
  },
  {
   "cell_type": "code",
   "execution_count": 31,
   "metadata": {},
   "outputs": [
    {
     "name": "stdout",
     "output_type": "stream",
     "text": [
      "Número de filas después de eliminar duplicados: 2640663\n"
     ]
    }
   ],
   "source": [
    "# Eliminar duplicados basándote en todas las columnas\n",
    "reviews_NewYork_no_duplicates = reviews_NewYork.dropDuplicates()\n",
    "\n",
    "# Contar las filas después de eliminar duplicados\n",
    "print(\"Número de filas después de eliminar duplicados:\", reviews_NewYork_no_duplicates.count())\n"
   ]
  },
  {
   "cell_type": "code",
   "execution_count": 32,
   "metadata": {},
   "outputs": [
    {
     "name": "stdout",
     "output_type": "stream",
     "text": [
      "No se encontraron cuartiles en las estadísticas.\n"
     ]
    }
   ],
   "source": [
    "# Calcular estadísticas descriptivas\n",
    "estadisticas_rating = reviews_NewYork.describe('rating')\n",
    "\n",
    "# Obtener cuartiles\n",
    "q1_row = estadisticas_rating.filter(col('summary') == '25%').first()\n",
    "q3_row = estadisticas_rating.filter(col('summary') == '75%').first()\n",
    "\n",
    "# Verificar si las filas existen antes de acceder a sus elementos\n",
    "if q1_row and q3_row:\n",
    "    q1 = q1_row['rating']\n",
    "    q3 = q3_row['rating']\n",
    "    iqr = q3 - q1\n",
    "\n",
    "    # Definir límites para outliers\n",
    "    lower_bound = q1 - 1.5 * iqr\n",
    "    upper_bound = q3 + 1.5 * iqr\n",
    "\n",
    "    # Identificar outliers\n",
    "    outliers_rating = reviews_NewYork.filter((col('rating') < lower_bound) | (col('rating') > upper_bound))\n",
    "else:\n",
    "    print(\"No se encontraron cuartiles en las estadísticas.\")"
   ]
  },
  {
   "cell_type": "markdown",
   "metadata": {},
   "source": [
    "### DATASET: REVIEWS-CALIFORNIA"
   ]
  },
  {
   "cell_type": "code",
   "execution_count": 74,
   "metadata": {},
   "outputs": [],
   "source": [
    "#Se leen los reviews de California\n",
    "\n",
    "ruta_reviews_cf = r\"C:/Users/Usuario/Desktop/Proyecto Final/reviews-California\"\n",
    "reviews_California=[]\n",
    "\n",
    "i = 1\n",
    "bandera = True\n",
    "\n",
    "while bandera:\n",
    "    try:\n",
    "        archivo = spark.read.json(f\"{ruta_reviews_cf}/{i}.json\")\n",
    "        reviews_California.append(archivo)\n",
    "        i += 1\n",
    "    except:\n",
    "        bandera = False\n",
    "\n",
    "df_final_reviews_cf = reviews_California[0]\n",
    "\n",
    "for dataframe in reviews_California[1:]:\n",
    "    df_final_reviews_cf = df_final_reviews_cf.unionByName(dataframe)\n",
    "    \n",
    "reviews_California = df_final_reviews_cf"
   ]
  },
  {
   "cell_type": "code",
   "execution_count": 75,
   "metadata": {},
   "outputs": [
    {
     "name": "stdout",
     "output_type": "stream",
     "text": [
      "+--------------------+-------------+----+------+----+--------------------+-------------+--------------------+\n",
      "|             gmap_id|         name|pics|rating|resp|                text|         time|             user_id|\n",
      "+--------------------+-------------+----+------+----+--------------------+-------------+--------------------+\n",
      "|0x80c2c778e3b73d3...|      Song Ro|NULL|     5|NULL|Love there korean...|1609909927056|10899115226265578...|\n",
      "|0x80c2c778e3b73d3...|  Rafa Robles|NULL|     5|NULL|      Good very good|1612849648663|11129032221979621...|\n",
      "|0x80c2c778e3b73d3...|    David Han|NULL|     4|NULL|They make Korean ...|1583643882296|11264035744961195...|\n",
      "|0x80c2c778e3b73d3...|  Anthony Kim|NULL|     5|NULL|Short ribs are ve...|1551938216355|11744034972382365...|\n",
      "|0x80c2c778e3b73d3...|Mario Marzouk|NULL|     5|NULL|Great food and pr...|1494910901933|10058077083612353...|\n",
      "|0x80c2c778e3b73d3...|  Ana Salazar|NULL|     5|NULL|This food is deli...|1547799582640|10018573266445490...|\n",
      "|0x80c2c778e3b73d3...|  Youngho Yoo|NULL|     4|NULL|                NULL|1616990033253|11778210747256603...|\n",
      "|0x80c2c778e3b73d3...|Seungwon Park|NULL|     1|NULL|                NULL|1624202370703|10142162436814895...|\n",
      "|0x80c2c778e3b73d3...|     Jung Lee|NULL|     5|NULL|                NULL|1601414899163|10755987558621829...|\n",
      "|0x80c2c778e3b73d3...|          Y.M|NULL|     5|NULL|                NULL|1528611798847|11742987356728863...|\n",
      "|0x80c2c778e3b73d3...| Eligió tarax|NULL|     5|NULL|                NULL|1627511994501|11645496542099566...|\n",
      "|0x80c2c778e3b73d3...|    Peter Woo|NULL|     4|NULL|                NULL|1536110990078|11114460851719916...|\n",
      "|0x80c2c778e3b73d3...|      HJ Yoon|NULL|     5|NULL|                NULL|1546760749614|10481783373749885...|\n",
      "|0x80c2c778e3b73d3...|  Se Jong Lee|NULL|     4|NULL|                NULL|1597939059364|10219253446793387...|\n",
      "|0x80c2c632f933b07...|  Shon Sabeki|NULL|     1|NULL|         Bad service|1492533081577|10791358169611608...|\n",
      "|0x80c2c632f933b07...|          y T|NULL|     5|NULL|                NULL|1573163725797|10849346612760044...|\n",
      "|0x80c2c632f933b07...|      Song Ro|NULL|     5|NULL|                NULL|1611028298617|10899115226265578...|\n",
      "|0x80c2c632f933b07...|Ignacio Ayala|NULL|     5|NULL|                NULL|1561125740537|10435415404441447...|\n",
      "|0x80c2c632f933b07...|     Adolfo G|NULL|     4|NULL|                NULL|1571964945937|11730919010066164...|\n",
      "|0x80c2cf163db6bc8...|    Kevin dar|NULL|     5|NULL|                NULL|1488945015101|11738483768641489...|\n",
      "+--------------------+-------------+----+------+----+--------------------+-------------+--------------------+\n",
      "only showing top 20 rows\n",
      "\n"
     ]
    }
   ],
   "source": [
    "reviews_California.show()"
   ]
  },
  {
   "cell_type": "code",
   "execution_count": 76,
   "metadata": {},
   "outputs": [
    {
     "data": {
      "text/plain": [
       "2700000"
      ]
     },
     "execution_count": 76,
     "metadata": {},
     "output_type": "execute_result"
    }
   ],
   "source": [
    "# Conteo de Filas en el DataFrame\n",
    "reviews_California.count()"
   ]
  },
  {
   "cell_type": "code",
   "execution_count": 77,
   "metadata": {},
   "outputs": [
    {
     "name": "stdout",
     "output_type": "stream",
     "text": [
      "+-------+----+-------+------+-------+-------+----+-------+\n",
      "|gmap_id|name|   pics|rating|   resp|   text|time|user_id|\n",
      "+-------+----+-------+------+-------+-------+----+-------+\n",
      "|      0|   0|2600710|     0|2454831|1170964|   0|      0|\n",
      "+-------+----+-------+------+-------+-------+----+-------+\n",
      "\n"
     ]
    }
   ],
   "source": [
    "conteo_nulos(reviews_California)"
   ]
  },
  {
   "cell_type": "markdown",
   "metadata": {},
   "source": [
    "Coincidimos con el dataset de New York donde mayor cantidad de nulos hay son en las categorias pics y resp"
   ]
  },
  {
   "cell_type": "code",
   "execution_count": 78,
   "metadata": {},
   "outputs": [
    {
     "data": {
      "text/plain": [
       "Row(gmap_id='0x80c2c778e3b73d33:0xbdc58662a4a97d49', name='Song Ro', pics=None, rating=5, resp=None, text='Love there korean rice cake.', time=1609909927056, user_id='108991152262655788985')"
      ]
     },
     "execution_count": 78,
     "metadata": {},
     "output_type": "execute_result"
    }
   ],
   "source": [
    "# Visualización de las primeras filas del DataFrame\n",
    "reviews_California.head()"
   ]
  },
  {
   "cell_type": "code",
   "execution_count": 79,
   "metadata": {},
   "outputs": [
    {
     "name": "stdout",
     "output_type": "stream",
     "text": [
      "root\n",
      " |-- gmap_id: string (nullable = true)\n",
      " |-- name: string (nullable = true)\n",
      " |-- pics: array (nullable = true)\n",
      " |    |-- element: struct (containsNull = true)\n",
      " |    |    |-- url: array (nullable = true)\n",
      " |    |    |    |-- element: string (containsNull = true)\n",
      " |-- rating: long (nullable = true)\n",
      " |-- resp: struct (nullable = true)\n",
      " |    |-- text: string (nullable = true)\n",
      " |    |-- time: long (nullable = true)\n",
      " |-- text: string (nullable = true)\n",
      " |-- time: long (nullable = true)\n",
      " |-- user_id: string (nullable = true)\n",
      "\n"
     ]
    }
   ],
   "source": [
    "#Estructura del esquema del dataframe\n",
    "reviews_California.printSchema()"
   ]
  },
  {
   "cell_type": "code",
   "execution_count": 80,
   "metadata": {},
   "outputs": [
    {
     "name": "stdout",
     "output_type": "stream",
     "text": [
      "Número de filas después de eliminar duplicados: 2624758\n"
     ]
    }
   ],
   "source": [
    "# Eliminar duplicados basándote en todas las columnas\n",
    "reviews_California_no_duplicates = reviews_California.dropDuplicates()\n",
    "\n",
    "# Contar las filas después de eliminar duplicados\n",
    "print(\"Número de filas después de eliminar duplicados:\", reviews_California_no_duplicates.count())\n"
   ]
  },
  {
   "cell_type": "code",
   "execution_count": 82,
   "metadata": {},
   "outputs": [
    {
     "name": "stdout",
     "output_type": "stream",
     "text": [
      "No se encontraron cuartiles en las estadísticas.\n"
     ]
    }
   ],
   "source": [
    "# Calcular estadísticas descriptivas\n",
    "estadisticas_rating = reviews_California.describe('rating')\n",
    "\n",
    "# Obtener cuartiles\n",
    "q1_row = estadisticas_rating.filter(col('summary') == '25%').first()\n",
    "q3_row = estadisticas_rating.filter(col('summary') == '75%').first()\n",
    "\n",
    "# Verificar si las filas existen antes de acceder a sus elementos\n",
    "if q1_row and q3_row:\n",
    "    q1 = q1_row['rating']\n",
    "    q3 = q3_row['rating']\n",
    "    iqr = q3 - q1\n",
    "\n",
    "    # Definir límites para outliers\n",
    "    lower_bound = q1 - 1.5 * iqr\n",
    "    upper_bound = q3 + 1.5 * iqr\n",
    "\n",
    "    # Identificar outliers\n",
    "    outliers_rating = reviews_NewYork.filter((col('rating') < lower_bound) | (col('rating') > upper_bound))\n",
    "else:\n",
    "    print(\"No se encontraron cuartiles en las estadísticas.\")"
   ]
  },
  {
   "cell_type": "markdown",
   "metadata": {},
   "source": [
    "# YELP"
   ]
  },
  {
   "cell_type": "markdown",
   "metadata": {},
   "source": [
    "### DATASET: business.pkl"
   ]
  },
  {
   "cell_type": "code",
   "execution_count": 6,
   "metadata": {},
   "outputs": [],
   "source": [
    "# Ruta local completa del archivo business.pkl\n",
    "ruta_local_business = r\"C:/Users/Usuario/Desktop/Proyecto Final/Yelp/business.pkl\""
   ]
  },
  {
   "cell_type": "code",
   "execution_count": 11,
   "metadata": {},
   "outputs": [],
   "source": [
    "# Cargar el archivo pickle usando pd.read_pickle\n",
    "business_yelp = pd.read_pickle(ruta_local_business)"
   ]
  },
  {
   "cell_type": "code",
   "execution_count": 12,
   "metadata": {},
   "outputs": [
    {
     "data": {
      "text/html": [
       "<div>\n",
       "<style scoped>\n",
       "    .dataframe tbody tr th:only-of-type {\n",
       "        vertical-align: middle;\n",
       "    }\n",
       "\n",
       "    .dataframe tbody tr th {\n",
       "        vertical-align: top;\n",
       "    }\n",
       "\n",
       "    .dataframe thead th {\n",
       "        text-align: right;\n",
       "    }\n",
       "</style>\n",
       "<table border=\"1\" class=\"dataframe\">\n",
       "  <thead>\n",
       "    <tr style=\"text-align: right;\">\n",
       "      <th></th>\n",
       "      <th>business_id</th>\n",
       "      <th>name</th>\n",
       "      <th>address</th>\n",
       "      <th>city</th>\n",
       "      <th>state</th>\n",
       "      <th>postal_code</th>\n",
       "      <th>latitude</th>\n",
       "      <th>longitude</th>\n",
       "      <th>stars</th>\n",
       "      <th>review_count</th>\n",
       "      <th>...</th>\n",
       "      <th>state</th>\n",
       "      <th>postal_code</th>\n",
       "      <th>latitude</th>\n",
       "      <th>longitude</th>\n",
       "      <th>stars</th>\n",
       "      <th>review_count</th>\n",
       "      <th>is_open</th>\n",
       "      <th>attributes</th>\n",
       "      <th>categories</th>\n",
       "      <th>hours</th>\n",
       "    </tr>\n",
       "  </thead>\n",
       "  <tbody>\n",
       "    <tr>\n",
       "      <th>0</th>\n",
       "      <td>Pns2l4eNsfO8kk83dixA6A</td>\n",
       "      <td>Abby Rappoport, LAC, CMQ</td>\n",
       "      <td>1616 Chapala St, Ste 2</td>\n",
       "      <td>Santa Barbara</td>\n",
       "      <td>NaN</td>\n",
       "      <td>93101</td>\n",
       "      <td>34.426679</td>\n",
       "      <td>-119.711197</td>\n",
       "      <td>5.0</td>\n",
       "      <td>7</td>\n",
       "      <td>...</td>\n",
       "      <td>NaN</td>\n",
       "      <td>NaN</td>\n",
       "      <td>NaN</td>\n",
       "      <td>NaN</td>\n",
       "      <td>NaN</td>\n",
       "      <td>NaN</td>\n",
       "      <td>NaN</td>\n",
       "      <td>NaN</td>\n",
       "      <td>NaN</td>\n",
       "      <td>NaN</td>\n",
       "    </tr>\n",
       "    <tr>\n",
       "      <th>1</th>\n",
       "      <td>mpf3x-BjTdTEA3yCZrAYPw</td>\n",
       "      <td>The UPS Store</td>\n",
       "      <td>87 Grasso Plaza Shopping Center</td>\n",
       "      <td>Affton</td>\n",
       "      <td>NaN</td>\n",
       "      <td>63123</td>\n",
       "      <td>38.551126</td>\n",
       "      <td>-90.335695</td>\n",
       "      <td>3.0</td>\n",
       "      <td>15</td>\n",
       "      <td>...</td>\n",
       "      <td>NaN</td>\n",
       "      <td>NaN</td>\n",
       "      <td>NaN</td>\n",
       "      <td>NaN</td>\n",
       "      <td>NaN</td>\n",
       "      <td>NaN</td>\n",
       "      <td>NaN</td>\n",
       "      <td>NaN</td>\n",
       "      <td>NaN</td>\n",
       "      <td>NaN</td>\n",
       "    </tr>\n",
       "    <tr>\n",
       "      <th>2</th>\n",
       "      <td>tUFrWirKiKi_TAnsVWINQQ</td>\n",
       "      <td>Target</td>\n",
       "      <td>5255 E Broadway Blvd</td>\n",
       "      <td>Tucson</td>\n",
       "      <td>NaN</td>\n",
       "      <td>85711</td>\n",
       "      <td>32.223236</td>\n",
       "      <td>-110.880452</td>\n",
       "      <td>3.5</td>\n",
       "      <td>22</td>\n",
       "      <td>...</td>\n",
       "      <td>NaN</td>\n",
       "      <td>NaN</td>\n",
       "      <td>NaN</td>\n",
       "      <td>NaN</td>\n",
       "      <td>NaN</td>\n",
       "      <td>NaN</td>\n",
       "      <td>NaN</td>\n",
       "      <td>NaN</td>\n",
       "      <td>NaN</td>\n",
       "      <td>NaN</td>\n",
       "    </tr>\n",
       "    <tr>\n",
       "      <th>3</th>\n",
       "      <td>MTSW4McQd7CbVtyjqoe9mw</td>\n",
       "      <td>St Honore Pastries</td>\n",
       "      <td>935 Race St</td>\n",
       "      <td>Philadelphia</td>\n",
       "      <td>CA</td>\n",
       "      <td>19107</td>\n",
       "      <td>39.955505</td>\n",
       "      <td>-75.155564</td>\n",
       "      <td>4.0</td>\n",
       "      <td>80</td>\n",
       "      <td>...</td>\n",
       "      <td>NaN</td>\n",
       "      <td>NaN</td>\n",
       "      <td>NaN</td>\n",
       "      <td>NaN</td>\n",
       "      <td>NaN</td>\n",
       "      <td>NaN</td>\n",
       "      <td>NaN</td>\n",
       "      <td>NaN</td>\n",
       "      <td>NaN</td>\n",
       "      <td>NaN</td>\n",
       "    </tr>\n",
       "    <tr>\n",
       "      <th>4</th>\n",
       "      <td>mWMc6_wTdE0EUBKIGXDVfA</td>\n",
       "      <td>Perkiomen Valley Brewery</td>\n",
       "      <td>101 Walnut St</td>\n",
       "      <td>Green Lane</td>\n",
       "      <td>MO</td>\n",
       "      <td>18054</td>\n",
       "      <td>40.338183</td>\n",
       "      <td>-75.471659</td>\n",
       "      <td>4.5</td>\n",
       "      <td>13</td>\n",
       "      <td>...</td>\n",
       "      <td>NaN</td>\n",
       "      <td>NaN</td>\n",
       "      <td>NaN</td>\n",
       "      <td>NaN</td>\n",
       "      <td>NaN</td>\n",
       "      <td>NaN</td>\n",
       "      <td>NaN</td>\n",
       "      <td>NaN</td>\n",
       "      <td>NaN</td>\n",
       "      <td>NaN</td>\n",
       "    </tr>\n",
       "  </tbody>\n",
       "</table>\n",
       "<p>5 rows × 28 columns</p>\n",
       "</div>"
      ],
      "text/plain": [
       "              business_id                      name  \\\n",
       "0  Pns2l4eNsfO8kk83dixA6A  Abby Rappoport, LAC, CMQ   \n",
       "1  mpf3x-BjTdTEA3yCZrAYPw             The UPS Store   \n",
       "2  tUFrWirKiKi_TAnsVWINQQ                    Target   \n",
       "3  MTSW4McQd7CbVtyjqoe9mw        St Honore Pastries   \n",
       "4  mWMc6_wTdE0EUBKIGXDVfA  Perkiomen Valley Brewery   \n",
       "\n",
       "                           address           city state postal_code  \\\n",
       "0           1616 Chapala St, Ste 2  Santa Barbara   NaN       93101   \n",
       "1  87 Grasso Plaza Shopping Center         Affton   NaN       63123   \n",
       "2             5255 E Broadway Blvd         Tucson   NaN       85711   \n",
       "3                      935 Race St   Philadelphia    CA       19107   \n",
       "4                    101 Walnut St     Green Lane    MO       18054   \n",
       "\n",
       "    latitude   longitude stars review_count  ... state postal_code latitude  \\\n",
       "0  34.426679 -119.711197   5.0            7  ...   NaN         NaN      NaN   \n",
       "1  38.551126  -90.335695   3.0           15  ...   NaN         NaN      NaN   \n",
       "2  32.223236 -110.880452   3.5           22  ...   NaN         NaN      NaN   \n",
       "3  39.955505  -75.155564   4.0           80  ...   NaN         NaN      NaN   \n",
       "4  40.338183  -75.471659   4.5           13  ...   NaN         NaN      NaN   \n",
       "\n",
       "  longitude stars review_count is_open attributes categories hours  \n",
       "0       NaN   NaN          NaN     NaN        NaN        NaN   NaN  \n",
       "1       NaN   NaN          NaN     NaN        NaN        NaN   NaN  \n",
       "2       NaN   NaN          NaN     NaN        NaN        NaN   NaN  \n",
       "3       NaN   NaN          NaN     NaN        NaN        NaN   NaN  \n",
       "4       NaN   NaN          NaN     NaN        NaN        NaN   NaN  \n",
       "\n",
       "[5 rows x 28 columns]"
      ]
     },
     "execution_count": 12,
     "metadata": {},
     "output_type": "execute_result"
    }
   ],
   "source": [
    "# Mostramos las primeras 5 filas del dataframe\n",
    "business_yelp.head(5)"
   ]
  },
  {
   "cell_type": "code",
   "execution_count": 13,
   "metadata": {},
   "outputs": [
    {
     "data": {
      "text/plain": [
       "150346"
      ]
     },
     "execution_count": 13,
     "metadata": {},
     "output_type": "execute_result"
    }
   ],
   "source": [
    "business_yelp.shape[0]"
   ]
  },
  {
   "cell_type": "code",
   "execution_count": 84,
   "metadata": {},
   "outputs": [
    {
     "name": "stdout",
     "output_type": "stream",
     "text": [
      "<class 'pandas.core.frame.DataFrame'>\n",
      "Index: 150346 entries, 0 to 150345\n",
      "Data columns (total 14 columns):\n",
      " #   Column        Non-Null Count   Dtype \n",
      "---  ------        --------------   ----- \n",
      " 0   business_id   150346 non-null  object\n",
      " 1   name          150346 non-null  object\n",
      " 2   address       150346 non-null  object\n",
      " 3   city          150346 non-null  object\n",
      " 4   state         150343 non-null  object\n",
      " 5   postal_code   150346 non-null  object\n",
      " 6   latitude      150346 non-null  object\n",
      " 7   longitude     150346 non-null  object\n",
      " 8   stars         150346 non-null  object\n",
      " 9   review_count  150346 non-null  object\n",
      " 10  is_open       150346 non-null  object\n",
      " 11  attributes    136602 non-null  object\n",
      " 12  categories    150243 non-null  object\n",
      " 13  hours         127123 non-null  object\n",
      "dtypes: object(14)\n",
      "memory usage: 17.2+ MB\n"
     ]
    }
   ],
   "source": [
    "# Mostramos la info del dataframe\n",
    "business_yelp.info()"
   ]
  },
  {
   "cell_type": "markdown",
   "metadata": {},
   "source": [
    "- __Número de Filas y Columnas:__ Hay un total de 150346 filas y 28 columnas en el DataFrame.\n",
    "- __Columnas y Tipos de Datos:__ El DataFrame consta de 28 columnas, donde cada columna representa una característica o atributo de los negocios de Yelp.\n",
    "Las columnas contienen principalmente datos de tipo objeto (str).\n",
    "- __Recuento de Valores no Nulos:__ Se muestra el recuento de valores no nulos para cada columna. Esto indica cuántos valores no nulos hay presentes en cada columna del DataFrame.\n",
    "- __Uso de Memoria:__ El uso de memoria por el DataFrame se muestra al final, indicando la cantidad de memoria utilizada para almacenar los datos del DataFrame."
   ]
  },
  {
   "cell_type": "code",
   "execution_count": 85,
   "metadata": {},
   "outputs": [
    {
     "name": "stdout",
     "output_type": "stream",
     "text": [
      "                   business_id       name address          city   state  \\\n",
      "count                   150346     150346  150346        150346  150343   \n",
      "unique                  150346     114117  122844          1416      27   \n",
      "top     Pns2l4eNsfO8kk83dixA6A  Starbucks          Philadelphia      PA   \n",
      "freq                         1        724    5127         14569   34039   \n",
      "\n",
      "       postal_code       latitude      longitude     stars  review_count  \\\n",
      "count       150346  150346.000000  150346.000000  150346.0        150346   \n",
      "unique        3362  135593.000000  131918.000000       9.0          1158   \n",
      "top          93101      34.420334    -119.710749       4.0             5   \n",
      "freq          1866     146.000000     146.000000   31125.0         14921   \n",
      "\n",
      "        is_open                              attributes  \\\n",
      "count    150346                                  136602   \n",
      "unique        2                                   67212   \n",
      "top           1  {'BusinessAcceptsCreditCards': 'True'}   \n",
      "freq     119698                                    9385   \n",
      "\n",
      "                        categories  \\\n",
      "count                       150243   \n",
      "unique                       83160   \n",
      "top     Beauty & Spas, Nail Salons   \n",
      "freq                          1012   \n",
      "\n",
      "                                                    hours  \n",
      "count                                              127123  \n",
      "unique                                              49822  \n",
      "top     {'Monday': '0:0-0:0', 'Tuesday': '0:0-0:0', 'W...  \n",
      "freq                                                 6796  \n"
     ]
    }
   ],
   "source": [
    "# Estadísticas descriptivas para columnas numéricas\n",
    "print(business_yelp.describe())"
   ]
  },
  {
   "cell_type": "code",
   "execution_count": 14,
   "metadata": {},
   "outputs": [],
   "source": [
    "def contar_nulos(dataframe):\n",
    "\n",
    "    # Obtener la cantidad de valores nulos por columna\n",
    "  nulos_por_columna = dataframe.isnull().sum()\n",
    "\n",
    "  print(\"Cantidad de valores nulos por columna:\\n\", nulos_por_columna)\n",
    "     "
   ]
  },
  {
   "cell_type": "code",
   "execution_count": 15,
   "metadata": {},
   "outputs": [
    {
     "name": "stdout",
     "output_type": "stream",
     "text": [
      "Cantidad de valores nulos por columna:\n",
      " business_id          0\n",
      "name                 0\n",
      "address              0\n",
      "city                 0\n",
      "state                3\n",
      "postal_code          0\n",
      "latitude             0\n",
      "longitude            0\n",
      "stars                0\n",
      "review_count         0\n",
      "is_open              0\n",
      "attributes       13744\n",
      "categories         103\n",
      "hours            23223\n",
      "business_id     150341\n",
      "name            150341\n",
      "address         150341\n",
      "city            150341\n",
      "state           150341\n",
      "postal_code     150341\n",
      "latitude        150341\n",
      "longitude       150341\n",
      "stars           150341\n",
      "review_count    150341\n",
      "is_open         150341\n",
      "attributes      150341\n",
      "categories      150341\n",
      "hours           150341\n",
      "dtype: int64\n"
     ]
    }
   ],
   "source": [
    "#Cuantos nulos hay en cada columna\n",
    "contar_nulos(business_yelp)"
   ]
  },
  {
   "cell_type": "code",
   "execution_count": 16,
   "metadata": {},
   "outputs": [],
   "source": [
    "#Elimina las columnas repetidas que tienen casi todos sus datos nulos\n",
    "business_yelp=business_yelp.iloc[:,0:14]"
   ]
  },
  {
   "cell_type": "markdown",
   "metadata": {},
   "source": [
    "Este Dataset 'business yelp' tiene muchas columnas repetidas, en su mayoría los datos de esas copias son nulos, para nuestro trabajo deben ser eliminadas. Es importante conocer el número de negocios que pertenecen a los Estados que son objeto de nuestro estudio"
   ]
  },
  {
   "cell_type": "code",
   "execution_count": 19,
   "metadata": {},
   "outputs": [
    {
     "data": {
      "text/plain": [
       "5203"
      ]
     },
     "execution_count": 19,
     "metadata": {},
     "output_type": "execute_result"
    }
   ],
   "source": [
    "business_yelp[(business_yelp['state']=='NY') | ((business_yelp['state']=='CA'))].shape[0]"
   ]
  },
  {
   "cell_type": "code",
   "execution_count": 22,
   "metadata": {},
   "outputs": [
    {
     "name": "stdout",
     "output_type": "stream",
     "text": [
      "El porcentaje de datos que corresponde a alguno de los dos Estados es: 3.46%\n"
     ]
    }
   ],
   "source": [
    "#Analisamos el porcentaje total del datframe\n",
    "proporcion= round(5203*100/150346,2)\n",
    "\n",
    "print(f\"El porcentaje de datos que corresponde a alguno de los dos Estados es: {proporcion}%\")"
   ]
  },
  {
   "cell_type": "code",
   "execution_count": 23,
   "metadata": {},
   "outputs": [
    {
     "name": "stdout",
     "output_type": "stream",
     "text": [
      "La cantidad total de restaurantes es:  52268\n",
      "Representan un 34.77% de los negocios\n"
     ]
    }
   ],
   "source": [
    "contador= 0\n",
    "for elemento in business_yelp['categories']:\n",
    "\n",
    "  try:\n",
    "\n",
    "    if 'Restaurants' in elemento:\n",
    "\n",
    "      contador+=1\n",
    "\n",
    "  except:\n",
    "\n",
    "    continue\n",
    "\n",
    "print(\"La cantidad total de restaurantes es: \", contador)\n",
    "print(f\"Representan un {round(contador*100/150346,2)}% de los negocios\")"
   ]
  },
  {
   "cell_type": "markdown",
   "metadata": {},
   "source": [
    "### DATASET: checkin.json"
   ]
  },
  {
   "cell_type": "code",
   "execution_count": 24,
   "metadata": {},
   "outputs": [],
   "source": [
    "# Ruta local completa del archivo checkin.json\n",
    "ruta_local_checkin = r\"C:/Users/Usuario/Desktop/Proyecto Final/Yelp/checkin.json\""
   ]
  },
  {
   "cell_type": "code",
   "execution_count": 25,
   "metadata": {},
   "outputs": [],
   "source": [
    "checkin_yelp = []\n",
    "\n",
    "with open(ruta_local_checkin, \"r\", encoding='utf-8') as filejson:\n",
    "    # Procesa cada línea del archivo como un objeto JSON\n",
    "    for linea in filejson:\n",
    "        # Intenta cargar la línea como un objeto JSON\n",
    "        objeto = json.loads(linea)\n",
    "        checkin_yelp.append(objeto)\n",
    "\n",
    "# Convierte la lista de diccionarios a un DataFrame de Pandas\n",
    "checkin_yelp = pd.DataFrame(checkin_yelp)\n"
   ]
  },
  {
   "cell_type": "code",
   "execution_count": 26,
   "metadata": {},
   "outputs": [
    {
     "data": {
      "text/html": [
       "<div>\n",
       "<style scoped>\n",
       "    .dataframe tbody tr th:only-of-type {\n",
       "        vertical-align: middle;\n",
       "    }\n",
       "\n",
       "    .dataframe tbody tr th {\n",
       "        vertical-align: top;\n",
       "    }\n",
       "\n",
       "    .dataframe thead th {\n",
       "        text-align: right;\n",
       "    }\n",
       "</style>\n",
       "<table border=\"1\" class=\"dataframe\">\n",
       "  <thead>\n",
       "    <tr style=\"text-align: right;\">\n",
       "      <th></th>\n",
       "      <th>business_id</th>\n",
       "      <th>date</th>\n",
       "    </tr>\n",
       "  </thead>\n",
       "  <tbody>\n",
       "    <tr>\n",
       "      <th>0</th>\n",
       "      <td>---kPU91CF4Lq2-WlRu9Lw</td>\n",
       "      <td>2020-03-13 21:10:56, 2020-06-02 22:18:06, 2020...</td>\n",
       "    </tr>\n",
       "    <tr>\n",
       "      <th>1</th>\n",
       "      <td>--0iUa4sNDFiZFrAdIWhZQ</td>\n",
       "      <td>2010-09-13 21:43:09, 2011-05-04 23:08:15, 2011...</td>\n",
       "    </tr>\n",
       "    <tr>\n",
       "      <th>2</th>\n",
       "      <td>--30_8IhuyMHbSOcNWd6DQ</td>\n",
       "      <td>2013-06-14 23:29:17, 2014-08-13 23:20:22</td>\n",
       "    </tr>\n",
       "    <tr>\n",
       "      <th>3</th>\n",
       "      <td>--7PUidqRWpRSpXebiyxTg</td>\n",
       "      <td>2011-02-15 17:12:00, 2011-07-28 02:46:10, 2012...</td>\n",
       "    </tr>\n",
       "    <tr>\n",
       "      <th>4</th>\n",
       "      <td>--7jw19RH9JKXgFohspgQw</td>\n",
       "      <td>2014-04-21 20:42:11, 2014-04-28 21:04:46, 2014...</td>\n",
       "    </tr>\n",
       "  </tbody>\n",
       "</table>\n",
       "</div>"
      ],
      "text/plain": [
       "              business_id                                               date\n",
       "0  ---kPU91CF4Lq2-WlRu9Lw  2020-03-13 21:10:56, 2020-06-02 22:18:06, 2020...\n",
       "1  --0iUa4sNDFiZFrAdIWhZQ  2010-09-13 21:43:09, 2011-05-04 23:08:15, 2011...\n",
       "2  --30_8IhuyMHbSOcNWd6DQ           2013-06-14 23:29:17, 2014-08-13 23:20:22\n",
       "3  --7PUidqRWpRSpXebiyxTg  2011-02-15 17:12:00, 2011-07-28 02:46:10, 2012...\n",
       "4  --7jw19RH9JKXgFohspgQw  2014-04-21 20:42:11, 2014-04-28 21:04:46, 2014..."
      ]
     },
     "execution_count": 26,
     "metadata": {},
     "output_type": "execute_result"
    }
   ],
   "source": [
    "#MUestra las primero 5 filas del dataframe\n",
    "checkin_yelp.head(5)"
   ]
  },
  {
   "cell_type": "code",
   "execution_count": 86,
   "metadata": {},
   "outputs": [
    {
     "name": "stdout",
     "output_type": "stream",
     "text": [
      "<class 'pandas.core.frame.DataFrame'>\n",
      "RangeIndex: 131930 entries, 0 to 131929\n",
      "Data columns (total 2 columns):\n",
      " #   Column       Non-Null Count   Dtype \n",
      "---  ------       --------------   ----- \n",
      " 0   business_id  131930 non-null  object\n",
      " 1   date         131930 non-null  object\n",
      "dtypes: object(2)\n",
      "memory usage: 2.0+ MB\n"
     ]
    }
   ],
   "source": [
    "#Muesta la informacion del dataframe\n",
    "checkin_yelp.info()"
   ]
  },
  {
   "cell_type": "code",
   "execution_count": 27,
   "metadata": {},
   "outputs": [
    {
     "data": {
      "text/plain": [
       "131930"
      ]
     },
     "execution_count": 27,
     "metadata": {},
     "output_type": "execute_result"
    }
   ],
   "source": [
    "checkin_yelp.shape[0]"
   ]
  },
  {
   "cell_type": "code",
   "execution_count": 28,
   "metadata": {},
   "outputs": [
    {
     "name": "stdout",
     "output_type": "stream",
     "text": [
      "Cantidad de valores nulos por columna:\n",
      " business_id    0\n",
      "date           0\n",
      "dtype: int64\n"
     ]
    }
   ],
   "source": [
    "#Cuenta los nulos\n",
    "contar_nulos(checkin_yelp)"
   ]
  },
  {
   "cell_type": "markdown",
   "metadata": {},
   "source": [
    "En este analisis nos dimos cuenta que el archivo CHECKIN no tiene datos nulos"
   ]
  },
  {
   "cell_type": "markdown",
   "metadata": {},
   "source": [
    "### DATASET: review.json"
   ]
  },
  {
   "cell_type": "code",
   "execution_count": 29,
   "metadata": {},
   "outputs": [],
   "source": [
    "#Se lee el archivo review de yelp\n",
    "\n",
    "review_yelp = spark.read.json(\"C:/Users/Usuario/Desktop/Proyecto Final/Yelp/review.json\")"
   ]
  },
  {
   "cell_type": "code",
   "execution_count": 30,
   "metadata": {},
   "outputs": [
    {
     "name": "stdout",
     "output_type": "stream",
     "text": [
      "+--------------------+----+-------------------+-----+--------------------+-----+--------------------+------+--------------------+\n",
      "|         business_id|cool|               date|funny|           review_id|stars|                text|useful|             user_id|\n",
      "+--------------------+----+-------------------+-----+--------------------+-----+--------------------+------+--------------------+\n",
      "|XQfwVwDr-v0ZS3_Cb...|   0|2018-07-07 22:09:11|    0|KU_O5udG6zpxOg-Vc...|  3.0|If you decide to ...|     0|mh_-eMZ6K5RLWhZyI...|\n",
      "|7ATYjTIgM3jUlt4UM...|   1|2012-01-03 15:28:18|    0|BiTunyQ73aT9WBnpR...|  5.0|I've taken a lot ...|     1|OyoGAe7OKpv6SyGZT...|\n",
      "|YjUWPpI6HXG530lwP...|   0|2014-02-05 20:30:30|    0|saUsX_uimxRlCVr67...|  3.0|Family diner. Had...|     0|8g_iMtfSiwikVnbP2...|\n",
      "|kxX2SOes4o-D3ZQBk...|   1|2015-01-04 00:01:03|    0|AqPFMleE6RsU23_au...|  5.0|Wow!  Yummy, diff...|     1|_7bHUi9Uuf5__HHc_...|\n",
      "|e4Vwtrqf-wpJfwesg...|   1|2017-01-14 20:54:15|    0|Sx8TMOWLNuJBWer-0...|  4.0|Cute interior and...|     1|bcjbaE6dDog4jkNY9...|\n",
      "|04UD14gamNjLY0IDY...|   1|2015-09-23 23:10:31|    2|JrIxlS1TzJ-iCu79u...|  1.0|I am a long term ...|     1|eUta8W_HdHMXPzLBB...|\n",
      "|gmjsEdUsKpj9Xxu6p...|   0|2015-01-03 23:21:18|    2|6AxgBCNX_PNTOxmbR...|  5.0|Loved this tour! ...|     0|r3zeYsv1XFBRA4dJp...|\n",
      "|LHSTtnW3YHCeUkRDG...|   0|2015-08-07 02:29:16|    0|_ZeMknuYdlQcUqng_...|  5.0|Amazingly amazing...|     2|yfFzsLmaWF2d4Sr0U...|\n",
      "|B5XSoSG3SfvQGtKEG...|   0|2016-03-30 22:46:33|    1|ZKvDG2sBvHVdF5oBN...|  3.0|This easter inste...|     1|wSTuiTk-sKNdcFypr...|\n",
      "|gebiRewfieSdtt17P...|   0|2016-07-25 07:31:06|    0|pUycOfUwM8vqX7KjR...|  3.0|Had a party of 6 ...|     0|59MxRhNVhU9MYndMk...|\n",
      "|uMvVYRgGNXf5boolA...|   0|2015-06-21 14:48:06|    0|rGQRf8UafX7OTlMNN...|  5.0|My experience wit...|     2|1WHRWwQmZOZDAhp2Q...|\n",
      "|EQ-TZ2eeD_E0BHuvo...|   0|2015-08-19 14:31:45|    0|l3Wk_mvAog6XANIuG...|  4.0|Locals recommende...|     0|ZbqSHbgCjzVAqaa7N...|\n",
      "|lj-E32x9_FA7GmUrB...|   0|2014-06-27 22:44:01|    0|XW_LfMv0fV21l9c6x...|  4.0|Love going here f...|     0|9OAtfnWag-ajVxRbU...|\n",
      "|RZtGWDLCAtuipwaZ-...|   0|2009-10-14 19:57:14|    0|8JFGBuHMoiNDyfcxu...|  4.0|Good food--loved ...|     0|smOvOajNG0lS4Pq7d...|\n",
      "|otQS34_MymijPTdNB...|   0|2011-10-27 17:12:05|    2|UBp0zWyH60Hmw6Fsa...|  4.0|The bun makes the...|     0|4Uh27DgGzsp6PqrH9...|\n",
      "|BVndHaLihEYbr76Z0...|   0|2014-10-11 16:22:06|    0|OAhBYw8IQ6wlfw1ow...|  5.0|Great place for b...|     0|1C2lxzUo1Hyye4RFI...|\n",
      "|YtSqYv1Q_pOltsVPS...|   0|2013-06-24 11:21:25|    0|oyaMhzBSwfGgemSGu...|  5.0|Tremendous servic...|     0|Dd1jQj7S-BFGqRbAp...|\n",
      "|rBdG_23USc7DletfZ...|   0|2014-08-10 19:41:43|    0|LnGZB0fjfgeVDVz5I...|  4.0|The hubby and I h...|     1|j2wlzrntrbKwyOcOi...|\n",
      "|CLEWowfkj-wKYJlQD...|   1|2016-03-07 00:02:18|    0|u2vzZaOqJ2feRshaa...|  5.0|I go to blow bar ...|     2|NDZvyYHTUWWu-kqgQ...|\n",
      "|eFvzHawVJofxSnD7T...|   0|2014-11-12 15:30:27|    0|Xs8Z8lmKkosqW5mw_...|  5.0|My absolute favor...|     0|IQsF3Rc6IgCzjVV9D...|\n",
      "+--------------------+----+-------------------+-----+--------------------+-----+--------------------+------+--------------------+\n",
      "only showing top 20 rows\n",
      "\n"
     ]
    }
   ],
   "source": [
    "#Muestra eñ dataframe\n",
    "review_yelp.show()"
   ]
  },
  {
   "cell_type": "code",
   "execution_count": 31,
   "metadata": {},
   "outputs": [
    {
     "data": {
      "text/plain": [
       "6990280"
      ]
     },
     "execution_count": 31,
     "metadata": {},
     "output_type": "execute_result"
    }
   ],
   "source": [
    "#Conteo de todas las filas\n",
    "review_yelp.count()"
   ]
  },
  {
   "cell_type": "code",
   "execution_count": 37,
   "metadata": {},
   "outputs": [
    {
     "name": "stdout",
     "output_type": "stream",
     "text": [
      "+-----------+----+----+-----+---------+-----+----+------+-------+\n",
      "|business_id|cool|date|funny|review_id|stars|text|useful|user_id|\n",
      "+-----------+----+----+-----+---------+-----+----+------+-------+\n",
      "|          0|   0|   0|    0|        0|    0|   0|     0|      0|\n",
      "+-----------+----+----+-----+---------+-----+----+------+-------+\n",
      "\n"
     ]
    }
   ],
   "source": [
    "#Conteos datos nulos\n",
    "conteo_nulos(review_yelp)"
   ]
  },
  {
   "cell_type": "code",
   "execution_count": 87,
   "metadata": {},
   "outputs": [
    {
     "name": "stdout",
     "output_type": "stream",
     "text": [
      "root\n",
      " |-- business_id: string (nullable = true)\n",
      " |-- cool: long (nullable = true)\n",
      " |-- date: string (nullable = true)\n",
      " |-- funny: long (nullable = true)\n",
      " |-- review_id: string (nullable = true)\n",
      " |-- stars: double (nullable = true)\n",
      " |-- text: string (nullable = true)\n",
      " |-- useful: long (nullable = true)\n",
      " |-- user_id: string (nullable = true)\n",
      "\n"
     ]
    }
   ],
   "source": [
    "# Muestra los datos\n",
    "review_yelp.printSchema()"
   ]
  },
  {
   "cell_type": "code",
   "execution_count": 88,
   "metadata": {},
   "outputs": [],
   "source": [
    "# Eliminar duplicados basándote en todas las columnas\n",
    "reviews_yelp_no_duplicates = review_yelp.dropDuplicates()\n",
    "\n",
    "# Contar las filas después de eliminar duplicados\n",
    "print(\"Número de filas después de eliminar duplicados:\", reviews_yelp_no_duplicates.count())"
   ]
  },
  {
   "cell_type": "markdown",
   "metadata": {},
   "source": [
    "En este caso no hay valores nulos, lo que es bastante positivo para nuestro sistema de recomendación y para facilitar la limpieza de datos."
   ]
  },
  {
   "cell_type": "markdown",
   "metadata": {},
   "source": [
    "### DATASET: tip.json"
   ]
  },
  {
   "cell_type": "code",
   "execution_count": 38,
   "metadata": {},
   "outputs": [],
   "source": [
    "#Se lee el archivo tip de yelp\n",
    "\n",
    "tip_yelp=[]\n",
    "\n",
    "with open(\"C:/Users/Usuario/Desktop/Proyecto Final/Yelp/tip.json\",\"r\", encoding= 'utf-8') as filejson:\n",
    "\n",
    "\n",
    "                # Procesa cada línea del archivo como un objeto JSON\n",
    "                for linea in filejson:\n",
    "\n",
    "                        # Intenta cargar la línea como un objeto JSON\n",
    "                        objeto = json.loads(linea)\n",
    "\n",
    "                        tip_yelp.append(objeto)\n",
    "\n",
    "tip_yelp=pd.DataFrame(tip_yelp)"
   ]
  },
  {
   "cell_type": "code",
   "execution_count": 39,
   "metadata": {},
   "outputs": [
    {
     "data": {
      "text/html": [
       "<div>\n",
       "<style scoped>\n",
       "    .dataframe tbody tr th:only-of-type {\n",
       "        vertical-align: middle;\n",
       "    }\n",
       "\n",
       "    .dataframe tbody tr th {\n",
       "        vertical-align: top;\n",
       "    }\n",
       "\n",
       "    .dataframe thead th {\n",
       "        text-align: right;\n",
       "    }\n",
       "</style>\n",
       "<table border=\"1\" class=\"dataframe\">\n",
       "  <thead>\n",
       "    <tr style=\"text-align: right;\">\n",
       "      <th></th>\n",
       "      <th>user_id</th>\n",
       "      <th>business_id</th>\n",
       "      <th>text</th>\n",
       "      <th>date</th>\n",
       "      <th>compliment_count</th>\n",
       "    </tr>\n",
       "  </thead>\n",
       "  <tbody>\n",
       "    <tr>\n",
       "      <th>0</th>\n",
       "      <td>AGNUgVwnZUey3gcPCJ76iw</td>\n",
       "      <td>3uLgwr0qeCNMjKenHJwPGQ</td>\n",
       "      <td>Avengers time with the ladies.</td>\n",
       "      <td>2012-05-18 02:17:21</td>\n",
       "      <td>0</td>\n",
       "    </tr>\n",
       "    <tr>\n",
       "      <th>1</th>\n",
       "      <td>NBN4MgHP9D3cw--SnauTkA</td>\n",
       "      <td>QoezRbYQncpRqyrLH6Iqjg</td>\n",
       "      <td>They have lots of good deserts and tasty cuban...</td>\n",
       "      <td>2013-02-05 18:35:10</td>\n",
       "      <td>0</td>\n",
       "    </tr>\n",
       "    <tr>\n",
       "      <th>2</th>\n",
       "      <td>-copOvldyKh1qr-vzkDEvw</td>\n",
       "      <td>MYoRNLb5chwjQe3c_k37Gg</td>\n",
       "      <td>It's open even when you think it isn't</td>\n",
       "      <td>2013-08-18 00:56:08</td>\n",
       "      <td>0</td>\n",
       "    </tr>\n",
       "    <tr>\n",
       "      <th>3</th>\n",
       "      <td>FjMQVZjSqY8syIO-53KFKw</td>\n",
       "      <td>hV-bABTK-glh5wj31ps_Jw</td>\n",
       "      <td>Very decent fried chicken</td>\n",
       "      <td>2017-06-27 23:05:38</td>\n",
       "      <td>0</td>\n",
       "    </tr>\n",
       "    <tr>\n",
       "      <th>4</th>\n",
       "      <td>ld0AperBXk1h6UbqmM80zw</td>\n",
       "      <td>_uN0OudeJ3Zl_tf6nxg5ww</td>\n",
       "      <td>Appetizers.. platter special for lunch</td>\n",
       "      <td>2012-10-06 19:43:09</td>\n",
       "      <td>0</td>\n",
       "    </tr>\n",
       "  </tbody>\n",
       "</table>\n",
       "</div>"
      ],
      "text/plain": [
       "                  user_id             business_id  \\\n",
       "0  AGNUgVwnZUey3gcPCJ76iw  3uLgwr0qeCNMjKenHJwPGQ   \n",
       "1  NBN4MgHP9D3cw--SnauTkA  QoezRbYQncpRqyrLH6Iqjg   \n",
       "2  -copOvldyKh1qr-vzkDEvw  MYoRNLb5chwjQe3c_k37Gg   \n",
       "3  FjMQVZjSqY8syIO-53KFKw  hV-bABTK-glh5wj31ps_Jw   \n",
       "4  ld0AperBXk1h6UbqmM80zw  _uN0OudeJ3Zl_tf6nxg5ww   \n",
       "\n",
       "                                                text                 date  \\\n",
       "0                     Avengers time with the ladies.  2012-05-18 02:17:21   \n",
       "1  They have lots of good deserts and tasty cuban...  2013-02-05 18:35:10   \n",
       "2             It's open even when you think it isn't  2013-08-18 00:56:08   \n",
       "3                          Very decent fried chicken  2017-06-27 23:05:38   \n",
       "4             Appetizers.. platter special for lunch  2012-10-06 19:43:09   \n",
       "\n",
       "   compliment_count  \n",
       "0                 0  \n",
       "1                 0  \n",
       "2                 0  \n",
       "3                 0  \n",
       "4                 0  "
      ]
     },
     "execution_count": 39,
     "metadata": {},
     "output_type": "execute_result"
    }
   ],
   "source": [
    "tip_yelp.head(5)"
   ]
  },
  {
   "cell_type": "code",
   "execution_count": 40,
   "metadata": {},
   "outputs": [
    {
     "data": {
      "text/plain": [
       "908915"
      ]
     },
     "execution_count": 40,
     "metadata": {},
     "output_type": "execute_result"
    }
   ],
   "source": [
    "tip_yelp.shape[0]"
   ]
  },
  {
   "cell_type": "code",
   "execution_count": 41,
   "metadata": {},
   "outputs": [
    {
     "name": "stdout",
     "output_type": "stream",
     "text": [
      "Cantidad de valores nulos por columna:\n",
      " user_id             0\n",
      "business_id         0\n",
      "text                0\n",
      "date                0\n",
      "compliment_count    0\n",
      "dtype: int64\n"
     ]
    }
   ],
   "source": [
    "contar_nulos(tip_yelp)"
   ]
  },
  {
   "cell_type": "markdown",
   "metadata": {},
   "source": [
    "### DATASET: user.parquet"
   ]
  },
  {
   "cell_type": "code",
   "execution_count": 43,
   "metadata": {},
   "outputs": [],
   "source": [
    "#Se lee el archivo user de yelp\n",
    "\n",
    "user_yelp= pd.read_parquet(\"C:/Users/Usuario/Desktop/Proyecto Final/Yelp/user.parquet\")"
   ]
  },
  {
   "cell_type": "code",
   "execution_count": 44,
   "metadata": {},
   "outputs": [
    {
     "data": {
      "text/html": [
       "<div>\n",
       "<style scoped>\n",
       "    .dataframe tbody tr th:only-of-type {\n",
       "        vertical-align: middle;\n",
       "    }\n",
       "\n",
       "    .dataframe tbody tr th {\n",
       "        vertical-align: top;\n",
       "    }\n",
       "\n",
       "    .dataframe thead th {\n",
       "        text-align: right;\n",
       "    }\n",
       "</style>\n",
       "<table border=\"1\" class=\"dataframe\">\n",
       "  <thead>\n",
       "    <tr style=\"text-align: right;\">\n",
       "      <th></th>\n",
       "      <th>user_id</th>\n",
       "      <th>name</th>\n",
       "      <th>review_count</th>\n",
       "      <th>yelping_since</th>\n",
       "      <th>useful</th>\n",
       "      <th>funny</th>\n",
       "      <th>cool</th>\n",
       "      <th>elite</th>\n",
       "      <th>friends</th>\n",
       "      <th>fans</th>\n",
       "      <th>...</th>\n",
       "      <th>compliment_more</th>\n",
       "      <th>compliment_profile</th>\n",
       "      <th>compliment_cute</th>\n",
       "      <th>compliment_list</th>\n",
       "      <th>compliment_note</th>\n",
       "      <th>compliment_plain</th>\n",
       "      <th>compliment_cool</th>\n",
       "      <th>compliment_funny</th>\n",
       "      <th>compliment_writer</th>\n",
       "      <th>compliment_photos</th>\n",
       "    </tr>\n",
       "  </thead>\n",
       "  <tbody>\n",
       "    <tr>\n",
       "      <th>0</th>\n",
       "      <td>qVc8ODYU5SZjKXVBgXdI7w</td>\n",
       "      <td>Walker</td>\n",
       "      <td>585</td>\n",
       "      <td>2007-01-25 16:47:26</td>\n",
       "      <td>7217</td>\n",
       "      <td>1259</td>\n",
       "      <td>5994</td>\n",
       "      <td>2007</td>\n",
       "      <td>NSCy54eWehBJyZdG2iE84w, pe42u7DcCH2QmI81NX-8qA...</td>\n",
       "      <td>267</td>\n",
       "      <td>...</td>\n",
       "      <td>65</td>\n",
       "      <td>55</td>\n",
       "      <td>56</td>\n",
       "      <td>18</td>\n",
       "      <td>232</td>\n",
       "      <td>844</td>\n",
       "      <td>467</td>\n",
       "      <td>467</td>\n",
       "      <td>239</td>\n",
       "      <td>180</td>\n",
       "    </tr>\n",
       "    <tr>\n",
       "      <th>1</th>\n",
       "      <td>j14WgRoU_-2ZE1aw1dXrJg</td>\n",
       "      <td>Daniel</td>\n",
       "      <td>4333</td>\n",
       "      <td>2009-01-25 04:35:42</td>\n",
       "      <td>43091</td>\n",
       "      <td>13066</td>\n",
       "      <td>27281</td>\n",
       "      <td>2009,2010,2011,2012,2013,2014,2015,2016,2017,2...</td>\n",
       "      <td>ueRPE0CX75ePGMqOFVj6IQ, 52oH4DrRvzzl8wh5UXyU0A...</td>\n",
       "      <td>3138</td>\n",
       "      <td>...</td>\n",
       "      <td>264</td>\n",
       "      <td>184</td>\n",
       "      <td>157</td>\n",
       "      <td>251</td>\n",
       "      <td>1847</td>\n",
       "      <td>7054</td>\n",
       "      <td>3131</td>\n",
       "      <td>3131</td>\n",
       "      <td>1521</td>\n",
       "      <td>1946</td>\n",
       "    </tr>\n",
       "    <tr>\n",
       "      <th>2</th>\n",
       "      <td>2WnXYQFK0hXEoTxPtV2zvg</td>\n",
       "      <td>Steph</td>\n",
       "      <td>665</td>\n",
       "      <td>2008-07-25 10:41:00</td>\n",
       "      <td>2086</td>\n",
       "      <td>1010</td>\n",
       "      <td>1003</td>\n",
       "      <td>2009,2010,2011,2012,2013</td>\n",
       "      <td>LuO3Bn4f3rlhyHIaNfTlnA, j9B4XdHUhDfTKVecyWQgyA...</td>\n",
       "      <td>52</td>\n",
       "      <td>...</td>\n",
       "      <td>13</td>\n",
       "      <td>10</td>\n",
       "      <td>17</td>\n",
       "      <td>3</td>\n",
       "      <td>66</td>\n",
       "      <td>96</td>\n",
       "      <td>119</td>\n",
       "      <td>119</td>\n",
       "      <td>35</td>\n",
       "      <td>18</td>\n",
       "    </tr>\n",
       "    <tr>\n",
       "      <th>3</th>\n",
       "      <td>SZDeASXq7o05mMNLshsdIA</td>\n",
       "      <td>Gwen</td>\n",
       "      <td>224</td>\n",
       "      <td>2005-11-29 04:38:33</td>\n",
       "      <td>512</td>\n",
       "      <td>330</td>\n",
       "      <td>299</td>\n",
       "      <td>2009,2010,2011</td>\n",
       "      <td>enx1vVPnfdNUdPho6PH_wg, 4wOcvMLtU6a9Lslggq74Vg...</td>\n",
       "      <td>28</td>\n",
       "      <td>...</td>\n",
       "      <td>4</td>\n",
       "      <td>1</td>\n",
       "      <td>6</td>\n",
       "      <td>2</td>\n",
       "      <td>12</td>\n",
       "      <td>16</td>\n",
       "      <td>26</td>\n",
       "      <td>26</td>\n",
       "      <td>10</td>\n",
       "      <td>9</td>\n",
       "    </tr>\n",
       "    <tr>\n",
       "      <th>4</th>\n",
       "      <td>hA5lMy-EnncsH4JoR-hFGQ</td>\n",
       "      <td>Karen</td>\n",
       "      <td>79</td>\n",
       "      <td>2007-01-05 19:40:59</td>\n",
       "      <td>29</td>\n",
       "      <td>15</td>\n",
       "      <td>7</td>\n",
       "      <td></td>\n",
       "      <td>PBK4q9KEEBHhFvSXCUirIw, 3FWPpM7KU1gXeOM_ZbYMbA...</td>\n",
       "      <td>1</td>\n",
       "      <td>...</td>\n",
       "      <td>1</td>\n",
       "      <td>0</td>\n",
       "      <td>0</td>\n",
       "      <td>0</td>\n",
       "      <td>1</td>\n",
       "      <td>1</td>\n",
       "      <td>0</td>\n",
       "      <td>0</td>\n",
       "      <td>0</td>\n",
       "      <td>0</td>\n",
       "    </tr>\n",
       "  </tbody>\n",
       "</table>\n",
       "<p>5 rows × 22 columns</p>\n",
       "</div>"
      ],
      "text/plain": [
       "                  user_id    name  review_count        yelping_since  useful  \\\n",
       "0  qVc8ODYU5SZjKXVBgXdI7w  Walker           585  2007-01-25 16:47:26    7217   \n",
       "1  j14WgRoU_-2ZE1aw1dXrJg  Daniel          4333  2009-01-25 04:35:42   43091   \n",
       "2  2WnXYQFK0hXEoTxPtV2zvg   Steph           665  2008-07-25 10:41:00    2086   \n",
       "3  SZDeASXq7o05mMNLshsdIA    Gwen           224  2005-11-29 04:38:33     512   \n",
       "4  hA5lMy-EnncsH4JoR-hFGQ   Karen            79  2007-01-05 19:40:59      29   \n",
       "\n",
       "   funny   cool                                              elite  \\\n",
       "0   1259   5994                                               2007   \n",
       "1  13066  27281  2009,2010,2011,2012,2013,2014,2015,2016,2017,2...   \n",
       "2   1010   1003                           2009,2010,2011,2012,2013   \n",
       "3    330    299                                     2009,2010,2011   \n",
       "4     15      7                                                      \n",
       "\n",
       "                                             friends  fans  ...  \\\n",
       "0  NSCy54eWehBJyZdG2iE84w, pe42u7DcCH2QmI81NX-8qA...   267  ...   \n",
       "1  ueRPE0CX75ePGMqOFVj6IQ, 52oH4DrRvzzl8wh5UXyU0A...  3138  ...   \n",
       "2  LuO3Bn4f3rlhyHIaNfTlnA, j9B4XdHUhDfTKVecyWQgyA...    52  ...   \n",
       "3  enx1vVPnfdNUdPho6PH_wg, 4wOcvMLtU6a9Lslggq74Vg...    28  ...   \n",
       "4  PBK4q9KEEBHhFvSXCUirIw, 3FWPpM7KU1gXeOM_ZbYMbA...     1  ...   \n",
       "\n",
       "   compliment_more  compliment_profile  compliment_cute  compliment_list  \\\n",
       "0               65                  55               56               18   \n",
       "1              264                 184              157              251   \n",
       "2               13                  10               17                3   \n",
       "3                4                   1                6                2   \n",
       "4                1                   0                0                0   \n",
       "\n",
       "   compliment_note  compliment_plain  compliment_cool  compliment_funny  \\\n",
       "0              232               844              467               467   \n",
       "1             1847              7054             3131              3131   \n",
       "2               66                96              119               119   \n",
       "3               12                16               26                26   \n",
       "4                1                 1                0                 0   \n",
       "\n",
       "   compliment_writer  compliment_photos  \n",
       "0                239                180  \n",
       "1               1521               1946  \n",
       "2                 35                 18  \n",
       "3                 10                  9  \n",
       "4                  0                  0  \n",
       "\n",
       "[5 rows x 22 columns]"
      ]
     },
     "execution_count": 44,
     "metadata": {},
     "output_type": "execute_result"
    }
   ],
   "source": [
    "user_yelp.head(5)"
   ]
  },
  {
   "cell_type": "code",
   "execution_count": 45,
   "metadata": {},
   "outputs": [
    {
     "data": {
      "text/plain": [
       "2105597"
      ]
     },
     "execution_count": 45,
     "metadata": {},
     "output_type": "execute_result"
    }
   ],
   "source": [
    "user_yelp.shape[0]"
   ]
  },
  {
   "cell_type": "code",
   "execution_count": 46,
   "metadata": {},
   "outputs": [
    {
     "name": "stdout",
     "output_type": "stream",
     "text": [
      "Cantidad de valores nulos por columna:\n",
      " user_id               0\n",
      "name                  0\n",
      "review_count          0\n",
      "yelping_since         0\n",
      "useful                0\n",
      "funny                 0\n",
      "cool                  0\n",
      "elite                 0\n",
      "friends               0\n",
      "fans                  0\n",
      "average_stars         0\n",
      "compliment_hot        0\n",
      "compliment_more       0\n",
      "compliment_profile    0\n",
      "compliment_cute       0\n",
      "compliment_list       0\n",
      "compliment_note       0\n",
      "compliment_plain      0\n",
      "compliment_cool       0\n",
      "compliment_funny      0\n",
      "compliment_writer     0\n",
      "compliment_photos     0\n",
      "dtype: int64\n"
     ]
    }
   ],
   "source": [
    "contar_nulos(user_yelp)"
   ]
  },
  {
   "cell_type": "markdown",
   "metadata": {},
   "source": [
    "Como se pudo observar, los datos de Yelp no necesitan mayor tratamiento en cuanto a datos faltantes."
   ]
  }
 ],
 "metadata": {
  "kernelspec": {
   "display_name": "Python 3",
   "language": "python",
   "name": "python3"
  },
  "language_info": {
   "codemirror_mode": {
    "name": "ipython",
    "version": 3
   },
   "file_extension": ".py",
   "mimetype": "text/x-python",
   "name": "python",
   "nbconvert_exporter": "python",
   "pygments_lexer": "ipython3",
   "version": "3.12.0"
  }
 },
 "nbformat": 4,
 "nbformat_minor": 2
}
